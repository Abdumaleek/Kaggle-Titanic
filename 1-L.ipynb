{
 "cells": [
  {
   "cell_type": "code",
   "execution_count": 66,
   "id": "ed76f48b",
   "metadata": {},
   "outputs": [
    {
     "data": {
      "text/html": [
       "<div>\n",
       "<style scoped>\n",
       "    .dataframe tbody tr th:only-of-type {\n",
       "        vertical-align: middle;\n",
       "    }\n",
       "\n",
       "    .dataframe tbody tr th {\n",
       "        vertical-align: top;\n",
       "    }\n",
       "\n",
       "    .dataframe thead th {\n",
       "        text-align: right;\n",
       "    }\n",
       "</style>\n",
       "<table border=\"1\" class=\"dataframe\">\n",
       "  <thead>\n",
       "    <tr style=\"text-align: right;\">\n",
       "      <th></th>\n",
       "      <th>day</th>\n",
       "      <th>temperature</th>\n",
       "      <th>wind speed</th>\n",
       "      <th>humidity</th>\n",
       "      <th>event</th>\n",
       "    </tr>\n",
       "  </thead>\n",
       "  <tbody>\n",
       "    <tr>\n",
       "      <th>0</th>\n",
       "      <td>02/07/20</td>\n",
       "      <td>32</td>\n",
       "      <td>6</td>\n",
       "      <td>10</td>\n",
       "      <td>rain</td>\n",
       "    </tr>\n",
       "    <tr>\n",
       "      <th>1</th>\n",
       "      <td>03/07/20</td>\n",
       "      <td>28</td>\n",
       "      <td>12</td>\n",
       "      <td>5</td>\n",
       "      <td>sunny</td>\n",
       "    </tr>\n",
       "    <tr>\n",
       "      <th>2</th>\n",
       "      <td>04/07/20</td>\n",
       "      <td>38</td>\n",
       "      <td>3</td>\n",
       "      <td>20</td>\n",
       "      <td>snow</td>\n",
       "    </tr>\n",
       "    <tr>\n",
       "      <th>3</th>\n",
       "      <td>05/07/20</td>\n",
       "      <td>30</td>\n",
       "      <td>4</td>\n",
       "      <td>8</td>\n",
       "      <td>snow</td>\n",
       "    </tr>\n",
       "    <tr>\n",
       "      <th>4</th>\n",
       "      <td>06/07/20</td>\n",
       "      <td>27</td>\n",
       "      <td>8</td>\n",
       "      <td>11</td>\n",
       "      <td>sunny</td>\n",
       "    </tr>\n",
       "  </tbody>\n",
       "</table>\n",
       "</div>"
      ],
      "text/plain": [
       "        day  temperature  wind speed  humidity  event\n",
       "0  02/07/20           32           6        10   rain\n",
       "1  03/07/20           28          12         5  sunny\n",
       "2  04/07/20           38           3        20   snow\n",
       "3  05/07/20           30           4         8   snow\n",
       "4  06/07/20           27           8        11  sunny"
      ]
     },
     "execution_count": 66,
     "metadata": {},
     "output_type": "execute_result"
    }
   ],
   "source": [
    "import pandas as pd\n",
    "import matplotlib.pyplot as plt\n",
    "import numpy as np\n",
    "import seaborn as sns\n",
    "%matplotlib inline\n",
    "\n",
    "df=pd.read_csv(r'C:\\Users\\User\\Desktop\\pand.csv')\n",
    "df.head()\n"
   ]
  },
  {
   "cell_type": "code",
   "execution_count": 74,
   "id": "8c395d88",
   "metadata": {},
   "outputs": [
    {
     "name": "stdout",
     "output_type": "stream",
     "text": [
      "day            07/07/20\n",
      "temperature          38\n",
      "wind speed           12\n",
      "humidity             20\n",
      "event             sunny\n",
      "dtype: object\n"
     ]
    }
   ],
   "source": [
    "dfmax=pd.DataFrame.max(df)\n",
    "print(dfmax)"
   ]
  },
  {
   "cell_type": "code",
   "execution_count": 75,
   "id": "fce92c09",
   "metadata": {},
   "outputs": [
    {
     "data": {
      "text/plain": [
       "day            02/07/20\n",
       "temperature          27\n",
       "wind speed            3\n",
       "humidity              5\n",
       "event              rain\n",
       "dtype: object"
      ]
     },
     "execution_count": 75,
     "metadata": {},
     "output_type": "execute_result"
    }
   ],
   "source": [
    "dfmin=pd.DataFrame.min(df)\n",
    "dfmin.head()"
   ]
  },
  {
   "cell_type": "code",
   "execution_count": 76,
   "id": "5f2aebd0",
   "metadata": {},
   "outputs": [
    {
     "data": {
      "text/plain": [
       "day            6\n",
       "temperature    6\n",
       "wind speed     6\n",
       "humidity       6\n",
       "event          6\n",
       "dtype: int64"
      ]
     },
     "execution_count": 76,
     "metadata": {},
     "output_type": "execute_result"
    }
   ],
   "source": [
    "dfcount=pd.DataFrame.count(df)\n",
    "dfcount.head()"
   ]
  },
  {
   "cell_type": "code",
   "execution_count": 80,
   "id": "9cad0407",
   "metadata": {},
   "outputs": [
    {
     "data": {
      "text/plain": [
       "temperature    31.166667\n",
       "wind speed      6.500000\n",
       "humidity       11.833333\n",
       "dtype: float64"
      ]
     },
     "execution_count": 80,
     "metadata": {},
     "output_type": "execute_result"
    }
   ],
   "source": [
    "dfm=pd.DataFrame.mean(df)\n",
    "dfm.head()"
   ]
  },
  {
   "cell_type": "code",
   "execution_count": 83,
   "id": "487e7607",
   "metadata": {},
   "outputs": [
    {
     "data": {
      "text/html": [
       "<div>\n",
       "<style scoped>\n",
       "    .dataframe tbody tr th:only-of-type {\n",
       "        vertical-align: middle;\n",
       "    }\n",
       "\n",
       "    .dataframe tbody tr th {\n",
       "        vertical-align: top;\n",
       "    }\n",
       "\n",
       "    .dataframe thead th {\n",
       "        text-align: right;\n",
       "    }\n",
       "</style>\n",
       "<table border=\"1\" class=\"dataframe\">\n",
       "  <thead>\n",
       "    <tr style=\"text-align: right;\">\n",
       "      <th></th>\n",
       "      <th>temperature</th>\n",
       "      <th>wind speed</th>\n",
       "      <th>humidity</th>\n",
       "    </tr>\n",
       "  </thead>\n",
       "  <tbody>\n",
       "    <tr>\n",
       "      <th>count</th>\n",
       "      <td>6.000000</td>\n",
       "      <td>6.000000</td>\n",
       "      <td>6.000000</td>\n",
       "    </tr>\n",
       "    <tr>\n",
       "      <th>mean</th>\n",
       "      <td>31.166667</td>\n",
       "      <td>6.500000</td>\n",
       "      <td>11.833333</td>\n",
       "    </tr>\n",
       "    <tr>\n",
       "      <th>std</th>\n",
       "      <td>3.920034</td>\n",
       "      <td>3.209361</td>\n",
       "      <td>5.636193</td>\n",
       "    </tr>\n",
       "    <tr>\n",
       "      <th>min</th>\n",
       "      <td>27.000000</td>\n",
       "      <td>3.000000</td>\n",
       "      <td>5.000000</td>\n",
       "    </tr>\n",
       "    <tr>\n",
       "      <th>25%</th>\n",
       "      <td>28.500000</td>\n",
       "      <td>4.500000</td>\n",
       "      <td>8.500000</td>\n",
       "    </tr>\n",
       "  </tbody>\n",
       "</table>\n",
       "</div>"
      ],
      "text/plain": [
       "       temperature  wind speed   humidity\n",
       "count     6.000000    6.000000   6.000000\n",
       "mean     31.166667    6.500000  11.833333\n",
       "std       3.920034    3.209361   5.636193\n",
       "min      27.000000    3.000000   5.000000\n",
       "25%      28.500000    4.500000   8.500000"
      ]
     },
     "execution_count": 83,
     "metadata": {},
     "output_type": "execute_result"
    }
   ],
   "source": [
    "dfi=pd.DataFrame.describe(df)#to get info after dataframe we can put describe info memory_usage\n",
    "dfi.head()\n"
   ]
  },
  {
   "cell_type": "code",
   "execution_count": 84,
   "id": "a69225b1",
   "metadata": {},
   "outputs": [
    {
     "data": {
      "text/plain": [
       "Index          128\n",
       "day             48\n",
       "temperature     48\n",
       "wind speed      48\n",
       "humidity        48\n",
       "dtype: int64"
      ]
     },
     "execution_count": 84,
     "metadata": {},
     "output_type": "execute_result"
    }
   ],
   "source": [
    "dfi=pd.DataFrame.memory_usage(df) #memory usage indexes days count all about counts\n",
    "dfi.head()"
   ]
  },
  {
   "cell_type": "code",
   "execution_count": 106,
   "id": "b6873d9e",
   "metadata": {},
   "outputs": [
    {
     "data": {
      "text/plain": [
       "temperature    31.0\n",
       "wind speed      6.0\n",
       "humidity       10.5\n",
       "dtype: float64"
      ]
     },
     "execution_count": 106,
     "metadata": {},
     "output_type": "execute_result"
    }
   ],
   "source": [
    "dfm1=pd.DataFrame.median(df)#median info about csv object in float data type\n",
    "dfm1.head()"
   ]
  },
  {
   "cell_type": "code",
   "execution_count": 118,
   "id": "1214693f",
   "metadata": {},
   "outputs": [
    {
     "data": {
      "text/html": [
       "<div>\n",
       "<style scoped>\n",
       "    .dataframe tbody tr th:only-of-type {\n",
       "        vertical-align: middle;\n",
       "    }\n",
       "\n",
       "    .dataframe tbody tr th {\n",
       "        vertical-align: top;\n",
       "    }\n",
       "\n",
       "    .dataframe thead th {\n",
       "        text-align: right;\n",
       "    }\n",
       "</style>\n",
       "<table border=\"1\" class=\"dataframe\">\n",
       "  <thead>\n",
       "    <tr style=\"text-align: right;\">\n",
       "      <th></th>\n",
       "      <th>day</th>\n",
       "      <th>temperature</th>\n",
       "      <th>wind speed</th>\n",
       "      <th>humidity</th>\n",
       "      <th>event</th>\n",
       "    </tr>\n",
       "  </thead>\n",
       "  <tbody>\n",
       "  </tbody>\n",
       "</table>\n",
       "</div>"
      ],
      "text/plain": [
       "Empty DataFrame\n",
       "Columns: [day, temperature, wind speed, humidity, event]\n",
       "Index: []"
      ]
     },
     "execution_count": 118,
     "metadata": {},
     "output_type": "execute_result"
    }
   ],
   "source": [
    "newdf = df[(df.day == 1) & (df.humidity == 4)]#this option for selecting columns or rows for get information about csv file\n",
    "newdf.head()"
   ]
  },
  {
   "cell_type": "code",
   "execution_count": 123,
   "id": "ea8192ee",
   "metadata": {},
   "outputs": [
    {
     "name": "stdout",
     "output_type": "stream",
     "text": [
      "temperature    38\n",
      "wind speed     12\n",
      "dtype: object\n"
     ]
    }
   ],
   "source": [
    "print(dfmax[1:3])"
   ]
  },
  {
   "cell_type": "code",
   "execution_count": 124,
   "id": "4be9c7d6",
   "metadata": {},
   "outputs": [
    {
     "name": "stdout",
     "output_type": "stream",
     "text": [
      "temperature    27\n",
      "wind speed      3\n",
      "dtype: object\n"
     ]
    }
   ],
   "source": [
    "print(dfmin[1:3])"
   ]
  },
  {
   "cell_type": "code",
   "execution_count": 129,
   "id": "92cc4d20",
   "metadata": {},
   "outputs": [
    {
     "ename": "SyntaxError",
     "evalue": "invalid syntax (<ipython-input-129-d8567b72ae23>, line 1)",
     "output_type": "error",
     "traceback": [
      "\u001b[1;36m  File \u001b[1;32m\"<ipython-input-129-d8567b72ae23>\"\u001b[1;36m, line \u001b[1;32m1\u001b[0m\n\u001b[1;33m    SELECT *;\u001b[0m\n\u001b[1;37m            ^\u001b[0m\n\u001b[1;31mSyntaxError\u001b[0m\u001b[1;31m:\u001b[0m invalid syntax\n"
     ]
    }
   ],
   "source": [
    "SELECT *\n",
    "FROM pand.csv\n",
    "WHERE count == 6;"
   ]
  },
  {
   "cell_type": "code",
   "execution_count": 162,
   "id": "fe15b925",
   "metadata": {},
   "outputs": [
    {
     "data": {
      "text/html": [
       "<div>\n",
       "<style scoped>\n",
       "    .dataframe tbody tr th:only-of-type {\n",
       "        vertical-align: middle;\n",
       "    }\n",
       "\n",
       "    .dataframe tbody tr th {\n",
       "        vertical-align: top;\n",
       "    }\n",
       "\n",
       "    .dataframe thead th {\n",
       "        text-align: right;\n",
       "    }\n",
       "</style>\n",
       "<table border=\"1\" class=\"dataframe\">\n",
       "  <thead>\n",
       "    <tr style=\"text-align: right;\">\n",
       "      <th></th>\n",
       "      <th>a</th>\n",
       "      <th>b</th>\n",
       "    </tr>\n",
       "  </thead>\n",
       "  <tbody>\n",
       "    <tr>\n",
       "      <th>1</th>\n",
       "      <td>2</td>\n",
       "      <td>5</td>\n",
       "    </tr>\n",
       "    <tr>\n",
       "      <th>2</th>\n",
       "      <td>3</td>\n",
       "      <td>6</td>\n",
       "    </tr>\n",
       "    <tr>\n",
       "      <th>3</th>\n",
       "      <td>4</td>\n",
       "      <td>7</td>\n",
       "    </tr>\n",
       "  </tbody>\n",
       "</table>\n",
       "</div>"
      ],
      "text/plain": [
       "   a  b\n",
       "1  2  5\n",
       "2  3  6\n",
       "3  4  7"
      ]
     },
     "execution_count": 162,
     "metadata": {},
     "output_type": "execute_result"
    }
   ],
   "source": [
    "df.loc[1:3]"
   ]
  },
  {
   "cell_type": "code",
   "execution_count": null,
   "id": "cd125917",
   "metadata": {},
   "outputs": [],
   "source": []
  }
 ],
 "metadata": {
  "kernelspec": {
   "display_name": "Python 3",
   "language": "python",
   "name": "python3"
  },
  "language_info": {
   "codemirror_mode": {
    "name": "ipython",
    "version": 3
   },
   "file_extension": ".py",
   "mimetype": "text/x-python",
   "name": "python",
   "nbconvert_exporter": "python",
   "pygments_lexer": "ipython3",
   "version": "3.8.5"
  }
 },
 "nbformat": 4,
 "nbformat_minor": 5
}
