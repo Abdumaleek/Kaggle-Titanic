{
 "cells": [
  {
   "cell_type": "markdown",
   "metadata": {},
   "source": [
    "\n",
    "# 문제정의\n",
    "이 대회는 많은 사람을 죽음으로 몰고 간 `Titanic 호 침몰 사건`을 주제로 다룬다.\n",
    "\n",
    "\n",
    "생존에 영향을 미친 여러 요인이 있겠지만, 대회에서 주어진 Train 승객들의 정보만으로 Test 승객들의 생존 여부를 예측해보려고 한다.\n",
    "\n",
    "\n",
    "생존과 연루되어 있다고 생각되는 몇 가지의 요소들에 대해 분석하여 어떤 조건을 갖춘 그룹들이 생존할 확률이 더 높았는지에 대해 알아보려고 한다.\n",
    "\n",
    "\n"
   ]
  },
  {
   "cell_type": "markdown",
   "metadata": {},
   "source": [
    "# 데이터 수집"
   ]
  },
  {
   "cell_type": "code",
   "execution_count": 1,
   "metadata": {},
   "outputs": [],
   "source": [
    "import pandas as pd\n",
    "import numpy as np\n",
    "import seaborn as sns\n",
    "import matplotlib.pyplot as plt\n",
    "import warnings\n",
    "import string\n",
    "import matplotlib as mpl\n",
    "from collections import defaultdict\n",
    "warnings.filterwarnings(action = 'ignore')\n",
    "plt.rcParams['font.family'] = 'KBIZmjo M'\n",
    "%matplotlib inline"
   ]
  },
  {
   "cell_type": "code",
   "execution_count": 2,
   "metadata": {},
   "outputs": [
    {
     "data": {
      "text/html": [
       "<div>\n",
       "<style scoped>\n",
       "    .dataframe tbody tr th:only-of-type {\n",
       "        vertical-align: middle;\n",
       "    }\n",
       "\n",
       "    .dataframe tbody tr th {\n",
       "        vertical-align: top;\n",
       "    }\n",
       "\n",
       "    .dataframe thead th {\n",
       "        text-align: right;\n",
       "    }\n",
       "</style>\n",
       "<table border=\"1\" class=\"dataframe\">\n",
       "  <thead>\n",
       "    <tr style=\"text-align: right;\">\n",
       "      <th></th>\n",
       "      <th>PassengerId</th>\n",
       "      <th>Survived</th>\n",
       "      <th>Pclass</th>\n",
       "      <th>Name</th>\n",
       "      <th>Sex</th>\n",
       "      <th>Age</th>\n",
       "      <th>SibSp</th>\n",
       "      <th>Parch</th>\n",
       "      <th>Ticket</th>\n",
       "      <th>Fare</th>\n",
       "      <th>Cabin</th>\n",
       "      <th>Embarked</th>\n",
       "    </tr>\n",
       "  </thead>\n",
       "  <tbody>\n",
       "    <tr>\n",
       "      <th>0</th>\n",
       "      <td>1</td>\n",
       "      <td>0</td>\n",
       "      <td>3</td>\n",
       "      <td>Braund, Mr. Owen Harris</td>\n",
       "      <td>male</td>\n",
       "      <td>22.0</td>\n",
       "      <td>1</td>\n",
       "      <td>0</td>\n",
       "      <td>A/5 21171</td>\n",
       "      <td>7.2500</td>\n",
       "      <td>NaN</td>\n",
       "      <td>S</td>\n",
       "    </tr>\n",
       "    <tr>\n",
       "      <th>1</th>\n",
       "      <td>2</td>\n",
       "      <td>1</td>\n",
       "      <td>1</td>\n",
       "      <td>Cumings, Mrs. John Bradley (Florence Briggs Th...</td>\n",
       "      <td>female</td>\n",
       "      <td>38.0</td>\n",
       "      <td>1</td>\n",
       "      <td>0</td>\n",
       "      <td>PC 17599</td>\n",
       "      <td>71.2833</td>\n",
       "      <td>C85</td>\n",
       "      <td>C</td>\n",
       "    </tr>\n",
       "    <tr>\n",
       "      <th>2</th>\n",
       "      <td>3</td>\n",
       "      <td>1</td>\n",
       "      <td>3</td>\n",
       "      <td>Heikkinen, Miss. Laina</td>\n",
       "      <td>female</td>\n",
       "      <td>26.0</td>\n",
       "      <td>0</td>\n",
       "      <td>0</td>\n",
       "      <td>STON/O2. 3101282</td>\n",
       "      <td>7.9250</td>\n",
       "      <td>NaN</td>\n",
       "      <td>S</td>\n",
       "    </tr>\n",
       "    <tr>\n",
       "      <th>3</th>\n",
       "      <td>4</td>\n",
       "      <td>1</td>\n",
       "      <td>1</td>\n",
       "      <td>Futrelle, Mrs. Jacques Heath (Lily May Peel)</td>\n",
       "      <td>female</td>\n",
       "      <td>35.0</td>\n",
       "      <td>1</td>\n",
       "      <td>0</td>\n",
       "      <td>113803</td>\n",
       "      <td>53.1000</td>\n",
       "      <td>C123</td>\n",
       "      <td>S</td>\n",
       "    </tr>\n",
       "    <tr>\n",
       "      <th>4</th>\n",
       "      <td>5</td>\n",
       "      <td>0</td>\n",
       "      <td>3</td>\n",
       "      <td>Allen, Mr. William Henry</td>\n",
       "      <td>male</td>\n",
       "      <td>35.0</td>\n",
       "      <td>0</td>\n",
       "      <td>0</td>\n",
       "      <td>373450</td>\n",
       "      <td>8.0500</td>\n",
       "      <td>NaN</td>\n",
       "      <td>S</td>\n",
       "    </tr>\n",
       "    <tr>\n",
       "      <th>5</th>\n",
       "      <td>6</td>\n",
       "      <td>0</td>\n",
       "      <td>3</td>\n",
       "      <td>Moran, Mr. James</td>\n",
       "      <td>male</td>\n",
       "      <td>NaN</td>\n",
       "      <td>0</td>\n",
       "      <td>0</td>\n",
       "      <td>330877</td>\n",
       "      <td>8.4583</td>\n",
       "      <td>NaN</td>\n",
       "      <td>Q</td>\n",
       "    </tr>\n",
       "    <tr>\n",
       "      <th>6</th>\n",
       "      <td>7</td>\n",
       "      <td>0</td>\n",
       "      <td>1</td>\n",
       "      <td>McCarthy, Mr. Timothy J</td>\n",
       "      <td>male</td>\n",
       "      <td>54.0</td>\n",
       "      <td>0</td>\n",
       "      <td>0</td>\n",
       "      <td>17463</td>\n",
       "      <td>51.8625</td>\n",
       "      <td>E46</td>\n",
       "      <td>S</td>\n",
       "    </tr>\n",
       "    <tr>\n",
       "      <th>7</th>\n",
       "      <td>8</td>\n",
       "      <td>0</td>\n",
       "      <td>3</td>\n",
       "      <td>Palsson, Master. Gosta Leonard</td>\n",
       "      <td>male</td>\n",
       "      <td>2.0</td>\n",
       "      <td>3</td>\n",
       "      <td>1</td>\n",
       "      <td>349909</td>\n",
       "      <td>21.0750</td>\n",
       "      <td>NaN</td>\n",
       "      <td>S</td>\n",
       "    </tr>\n",
       "    <tr>\n",
       "      <th>8</th>\n",
       "      <td>9</td>\n",
       "      <td>1</td>\n",
       "      <td>3</td>\n",
       "      <td>Johnson, Mrs. Oscar W (Elisabeth Vilhelmina Berg)</td>\n",
       "      <td>female</td>\n",
       "      <td>27.0</td>\n",
       "      <td>0</td>\n",
       "      <td>2</td>\n",
       "      <td>347742</td>\n",
       "      <td>11.1333</td>\n",
       "      <td>NaN</td>\n",
       "      <td>S</td>\n",
       "    </tr>\n",
       "    <tr>\n",
       "      <th>9</th>\n",
       "      <td>10</td>\n",
       "      <td>1</td>\n",
       "      <td>2</td>\n",
       "      <td>Nasser, Mrs. Nicholas (Adele Achem)</td>\n",
       "      <td>female</td>\n",
       "      <td>14.0</td>\n",
       "      <td>1</td>\n",
       "      <td>0</td>\n",
       "      <td>237736</td>\n",
       "      <td>30.0708</td>\n",
       "      <td>NaN</td>\n",
       "      <td>C</td>\n",
       "    </tr>\n",
       "    <tr>\n",
       "      <th>10</th>\n",
       "      <td>11</td>\n",
       "      <td>1</td>\n",
       "      <td>3</td>\n",
       "      <td>Sandstrom, Miss. Marguerite Rut</td>\n",
       "      <td>female</td>\n",
       "      <td>4.0</td>\n",
       "      <td>1</td>\n",
       "      <td>1</td>\n",
       "      <td>PP 9549</td>\n",
       "      <td>16.7000</td>\n",
       "      <td>G6</td>\n",
       "      <td>S</td>\n",
       "    </tr>\n",
       "    <tr>\n",
       "      <th>11</th>\n",
       "      <td>12</td>\n",
       "      <td>1</td>\n",
       "      <td>1</td>\n",
       "      <td>Bonnell, Miss. Elizabeth</td>\n",
       "      <td>female</td>\n",
       "      <td>58.0</td>\n",
       "      <td>0</td>\n",
       "      <td>0</td>\n",
       "      <td>113783</td>\n",
       "      <td>26.5500</td>\n",
       "      <td>C103</td>\n",
       "      <td>S</td>\n",
       "    </tr>\n",
       "    <tr>\n",
       "      <th>12</th>\n",
       "      <td>13</td>\n",
       "      <td>0</td>\n",
       "      <td>3</td>\n",
       "      <td>Saundercock, Mr. William Henry</td>\n",
       "      <td>male</td>\n",
       "      <td>20.0</td>\n",
       "      <td>0</td>\n",
       "      <td>0</td>\n",
       "      <td>A/5. 2151</td>\n",
       "      <td>8.0500</td>\n",
       "      <td>NaN</td>\n",
       "      <td>S</td>\n",
       "    </tr>\n",
       "    <tr>\n",
       "      <th>13</th>\n",
       "      <td>14</td>\n",
       "      <td>0</td>\n",
       "      <td>3</td>\n",
       "      <td>Andersson, Mr. Anders Johan</td>\n",
       "      <td>male</td>\n",
       "      <td>39.0</td>\n",
       "      <td>1</td>\n",
       "      <td>5</td>\n",
       "      <td>347082</td>\n",
       "      <td>31.2750</td>\n",
       "      <td>NaN</td>\n",
       "      <td>S</td>\n",
       "    </tr>\n",
       "    <tr>\n",
       "      <th>14</th>\n",
       "      <td>15</td>\n",
       "      <td>0</td>\n",
       "      <td>3</td>\n",
       "      <td>Vestrom, Miss. Hulda Amanda Adolfina</td>\n",
       "      <td>female</td>\n",
       "      <td>14.0</td>\n",
       "      <td>0</td>\n",
       "      <td>0</td>\n",
       "      <td>350406</td>\n",
       "      <td>7.8542</td>\n",
       "      <td>NaN</td>\n",
       "      <td>S</td>\n",
       "    </tr>\n",
       "  </tbody>\n",
       "</table>\n",
       "</div>"
      ],
      "text/plain": [
       "    PassengerId  Survived  Pclass  \\\n",
       "0             1         0       3   \n",
       "1             2         1       1   \n",
       "2             3         1       3   \n",
       "3             4         1       1   \n",
       "4             5         0       3   \n",
       "5             6         0       3   \n",
       "6             7         0       1   \n",
       "7             8         0       3   \n",
       "8             9         1       3   \n",
       "9            10         1       2   \n",
       "10           11         1       3   \n",
       "11           12         1       1   \n",
       "12           13         0       3   \n",
       "13           14         0       3   \n",
       "14           15         0       3   \n",
       "\n",
       "                                                 Name     Sex   Age  SibSp  \\\n",
       "0                             Braund, Mr. Owen Harris    male  22.0      1   \n",
       "1   Cumings, Mrs. John Bradley (Florence Briggs Th...  female  38.0      1   \n",
       "2                              Heikkinen, Miss. Laina  female  26.0      0   \n",
       "3        Futrelle, Mrs. Jacques Heath (Lily May Peel)  female  35.0      1   \n",
       "4                            Allen, Mr. William Henry    male  35.0      0   \n",
       "5                                    Moran, Mr. James    male   NaN      0   \n",
       "6                             McCarthy, Mr. Timothy J    male  54.0      0   \n",
       "7                      Palsson, Master. Gosta Leonard    male   2.0      3   \n",
       "8   Johnson, Mrs. Oscar W (Elisabeth Vilhelmina Berg)  female  27.0      0   \n",
       "9                 Nasser, Mrs. Nicholas (Adele Achem)  female  14.0      1   \n",
       "10                    Sandstrom, Miss. Marguerite Rut  female   4.0      1   \n",
       "11                           Bonnell, Miss. Elizabeth  female  58.0      0   \n",
       "12                     Saundercock, Mr. William Henry    male  20.0      0   \n",
       "13                        Andersson, Mr. Anders Johan    male  39.0      1   \n",
       "14               Vestrom, Miss. Hulda Amanda Adolfina  female  14.0      0   \n",
       "\n",
       "    Parch            Ticket     Fare Cabin Embarked  \n",
       "0       0         A/5 21171   7.2500   NaN        S  \n",
       "1       0          PC 17599  71.2833   C85        C  \n",
       "2       0  STON/O2. 3101282   7.9250   NaN        S  \n",
       "3       0            113803  53.1000  C123        S  \n",
       "4       0            373450   8.0500   NaN        S  \n",
       "5       0            330877   8.4583   NaN        Q  \n",
       "6       0             17463  51.8625   E46        S  \n",
       "7       1            349909  21.0750   NaN        S  \n",
       "8       2            347742  11.1333   NaN        S  \n",
       "9       0            237736  30.0708   NaN        C  \n",
       "10      1           PP 9549  16.7000    G6        S  \n",
       "11      0            113783  26.5500  C103        S  \n",
       "12      0         A/5. 2151   8.0500   NaN        S  \n",
       "13      5            347082  31.2750   NaN        S  \n",
       "14      0            350406   7.8542   NaN        S  "
      ]
     },
     "execution_count": 2,
     "metadata": {},
     "output_type": "execute_result"
    }
   ],
   "source": [
    "train = pd.read_csv('Desktop/데이터분석/titanic/train.csv')\n",
    "test = pd.read_csv('Desktop/데이터분석/titanic/test.csv')\n",
    "train.head(15)"
   ]
  },
  {
   "cell_type": "code",
   "execution_count": 8,
   "metadata": {},
   "outputs": [
    {
     "name": "stdout",
     "output_type": "stream",
     "text": [
      "<class 'pandas.core.frame.DataFrame'>\n",
      "RangeIndex: 891 entries, 0 to 890\n",
      "Data columns (total 12 columns):\n",
      "PassengerId    891 non-null int64\n",
      "Survived       891 non-null int64\n",
      "Pclass         891 non-null int64\n",
      "Name           891 non-null object\n",
      "Sex            891 non-null object\n",
      "Age            714 non-null float64\n",
      "SibSp          891 non-null int64\n",
      "Parch          891 non-null int64\n",
      "Ticket         891 non-null object\n",
      "Fare           891 non-null float64\n",
      "Cabin          204 non-null object\n",
      "Embarked       889 non-null object\n",
      "dtypes: float64(2), int64(5), object(5)\n",
      "memory usage: 83.6+ KB\n"
     ]
    }
   ],
   "source": [
    "train.info()"
   ]
  },
  {
   "cell_type": "code",
   "execution_count": 9,
   "metadata": {},
   "outputs": [
    {
     "data": {
      "text/plain": [
       "PassengerId      0\n",
       "Survived         0\n",
       "Pclass           0\n",
       "Name             0\n",
       "Sex              0\n",
       "Age            177\n",
       "SibSp            0\n",
       "Parch            0\n",
       "Ticket           0\n",
       "Fare             0\n",
       "Cabin          687\n",
       "Embarked         2\n",
       "dtype: int64"
      ]
     },
     "execution_count": 9,
     "metadata": {},
     "output_type": "execute_result"
    }
   ],
   "source": [
    "train.isnull().sum()"
   ]
  },
  {
   "cell_type": "markdown",
   "metadata": {},
   "source": [
    "----------------------------------------------------\n",
    "총 891명의 탑승자가 있다.(학습대상) \n",
    "\n",
    "\n",
    "\n",
    "하지만 Age, Cabin, Embarked는 몇몇 탑승자들의 정보가 누락되어있다.\n",
    "\n",
    "- Age : 177명 누락(약 20%)\n",
    "- Cabin : 687명 누락(약 77%)\n",
    "- Embarked : 2명 누락(약 0.2%)\n"
   ]
  },
  {
   "cell_type": "code",
   "execution_count": 10,
   "metadata": {},
   "outputs": [
    {
     "name": "stdout",
     "output_type": "stream",
     "text": [
      "<class 'pandas.core.frame.DataFrame'>\n",
      "RangeIndex: 418 entries, 0 to 417\n",
      "Data columns (total 11 columns):\n",
      "PassengerId    418 non-null int64\n",
      "Pclass         418 non-null int64\n",
      "Name           418 non-null object\n",
      "Sex            418 non-null object\n",
      "Age            332 non-null float64\n",
      "SibSp          418 non-null int64\n",
      "Parch          418 non-null int64\n",
      "Ticket         418 non-null object\n",
      "Fare           417 non-null float64\n",
      "Cabin          91 non-null object\n",
      "Embarked       418 non-null object\n",
      "dtypes: float64(2), int64(4), object(5)\n",
      "memory usage: 36.0+ KB\n"
     ]
    }
   ],
   "source": [
    "test.info()"
   ]
  },
  {
   "cell_type": "code",
   "execution_count": 11,
   "metadata": {},
   "outputs": [
    {
     "data": {
      "text/plain": [
       "PassengerId      0\n",
       "Pclass           0\n",
       "Name             0\n",
       "Sex              0\n",
       "Age             86\n",
       "SibSp            0\n",
       "Parch            0\n",
       "Ticket           0\n",
       "Fare             1\n",
       "Cabin          327\n",
       "Embarked         0\n",
       "dtype: int64"
      ]
     },
     "execution_count": 11,
     "metadata": {},
     "output_type": "execute_result"
    }
   ],
   "source": [
    "test.isnull().sum()"
   ]
  },
  {
   "cell_type": "markdown",
   "metadata": {},
   "source": [
    "---------------------------------------------\n",
    "test탑승자의 정보도 일부 누락되어있다. --> Age, Fare, Cabin  "
   ]
  },
  {
   "cell_type": "code",
   "execution_count": 195,
   "metadata": {},
   "outputs": [
    {
     "data": {
      "text/plain": [
       "0    549\n",
       "1    342\n",
       "Name: Survived, dtype: int64"
      ]
     },
     "execution_count": 195,
     "metadata": {},
     "output_type": "execute_result"
    }
   ],
   "source": [
    "train.Survived.value_counts()"
   ]
  },
  {
   "cell_type": "code",
   "execution_count": 196,
   "metadata": {},
   "outputs": [],
   "source": [
    "Dead_num = 549\n",
    "Survived_num = 342"
   ]
  },
  {
   "cell_type": "markdown",
   "metadata": {},
   "source": [
    "-----------------------------------------\n",
    "전체 train탑승객 중 사망자는 549명, 생존자는 342명이다."
   ]
  },
  {
   "cell_type": "markdown",
   "metadata": {},
   "source": [
    "# 데이터 전처리 및 마이닝\n",
    "데이터를 다양한 방법으로 분석해보며 데이터의 패턴과 의미를 찾아낸다. "
   ]
  },
  {
   "cell_type": "code",
   "execution_count": 177,
   "metadata": {},
   "outputs": [],
   "source": [
    "#연령대 분류 함수\n",
    "def AgeClassify(k):\n",
    "    if k<10.0: \n",
    "        return 0\n",
    "    elif k<20.0:#10대\n",
    "        return 10\n",
    "    elif k<30.0:#20대\n",
    "        return 20\n",
    "    elif k<40.0:#30대\n",
    "        return 30\n",
    "    elif k<50.0:#40대\n",
    "        return 40\n",
    "    elif k<60.0:#50대\n",
    "        return 50\n",
    "    elif k<70.0:#60대\n",
    "        return 60\n",
    "    elif k<80.0:#70대\n",
    "        return 70\n",
    "    elif k>=80.0:\n",
    "        return 80"
   ]
  },
  {
   "cell_type": "markdown",
   "metadata": {},
   "source": [
    "## Null값 유무, 동승자 유무(SibSp + Parch), 사망 여부의 상관관계"
   ]
  },
  {
   "cell_type": "markdown",
   "metadata": {},
   "source": [
    "- Null_ID : null값이 하나라도 있는 승객의 PassengerId\n",
    "\n",
    "\n",
    "- Alone_ID : 동승자가 없는 승객의 PassengerId\n",
    "\n",
    "\n",
    "- Null_Alone_num : Null_ID에 속하면서 Alone_ID에 속하는 승객 수\n",
    "\n",
    "\n",
    "- Dead_Alone_ID : 사망자이면서 동승자가 없는 승객의 PassengerId\n",
    "\n",
    "\n",
    "- Dead_Alone_Null_num : Dead_Alone_ID에 속하면서 Null_ID에 속하는 승객 수\n",
    "\n",
    "\n",
    "- Dead_Null_num : 사망자이면서 null값이 있는 승객 수\n",
    "\n",
    "\n",
    "- Alone_Null_num : Alone_Id에 속하면서 Null_ID에 속하는 승객 수\n"
   ]
  },
  {
   "cell_type": "code",
   "execution_count": 187,
   "metadata": {},
   "outputs": [
    {
     "data": {
      "text/plain": [
       "708"
      ]
     },
     "execution_count": 187,
     "metadata": {},
     "output_type": "execute_result"
    }
   ],
   "source": [
    "#null값이 하나라도 있으면 passengerid 저장\n",
    "Null_ID = list(train.loc[train.Age.isnull()|train.Cabin.isnull()|train.Embarked.isnull()].PassengerId)\n",
    "len(Null_ID)"
   ]
  },
  {
   "cell_type": "code",
   "execution_count": 188,
   "metadata": {},
   "outputs": [
    {
     "data": {
      "text/plain": [
       "0    489\n",
       "1    219\n",
       "Name: Survived, dtype: int64"
      ]
     },
     "execution_count": 188,
     "metadata": {},
     "output_type": "execute_result"
    }
   ],
   "source": [
    "#사망자와 생존자 카운트(null값이 하나라도 있는 승객 대상)\n",
    "train.loc[train.Age.isnull()|train.Cabin.isnull()|train.Embarked.isnull()].Survived.value_counts()"
   ]
  },
  {
   "cell_type": "code",
   "execution_count": 189,
   "metadata": {
    "scrolled": true
   },
   "outputs": [
    {
     "data": {
      "text/plain": [
       "0.690677966101695"
      ]
     },
     "execution_count": 189,
     "metadata": {},
     "output_type": "execute_result"
    }
   ],
   "source": [
    "489/708 #null값이 있는 승객 중 사망자는 69%"
   ]
  },
  {
   "cell_type": "code",
   "execution_count": 190,
   "metadata": {},
   "outputs": [
    {
     "name": "stdout",
     "output_type": "stream",
     "text": [
      "혼자온 승객 : 458\n"
     ]
    }
   ],
   "source": [
    "#null값이 있는 승객 중 동승자가 없는 승객 카운트\n",
    "Null_Alone_num = 0\n",
    "for n in Null_ID:\n",
    "    num = 0\n",
    "    num += train.loc[train.PassengerId == n].SibSp + train.loc[train.PassengerId == n].Parch\n",
    "    if int(num) == 0:\n",
    "        Null_Alone_num += 1\n",
    "print(\"혼자온 승객 : {}\". format(Null_Alone_num))"
   ]
  },
  {
   "cell_type": "code",
   "execution_count": 194,
   "metadata": {},
   "outputs": [
    {
     "name": "stdout",
     "output_type": "stream",
     "text": [
      "전체 승객 중 사망자이고 혼자 온 승객 수: 374\n",
      "위 승객 중 null값이 하나라도 있는 승객 수: 343\n"
     ]
    }
   ],
   "source": [
    "#사망자이고 동승자가 없는 승객\n",
    "Dead_Alone_ID = train.loc[train.Survived == 0].loc[train.SibSp == 0].loc[train.Parch == 0].PassengerId\n",
    "Dead_Alone_Null_num = 0 \n",
    "for i in Dead_Alone_ID:\n",
    "    if i in Null_ID:\n",
    "        Dead_Alone_Null_num += 1\n",
    "print(\"전체 승객 중 사망자이고 혼자 온 승객 수: {}\".format(len(Dead_Alone_ID)))\n",
    "print(\"위 승객 중 null값이 하나라도 있는 승객 수: {}\".format(Dead_Alone_Null_num))"
   ]
  },
  {
   "cell_type": "code",
   "execution_count": 198,
   "metadata": {},
   "outputs": [
    {
     "name": "stdout",
     "output_type": "stream",
     "text": [
      "489\n",
      "사망자 수(Dead_num)에 대한 Dead_Null_num의 비율: 0.8907103825136612\n"
     ]
    }
   ],
   "source": [
    "Dead_Null_num = 0\n",
    "#사망자 중 null값이 있는 승객의 수\n",
    "for i in list(train.loc[train.Survived == 0].PassengerId):\n",
    "    if i in Null_ID:\n",
    "        Dead_Null_num += 1\n",
    "print(Dead_Null_num)\n",
    "print(\"사망자 수(Dead_num)에 대한 Dead_Null_num의 비율: {}\".format(Dead_Null_num/Dead_num))"
   ]
  },
  {
   "cell_type": "code",
   "execution_count": 220,
   "metadata": {},
   "outputs": [
    {
     "name": "stdout",
     "output_type": "stream",
     "text": [
      "둘 다 해당(동승자 無, null값 有) : 458\n",
      "동승자 없는 승객 수: 537\n"
     ]
    }
   ],
   "source": [
    "#동승자가 없는 승객의 null값 유무\n",
    "#동승자 없는 승객\n",
    "Alone_ID = list(train.loc[train.SibSp == 0].loc[train.Parch == 0].PassengerId)\n",
    "#동승자가 없는 승객 중 null값이 있는 승객 수\n",
    "Alone_Null_num = 0\n",
    "for i in Alone_ID:\n",
    "    if i in Null_ID:\n",
    "        Alone_Null_num += 1\n",
    "print(\"둘 다 해당(동승자 無, null값 有) : {}\".format(Alone_Null_num))\n",
    "print(\"동승자 없는 승객 수: {}\".format(len(Alone_ID)))"
   ]
  },
  {
   "cell_type": "code",
   "execution_count": 257,
   "metadata": {},
   "outputs": [
    {
     "data": {
      "image/png": "[encoded data removed]",
      "text/plain": [
       "<Figure size 1440x360 with 3 Axes>"
      ]
     },
     "metadata": {},
     "output_type": "display_data"
    }
   ],
   "source": [
    "fig, ax = plt.subplots(1, 3, figsize = (20,5))\n",
    "ax[0].set_title('Null값이 있는 승객의 동승자 유무')\n",
    "ax[0].pie([Null_Alone_num, len(Null_ID)-Null_Alone_num],labels = ['동승자 X', '동승자 O'],autopct ='%1.1f%%')\n",
    "ax[0].axis('equal')\n",
    "\n",
    "\n",
    "ax[1].set_title('사망자의 Null값 유무')\n",
    "ax[1].pie([Dead_Null_num, Dead_num-Dead_Null_num],labels = ['Null값 O', 'Null값 X'] ,autopct ='%1.1f%%')\n",
    "ax[1].axis('equal')\n",
    "\n",
    "ax[2].set_title('동승자가 없는 승객의 Null값 유무')\n",
    "ax[2].pie([Alone_Null_num, len(Alone_ID)- Alone_Null_num],labels = ['Null값 O', 'Null값 X'], autopct = '%1.1f%%')\n",
    "ax[2].axis('equal')\n",
    "\n",
    "plt.show()"
   ]
  },
  {
   "cell_type": "markdown",
   "metadata": {},
   "source": [
    "-------------------------\n",
    "null값이 있는 승객(708명) 중 동승자가 없는 승객은 458명이다.(약 65%)\n",
    "\n",
    "사망자(549명) 중 null값이 있는 승객은 489명이다.(89%)\n",
    "\n",
    "동승자가 없는 승객(537명) 중 null값이 있는 승객은 458명이다.(85%)\n",
    "\n",
    "<strong>즉, 동승자가 없는 승객은 null값이 있을 확률이 높다.</strong>"
   ]
  },
  {
   "cell_type": "markdown",
   "metadata": {},
   "source": [
    "---------------------------\n",
    "### 결론\n",
    "Null값의 유무와 사망여부, 동승자 유무는 서로 상관관계를 보이고 있다.\n",
    "\n",
    "\n",
    "- Null값이 있는 승객 중 사망자는 69.1%\n",
    "\n",
    "\n",
    "- Null값이 있는 승객 중 혼자인 승객은 64.7%\n",
    "\n",
    "\n",
    "- 사망한 승객 중 혼자인 승객은 68.1%\n",
    "\n",
    "\n",
    "- 사망한 승객 중 Null값이 있는 승객은 89.1%\n",
    "\n",
    "\n",
    "- 혼자인 승객 중 사망자는 69.6%\n",
    "\n",
    "\n",
    "- 혼자온 승객 중 Null값이 있는 승객은 85.3% \n",
    "\n",
    "\n",
    "- 사망했고, 혼자 온 승객 중 null값이 있는 승객은 91.7%\n",
    "\n",
    "\n",
    "- 혼자왔고 null값이 있는 승객 중 사망자는 74.9%\n",
    "\n",
    "정리하자면,\n",
    "\n",
    "\n",
    "사망한 승객은 대부분은 Null값이 있고,\n",
    "\n",
    "혼자온 승객은 Null값이 있을 확률이 높고,\n",
    "\n",
    "\n",
    "혼자 + Null값이 있는 승객일 경우 사망했을 가능성이 높다."
   ]
  },
  {
   "cell_type": "code",
   "execution_count": 175,
   "metadata": {},
   "outputs": [
    {
     "name": "stdout",
     "output_type": "stream",
     "text": [
      "ageDead: defaultdict(<class 'int'>, {30: 59, None: 100, 20: 102, 10: 35, 40: 22, 60: 6, 50: 15, 70: 4})\n",
      "ageSurv: defaultdict(<class 'int'>, {20: 29, 50: 3, None: 33, 10: 15, 30: 22, 40: 9, 60: 3, 0: 1})\n"
     ]
    }
   ],
   "source": [
    "ageSurv = defaultdict(int)\n",
    "ageDead = defaultdict(int)\n",
    "SexSurv = defaultdict(int)\n",
    "for age, surv in zip(train.loc[train.SibSp == 0].loc[train.Parch == 0].loc[train.Age.isnull() | train.Cabin.isnull() | train.Embarked.isnull()].Age, train.loc[train.SibSp == 0].loc[train.Parch == 0].loc[train.Age.isnull() | train.Cabin.isnull() | train.Embarked.isnull()].Survived):\n",
    "    if surv == 1:\n",
    "        ageSurv[AgeClassify(age)] += 1\n",
    "    else:\n",
    "        ageDead[AgeClassify(age)] += 1\n",
    "print(\"ageDead: {}\".format(ageDead))\n",
    "print(\"ageSurv: {}\".format(ageSurv))"
   ]
  },
  {
   "cell_type": "code",
   "execution_count": 176,
   "metadata": {},
   "outputs": [
    {
     "data": {
      "text/plain": [
       "<matplotlib.axes._subplots.AxesSubplot at 0x22d7f994320>"
      ]
     },
     "execution_count": 176,
     "metadata": {},
     "output_type": "execute_result"
    },
    {
     "data": {
      "image/png": "[encoded data removed]",
      "text/plain": [
       "<Figure size 432x288 with 1 Axes>"
      ]
     },
     "metadata": {
      "needs_background": "light"
     },
     "output_type": "display_data"
    }
   ],
   "source": [
    "pd.DataFrame(ageSurv.values(),index=ageSurv.keys()).plot.barh()"
   ]
  },
  {
   "cell_type": "code",
   "execution_count": null,
   "metadata": {},
   "outputs": [],
   "source": []
  },
  {
   "cell_type": "code",
   "execution_count": null,
   "metadata": {},
   "outputs": [],
   "source": []
  },
  {
   "cell_type": "code",
   "execution_count": 122,
   "metadata": {},
   "outputs": [
    {
     "data": {
      "text/plain": [
       "0.7489082969432315"
      ]
     },
     "execution_count": 122,
     "metadata": {},
     "output_type": "execute_result"
    }
   ],
   "source": [
    "343/458"
   ]
  },
  {
   "cell_type": "markdown",
   "metadata": {},
   "source": [
    "### 점수\n",
    "- 혼자 + Null값이 있는 승객이면 사망(0)에 +1"
   ]
  },
  {
   "cell_type": "markdown",
   "metadata": {},
   "source": [
    "## Cabin과 사망 여부의 상관관계\n",
    "알파벳별로 Cabin(객실번호)을 분류하여 분석하기"
   ]
  },
  {
   "cell_type": "code",
   "execution_count": 28,
   "metadata": {
    "scrolled": true
   },
   "outputs": [
    {
     "data": {
      "text/plain": [
       "C23 C25 C27    4\n",
       "B96 B98        4\n",
       "G6             4\n",
       "D              3\n",
       "E101           3\n",
       "C22 C26        3\n",
       "F2             3\n",
       "F33            3\n",
       "C93            2\n",
       "E8             2\n",
       "Name: Cabin, dtype: int64"
      ]
     },
     "execution_count": 28,
     "metadata": {},
     "output_type": "execute_result"
    }
   ],
   "source": [
    "train.Cabin.value_counts().head(10)"
   ]
  },
  {
   "cell_type": "code",
   "execution_count": 29,
   "metadata": {},
   "outputs": [
    {
     "name": "stdout",
     "output_type": "stream",
     "text": [
      "각 객실별 승객 수: [('A', 15), ('B', 47), ('C', 59), ('D', 33), ('E', 32), ('F', 13), ('G', 4), ('T', 1)]\n"
     ]
    },
    {
     "data": {
      "text/html": [
       "<div>\n",
       "<style scoped>\n",
       "    .dataframe tbody tr th:only-of-type {\n",
       "        vertical-align: middle;\n",
       "    }\n",
       "\n",
       "    .dataframe tbody tr th {\n",
       "        vertical-align: top;\n",
       "    }\n",
       "\n",
       "    .dataframe thead th {\n",
       "        text-align: right;\n",
       "    }\n",
       "</style>\n",
       "<table border=\"1\" class=\"dataframe\">\n",
       "  <thead>\n",
       "    <tr style=\"text-align: right;\">\n",
       "      <th></th>\n",
       "      <th>0</th>\n",
       "      <th>1</th>\n",
       "    </tr>\n",
       "  </thead>\n",
       "  <tbody>\n",
       "    <tr>\n",
       "      <th>A</th>\n",
       "      <td>A</td>\n",
       "      <td>0.466667</td>\n",
       "    </tr>\n",
       "    <tr>\n",
       "      <th>B</th>\n",
       "      <td>B</td>\n",
       "      <td>0.744681</td>\n",
       "    </tr>\n",
       "    <tr>\n",
       "      <th>C</th>\n",
       "      <td>C</td>\n",
       "      <td>0.593220</td>\n",
       "    </tr>\n",
       "    <tr>\n",
       "      <th>D</th>\n",
       "      <td>D</td>\n",
       "      <td>0.757576</td>\n",
       "    </tr>\n",
       "    <tr>\n",
       "      <th>E</th>\n",
       "      <td>E</td>\n",
       "      <td>0.750000</td>\n",
       "    </tr>\n",
       "    <tr>\n",
       "      <th>F</th>\n",
       "      <td>F</td>\n",
       "      <td>0.615385</td>\n",
       "    </tr>\n",
       "    <tr>\n",
       "      <th>G</th>\n",
       "      <td>G</td>\n",
       "      <td>0.500000</td>\n",
       "    </tr>\n",
       "    <tr>\n",
       "      <th>T</th>\n",
       "      <td>T</td>\n",
       "      <td>0.000000</td>\n",
       "    </tr>\n",
       "  </tbody>\n",
       "</table>\n",
       "</div>"
      ],
      "text/plain": [
       "   0         1\n",
       "A  A  0.466667\n",
       "B  B  0.744681\n",
       "C  C  0.593220\n",
       "D  D  0.757576\n",
       "E  E  0.750000\n",
       "F  F  0.615385\n",
       "G  G  0.500000\n",
       "T  T  0.000000"
      ]
     },
     "execution_count": 29,
     "metadata": {},
     "output_type": "execute_result"
    }
   ],
   "source": [
    "#각 객실을 알파벳으로 분류하고 생존율 계산 \n",
    "#각 객실에 묵은 사람들의 수, 생존자 수\n",
    "num = defaultdict(int)\n",
    "surv = defaultdict(int)\n",
    "for i,j in zip(train.loc[train.Cabin.notnull()].Cabin, train.loc[train.Cabin.notnull()].Survived) :\n",
    "    num[i[0]] += 1\n",
    "    surv[i[0]] += j\n",
    "    \n",
    "total = defaultdict(int)\n",
    "for i in surv.keys():\n",
    "    total[i] = surv[i]/num[i]\n",
    "\n",
    "print('{}: {}'.format('각 객실별 승객 수',list(sorted(num.items()))))\n",
    "total= pd.DataFrame(list(sorted(total.items())), index = list(sorted(total)))\n",
    "total"
   ]
  },
  {
   "cell_type": "markdown",
   "metadata": {},
   "source": [
    "----------------------------------------------\n",
    "각 객실별(알파벳으로 분류) 생존확률을 나타내보았다. \n",
    "\n",
    "<strong>B,D,E로 시작하는 객실들의 생존확률</strong>은 70%가 넘는다. 이 객실에 묵은 승객들의 정보가 궁금하다.\n"
   ]
  },
  {
   "cell_type": "markdown",
   "metadata": {},
   "source": [
    "### B,D,E에 묵은 승객들은 어떤 승객들인가?"
   ]
  },
  {
   "cell_type": "code",
   "execution_count": 30,
   "metadata": {},
   "outputs": [
    {
     "data": {
      "text/plain": [
       "<BarContainer object of 9 artists>"
      ]
     },
     "execution_count": 30,
     "metadata": {},
     "output_type": "execute_result"
    },
    {
     "data": {
      "image/png": "[encoded data removed]",
      "text/plain": [
       "<Figure size 720x504 with 1 Axes>"
      ]
     },
     "metadata": {
      "needs_background": "light"
     },
     "output_type": "display_data"
    }
   ],
   "source": [
    "bdetmp = train.loc[train.Cabin.notnull()]\n",
    "ageT = defaultdict(int)\n",
    "for i in bdetmp.loc[bdetmp.Age.notnull()].Age:\n",
    "    ageT[AgeClassify(i)] += 1\n",
    "\n",
    "plt.figure(figsize=(10, 7))\n",
    "plt.title('B,D,E로 시작하는 객실 승객의 연령대')\n",
    "# plt.pie(ageT.values(),labels = [\"{}대\".format(i) for i in ageT.keys()],autopct ='%1.1f%%')\n",
    "# plt.axis('equal')\n",
    "# mpl.rcParams['font.size'] = 10.0\n",
    "plt.bar(ageT.keys(), ageT.values())"
   ]
  },
  {
   "cell_type": "code",
   "execution_count": 31,
   "metadata": {},
   "outputs": [
    {
     "data": {
      "image/png": "[encoded data removed]",
      "text/plain": [
       "<Figure size 720x504 with 1 Axes>"
      ]
     },
     "metadata": {},
     "output_type": "display_data"
    }
   ],
   "source": [
    "plt.figure(figsize=(10, 7))\n",
    "plt.pie(ageT.values(),labels = [\"{}대\".format(i) for i in ageT.keys()],autopct ='%1.1f%%')\n",
    "plt.axis('equal')\n",
    "mpl.rcParams['font.size'] = 10.0"
   ]
  },
  {
   "cell_type": "markdown",
   "metadata": {},
   "source": [
    "-----------------------------\n",
    "30대(27%)가 가장 많고 20대(19.5%), 40대(17.8%), 50대(13%) 순으로 많다."
   ]
  },
  {
   "cell_type": "code",
   "execution_count": 32,
   "metadata": {},
   "outputs": [
    {
     "data": {
      "text/plain": [
       "defaultdict(int,\n",
       "            {0: 80.0,\n",
       "             10: 78.94736842105263,\n",
       "             20: 75.0,\n",
       "             30: 76.0,\n",
       "             40: 57.57575757575758,\n",
       "             50: 54.166666666666664,\n",
       "             60: 40.0,\n",
       "             70: 0.0,\n",
       "             80: 100.0})"
      ]
     },
     "execution_count": 32,
     "metadata": {},
     "output_type": "execute_result"
    }
   ],
   "source": [
    "ttmp = defaultdict(int)\n",
    "dtmp = defaultdict(int)\n",
    "for a, t in zip(bdetmp.loc[bdetmp.Age.notnull()].Age,bdetmp.loc[bdetmp.Age.notnull()].Survived):\n",
    "    ttmp[AgeClassify(a)] += t\n",
    "    if t == 0:\n",
    "        dtmp[AgeClassify(a)] += 1\n",
    "\n",
    "total = defaultdict(int)\n",
    "for k in range(0,90,10):\n",
    "    try:\n",
    "        total[k] = 100*ttmp[k]/(ttmp[k]+dtmp[k])\n",
    "    except:\n",
    "        continue\n",
    "total"
   ]
  },
  {
   "cell_type": "code",
   "execution_count": 33,
   "metadata": {},
   "outputs": [
    {
     "data": {
      "text/plain": [
       "[<matplotlib.lines.Line2D at 0x22d7df6d9e8>]"
      ]
     },
     "execution_count": 33,
     "metadata": {},
     "output_type": "execute_result"
    },
    {
     "data": {
      "image/png": "[encoded data removed]",
      "text/plain": [
       "<Figure size 432x288 with 1 Axes>"
      ]
     },
     "metadata": {
      "needs_background": "light"
     },
     "output_type": "display_data"
    }
   ],
   "source": [
    "plt.title('연령대별 생존율')\n",
    "plt.plot(total.keys(), total.values())"
   ]
  },
  {
   "cell_type": "markdown",
   "metadata": {},
   "source": [
    "-----------------------------------\n",
    "70대는 모두 사망(2명)했고, 80대는 모두 생존(1명)했다.\n",
    "\n",
    "\n",
    "0~30대는 비교적 높고 비슷한 생존율을 유지하다가 40대부터 급격히 낮아지기 시작한다."
   ]
  },
  {
   "cell_type": "code",
   "execution_count": 34,
   "metadata": {},
   "outputs": [
    {
     "data": {
      "image/png": "[encoded data removed]",
      "text/plain": [
       "<Figure size 360x360 with 1 Axes>"
      ]
     },
     "metadata": {},
     "output_type": "display_data"
    }
   ],
   "source": [
    "plt.figure(figsize=(5, 5))\n",
    "plt.title('B,D,E로 시작하는 객실 승객의 Pclass')\n",
    "plt.pie(bdetmp.Pclass.value_counts(),labels = [1,2,3],autopct ='%1.1f%%')\n",
    "plt.axis('equal')\n",
    "mpl.rcParams['font.size'] = 12.0"
   ]
  },
  {
   "cell_type": "markdown",
   "metadata": {},
   "source": [
    "-------------------------------\n",
    "86.3% 즉 대부분의 해당 객실 승객 사회적 지위가 높다."
   ]
  },
  {
   "cell_type": "code",
   "execution_count": 35,
   "metadata": {},
   "outputs": [
    {
     "data": {
      "text/plain": [
       "<matplotlib.axes._subplots.AxesSubplot at 0x22d7dfe5a90>"
      ]
     },
     "execution_count": 35,
     "metadata": {},
     "output_type": "execute_result"
    },
    {
     "data": {
      "image/png": "[encoded data removed]",
      "text/plain": [
       "<Figure size 1080x504 with 1 Axes>"
      ]
     },
     "metadata": {
      "needs_background": "light"
     },
     "output_type": "display_data"
    }
   ],
   "source": [
    "plt.figure(figsize = (15,7))\n",
    "plt.title('Pclass에 따른 Fare분포')\n",
    "sns.violinplot(x = bdetmp.Pclass, y = bdetmp.Fare )"
   ]
  },
  {
   "cell_type": "markdown",
   "metadata": {},
   "source": [
    "-----------------------------------------\n",
    "사회적 지위가 높을 수록 더 높은 요금을 내는 사람들이 많다. \n",
    "\n",
    "\n",
    "\n",
    "따라서<strong> Pclass가 높을 수록 Fare도 높을 확률이 높다.</strong>"
   ]
  },
  {
   "cell_type": "code",
   "execution_count": 36,
   "metadata": {},
   "outputs": [
    {
     "data": {
      "text/plain": [
       "count    204.000000\n",
       "mean      76.141504\n",
       "std       74.391749\n",
       "min        0.000000\n",
       "25%       29.453125\n",
       "50%       55.220850\n",
       "75%       89.328150\n",
       "max      512.329200\n",
       "Name: Fare, dtype: float64"
      ]
     },
     "execution_count": 36,
     "metadata": {},
     "output_type": "execute_result"
    }
   ],
   "source": [
    "bdetmp.Fare.describe()#B,D,E 승객의 Fare 정보"
   ]
  },
  {
   "cell_type": "code",
   "execution_count": 37,
   "metadata": {},
   "outputs": [
    {
     "data": {
      "text/plain": [
       "count    891.000000\n",
       "mean      32.204208\n",
       "std       49.693429\n",
       "min        0.000000\n",
       "25%        7.910400\n",
       "50%       14.454200\n",
       "75%       31.000000\n",
       "max      512.329200\n",
       "Name: Fare, dtype: float64"
      ]
     },
     "execution_count": 37,
     "metadata": {},
     "output_type": "execute_result"
    }
   ],
   "source": [
    "train.Fare.describe()#전체승객의 Fare 정보"
   ]
  },
  {
   "cell_type": "markdown",
   "metadata": {},
   "source": [
    "-----------------------------------------\n",
    "평균값을 보아도, 사분위수를 보아도 B,D,E 승객이 비싼 요금을 낸다는 것을 알 수 있다.\n",
    "\n",
    "\n",
    "그리고 가장 비싼 요금을 낸 사람도 B,D,E 승객중에 있다."
   ]
  },
  {
   "cell_type": "code",
   "execution_count": 38,
   "metadata": {
    "scrolled": true
   },
   "outputs": [
    {
     "data": {
      "image/png": "[encoded data removed]",
      "text/plain": [
       "<Figure size 360x360 with 1 Axes>"
      ]
     },
     "metadata": {},
     "output_type": "display_data"
    }
   ],
   "source": [
    "plt.figure(figsize=(5, 5))\n",
    "plt.title('B,D,E로 시작하는 객실 승객의 Embarked')\n",
    "plt.pie(bdetmp.Embarked.value_counts(),labels = ['S','C','Q'],autopct ='%1.1f%%')\n",
    "plt.axis('equal')\n",
    "mpl.rcParams['font.size'] = 12.0"
   ]
  },
  {
   "cell_type": "code",
   "execution_count": 53,
   "metadata": {
    "scrolled": true
   },
   "outputs": [
    {
     "data": {
      "image/png": "[encoded data removed]",
      "text/plain": [
       "<Figure size 360x360 with 1 Axes>"
      ]
     },
     "metadata": {},
     "output_type": "display_data"
    }
   ],
   "source": [
    "plt.figure(figsize=(5, 5))\n",
    "plt.title('B,D,E로 시작하는 객실 승객의 성별')\n",
    "plt.pie(bdetmp.Sex.value_counts(),labels = ['male','female'],autopct ='%1.1f%%')\n",
    "plt.axis('equal')\n",
    "plt.show()"
   ]
  },
  {
   "cell_type": "code",
   "execution_count": null,
   "metadata": {},
   "outputs": [],
   "source": [
    "train."
   ]
  },
  {
   "cell_type": "markdown",
   "metadata": {},
   "source": [
    "-------------------------------\n",
    "승선항구는 S가 64%로 가장 많고, Q는 2%로 거의 없는 편이다.\n",
    "\n",
    "\n",
    "성별은 남성이 52%, 여성이 48%를 차지하고 있다."
   ]
  },
  {
   "cell_type": "markdown",
   "metadata": {},
   "source": [
    "------------------------------\n",
    "## 결론\n",
    "B,D,E로 시작하는 객실에 묵은 승객들의 <strong>생존확률이 70%가 넘는다</strong>는 사실을 알게 되었다.\n",
    "\n",
    "그래서 해당 객실 승객들의 나이, 성별, 사회적 지위, 요금, 승선한 항구에 대해 알아보았다.\n",
    "\n",
    "정리를 하자면,\n",
    "\n",
    "\n",
    "나이는 20~40대가 가장 많고, 0~50대가 전체의 93%를 차지한다.\n",
    "\n",
    "\n",
    "\n",
    "성별비율은 거의 1:1이다.\n",
    "\n",
    "\n",
    "\n",
    "사회적 지위는 <strong>대부분(86%)이 1등급</strong>이다.\n",
    "\n",
    "\n",
    "\n",
    "<strong>비싼 요금을 낸 승객들은 모두 사회적 지위가 높은 승객들이고, 이 승객들은 해당 객실에 포함</strong>되어 있다.\n",
    "\n",
    "\n",
    "\n",
    "승선 항구는 S항구가 가장 많고(64%), Q항구는 거의 없다(2%)\n",
    "\n",
    "\n",
    "여기서 가장 눈에 띄는 것은, 해당 객실 승객들이 대부분 <strong>사회적 지위가 높은 사람들</strong>이라는 것이다.\n",
    "\n",
    "\n",
    "그리고 이 사회적 지위가 높은 사람들은 대부분 <strong>높은 요금</strong>을 지불했다.\n",
    "\n",
    "\n",
    "그래서 해당 객실 승객들의 생존확률이 높은 것에 가장 큰 영향을 준 것은 <strong>Pclass와 Fare</strong>이고, B,D,E로 시작하는 객실은 비싸고 좋은 객실이었을 것이라 생각한다.\n"
   ]
  },
  {
   "cell_type": "markdown",
   "metadata": {},
   "source": [
    "### 점수\n",
    "Cabin은 train뿐만 아니라 test데이터도 많은 양이 누락되어 있다.\n",
    "\n",
    "그래서 다음과 같이 점수를 부여할 것이다.\n",
    "\n",
    "1. Cabin 값이 B,D,E 중 하나고 Pclass도 높다면 생존(1)에 +1\n",
    "2. Cabin 값이 없고, Pclass가 1이고 Fare가 B,D,E승객의 평균보다 높다면 생존(1)에  +0.5\n",
    "3. Pclass가 2이하이고, Fare가 전체 평균보다 낮다면 사망(0)에 +0.5 \n"
   ]
  },
  {
   "cell_type": "markdown",
   "metadata": {},
   "source": [
    "## Age"
   ]
  },
  {
   "cell_type": "markdown",
   "metadata": {},
   "source": [
    "- Age_dict : key는 나이, value는 나이가 key인 사람의 수\n",
    "\n",
    "\n",
    "- Age_Survived_dict : key는 나이, value는 나이가 key인 생존자 수 "
   ]
  },
  {
   "cell_type": "code",
   "execution_count": 215,
   "metadata": {
    "scrolled": false
   },
   "outputs": [
    {
     "data": {
      "text/plain": [
       "Text(0, 0.5, 'Count')"
      ]
     },
     "execution_count": 215,
     "metadata": {},
     "output_type": "execute_result"
    },
    {
     "data": {
      "image/png": "[encoded data removed]",
      "text/plain": [
       "<Figure size 1080x360 with 1 Axes>"
      ]
     },
     "metadata": {
      "needs_background": "light"
     },
     "output_type": "display_data"
    }
   ],
   "source": [
    "#전체 나이 분포\n",
    "Age_dict = defaultdict(int)\n",
    "for i in list(train.loc[train.Age.notnull()].Age):\n",
    "    Age_dict[i] += 1\n",
    "plt.figure(figsize=(15, 5))\n",
    "plt.title('전체 나이 분포')\n",
    "plt.scatter(Age_dict.keys(), Age_dict.values(),s = 15,c='g')\n",
    "plt.xlabel('Age')\n",
    "plt.ylabel('Count')"
   ]
  },
  {
   "cell_type": "markdown",
   "metadata": {},
   "source": [
    "----------------------------------------------\n",
    "10대 후반~ 30대 중후반의 승객이 많아보인다. "
   ]
  },
  {
   "cell_type": "code",
   "execution_count": 216,
   "metadata": {
    "scrolled": true
   },
   "outputs": [
    {
     "data": {
      "image/png": "[encoded data removed]",
      "text/plain": [
       "<Figure size 432x432 with 1 Axes>"
      ]
     },
     "metadata": {},
     "output_type": "display_data"
    }
   ],
   "source": [
    "age2 = defaultdict(int)\n",
    "for k,v in Age_dict.items():\n",
    "    age2[\"{}대\".format(AgeClassify(k))] += v\n",
    "plt.figure(figsize=(6, 6))\n",
    "plt.title('전체 승객의 연령대')\n",
    "plt.pie(age2.values(), labels = age2.keys(),autopct ='%1.1f%%')\n",
    "plt.axis('equal')\n",
    "plt.show()"
   ]
  },
  {
   "cell_type": "markdown",
   "metadata": {},
   "source": [
    "--------------------------------------------\n",
    "20대가 압도적으로 많고, 그다음 30,10,40대 순으로 많다. \n",
    "\n",
    "40대 이후로는 점차 줄어들고 있다.\n",
    "\n",
    "\n",
    "0~40대가 전체의 약 90%를 차지한다.\n",
    "\n",
    "\n",
    "다음은 연령별로 생존확률을 알아보려고 한다."
   ]
  },
  {
   "cell_type": "code",
   "execution_count": 217,
   "metadata": {},
   "outputs": [],
   "source": [
    "#key: 연령 ,value: 생존자 수\n",
    "Age_Survived_dict = defaultdict(int)\n",
    "for i,j in zip(train.loc[train.Age.notnull()].Age, train.loc[train.Age.notnull()].Survived):\n",
    "    Age_Survived_dict[i] += j\n",
    "#각 연령별 생존 확률 계산\n",
    "for k in Age_dict :\n",
    "    Age_Survived_dict[k] = 100*Age_Survived_dict[k]/Age_dict[k]\n"
   ]
  },
  {
   "cell_type": "code",
   "execution_count": 219,
   "metadata": {},
   "outputs": [
    {
     "data": {
      "text/plain": [
       "Text(0.5, 0, '나이')"
      ]
     },
     "execution_count": 219,
     "metadata": {},
     "output_type": "execute_result"
    },
    {
     "data": {
      "image/png": "[encoded data removed]",
      "text/plain": [
       "<Figure size 1296x576 with 1 Axes>"
      ]
     },
     "metadata": {
      "needs_background": "light"
     },
     "output_type": "display_data"
    }
   ],
   "source": [
    "plt.figure(figsize = (18,8))\n",
    "plt.title('연령별 생존율')\n",
    "plt.scatter(x= Age_Survived_dict.keys(), y= Age_Survived_dict.values(),s = 5, c = 'g')\n",
    "plt.ylabel('생존율')\n",
    "plt.xlabel('나이')"
   ]
  },
  {
   "cell_type": "markdown",
   "metadata": {},
   "source": [
    "-----------------------------------\n",
    "<strong>10세 미만인 승객</strong> 중에서는 생존율이 0%인 나이가 하나도 없고, 100%인 나이가 많다.\n",
    "\n",
    "<strong>10대 후반부터 50대 초반</strong>까지는 생존율이 100%인 나이가 없고, \n",
    "\n",
    "주로 0%이거나 20~60%사이의 생존율을 보이고있다.\n",
    "\n",
    "<strong>60대 중반부터 70대 후반</strong>까지는 생존율이 모두 0%이다.\n",
    "\n",
    "다음은 <strong>연령대별로 생존자, 사망자</strong>에 대해 분석해볼 것이다."
   ]
  },
  {
   "cell_type": "code",
   "execution_count": 44,
   "metadata": {},
   "outputs": [],
   "source": [
    "#나이 분석을 위한 새로운 DataFrame\n",
    "#생존자\n",
    "SAge = pd.DataFrame(columns = [0, 10, 20, 30, 40, 50, 60,70,80],index = ['count', 'mean', 'std', 'min', '25%', '50%', '75%', 'max'])\n",
    "#사망자\n",
    "DAge = pd.DataFrame(columns = [0, 10, 20, 30, 40, 50, 60,70,80],index = ['count', 'mean', 'std','min', '25%', '50%', '75%', 'max'])"
   ]
  },
  {
   "cell_type": "code",
   "execution_count": 45,
   "metadata": {},
   "outputs": [
    {
     "data": {
      "text/html": [
       "<div>\n",
       "<style scoped>\n",
       "    .dataframe tbody tr th:only-of-type {\n",
       "        vertical-align: middle;\n",
       "    }\n",
       "\n",
       "    .dataframe tbody tr th {\n",
       "        vertical-align: top;\n",
       "    }\n",
       "\n",
       "    .dataframe thead th {\n",
       "        text-align: right;\n",
       "    }\n",
       "</style>\n",
       "<table border=\"1\" class=\"dataframe\">\n",
       "  <thead>\n",
       "    <tr style=\"text-align: right;\">\n",
       "      <th></th>\n",
       "      <th>0</th>\n",
       "      <th>10</th>\n",
       "      <th>20</th>\n",
       "      <th>30</th>\n",
       "      <th>40</th>\n",
       "      <th>50</th>\n",
       "      <th>60</th>\n",
       "      <th>70</th>\n",
       "      <th>80</th>\n",
       "    </tr>\n",
       "  </thead>\n",
       "  <tbody>\n",
       "    <tr>\n",
       "      <th>count</th>\n",
       "      <td>38.000000</td>\n",
       "      <td>41.000000</td>\n",
       "      <td>77.000000</td>\n",
       "      <td>73.000000</td>\n",
       "      <td>34.000000</td>\n",
       "      <td>20.000000</td>\n",
       "      <td>6.000000</td>\n",
       "      <td>0.0</td>\n",
       "      <td>1.0</td>\n",
       "    </tr>\n",
       "    <tr>\n",
       "      <th>mean</th>\n",
       "      <td>3.478158</td>\n",
       "      <td>16.634146</td>\n",
       "      <td>24.844156</td>\n",
       "      <td>33.883562</td>\n",
       "      <td>44.264706</td>\n",
       "      <td>53.200000</td>\n",
       "      <td>61.666667</td>\n",
       "      <td>NaN</td>\n",
       "      <td>80.0</td>\n",
       "    </tr>\n",
       "    <tr>\n",
       "      <th>std</th>\n",
       "      <td>2.489255</td>\n",
       "      <td>2.130212</td>\n",
       "      <td>2.636110</td>\n",
       "      <td>2.749395</td>\n",
       "      <td>3.240920</td>\n",
       "      <td>2.858045</td>\n",
       "      <td>1.366260</td>\n",
       "      <td>NaN</td>\n",
       "      <td>NaN</td>\n",
       "    </tr>\n",
       "    <tr>\n",
       "      <th>min</th>\n",
       "      <td>0.420000</td>\n",
       "      <td>11.000000</td>\n",
       "      <td>20.000000</td>\n",
       "      <td>30.000000</td>\n",
       "      <td>40.000000</td>\n",
       "      <td>50.000000</td>\n",
       "      <td>60.000000</td>\n",
       "      <td>NaN</td>\n",
       "      <td>80.0</td>\n",
       "    </tr>\n",
       "    <tr>\n",
       "      <th>25%</th>\n",
       "      <td>1.000000</td>\n",
       "      <td>15.000000</td>\n",
       "      <td>23.000000</td>\n",
       "      <td>32.000000</td>\n",
       "      <td>42.000000</td>\n",
       "      <td>50.750000</td>\n",
       "      <td>60.500000</td>\n",
       "      <td>NaN</td>\n",
       "      <td>80.0</td>\n",
       "    </tr>\n",
       "    <tr>\n",
       "      <th>50%</th>\n",
       "      <td>3.000000</td>\n",
       "      <td>17.000000</td>\n",
       "      <td>24.000000</td>\n",
       "      <td>34.000000</td>\n",
       "      <td>44.000000</td>\n",
       "      <td>52.500000</td>\n",
       "      <td>62.000000</td>\n",
       "      <td>NaN</td>\n",
       "      <td>80.0</td>\n",
       "    </tr>\n",
       "    <tr>\n",
       "      <th>75%</th>\n",
       "      <td>5.000000</td>\n",
       "      <td>18.000000</td>\n",
       "      <td>27.000000</td>\n",
       "      <td>36.000000</td>\n",
       "      <td>48.000000</td>\n",
       "      <td>55.250000</td>\n",
       "      <td>62.750000</td>\n",
       "      <td>NaN</td>\n",
       "      <td>80.0</td>\n",
       "    </tr>\n",
       "    <tr>\n",
       "      <th>max</th>\n",
       "      <td>9.000000</td>\n",
       "      <td>19.000000</td>\n",
       "      <td>29.000000</td>\n",
       "      <td>39.000000</td>\n",
       "      <td>49.000000</td>\n",
       "      <td>58.000000</td>\n",
       "      <td>63.000000</td>\n",
       "      <td>NaN</td>\n",
       "      <td>80.0</td>\n",
       "    </tr>\n",
       "  </tbody>\n",
       "</table>\n",
       "</div>"
      ],
      "text/plain": [
       "              0          10         20         30         40         50  \\\n",
       "count  38.000000  41.000000  77.000000  73.000000  34.000000  20.000000   \n",
       "mean    3.478158  16.634146  24.844156  33.883562  44.264706  53.200000   \n",
       "std     2.489255   2.130212   2.636110   2.749395   3.240920   2.858045   \n",
       "min     0.420000  11.000000  20.000000  30.000000  40.000000  50.000000   \n",
       "25%     1.000000  15.000000  23.000000  32.000000  42.000000  50.750000   \n",
       "50%     3.000000  17.000000  24.000000  34.000000  44.000000  52.500000   \n",
       "75%     5.000000  18.000000  27.000000  36.000000  48.000000  55.250000   \n",
       "max     9.000000  19.000000  29.000000  39.000000  49.000000  58.000000   \n",
       "\n",
       "              60   70    80  \n",
       "count   6.000000  0.0   1.0  \n",
       "mean   61.666667  NaN  80.0  \n",
       "std     1.366260  NaN   NaN  \n",
       "min    60.000000  NaN  80.0  \n",
       "25%    60.500000  NaN  80.0  \n",
       "50%    62.000000  NaN  80.0  \n",
       "75%    62.750000  NaN  80.0  \n",
       "max    63.000000  NaN  80.0  "
      ]
     },
     "execution_count": 45,
     "metadata": {},
     "output_type": "execute_result"
    }
   ],
   "source": [
    "#생존자\n",
    "for n in [10,20,30,40,50,60,70,80,90]:\n",
    "    prev = n-10\n",
    "    tmp = train.loc[prev<= train.Age ].loc[train.Age < n].loc[train.Survived == 1].Age.describe()\n",
    "    SAge[prev] = tmp\n",
    "SAge"
   ]
  },
  {
   "cell_type": "code",
   "execution_count": 111,
   "metadata": {},
   "outputs": [
    {
     "data": {
      "text/html": [
       "<div>\n",
       "<style scoped>\n",
       "    .dataframe tbody tr th:only-of-type {\n",
       "        vertical-align: middle;\n",
       "    }\n",
       "\n",
       "    .dataframe tbody tr th {\n",
       "        vertical-align: top;\n",
       "    }\n",
       "\n",
       "    .dataframe thead th {\n",
       "        text-align: right;\n",
       "    }\n",
       "</style>\n",
       "<table border=\"1\" class=\"dataframe\">\n",
       "  <thead>\n",
       "    <tr style=\"text-align: right;\">\n",
       "      <th></th>\n",
       "      <th>0</th>\n",
       "      <th>10</th>\n",
       "      <th>20</th>\n",
       "      <th>30</th>\n",
       "      <th>40</th>\n",
       "      <th>50</th>\n",
       "      <th>60</th>\n",
       "      <th>70</th>\n",
       "      <th>80</th>\n",
       "    </tr>\n",
       "  </thead>\n",
       "  <tbody>\n",
       "    <tr>\n",
       "      <th>count</th>\n",
       "      <td>24.000000</td>\n",
       "      <td>61.000000</td>\n",
       "      <td>143.000000</td>\n",
       "      <td>94.000000</td>\n",
       "      <td>55.000000</td>\n",
       "      <td>28.000000</td>\n",
       "      <td>13.000000</td>\n",
       "      <td>6.000000</td>\n",
       "      <td>0.0</td>\n",
       "    </tr>\n",
       "    <tr>\n",
       "      <th>mean</th>\n",
       "      <td>5.041667</td>\n",
       "      <td>16.877049</td>\n",
       "      <td>24.367133</td>\n",
       "      <td>33.930851</td>\n",
       "      <td>43.945455</td>\n",
       "      <td>53.625000</td>\n",
       "      <td>62.769231</td>\n",
       "      <td>71.083333</td>\n",
       "      <td>NaN</td>\n",
       "    </tr>\n",
       "    <tr>\n",
       "      <th>std</th>\n",
       "      <td>3.127427</td>\n",
       "      <td>2.360536</td>\n",
       "      <td>2.891191</td>\n",
       "      <td>2.961764</td>\n",
       "      <td>2.714284</td>\n",
       "      <td>3.008091</td>\n",
       "      <td>2.127355</td>\n",
       "      <td>1.497220</td>\n",
       "      <td>NaN</td>\n",
       "    </tr>\n",
       "    <tr>\n",
       "      <th>min</th>\n",
       "      <td>1.000000</td>\n",
       "      <td>10.000000</td>\n",
       "      <td>20.000000</td>\n",
       "      <td>30.000000</td>\n",
       "      <td>40.000000</td>\n",
       "      <td>50.000000</td>\n",
       "      <td>60.000000</td>\n",
       "      <td>70.000000</td>\n",
       "      <td>NaN</td>\n",
       "    </tr>\n",
       "    <tr>\n",
       "      <th>25%</th>\n",
       "      <td>2.000000</td>\n",
       "      <td>16.000000</td>\n",
       "      <td>22.000000</td>\n",
       "      <td>31.000000</td>\n",
       "      <td>42.000000</td>\n",
       "      <td>51.000000</td>\n",
       "      <td>61.000000</td>\n",
       "      <td>70.125000</td>\n",
       "      <td>NaN</td>\n",
       "    </tr>\n",
       "    <tr>\n",
       "      <th>50%</th>\n",
       "      <td>4.000000</td>\n",
       "      <td>18.000000</td>\n",
       "      <td>24.000000</td>\n",
       "      <td>34.000000</td>\n",
       "      <td>44.000000</td>\n",
       "      <td>54.000000</td>\n",
       "      <td>62.000000</td>\n",
       "      <td>70.750000</td>\n",
       "      <td>NaN</td>\n",
       "    </tr>\n",
       "    <tr>\n",
       "      <th>75%</th>\n",
       "      <td>8.250000</td>\n",
       "      <td>19.000000</td>\n",
       "      <td>27.000000</td>\n",
       "      <td>36.000000</td>\n",
       "      <td>46.000000</td>\n",
       "      <td>56.000000</td>\n",
       "      <td>65.000000</td>\n",
       "      <td>71.000000</td>\n",
       "      <td>NaN</td>\n",
       "    </tr>\n",
       "    <tr>\n",
       "      <th>max</th>\n",
       "      <td>9.000000</td>\n",
       "      <td>19.000000</td>\n",
       "      <td>29.000000</td>\n",
       "      <td>39.000000</td>\n",
       "      <td>49.000000</td>\n",
       "      <td>59.000000</td>\n",
       "      <td>66.000000</td>\n",
       "      <td>74.000000</td>\n",
       "      <td>NaN</td>\n",
       "    </tr>\n",
       "  </tbody>\n",
       "</table>\n",
       "</div>"
      ],
      "text/plain": [
       "              0          10          20         30         40         50  \\\n",
       "count  24.000000  61.000000  143.000000  94.000000  55.000000  28.000000   \n",
       "mean    5.041667  16.877049   24.367133  33.930851  43.945455  53.625000   \n",
       "std     3.127427   2.360536    2.891191   2.961764   2.714284   3.008091   \n",
       "min     1.000000  10.000000   20.000000  30.000000  40.000000  50.000000   \n",
       "25%     2.000000  16.000000   22.000000  31.000000  42.000000  51.000000   \n",
       "50%     4.000000  18.000000   24.000000  34.000000  44.000000  54.000000   \n",
       "75%     8.250000  19.000000   27.000000  36.000000  46.000000  56.000000   \n",
       "max     9.000000  19.000000   29.000000  39.000000  49.000000  59.000000   \n",
       "\n",
       "              60         70   80  \n",
       "count  13.000000   6.000000  0.0  \n",
       "mean   62.769231  71.083333  NaN  \n",
       "std     2.127355   1.497220  NaN  \n",
       "min    60.000000  70.000000  NaN  \n",
       "25%    61.000000  70.125000  NaN  \n",
       "50%    62.000000  70.750000  NaN  \n",
       "75%    65.000000  71.000000  NaN  \n",
       "max    66.000000  74.000000  NaN  "
      ]
     },
     "execution_count": 111,
     "metadata": {},
     "output_type": "execute_result"
    }
   ],
   "source": [
    "#사망자\n",
    "for n in [10,20,30,40,50,60,70,80,90]:\n",
    "    prev = n-10\n",
    "    tmp = train.loc[prev<= train.Age ].loc[train.Age < n].loc[train.Survived == 0].Age.describe()\n",
    "    DAge[prev] = tmp\n",
    "DAge"
   ]
  },
  {
   "cell_type": "markdown",
   "metadata": {},
   "source": [
    "----------------------------------------------\n",
    "\n"
   ]
  },
  {
   "cell_type": "code",
   "execution_count": 203,
   "metadata": {},
   "outputs": [
    {
     "data": {
      "text/plain": [
       "0.6129032258064516"
      ]
     },
     "execution_count": 203,
     "metadata": {},
     "output_type": "execute_result"
    }
   ],
   "source": [
    "38/(38+24)"
   ]
  },
  {
   "cell_type": "code",
   "execution_count": 100,
   "metadata": {},
   "outputs": [
    {
     "data": {
      "text/plain": [
       "134"
      ]
     },
     "execution_count": 100,
     "metadata": {},
     "output_type": "execute_result"
    }
   ],
   "source": [
    "#누적 Ticket번호(동승자)\n",
    "tempC = defaultdict(int)\n",
    "for i in train.Ticket:\n",
    "    tempC[i] += 1\n",
    "family = defaultdict(int)\n",
    "for k,v in tempC.items():\n",
    "    if tempC[k] > 1:\n",
    "        family[k] = v\n",
    "len(family)"
   ]
  },
  {
   "cell_type": "code",
   "execution_count": 110,
   "metadata": {},
   "outputs": [
    {
     "data": {
      "text/plain": [
       "<matplotlib.axes._subplots.AxesSubplot at 0x22d7ef97b00>"
      ]
     },
     "execution_count": 110,
     "metadata": {},
     "output_type": "execute_result"
    },
    {
     "data": {
      "image/png": "[encoded data removed]",
      "text/plain": [
       "<Figure size 432x288 with 1 Axes>"
      ]
     },
     "metadata": {
      "needs_background": "light"
     },
     "output_type": "display_data"
    }
   ],
   "source": [
    "Fdf= pd.DataFrame()\n"
   ]
  },
  {
   "cell_type": "markdown",
   "metadata": {},
   "source": [
    "------------------------------\n",
    "134개의 누적된 Ticket번호가 존재한다. \n",
    "\n",
    "\n",
    "즉, 134개 그룹이 탑승했다는 것을 알 수 있다.\n",
    "\n",
    "\n",
    "그리고 구성원이 7명인 그룹이 가장 크다. 여기서 또 하나의 궁금증이 생겼다. \n",
    "\n",
    "\n",
    "'구성원이 많은 그룹일수록 생존확률이 높지않을까?'"
   ]
  },
  {
   "cell_type": "code",
   "execution_count": null,
   "metadata": {},
   "outputs": [],
   "source": []
  },
  {
   "cell_type": "markdown",
   "metadata": {},
   "source": [
    "## Pclass (사회적 지위)"
   ]
  },
  {
   "cell_type": "code",
   "execution_count": 47,
   "metadata": {},
   "outputs": [
    {
     "data": {
      "text/plain": [
       "3    491\n",
       "1    216\n",
       "2    184\n",
       "Name: Pclass, dtype: int64"
      ]
     },
     "execution_count": 47,
     "metadata": {},
     "output_type": "execute_result"
    }
   ],
   "source": [
    "train.Pclass.value_counts()"
   ]
  },
  {
   "cell_type": "code",
   "execution_count": 48,
   "metadata": {},
   "outputs": [
    {
     "data": {
      "text/plain": [
       "male      577\n",
       "female    314\n",
       "Name: Sex, dtype: int64"
      ]
     },
     "execution_count": 48,
     "metadata": {},
     "output_type": "execute_result"
    }
   ],
   "source": [
    "train.Sex.value_counts()"
   ]
  },
  {
   "cell_type": "code",
   "execution_count": 49,
   "metadata": {},
   "outputs": [
    {
     "data": {
      "text/plain": [
       "C23 C25 C27    4\n",
       "B96 B98        4\n",
       "G6             4\n",
       "D              3\n",
       "E101           3\n",
       "C22 C26        3\n",
       "F2             3\n",
       "F33            3\n",
       "C93            2\n",
       "E8             2\n",
       "Name: Cabin, dtype: int64"
      ]
     },
     "execution_count": 49,
     "metadata": {},
     "output_type": "execute_result"
    }
   ],
   "source": [
    "train.Cabin.value_counts().head(10)"
   ]
  },
  {
   "cell_type": "code",
   "execution_count": 50,
   "metadata": {},
   "outputs": [
    {
     "data": {
      "text/plain": [
       "347082          7\n",
       "CA. 2343        7\n",
       "1601            7\n",
       "3101295         6\n",
       "CA 2144         6\n",
       "347088          6\n",
       "382652          5\n",
       "S.O.C. 14879    5\n",
       "LINE            4\n",
       "19950           4\n",
       "Name: Ticket, dtype: int64"
      ]
     },
     "execution_count": 50,
     "metadata": {},
     "output_type": "execute_result"
    }
   ],
   "source": [
    "train.Ticket.value_counts().head(10)"
   ]
  },
  {
   "cell_type": "code",
   "execution_count": 51,
   "metadata": {
    "scrolled": true
   },
   "outputs": [
    {
     "data": {
      "text/plain": [
       "S    644\n",
       "C    168\n",
       "Q     77\n",
       "Name: Embarked, dtype: int64"
      ]
     },
     "execution_count": 51,
     "metadata": {},
     "output_type": "execute_result"
    }
   ],
   "source": [
    "train.Embarked.value_counts()"
   ]
  },
  {
   "cell_type": "code",
   "execution_count": 52,
   "metadata": {},
   "outputs": [
    {
     "name": "stdout",
     "output_type": "stream",
     "text": [
      "{'Mr': 517, 'Mrs': 125, 'Miss': 182, 'Master': 40, 'Don': 1, 'Rev': 6, 'Dr': 7, 'Mme': 1, 'Ms': 1, 'Major': 2, 'Lady': 1, 'Sir': 1, 'Mlle': 2, 'Col': 2, 'Capt': 1, 'the Countess': 1, 'Jonkheer': 1}\n"
     ]
    }
   ],
   "source": [
    "#칭호 분리\n",
    "m={}\n",
    "for n in train.Name[:]:\n",
    "    tmp = n.split(',')[1].split('.')[0].strip()\n",
    "    m[tmp] = m.get(tmp, 0) +1 \n",
    "print(m)"
   ]
  },
  {
   "cell_type": "markdown",
   "metadata": {},
   "source": [
    "# 예측 모델 만들기"
   ]
  },
  {
   "cell_type": "code",
   "execution_count": null,
   "metadata": {},
   "outputs": [],
   "source": [
    "def solution()"
   ]
  }
 ],
 "metadata": {
  "kernelspec": {
   "display_name": "Python 3",
   "language": "python",
   "name": "python3"
  },
  "language_info": {
   "codemirror_mode": {
    "name": "ipython",
    "version": 3
   },
   "file_extension": ".py",
   "mimetype": "text/x-python",
   "name": "python",
   "nbconvert_exporter": "python",
   "pygments_lexer": "ipython3",
   "version": "3.7.3"
  }
 },
 "nbformat": 4,
 "nbformat_minor": 2
}
