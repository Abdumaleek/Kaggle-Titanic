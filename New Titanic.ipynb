{
 "cells": [
  {
   "cell_type": "markdown",
   "metadata": {},
   "source": [
    "\n",
    "# 문제정의\n",
    "이 대회는 많은 사람을 죽음으로 몰고 간 `Titanic 호 침몰 사건`을 주제로 다룬다.\n",
    "\n",
    "\n",
    "생존에 영향을 미친 여러 요인이 있겠지만, 대회에서 주어진 Train 승객들의 정보만으로 Test 승객들의 생존 여부를 예측해보려고 한다.\n",
    "\n",
    "\n",
    "생존과 연루되어 있다고 생각되는 몇 가지의 요소들에 대해 분석하여 어떤 조건을 갖춘 그룹들이 생존할 확률이 더 높았는지에 대해 알아보려고 한다.\n",
    "\n",
    "\n"
   ]
  },
  {
   "cell_type": "markdown",
   "metadata": {},
   "source": [
    "# 데이터 수집"
   ]
  },
  {
   "cell_type": "code",
   "execution_count": 1,
   "metadata": {},
   "outputs": [],
   "source": [
    "import pandas as pd\n",
    "import numpy as np\n",
    "import seaborn as sns\n",
    "import matplotlib.pyplot as plt\n",
    "import warnings\n",
    "import string\n",
    "from collections import Counter\n",
    "import matplotlib as mpl\n",
    "import random\n",
    "from copy import deepcopy\n",
    "from collections import defaultdict\n",
    "from pandas.plotting import parallel_coordinates\n",
    "from sklearn.model_selection import train_test_split\n",
    "warnings.filterwarnings(action = 'ignore')\n",
    "plt.rcParams['font.family'] = 'KBIZmjo M'\n",
    "%matplotlib inline"
   ]
  },
  {
   "cell_type": "code",
   "execution_count": 2,
   "metadata": {},
   "outputs": [
    {
     "data": {
      "text/html": [
       "<div>\n",
       "<style scoped>\n",
       "    .dataframe tbody tr th:only-of-type {\n",
       "        vertical-align: middle;\n",
       "    }\n",
       "\n",
       "    .dataframe tbody tr th {\n",
       "        vertical-align: top;\n",
       "    }\n",
       "\n",
       "    .dataframe thead th {\n",
       "        text-align: right;\n",
       "    }\n",
       "</style>\n",
       "<table border=\"1\" class=\"dataframe\">\n",
       "  <thead>\n",
       "    <tr style=\"text-align: right;\">\n",
       "      <th></th>\n",
       "      <th>PassengerId</th>\n",
       "      <th>Survived</th>\n",
       "      <th>Pclass</th>\n",
       "      <th>Name</th>\n",
       "      <th>Sex</th>\n",
       "      <th>Age</th>\n",
       "      <th>SibSp</th>\n",
       "      <th>Parch</th>\n",
       "      <th>Ticket</th>\n",
       "      <th>Fare</th>\n",
       "      <th>Cabin</th>\n",
       "      <th>Embarked</th>\n",
       "    </tr>\n",
       "  </thead>\n",
       "  <tbody>\n",
       "    <tr>\n",
       "      <th>0</th>\n",
       "      <td>1</td>\n",
       "      <td>0</td>\n",
       "      <td>3</td>\n",
       "      <td>Braund, Mr. Owen Harris</td>\n",
       "      <td>male</td>\n",
       "      <td>22.0</td>\n",
       "      <td>1</td>\n",
       "      <td>0</td>\n",
       "      <td>A/5 21171</td>\n",
       "      <td>7.2500</td>\n",
       "      <td>NaN</td>\n",
       "      <td>S</td>\n",
       "    </tr>\n",
       "    <tr>\n",
       "      <th>1</th>\n",
       "      <td>2</td>\n",
       "      <td>1</td>\n",
       "      <td>1</td>\n",
       "      <td>Cumings, Mrs. John Bradley (Florence Briggs Th...</td>\n",
       "      <td>female</td>\n",
       "      <td>38.0</td>\n",
       "      <td>1</td>\n",
       "      <td>0</td>\n",
       "      <td>PC 17599</td>\n",
       "      <td>71.2833</td>\n",
       "      <td>C85</td>\n",
       "      <td>C</td>\n",
       "    </tr>\n",
       "    <tr>\n",
       "      <th>2</th>\n",
       "      <td>3</td>\n",
       "      <td>1</td>\n",
       "      <td>3</td>\n",
       "      <td>Heikkinen, Miss. Laina</td>\n",
       "      <td>female</td>\n",
       "      <td>26.0</td>\n",
       "      <td>0</td>\n",
       "      <td>0</td>\n",
       "      <td>STON/O2. 3101282</td>\n",
       "      <td>7.9250</td>\n",
       "      <td>NaN</td>\n",
       "      <td>S</td>\n",
       "    </tr>\n",
       "    <tr>\n",
       "      <th>3</th>\n",
       "      <td>4</td>\n",
       "      <td>1</td>\n",
       "      <td>1</td>\n",
       "      <td>Futrelle, Mrs. Jacques Heath (Lily May Peel)</td>\n",
       "      <td>female</td>\n",
       "      <td>35.0</td>\n",
       "      <td>1</td>\n",
       "      <td>0</td>\n",
       "      <td>113803</td>\n",
       "      <td>53.1000</td>\n",
       "      <td>C123</td>\n",
       "      <td>S</td>\n",
       "    </tr>\n",
       "    <tr>\n",
       "      <th>4</th>\n",
       "      <td>5</td>\n",
       "      <td>0</td>\n",
       "      <td>3</td>\n",
       "      <td>Allen, Mr. William Henry</td>\n",
       "      <td>male</td>\n",
       "      <td>35.0</td>\n",
       "      <td>0</td>\n",
       "      <td>0</td>\n",
       "      <td>373450</td>\n",
       "      <td>8.0500</td>\n",
       "      <td>NaN</td>\n",
       "      <td>S</td>\n",
       "    </tr>\n",
       "    <tr>\n",
       "      <th>5</th>\n",
       "      <td>6</td>\n",
       "      <td>0</td>\n",
       "      <td>3</td>\n",
       "      <td>Moran, Mr. James</td>\n",
       "      <td>male</td>\n",
       "      <td>NaN</td>\n",
       "      <td>0</td>\n",
       "      <td>0</td>\n",
       "      <td>330877</td>\n",
       "      <td>8.4583</td>\n",
       "      <td>NaN</td>\n",
       "      <td>Q</td>\n",
       "    </tr>\n",
       "    <tr>\n",
       "      <th>6</th>\n",
       "      <td>7</td>\n",
       "      <td>0</td>\n",
       "      <td>1</td>\n",
       "      <td>McCarthy, Mr. Timothy J</td>\n",
       "      <td>male</td>\n",
       "      <td>54.0</td>\n",
       "      <td>0</td>\n",
       "      <td>0</td>\n",
       "      <td>17463</td>\n",
       "      <td>51.8625</td>\n",
       "      <td>E46</td>\n",
       "      <td>S</td>\n",
       "    </tr>\n",
       "    <tr>\n",
       "      <th>7</th>\n",
       "      <td>8</td>\n",
       "      <td>0</td>\n",
       "      <td>3</td>\n",
       "      <td>Palsson, Master. Gosta Leonard</td>\n",
       "      <td>male</td>\n",
       "      <td>2.0</td>\n",
       "      <td>3</td>\n",
       "      <td>1</td>\n",
       "      <td>349909</td>\n",
       "      <td>21.0750</td>\n",
       "      <td>NaN</td>\n",
       "      <td>S</td>\n",
       "    </tr>\n",
       "    <tr>\n",
       "      <th>8</th>\n",
       "      <td>9</td>\n",
       "      <td>1</td>\n",
       "      <td>3</td>\n",
       "      <td>Johnson, Mrs. Oscar W (Elisabeth Vilhelmina Berg)</td>\n",
       "      <td>female</td>\n",
       "      <td>27.0</td>\n",
       "      <td>0</td>\n",
       "      <td>2</td>\n",
       "      <td>347742</td>\n",
       "      <td>11.1333</td>\n",
       "      <td>NaN</td>\n",
       "      <td>S</td>\n",
       "    </tr>\n",
       "    <tr>\n",
       "      <th>9</th>\n",
       "      <td>10</td>\n",
       "      <td>1</td>\n",
       "      <td>2</td>\n",
       "      <td>Nasser, Mrs. Nicholas (Adele Achem)</td>\n",
       "      <td>female</td>\n",
       "      <td>14.0</td>\n",
       "      <td>1</td>\n",
       "      <td>0</td>\n",
       "      <td>237736</td>\n",
       "      <td>30.0708</td>\n",
       "      <td>NaN</td>\n",
       "      <td>C</td>\n",
       "    </tr>\n",
       "    <tr>\n",
       "      <th>10</th>\n",
       "      <td>11</td>\n",
       "      <td>1</td>\n",
       "      <td>3</td>\n",
       "      <td>Sandstrom, Miss. Marguerite Rut</td>\n",
       "      <td>female</td>\n",
       "      <td>4.0</td>\n",
       "      <td>1</td>\n",
       "      <td>1</td>\n",
       "      <td>PP 9549</td>\n",
       "      <td>16.7000</td>\n",
       "      <td>G6</td>\n",
       "      <td>S</td>\n",
       "    </tr>\n",
       "    <tr>\n",
       "      <th>11</th>\n",
       "      <td>12</td>\n",
       "      <td>1</td>\n",
       "      <td>1</td>\n",
       "      <td>Bonnell, Miss. Elizabeth</td>\n",
       "      <td>female</td>\n",
       "      <td>58.0</td>\n",
       "      <td>0</td>\n",
       "      <td>0</td>\n",
       "      <td>113783</td>\n",
       "      <td>26.5500</td>\n",
       "      <td>C103</td>\n",
       "      <td>S</td>\n",
       "    </tr>\n",
       "    <tr>\n",
       "      <th>12</th>\n",
       "      <td>13</td>\n",
       "      <td>0</td>\n",
       "      <td>3</td>\n",
       "      <td>Saundercock, Mr. William Henry</td>\n",
       "      <td>male</td>\n",
       "      <td>20.0</td>\n",
       "      <td>0</td>\n",
       "      <td>0</td>\n",
       "      <td>A/5. 2151</td>\n",
       "      <td>8.0500</td>\n",
       "      <td>NaN</td>\n",
       "      <td>S</td>\n",
       "    </tr>\n",
       "    <tr>\n",
       "      <th>13</th>\n",
       "      <td>14</td>\n",
       "      <td>0</td>\n",
       "      <td>3</td>\n",
       "      <td>Andersson, Mr. Anders Johan</td>\n",
       "      <td>male</td>\n",
       "      <td>39.0</td>\n",
       "      <td>1</td>\n",
       "      <td>5</td>\n",
       "      <td>347082</td>\n",
       "      <td>31.2750</td>\n",
       "      <td>NaN</td>\n",
       "      <td>S</td>\n",
       "    </tr>\n",
       "    <tr>\n",
       "      <th>14</th>\n",
       "      <td>15</td>\n",
       "      <td>0</td>\n",
       "      <td>3</td>\n",
       "      <td>Vestrom, Miss. Hulda Amanda Adolfina</td>\n",
       "      <td>female</td>\n",
       "      <td>14.0</td>\n",
       "      <td>0</td>\n",
       "      <td>0</td>\n",
       "      <td>350406</td>\n",
       "      <td>7.8542</td>\n",
       "      <td>NaN</td>\n",
       "      <td>S</td>\n",
       "    </tr>\n",
       "  </tbody>\n",
       "</table>\n",
       "</div>"
      ],
      "text/plain": [
       "    PassengerId  Survived  Pclass  \\\n",
       "0             1         0       3   \n",
       "1             2         1       1   \n",
       "2             3         1       3   \n",
       "3             4         1       1   \n",
       "4             5         0       3   \n",
       "5             6         0       3   \n",
       "6             7         0       1   \n",
       "7             8         0       3   \n",
       "8             9         1       3   \n",
       "9            10         1       2   \n",
       "10           11         1       3   \n",
       "11           12         1       1   \n",
       "12           13         0       3   \n",
       "13           14         0       3   \n",
       "14           15         0       3   \n",
       "\n",
       "                                                 Name     Sex   Age  SibSp  \\\n",
       "0                             Braund, Mr. Owen Harris    male  22.0      1   \n",
       "1   Cumings, Mrs. John Bradley (Florence Briggs Th...  female  38.0      1   \n",
       "2                              Heikkinen, Miss. Laina  female  26.0      0   \n",
       "3        Futrelle, Mrs. Jacques Heath (Lily May Peel)  female  35.0      1   \n",
       "4                            Allen, Mr. William Henry    male  35.0      0   \n",
       "5                                    Moran, Mr. James    male   NaN      0   \n",
       "6                             McCarthy, Mr. Timothy J    male  54.0      0   \n",
       "7                      Palsson, Master. Gosta Leonard    male   2.0      3   \n",
       "8   Johnson, Mrs. Oscar W (Elisabeth Vilhelmina Berg)  female  27.0      0   \n",
       "9                 Nasser, Mrs. Nicholas (Adele Achem)  female  14.0      1   \n",
       "10                    Sandstrom, Miss. Marguerite Rut  female   4.0      1   \n",
       "11                           Bonnell, Miss. Elizabeth  female  58.0      0   \n",
       "12                     Saundercock, Mr. William Henry    male  20.0      0   \n",
       "13                        Andersson, Mr. Anders Johan    male  39.0      1   \n",
       "14               Vestrom, Miss. Hulda Amanda Adolfina  female  14.0      0   \n",
       "\n",
       "    Parch            Ticket     Fare Cabin Embarked  \n",
       "0       0         A/5 21171   7.2500   NaN        S  \n",
       "1       0          PC 17599  71.2833   C85        C  \n",
       "2       0  STON/O2. 3101282   7.9250   NaN        S  \n",
       "3       0            113803  53.1000  C123        S  \n",
       "4       0            373450   8.0500   NaN        S  \n",
       "5       0            330877   8.4583   NaN        Q  \n",
       "6       0             17463  51.8625   E46        S  \n",
       "7       1            349909  21.0750   NaN        S  \n",
       "8       2            347742  11.1333   NaN        S  \n",
       "9       0            237736  30.0708   NaN        C  \n",
       "10      1           PP 9549  16.7000    G6        S  \n",
       "11      0            113783  26.5500  C103        S  \n",
       "12      0         A/5. 2151   8.0500   NaN        S  \n",
       "13      5            347082  31.2750   NaN        S  \n",
       "14      0            350406   7.8542   NaN        S  "
      ]
     },
     "execution_count": 2,
     "metadata": {},
     "output_type": "execute_result"
    }
   ],
   "source": [
    "train = pd.read_csv('Desktop/데이터분석/titanic/train.csv')\n",
    "test = pd.read_csv('Desktop/데이터분석/titanic/test.csv')\n",
    "train.head(15)"
   ]
  },
  {
   "cell_type": "code",
   "execution_count": 3,
   "metadata": {},
   "outputs": [
    {
     "name": "stdout",
     "output_type": "stream",
     "text": [
      "<class 'pandas.core.frame.DataFrame'>\n",
      "RangeIndex: 891 entries, 0 to 890\n",
      "Data columns (total 12 columns):\n",
      "PassengerId    891 non-null int64\n",
      "Survived       891 non-null int64\n",
      "Pclass         891 non-null int64\n",
      "Name           891 non-null object\n",
      "Sex            891 non-null object\n",
      "Age            714 non-null float64\n",
      "SibSp          891 non-null int64\n",
      "Parch          891 non-null int64\n",
      "Ticket         891 non-null object\n",
      "Fare           891 non-null float64\n",
      "Cabin          204 non-null object\n",
      "Embarked       889 non-null object\n",
      "dtypes: float64(2), int64(5), object(5)\n",
      "memory usage: 83.6+ KB\n"
     ]
    }
   ],
   "source": [
    "train.info()"
   ]
  },
  {
   "cell_type": "code",
   "execution_count": 4,
   "metadata": {},
   "outputs": [
    {
     "data": {
      "text/plain": [
       "PassengerId      0\n",
       "Survived         0\n",
       "Pclass           0\n",
       "Name             0\n",
       "Sex              0\n",
       "Age            177\n",
       "SibSp            0\n",
       "Parch            0\n",
       "Ticket           0\n",
       "Fare             0\n",
       "Cabin          687\n",
       "Embarked         2\n",
       "dtype: int64"
      ]
     },
     "execution_count": 4,
     "metadata": {},
     "output_type": "execute_result"
    }
   ],
   "source": [
    "train.isnull().sum()"
   ]
  },
  {
   "cell_type": "markdown",
   "metadata": {},
   "source": [
    "----------------------------------------------------\n",
    "총 891명의 탑승자가 있다.(학습대상) \n",
    "\n",
    "\n",
    "\n",
    "하지만 Age, Cabin, Embarked는 몇몇 탑승자들의 정보가 누락되어있다.\n",
    "\n",
    "- Age : 177명 누락(약 20%)\n",
    "- Cabin : 687명 누락(약 77%)\n",
    "- Embarked : 2명 누락(약 0.2%)\n"
   ]
  },
  {
   "cell_type": "code",
   "execution_count": 5,
   "metadata": {},
   "outputs": [
    {
     "name": "stdout",
     "output_type": "stream",
     "text": [
      "<class 'pandas.core.frame.DataFrame'>\n",
      "RangeIndex: 418 entries, 0 to 417\n",
      "Data columns (total 11 columns):\n",
      "PassengerId    418 non-null int64\n",
      "Pclass         418 non-null int64\n",
      "Name           418 non-null object\n",
      "Sex            418 non-null object\n",
      "Age            332 non-null float64\n",
      "SibSp          418 non-null int64\n",
      "Parch          418 non-null int64\n",
      "Ticket         418 non-null object\n",
      "Fare           417 non-null float64\n",
      "Cabin          91 non-null object\n",
      "Embarked       418 non-null object\n",
      "dtypes: float64(2), int64(4), object(5)\n",
      "memory usage: 36.0+ KB\n"
     ]
    }
   ],
   "source": [
    "test.info()"
   ]
  },
  {
   "cell_type": "code",
   "execution_count": 6,
   "metadata": {},
   "outputs": [
    {
     "data": {
      "text/plain": [
       "PassengerId      0\n",
       "Pclass           0\n",
       "Name             0\n",
       "Sex              0\n",
       "Age             86\n",
       "SibSp            0\n",
       "Parch            0\n",
       "Ticket           0\n",
       "Fare             1\n",
       "Cabin          327\n",
       "Embarked         0\n",
       "dtype: int64"
      ]
     },
     "execution_count": 6,
     "metadata": {},
     "output_type": "execute_result"
    }
   ],
   "source": [
    "test.isnull().sum()"
   ]
  },
  {
   "cell_type": "markdown",
   "metadata": {},
   "source": [
    "---------------------------------------------\n",
    "test탑승자의 정보도 일부 누락되어있다. --> Age, Fare, Cabin  "
   ]
  },
  {
   "cell_type": "code",
   "execution_count": 7,
   "metadata": {
    "scrolled": true
   },
   "outputs": [
    {
     "data": {
      "text/plain": [
       "0    549\n",
       "1    342\n",
       "Name: Survived, dtype: int64"
      ]
     },
     "execution_count": 7,
     "metadata": {},
     "output_type": "execute_result"
    }
   ],
   "source": [
    "train.Survived.value_counts() "
   ]
  },
  {
   "cell_type": "code",
   "execution_count": 8,
   "metadata": {},
   "outputs": [],
   "source": [
    "Dead_num = 549\n",
    "Survived_num = 342"
   ]
  },
  {
   "cell_type": "markdown",
   "metadata": {},
   "source": [
    "-----------------------------------------\n",
    "전체 train탑승객 중 사망자는 549명, 생존자는 342명이다."
   ]
  },
  {
   "cell_type": "markdown",
   "metadata": {},
   "source": [
    "<br><br>\n",
    "# 데이터 전처리\n"
   ]
  },
  {
   "cell_type": "markdown",
   "metadata": {},
   "source": [
    "- ## 중복데이터 삭제"
   ]
  },
  {
   "cell_type": "code",
   "execution_count": 9,
   "metadata": {},
   "outputs": [
    {
     "name": "stdout",
     "output_type": "stream",
     "text": [
      "<class 'pandas.core.frame.DataFrame'>\n",
      "Int64Index: 891 entries, 0 to 890\n",
      "Data columns (total 12 columns):\n",
      "PassengerId    891 non-null int64\n",
      "Survived       891 non-null int64\n",
      "Pclass         891 non-null int64\n",
      "Name           891 non-null object\n",
      "Sex            891 non-null object\n",
      "Age            714 non-null float64\n",
      "SibSp          891 non-null int64\n",
      "Parch          891 non-null int64\n",
      "Ticket         891 non-null object\n",
      "Fare           891 non-null float64\n",
      "Cabin          204 non-null object\n",
      "Embarked       889 non-null object\n",
      "dtypes: float64(2), int64(5), object(5)\n",
      "memory usage: 90.5+ KB\n"
     ]
    }
   ],
   "source": [
    "train = train.drop_duplicates()\n",
    "train.info()"
   ]
  },
  {
   "cell_type": "code",
   "execution_count": 10,
   "metadata": {},
   "outputs": [
    {
     "name": "stdout",
     "output_type": "stream",
     "text": [
      "<class 'pandas.core.frame.DataFrame'>\n",
      "Int64Index: 418 entries, 0 to 417\n",
      "Data columns (total 11 columns):\n",
      "PassengerId    418 non-null int64\n",
      "Pclass         418 non-null int64\n",
      "Name           418 non-null object\n",
      "Sex            418 non-null object\n",
      "Age            332 non-null float64\n",
      "SibSp          418 non-null int64\n",
      "Parch          418 non-null int64\n",
      "Ticket         418 non-null object\n",
      "Fare           417 non-null float64\n",
      "Cabin          91 non-null object\n",
      "Embarked       418 non-null object\n",
      "dtypes: float64(2), int64(4), object(5)\n",
      "memory usage: 39.2+ KB\n"
     ]
    }
   ],
   "source": [
    "test = test.drop_duplicates()\n",
    "test.info()"
   ]
  },
  {
   "cell_type": "markdown",
   "metadata": {},
   "source": [
    "- ## 불필요한 컬럼 삭제"
   ]
  },
  {
   "cell_type": "code",
   "execution_count": 11,
   "metadata": {},
   "outputs": [],
   "source": [
    "ticket_dict = defaultdict(list)\n",
    "for t_num , p_id in zip(train.Ticket, train.PassengerId):\n",
    "    ticket_dict[t_num].append(p_id)"
   ]
  },
  {
   "cell_type": "code",
   "execution_count": 12,
   "metadata": {},
   "outputs": [
    {
     "name": "stdout",
     "output_type": "stream",
     "text": [
      "288\n"
     ]
    }
   ],
   "source": [
    "cnt = 0 #동승자 수+1(자기자신)과 Ticket번호가 동일한 승객수와 맞지 않는 경우 count\n",
    "sp_dict = defaultdict(list)#key : sibsp+parch , value : passengerid\n",
    "for k,v in ticket_dict.items():\n",
    "    for s1, s2, p_id in zip(train.loc[train['Ticket']==k, 'SibSp'],train.loc[train['Ticket']==k, 'Parch'], train.loc[train['Ticket']==k,'PassengerId']):\n",
    "        sp_dict[s1+s2].append(p_id) \n",
    "        if s1+s2+1 != len(v):\n",
    "            cnt += 1\n",
    "print(cnt)"
   ]
  },
  {
   "cell_type": "markdown",
   "metadata": {},
   "source": [
    "--------------------------------------------------------------------\n",
    "동승자는 Ticket번호가 모두 같을 것이기에 \n",
    "\n",
    "동일 Ticket번호 개수 = SibSp + Parch + 1(자기자신) 일것이라 생각했다.\n",
    "\n",
    "그런데 둘의 값이 다른 승객이 288명으로 꽤 많다.\n",
    "\n",
    "그래서 일단 모두 활용해봐야겠다."
   ]
  },
  {
   "cell_type": "code",
   "execution_count": 13,
   "metadata": {},
   "outputs": [
    {
     "name": "stdout",
     "output_type": "stream",
     "text": [
      "<class 'pandas.core.frame.DataFrame'>\n",
      "Int64Index: 891 entries, 0 to 890\n",
      "Data columns (total 13 columns):\n",
      "PassengerId    891 non-null int64\n",
      "Survived       891 non-null int64\n",
      "Pclass         891 non-null int64\n",
      "Name           891 non-null object\n",
      "Sex            891 non-null object\n",
      "Age            714 non-null float64\n",
      "SibSp          891 non-null int64\n",
      "Parch          891 non-null int64\n",
      "Ticket         891 non-null object\n",
      "Fare           891 non-null float64\n",
      "Cabin          204 non-null object\n",
      "Embarked       889 non-null object\n",
      "Family         891 non-null int64\n",
      "dtypes: float64(2), int64(6), object(5)\n",
      "memory usage: 97.5+ KB\n"
     ]
    }
   ],
   "source": [
    "#SibSp + Parch \n",
    "train['Family']  = [i+j for i,j in zip(train.SibSp, train.Parch)]\n",
    "train.info()"
   ]
  },
  {
   "cell_type": "code",
   "execution_count": 14,
   "metadata": {},
   "outputs": [
    {
     "name": "stdout",
     "output_type": "stream",
     "text": [
      "<class 'pandas.core.frame.DataFrame'>\n",
      "Int64Index: 418 entries, 0 to 417\n",
      "Data columns (total 12 columns):\n",
      "PassengerId    418 non-null int64\n",
      "Pclass         418 non-null int64\n",
      "Name           418 non-null object\n",
      "Sex            418 non-null object\n",
      "Age            332 non-null float64\n",
      "SibSp          418 non-null int64\n",
      "Parch          418 non-null int64\n",
      "Ticket         418 non-null object\n",
      "Fare           417 non-null float64\n",
      "Cabin          91 non-null object\n",
      "Embarked       418 non-null object\n",
      "Family         418 non-null int64\n",
      "dtypes: float64(2), int64(5), object(5)\n",
      "memory usage: 42.5+ KB\n"
     ]
    }
   ],
   "source": [
    "#SibSp + Parch \n",
    "test['Family']  = [i+j for i,j in zip(test.SibSp, test.Parch)]\n",
    "test.info()"
   ]
  },
  {
   "cell_type": "code",
   "execution_count": 15,
   "metadata": {},
   "outputs": [
    {
     "name": "stdout",
     "output_type": "stream",
     "text": [
      "<class 'pandas.core.frame.DataFrame'>\n",
      "Int64Index: 891 entries, 0 to 890\n",
      "Data columns (total 12 columns):\n",
      "PassengerId    891 non-null int64\n",
      "Survived       891 non-null int64\n",
      "Pclass         891 non-null int64\n",
      "Sex            891 non-null object\n",
      "Age            714 non-null float64\n",
      "SibSp          891 non-null int64\n",
      "Parch          891 non-null int64\n",
      "Ticket         891 non-null object\n",
      "Fare           891 non-null float64\n",
      "Cabin          204 non-null object\n",
      "Embarked       889 non-null object\n",
      "Family         891 non-null int64\n",
      "dtypes: float64(2), int64(6), object(4)\n",
      "memory usage: 90.5+ KB\n"
     ]
    }
   ],
   "source": [
    "#활용하지 않을 컬럼 drop\n",
    "train = train.drop(['Name'], axis = 1)\n",
    "train.info()"
   ]
  },
  {
   "cell_type": "code",
   "execution_count": 16,
   "metadata": {},
   "outputs": [
    {
     "name": "stdout",
     "output_type": "stream",
     "text": [
      "<class 'pandas.core.frame.DataFrame'>\n",
      "Int64Index: 418 entries, 0 to 417\n",
      "Data columns (total 11 columns):\n",
      "PassengerId    418 non-null int64\n",
      "Pclass         418 non-null int64\n",
      "Sex            418 non-null object\n",
      "Age            332 non-null float64\n",
      "SibSp          418 non-null int64\n",
      "Parch          418 non-null int64\n",
      "Ticket         418 non-null object\n",
      "Fare           417 non-null float64\n",
      "Cabin          91 non-null object\n",
      "Embarked       418 non-null object\n",
      "Family         418 non-null int64\n",
      "dtypes: float64(2), int64(5), object(4)\n",
      "memory usage: 39.2+ KB\n"
     ]
    }
   ],
   "source": [
    "test = test.drop(['Name'], axis = 1)\n",
    "test.info()"
   ]
  },
  {
   "cell_type": "markdown",
   "metadata": {},
   "source": [
    "----------------------------------\n",
    "생성)\n",
    "Family : SibSp + Parch 값\n",
    "\n",
    "\n",
    "삭제)\n",
    "Name : 칭호를 분리해서 분석해볼 수 있지만 칭호는 Pclass, Fare 등 대체 할 수 있는 컬럼이 많기에 drop"
   ]
  },
  {
   "cell_type": "markdown",
   "metadata": {},
   "source": [
    "- ## 데이터 타입 바꾸기"
   ]
  },
  {
   "cell_type": "code",
   "execution_count": 17,
   "metadata": {},
   "outputs": [],
   "source": [
    "#알파벳 별 숫자 부여(대문자)\n",
    "Cabin_dict = defaultdict(int)\n",
    "for i,j in enumerate(range(65,91)):\n",
    "    Cabin_dict[chr(j)] = i+1"
   ]
  },
  {
   "cell_type": "code",
   "execution_count": 18,
   "metadata": {},
   "outputs": [
    {
     "data": {
      "text/html": [
       "<div>\n",
       "<style scoped>\n",
       "    .dataframe tbody tr th:only-of-type {\n",
       "        vertical-align: middle;\n",
       "    }\n",
       "\n",
       "    .dataframe tbody tr th {\n",
       "        vertical-align: top;\n",
       "    }\n",
       "\n",
       "    .dataframe thead th {\n",
       "        text-align: right;\n",
       "    }\n",
       "</style>\n",
       "<table border=\"1\" class=\"dataframe\">\n",
       "  <thead>\n",
       "    <tr style=\"text-align: right;\">\n",
       "      <th></th>\n",
       "      <th>PassengerId</th>\n",
       "      <th>Survived</th>\n",
       "      <th>Pclass</th>\n",
       "      <th>Sex</th>\n",
       "      <th>Age</th>\n",
       "      <th>SibSp</th>\n",
       "      <th>Parch</th>\n",
       "      <th>Ticket</th>\n",
       "      <th>Fare</th>\n",
       "      <th>Cabin</th>\n",
       "      <th>Embarked</th>\n",
       "      <th>Family</th>\n",
       "    </tr>\n",
       "  </thead>\n",
       "  <tbody>\n",
       "    <tr>\n",
       "      <th>1</th>\n",
       "      <td>2</td>\n",
       "      <td>1</td>\n",
       "      <td>1</td>\n",
       "      <td>female</td>\n",
       "      <td>38.0</td>\n",
       "      <td>1</td>\n",
       "      <td>0</td>\n",
       "      <td>PC 17599</td>\n",
       "      <td>71.2833</td>\n",
       "      <td>3</td>\n",
       "      <td>C</td>\n",
       "      <td>1</td>\n",
       "    </tr>\n",
       "    <tr>\n",
       "      <th>3</th>\n",
       "      <td>4</td>\n",
       "      <td>1</td>\n",
       "      <td>1</td>\n",
       "      <td>female</td>\n",
       "      <td>35.0</td>\n",
       "      <td>1</td>\n",
       "      <td>0</td>\n",
       "      <td>113803</td>\n",
       "      <td>53.1000</td>\n",
       "      <td>3</td>\n",
       "      <td>S</td>\n",
       "      <td>1</td>\n",
       "    </tr>\n",
       "    <tr>\n",
       "      <th>6</th>\n",
       "      <td>7</td>\n",
       "      <td>0</td>\n",
       "      <td>1</td>\n",
       "      <td>male</td>\n",
       "      <td>54.0</td>\n",
       "      <td>0</td>\n",
       "      <td>0</td>\n",
       "      <td>17463</td>\n",
       "      <td>51.8625</td>\n",
       "      <td>5</td>\n",
       "      <td>S</td>\n",
       "      <td>0</td>\n",
       "    </tr>\n",
       "    <tr>\n",
       "      <th>10</th>\n",
       "      <td>11</td>\n",
       "      <td>1</td>\n",
       "      <td>3</td>\n",
       "      <td>female</td>\n",
       "      <td>4.0</td>\n",
       "      <td>1</td>\n",
       "      <td>1</td>\n",
       "      <td>PP 9549</td>\n",
       "      <td>16.7000</td>\n",
       "      <td>7</td>\n",
       "      <td>S</td>\n",
       "      <td>2</td>\n",
       "    </tr>\n",
       "    <tr>\n",
       "      <th>11</th>\n",
       "      <td>12</td>\n",
       "      <td>1</td>\n",
       "      <td>1</td>\n",
       "      <td>female</td>\n",
       "      <td>58.0</td>\n",
       "      <td>0</td>\n",
       "      <td>0</td>\n",
       "      <td>113783</td>\n",
       "      <td>26.5500</td>\n",
       "      <td>3</td>\n",
       "      <td>S</td>\n",
       "      <td>0</td>\n",
       "    </tr>\n",
       "  </tbody>\n",
       "</table>\n",
       "</div>"
      ],
      "text/plain": [
       "    PassengerId  Survived  Pclass     Sex   Age  SibSp  Parch    Ticket  \\\n",
       "1             2         1       1  female  38.0      1      0  PC 17599   \n",
       "3             4         1       1  female  35.0      1      0    113803   \n",
       "6             7         0       1    male  54.0      0      0     17463   \n",
       "10           11         1       3  female   4.0      1      1   PP 9549   \n",
       "11           12         1       1  female  58.0      0      0    113783   \n",
       "\n",
       "       Fare Cabin Embarked  Family  \n",
       "1   71.2833     3        C       1  \n",
       "3   53.1000     3        S       1  \n",
       "6   51.8625     5        S       0  \n",
       "10  16.7000     7        S       2  \n",
       "11  26.5500     3        S       0  "
      ]
     },
     "execution_count": 18,
     "metadata": {},
     "output_type": "execute_result"
    }
   ],
   "source": [
    "#맨앞 알파벳만 따서 알파벳별 숫자 부여 (즉, string -> int)\n",
    "for c, idx in zip(train.loc[train.Cabin.notnull()].Cabin, train.loc[train.Cabin.notnull()].index):\n",
    "    train.set_value(idx,'Cabin', Cabin_dict[c[0].upper()])\n",
    "train[train['Cabin'].notnull()].head(5)"
   ]
  },
  {
   "cell_type": "code",
   "execution_count": 19,
   "metadata": {
    "scrolled": true
   },
   "outputs": [
    {
     "data": {
      "text/html": [
       "<div>\n",
       "<style scoped>\n",
       "    .dataframe tbody tr th:only-of-type {\n",
       "        vertical-align: middle;\n",
       "    }\n",
       "\n",
       "    .dataframe tbody tr th {\n",
       "        vertical-align: top;\n",
       "    }\n",
       "\n",
       "    .dataframe thead th {\n",
       "        text-align: right;\n",
       "    }\n",
       "</style>\n",
       "<table border=\"1\" class=\"dataframe\">\n",
       "  <thead>\n",
       "    <tr style=\"text-align: right;\">\n",
       "      <th></th>\n",
       "      <th>PassengerId</th>\n",
       "      <th>Pclass</th>\n",
       "      <th>Sex</th>\n",
       "      <th>Age</th>\n",
       "      <th>SibSp</th>\n",
       "      <th>Parch</th>\n",
       "      <th>Ticket</th>\n",
       "      <th>Fare</th>\n",
       "      <th>Cabin</th>\n",
       "      <th>Embarked</th>\n",
       "      <th>Family</th>\n",
       "    </tr>\n",
       "  </thead>\n",
       "  <tbody>\n",
       "    <tr>\n",
       "      <th>12</th>\n",
       "      <td>904</td>\n",
       "      <td>1</td>\n",
       "      <td>female</td>\n",
       "      <td>23.0</td>\n",
       "      <td>1</td>\n",
       "      <td>0</td>\n",
       "      <td>21228</td>\n",
       "      <td>82.2667</td>\n",
       "      <td>2</td>\n",
       "      <td>S</td>\n",
       "      <td>1</td>\n",
       "    </tr>\n",
       "    <tr>\n",
       "      <th>14</th>\n",
       "      <td>906</td>\n",
       "      <td>1</td>\n",
       "      <td>female</td>\n",
       "      <td>47.0</td>\n",
       "      <td>1</td>\n",
       "      <td>0</td>\n",
       "      <td>W.E.P. 5734</td>\n",
       "      <td>61.1750</td>\n",
       "      <td>5</td>\n",
       "      <td>S</td>\n",
       "      <td>1</td>\n",
       "    </tr>\n",
       "    <tr>\n",
       "      <th>24</th>\n",
       "      <td>916</td>\n",
       "      <td>1</td>\n",
       "      <td>female</td>\n",
       "      <td>48.0</td>\n",
       "      <td>1</td>\n",
       "      <td>3</td>\n",
       "      <td>PC 17608</td>\n",
       "      <td>262.3750</td>\n",
       "      <td>2</td>\n",
       "      <td>C</td>\n",
       "      <td>4</td>\n",
       "    </tr>\n",
       "    <tr>\n",
       "      <th>26</th>\n",
       "      <td>918</td>\n",
       "      <td>1</td>\n",
       "      <td>female</td>\n",
       "      <td>22.0</td>\n",
       "      <td>0</td>\n",
       "      <td>1</td>\n",
       "      <td>113509</td>\n",
       "      <td>61.9792</td>\n",
       "      <td>2</td>\n",
       "      <td>C</td>\n",
       "      <td>1</td>\n",
       "    </tr>\n",
       "    <tr>\n",
       "      <th>28</th>\n",
       "      <td>920</td>\n",
       "      <td>1</td>\n",
       "      <td>male</td>\n",
       "      <td>41.0</td>\n",
       "      <td>0</td>\n",
       "      <td>0</td>\n",
       "      <td>113054</td>\n",
       "      <td>30.5000</td>\n",
       "      <td>1</td>\n",
       "      <td>S</td>\n",
       "      <td>0</td>\n",
       "    </tr>\n",
       "  </tbody>\n",
       "</table>\n",
       "</div>"
      ],
      "text/plain": [
       "    PassengerId  Pclass     Sex   Age  SibSp  Parch       Ticket      Fare  \\\n",
       "12          904       1  female  23.0      1      0        21228   82.2667   \n",
       "14          906       1  female  47.0      1      0  W.E.P. 5734   61.1750   \n",
       "24          916       1  female  48.0      1      3     PC 17608  262.3750   \n",
       "26          918       1  female  22.0      0      1       113509   61.9792   \n",
       "28          920       1    male  41.0      0      0       113054   30.5000   \n",
       "\n",
       "   Cabin Embarked  Family  \n",
       "12     2        S       1  \n",
       "14     5        S       1  \n",
       "24     2        C       4  \n",
       "26     2        C       1  \n",
       "28     1        S       0  "
      ]
     },
     "execution_count": 19,
     "metadata": {},
     "output_type": "execute_result"
    }
   ],
   "source": [
    "#test도 적용\n",
    "for c, idx in zip(test.loc[test.Cabin.notnull()].Cabin, test.loc[test.Cabin.notnull()].index):\n",
    "    test.set_value(idx,'Cabin', Cabin_dict[c[0].upper()])\n",
    "test[test['Cabin'].notnull()].head(5)"
   ]
  },
  {
   "cell_type": "code",
   "execution_count": 89,
   "metadata": {},
   "outputs": [],
   "source": [
    "for i in ['Sex', 'Embarked','Cabin']:\n",
    "    train[i] = train[i].astype('category')\n",
    "    test[i] = test[i].astype('category')\n",
    "#string -> int\n",
    "train['Sex'].cat.categories = [1,2]\n",
    "test['Sex'].cat.categories = [1,2]\n",
    "train['Embarked'].cat.categories = [1,2,3]\n",
    "test['Embarked'].cat.categories = [1,2,3]"
   ]
  },
  {
   "cell_type": "code",
   "execution_count": 90,
   "metadata": {},
   "outputs": [
    {
     "data": {
      "text/html": [
       "<div>\n",
       "<style scoped>\n",
       "    .dataframe tbody tr th:only-of-type {\n",
       "        vertical-align: middle;\n",
       "    }\n",
       "\n",
       "    .dataframe tbody tr th {\n",
       "        vertical-align: top;\n",
       "    }\n",
       "\n",
       "    .dataframe thead th {\n",
       "        text-align: right;\n",
       "    }\n",
       "</style>\n",
       "<table border=\"1\" class=\"dataframe\">\n",
       "  <thead>\n",
       "    <tr style=\"text-align: right;\">\n",
       "      <th></th>\n",
       "      <th>PassengerId</th>\n",
       "      <th>Survived</th>\n",
       "      <th>Pclass</th>\n",
       "      <th>Sex</th>\n",
       "      <th>Age</th>\n",
       "      <th>SibSp</th>\n",
       "      <th>Parch</th>\n",
       "      <th>Ticket</th>\n",
       "      <th>Fare</th>\n",
       "      <th>Cabin</th>\n",
       "      <th>Embarked</th>\n",
       "      <th>Family</th>\n",
       "    </tr>\n",
       "  </thead>\n",
       "  <tbody>\n",
       "    <tr>\n",
       "      <th>0</th>\n",
       "      <td>1</td>\n",
       "      <td>0</td>\n",
       "      <td>3</td>\n",
       "      <td>2</td>\n",
       "      <td>22.0</td>\n",
       "      <td>1</td>\n",
       "      <td>0</td>\n",
       "      <td>A/5 21171</td>\n",
       "      <td>7.2500</td>\n",
       "      <td>NaN</td>\n",
       "      <td>3</td>\n",
       "      <td>1</td>\n",
       "    </tr>\n",
       "    <tr>\n",
       "      <th>1</th>\n",
       "      <td>2</td>\n",
       "      <td>1</td>\n",
       "      <td>1</td>\n",
       "      <td>1</td>\n",
       "      <td>38.0</td>\n",
       "      <td>1</td>\n",
       "      <td>0</td>\n",
       "      <td>PC 17599</td>\n",
       "      <td>71.2833</td>\n",
       "      <td>3</td>\n",
       "      <td>1</td>\n",
       "      <td>1</td>\n",
       "    </tr>\n",
       "    <tr>\n",
       "      <th>2</th>\n",
       "      <td>3</td>\n",
       "      <td>1</td>\n",
       "      <td>3</td>\n",
       "      <td>1</td>\n",
       "      <td>26.0</td>\n",
       "      <td>0</td>\n",
       "      <td>0</td>\n",
       "      <td>STON/O2. 3101282</td>\n",
       "      <td>7.9250</td>\n",
       "      <td>NaN</td>\n",
       "      <td>3</td>\n",
       "      <td>0</td>\n",
       "    </tr>\n",
       "    <tr>\n",
       "      <th>3</th>\n",
       "      <td>4</td>\n",
       "      <td>1</td>\n",
       "      <td>1</td>\n",
       "      <td>1</td>\n",
       "      <td>35.0</td>\n",
       "      <td>1</td>\n",
       "      <td>0</td>\n",
       "      <td>113803</td>\n",
       "      <td>53.1000</td>\n",
       "      <td>3</td>\n",
       "      <td>3</td>\n",
       "      <td>1</td>\n",
       "    </tr>\n",
       "    <tr>\n",
       "      <th>4</th>\n",
       "      <td>5</td>\n",
       "      <td>0</td>\n",
       "      <td>3</td>\n",
       "      <td>2</td>\n",
       "      <td>35.0</td>\n",
       "      <td>0</td>\n",
       "      <td>0</td>\n",
       "      <td>373450</td>\n",
       "      <td>8.0500</td>\n",
       "      <td>NaN</td>\n",
       "      <td>3</td>\n",
       "      <td>0</td>\n",
       "    </tr>\n",
       "  </tbody>\n",
       "</table>\n",
       "</div>"
      ],
      "text/plain": [
       "   PassengerId  Survived  Pclass Sex   Age  SibSp  Parch            Ticket  \\\n",
       "0            1         0       3   2  22.0      1      0         A/5 21171   \n",
       "1            2         1       1   1  38.0      1      0          PC 17599   \n",
       "2            3         1       3   1  26.0      0      0  STON/O2. 3101282   \n",
       "3            4         1       1   1  35.0      1      0            113803   \n",
       "4            5         0       3   2  35.0      0      0            373450   \n",
       "\n",
       "      Fare Cabin Embarked  Family  \n",
       "0   7.2500   NaN        3       1  \n",
       "1  71.2833     3        1       1  \n",
       "2   7.9250   NaN        3       0  \n",
       "3  53.1000     3        3       1  \n",
       "4   8.0500   NaN        3       0  "
      ]
     },
     "execution_count": 90,
     "metadata": {},
     "output_type": "execute_result"
    }
   ],
   "source": [
    "train.head(5)"
   ]
  },
  {
   "cell_type": "markdown",
   "metadata": {},
   "source": [
    "---------------\n",
    "이제 Ticket을 제외한 나머지 컬럼의 데이터 타입은 int 또는 float이다."
   ]
  },
  {
   "cell_type": "markdown",
   "metadata": {},
   "source": [
    "- ## 결측치 처리"
   ]
  },
  {
   "cell_type": "markdown",
   "metadata": {},
   "source": [
    "train 데이터)\n",
    "    - Age : 다른 데이터로 추정하여 대체 or 해당 행 삭제\n",
    "    - Cabin : 그냥 두거나 다른 데이터로 추정하여 대체(분석 후 결정)\n",
    "    - Embarked : 해당 행 삭제\n",
    "    \n",
    "test 데이터)\n",
    "    - Age : 다른 데이터로 추정하여 대체\n",
    "    - Fare : 다른 데이터로 추정하여 대체\n",
    "    - Cabin : 그냥 두거나 다른 데이터로 추정하여 대체(분석 후 결정)\n",
    "    "
   ]
  },
  {
   "cell_type": "code",
   "execution_count": 22,
   "metadata": {},
   "outputs": [
    {
     "name": "stdout",
     "output_type": "stream",
     "text": [
      "<class 'pandas.core.frame.DataFrame'>\n",
      "Int64Index: 889 entries, 0 to 890\n",
      "Data columns (total 12 columns):\n",
      "PassengerId    889 non-null int64\n",
      "Survived       889 non-null int64\n",
      "Pclass         889 non-null int64\n",
      "Sex            889 non-null category\n",
      "Age            712 non-null float64\n",
      "SibSp          889 non-null int64\n",
      "Parch          889 non-null int64\n",
      "Ticket         889 non-null object\n",
      "Fare           889 non-null float64\n",
      "Cabin          202 non-null object\n",
      "Embarked       889 non-null category\n",
      "Family         889 non-null int64\n",
      "dtypes: category(2), float64(2), int64(6), object(2)\n",
      "memory usage: 78.3+ KB\n"
     ]
    }
   ],
   "source": [
    "#Embarked결측치 삭제\n",
    "train = train.drop(train.loc[train.Embarked.isnull()].index) \n",
    "train.info()"
   ]
  },
  {
   "cell_type": "code",
   "execution_count": 23,
   "metadata": {},
   "outputs": [],
   "source": [
    "#Age 결측치 삭제\n",
    "train_del_age = train.drop(train.loc[train.Age.isnull()].index)"
   ]
  },
  {
   "cell_type": "code",
   "execution_count": 24,
   "metadata": {},
   "outputs": [],
   "source": [
    "from sklearn.ensemble import RandomForestRegressor\n",
    "def predict (dat, target, feature):#전체 데이터, 대상 컬럼, 예측에 활용될 컬럼list\n",
    "    #target값이 Null인것과 Null이 아닌 것 구분\n",
    "    Not_Null = dat.loc[dat[target].notnull()]\n",
    "    Is_Null = dat.loc[dat[target].isnull()]\n",
    "    \n",
    "    Is_Null[target] = Is_Null[target].astype('str')\n",
    "    \n",
    "    #랜덤포레스트 회귀를 활용한다.\n",
    "    rfModel = RandomForestRegressor()\n",
    "    \n",
    "    #feature에 있는 피처의 값을 바탕으로 학습시킨다.\n",
    "    rfModel.fit(Not_Null[feature], Not_Null[target])\n",
    "    \n",
    "    #학습한 값을 바탕으로 예측한다.\n",
    "    predicted_val = rfModel.predict(X = Is_Null[feature])\n",
    "    \n",
    "    #예측한 값을 넣어 줄 데이터 프레임을 새로 만든다.\n",
    "    Is_Null_cpy = Is_Null\n",
    "    Not_Null_cpy= Not_Null\n",
    "    \n",
    "    #결측치가 있는 데이터 프레임에 예측값을 넣어줌\n",
    "    Is_Null_cpy[target] = predicted_val\n",
    "    \n",
    "    #결측치가 없는 데이터 프레임에 예측한 값이 있는 데이터프레임을 합친다.\n",
    "    dat = Not_Null_cpy.append(Is_Null_cpy)\n",
    "    dat[target] = dat[target].astype('float')\n",
    "    \n",
    "    dat.reset_index(inplace = True)\n",
    "    dat.drop('index', inplace = True, axis =1)\n",
    "    return dat"
   ]
  },
  {
   "cell_type": "code",
   "execution_count": 83,
   "metadata": {},
   "outputs": [],
   "source": [
    "from sklearn.ensemble import RandomForestClassifier\n",
    "def predict_csf (dat, target, feature):#전체 데이터, 대상 컬럼, 예측에 활용될 컬럼list\n",
    "    #target값이 Null인것과 Null이 아닌 것 구분\n",
    "    Not_Null = dat.loc[dat[target].notnull()]\n",
    "    Is_Null = dat.loc[dat[target].isnull()]\n",
    "    \n",
    "    Is_Null[target] = Is_Null[target].astype('str')\n",
    "    \n",
    "    #랜덤포레스트 회귀를 활용한다.\n",
    "    rfModel = RandomForestRegressor()\n",
    "    \n",
    "    #feature에 있는 피처의 값을 바탕으로 학습시킨다.\n",
    "    rfModel.fit(Not_Null[feature], Not_Null[target])\n",
    "    \n",
    "    #학습한 값을 바탕으로 예측한다.\n",
    "    predicted_val = rfModel.predict(X = Is_Null[feature])\n",
    "    \n",
    "    #예측한 값을 넣어 줄 데이터 프레임을 새로 만든다.\n",
    "    Is_Null_cpy = Is_Null\n",
    "    Not_Null_cpy= Not_Null\n",
    "    \n",
    "    #결측치가 있는 데이터 프레임에 예측값을 넣어줌\n",
    "    Is_Null_cpy[target] = predicted_val\n",
    "    \n",
    "    #결측치가 없는 데이터 프레임에 예측한 값이 있는 데이터프레임을 합친다.\n",
    "    dat = Not_Null_cpy.append(Is_Null_cpy)\n",
    "    dat[target] = dat[target].astype('float')\n",
    "    \n",
    "    dat.reset_index(inplace = True)\n",
    "    dat.drop('index', inplace = True, axis =1)\n",
    "    return dat"
   ]
  },
  {
   "cell_type": "code",
   "execution_count": 25,
   "metadata": {},
   "outputs": [
    {
     "name": "stdout",
     "output_type": "stream",
     "text": [
      "<class 'pandas.core.frame.DataFrame'>\n",
      "RangeIndex: 889 entries, 0 to 888\n",
      "Data columns (total 12 columns):\n",
      "PassengerId    889 non-null int64\n",
      "Survived       889 non-null int64\n",
      "Pclass         889 non-null int64\n",
      "Sex            889 non-null category\n",
      "Age            889 non-null float64\n",
      "SibSp          889 non-null int64\n",
      "Parch          889 non-null int64\n",
      "Ticket         889 non-null object\n",
      "Fare           889 non-null float64\n",
      "Cabin          202 non-null object\n",
      "Embarked       889 non-null category\n",
      "Family         889 non-null int64\n",
      "dtypes: category(2), float64(2), int64(6), object(2)\n",
      "memory usage: 71.5+ KB\n"
     ]
    }
   ],
   "source": [
    "#나이 예측\n",
    "train_age = predict(train,'Age',['Pclass', 'Fare','Sex','Embarked'])\n",
    "train_age.info()"
   ]
  },
  {
   "cell_type": "code",
   "execution_count": 26,
   "metadata": {},
   "outputs": [
    {
     "data": {
      "text/plain": [
       "count    889.000000\n",
       "mean      29.756107\n",
       "std       13.717645\n",
       "min        0.420000\n",
       "25%       21.000000\n",
       "50%       28.521036\n",
       "75%       37.797619\n",
       "max       80.000000\n",
       "Name: Age, dtype: float64"
      ]
     },
     "execution_count": 26,
     "metadata": {},
     "output_type": "execute_result"
    }
   ],
   "source": [
    "#나이 예측 후\n",
    "train_age.Age.describe()"
   ]
  },
  {
   "cell_type": "code",
   "execution_count": 27,
   "metadata": {},
   "outputs": [
    {
     "data": {
      "text/plain": [
       "count    712.000000\n",
       "mean      29.642093\n",
       "std       14.492933\n",
       "min        0.420000\n",
       "25%       20.000000\n",
       "50%       28.000000\n",
       "75%       38.000000\n",
       "max       80.000000\n",
       "Name: Age, dtype: float64"
      ]
     },
     "execution_count": 27,
     "metadata": {},
     "output_type": "execute_result"
    }
   ],
   "source": [
    "#나이 예측 전\n",
    "train.Age.describe()"
   ]
  },
  {
   "cell_type": "code",
   "execution_count": 28,
   "metadata": {},
   "outputs": [
    {
     "name": "stdout",
     "output_type": "stream",
     "text": [
      "<class 'pandas.core.frame.DataFrame'>\n",
      "RangeIndex: 418 entries, 0 to 417\n",
      "Data columns (total 11 columns):\n",
      "PassengerId    418 non-null int64\n",
      "Pclass         418 non-null int64\n",
      "Sex            418 non-null category\n",
      "Age            418 non-null float64\n",
      "SibSp          418 non-null int64\n",
      "Parch          418 non-null int64\n",
      "Ticket         418 non-null object\n",
      "Fare           418 non-null float64\n",
      "Cabin          91 non-null object\n",
      "Embarked       418 non-null category\n",
      "Family         418 non-null int64\n",
      "dtypes: category(2), float64(2), int64(5), object(2)\n",
      "memory usage: 30.5+ KB\n"
     ]
    }
   ],
   "source": [
    "#test도 예측\n",
    "#먼저 Fare부터\n",
    "test = predict(test, 'Fare', ['Pclass','Sex'])\n",
    "#이후 Age 예측\n",
    "test_age = predict(test, 'Age', ['Pclass', 'Fare','Sex','Embarked'])\n",
    "test_age.info()"
   ]
  },
  {
   "cell_type": "code",
   "execution_count": 29,
   "metadata": {},
   "outputs": [
    {
     "data": {
      "text/plain": [
       "count    418.000000\n",
       "mean      29.460471\n",
       "std       13.225134\n",
       "min        0.170000\n",
       "25%       21.000000\n",
       "50%       27.000000\n",
       "75%       36.687500\n",
       "max       76.000000\n",
       "Name: Age, dtype: float64"
      ]
     },
     "execution_count": 29,
     "metadata": {},
     "output_type": "execute_result"
    }
   ],
   "source": [
    "#예측 후\n",
    "test_age.Age.describe()"
   ]
  },
  {
   "cell_type": "code",
   "execution_count": 30,
   "metadata": {},
   "outputs": [
    {
     "data": {
      "text/plain": [
       "count    332.000000\n",
       "mean      30.272590\n",
       "std       14.181209\n",
       "min        0.170000\n",
       "25%       21.000000\n",
       "50%       27.000000\n",
       "75%       39.000000\n",
       "max       76.000000\n",
       "Name: Age, dtype: float64"
      ]
     },
     "execution_count": 30,
     "metadata": {},
     "output_type": "execute_result"
    }
   ],
   "source": [
    "#예측 전\n",
    "test.Age.describe()"
   ]
  },
  {
   "cell_type": "code",
   "execution_count": 94,
   "metadata": {},
   "outputs": [],
   "source": [
    "#Cabin 예측(컬럼 2개로)\n",
    "test_cabin_2 = predict_csf(test_age, 'Cabin',['Pclass', 'Fare'])\n",
    "train_cabin_2 = predict_csf(train_age, 'Cabin',['Pclass', 'Fare'])"
   ]
  },
  {
   "cell_type": "code",
   "execution_count": 95,
   "metadata": {},
   "outputs": [],
   "source": [
    "#Cabin 예측(컬럼 3개로)\n",
    "test_cabin_3 = predict(test_age, 'Cabin', ['Pclass', 'Fare', 'Age'])\n",
    "train_cabin_3 = predict(train_age, 'Cabin', ['Pclass','Fare','Age'])"
   ]
  },
  {
   "cell_type": "code",
   "execution_count": 96,
   "metadata": {},
   "outputs": [],
   "source": [
    "#Dead_num , Survived_num 갱신\n",
    "Dead_num = len(train[train.Survived==0])\n",
    "Survived_num = len(train[train.Survived==1])"
   ]
  },
  {
   "cell_type": "code",
   "execution_count": 97,
   "metadata": {
    "scrolled": true
   },
   "outputs": [
    {
     "name": "stdout",
     "output_type": "stream",
     "text": [
      "<class 'pandas.core.frame.DataFrame'>\n",
      "RangeIndex: 889 entries, 0 to 888\n",
      "Data columns (total 12 columns):\n",
      "PassengerId    889 non-null int64\n",
      "Survived       889 non-null int64\n",
      "Pclass         889 non-null int64\n",
      "Sex            889 non-null category\n",
      "Age            889 non-null float64\n",
      "SibSp          889 non-null int64\n",
      "Parch          889 non-null int64\n",
      "Ticket         889 non-null object\n",
      "Fare           889 non-null float64\n",
      "Cabin          202 non-null object\n",
      "Embarked       889 non-null category\n",
      "Family         889 non-null int64\n",
      "dtypes: category(2), float64(2), int64(6), object(2)\n",
      "memory usage: 71.5+ KB\n"
     ]
    }
   ],
   "source": [
    "train_age.info()"
   ]
  },
  {
   "cell_type": "markdown",
   "metadata": {},
   "source": [
    "<br><br>\n",
    "# 데이터 마이닝\n"
   ]
  },
  {
   "cell_type": "markdown",
   "metadata": {},
   "source": [
    "<br><br><br>\n",
    "- ## 나이가 아주 어리거나 많고 여자일수록 생존 확률이 높을 것이다."
   ]
  },
  {
   "cell_type": "code",
   "execution_count": 35,
   "metadata": {},
   "outputs": [],
   "source": [
    "#연령대 분류 함수\n",
    "def AgeClassify(k):\n",
    "    if k<10.0: \n",
    "        return 0\n",
    "    elif k<20.0:#10대\n",
    "        return 10\n",
    "    elif k<30.0:#20대\n",
    "        return 20\n",
    "    elif k<40.0:#30대\n",
    "        return 30\n",
    "    elif k<50.0:#40대\n",
    "        return 40\n",
    "    elif k<60.0:#50대\n",
    "        return 50\n",
    "    elif k<70.0:#60대\n",
    "        return 60\n",
    "    elif k<80.0:#70대\n",
    "        return 70\n",
    "    elif k>=80.0:\n",
    "        return 80"
   ]
  },
  {
   "cell_type": "code",
   "execution_count": 36,
   "metadata": {},
   "outputs": [
    {
     "data": {
      "image/png": "[encoded data removed]",
      "text/plain": [
       "<Figure size 432x288 with 1 Axes>"
      ]
     },
     "metadata": {
      "needs_background": "light"
     },
     "output_type": "display_data"
    }
   ],
   "source": [
    "plt.title('나이 분포')\n",
    "sns.distplot(train_age.Age)\n",
    "plt.show()"
   ]
  },
  {
   "cell_type": "code",
   "execution_count": 37,
   "metadata": {},
   "outputs": [
    {
     "data": {
      "text/html": [
       "<div>\n",
       "<style scoped>\n",
       "    .dataframe tbody tr th:only-of-type {\n",
       "        vertical-align: middle;\n",
       "    }\n",
       "\n",
       "    .dataframe tbody tr th {\n",
       "        vertical-align: top;\n",
       "    }\n",
       "\n",
       "    .dataframe thead th {\n",
       "        text-align: right;\n",
       "    }\n",
       "</style>\n",
       "<table border=\"1\" class=\"dataframe\">\n",
       "  <thead>\n",
       "    <tr style=\"text-align: right;\">\n",
       "      <th></th>\n",
       "      <th>PassengerId</th>\n",
       "      <th>Survived</th>\n",
       "      <th>Pclass</th>\n",
       "      <th>Age</th>\n",
       "      <th>SibSp</th>\n",
       "      <th>Parch</th>\n",
       "      <th>Fare</th>\n",
       "      <th>Family</th>\n",
       "    </tr>\n",
       "  </thead>\n",
       "  <tbody>\n",
       "    <tr>\n",
       "      <th>count</th>\n",
       "      <td>889.000000</td>\n",
       "      <td>889.000000</td>\n",
       "      <td>889.000000</td>\n",
       "      <td>889.000000</td>\n",
       "      <td>889.000000</td>\n",
       "      <td>889.000000</td>\n",
       "      <td>889.000000</td>\n",
       "      <td>889.000000</td>\n",
       "    </tr>\n",
       "    <tr>\n",
       "      <th>mean</th>\n",
       "      <td>446.000000</td>\n",
       "      <td>0.382452</td>\n",
       "      <td>2.311586</td>\n",
       "      <td>29.756107</td>\n",
       "      <td>0.524184</td>\n",
       "      <td>0.382452</td>\n",
       "      <td>32.096681</td>\n",
       "      <td>0.906637</td>\n",
       "    </tr>\n",
       "    <tr>\n",
       "      <th>std</th>\n",
       "      <td>256.998173</td>\n",
       "      <td>0.486260</td>\n",
       "      <td>0.834700</td>\n",
       "      <td>13.717645</td>\n",
       "      <td>1.103705</td>\n",
       "      <td>0.806761</td>\n",
       "      <td>49.697504</td>\n",
       "      <td>1.614703</td>\n",
       "    </tr>\n",
       "    <tr>\n",
       "      <th>min</th>\n",
       "      <td>1.000000</td>\n",
       "      <td>0.000000</td>\n",
       "      <td>1.000000</td>\n",
       "      <td>0.420000</td>\n",
       "      <td>0.000000</td>\n",
       "      <td>0.000000</td>\n",
       "      <td>0.000000</td>\n",
       "      <td>0.000000</td>\n",
       "    </tr>\n",
       "    <tr>\n",
       "      <th>25%</th>\n",
       "      <td>224.000000</td>\n",
       "      <td>0.000000</td>\n",
       "      <td>2.000000</td>\n",
       "      <td>21.000000</td>\n",
       "      <td>0.000000</td>\n",
       "      <td>0.000000</td>\n",
       "      <td>7.895800</td>\n",
       "      <td>0.000000</td>\n",
       "    </tr>\n",
       "    <tr>\n",
       "      <th>50%</th>\n",
       "      <td>446.000000</td>\n",
       "      <td>0.000000</td>\n",
       "      <td>3.000000</td>\n",
       "      <td>28.521036</td>\n",
       "      <td>0.000000</td>\n",
       "      <td>0.000000</td>\n",
       "      <td>14.454200</td>\n",
       "      <td>0.000000</td>\n",
       "    </tr>\n",
       "    <tr>\n",
       "      <th>75%</th>\n",
       "      <td>668.000000</td>\n",
       "      <td>1.000000</td>\n",
       "      <td>3.000000</td>\n",
       "      <td>37.797619</td>\n",
       "      <td>1.000000</td>\n",
       "      <td>0.000000</td>\n",
       "      <td>31.000000</td>\n",
       "      <td>1.000000</td>\n",
       "    </tr>\n",
       "    <tr>\n",
       "      <th>max</th>\n",
       "      <td>891.000000</td>\n",
       "      <td>1.000000</td>\n",
       "      <td>3.000000</td>\n",
       "      <td>80.000000</td>\n",
       "      <td>8.000000</td>\n",
       "      <td>6.000000</td>\n",
       "      <td>512.329200</td>\n",
       "      <td>10.000000</td>\n",
       "    </tr>\n",
       "  </tbody>\n",
       "</table>\n",
       "</div>"
      ],
      "text/plain": [
       "       PassengerId    Survived      Pclass         Age       SibSp  \\\n",
       "count   889.000000  889.000000  889.000000  889.000000  889.000000   \n",
       "mean    446.000000    0.382452    2.311586   29.756107    0.524184   \n",
       "std     256.998173    0.486260    0.834700   13.717645    1.103705   \n",
       "min       1.000000    0.000000    1.000000    0.420000    0.000000   \n",
       "25%     224.000000    0.000000    2.000000   21.000000    0.000000   \n",
       "50%     446.000000    0.000000    3.000000   28.521036    0.000000   \n",
       "75%     668.000000    1.000000    3.000000   37.797619    1.000000   \n",
       "max     891.000000    1.000000    3.000000   80.000000    8.000000   \n",
       "\n",
       "            Parch        Fare      Family  \n",
       "count  889.000000  889.000000  889.000000  \n",
       "mean     0.382452   32.096681    0.906637  \n",
       "std      0.806761   49.697504    1.614703  \n",
       "min      0.000000    0.000000    0.000000  \n",
       "25%      0.000000    7.895800    0.000000  \n",
       "50%      0.000000   14.454200    0.000000  \n",
       "75%      0.000000   31.000000    1.000000  \n",
       "max      6.000000  512.329200   10.000000  "
      ]
     },
     "execution_count": 37,
     "metadata": {},
     "output_type": "execute_result"
    }
   ],
   "source": [
    "train_age.describe()"
   ]
  },
  {
   "cell_type": "markdown",
   "metadata": {},
   "source": [
    "-------------------------\n",
    "20대~30대 후반까지의 승객이 가장 많고, 최고 고령자는 80세이다.\n",
    "\n",
    "다음은 연령대별 생존확률에 대해 알아보겠다."
   ]
  },
  {
   "cell_type": "code",
   "execution_count": 38,
   "metadata": {},
   "outputs": [
    {
     "data": {
      "text/plain": [
       "defaultdict(int,\n",
       "            {20: 296,\n",
       "             30: 216,\n",
       "             50: 49,\n",
       "             0: 65,\n",
       "             10: 120,\n",
       "             40: 117,\n",
       "             60: 19,\n",
       "             70: 6,\n",
       "             80: 1})"
      ]
     },
     "execution_count": 38,
     "metadata": {},
     "output_type": "execute_result"
    }
   ],
   "source": [
    "age_dict = defaultdict(int) #key : 연령대, value : 해당하는 사람 수 \n",
    "for i in train_age.Age:\n",
    "    age_dict[AgeClassify(i)] += 1\n",
    "age_dict"
   ]
  },
  {
   "cell_type": "code",
   "execution_count": 39,
   "metadata": {},
   "outputs": [
    {
     "data": {
      "text/plain": [
       "defaultdict(int,\n",
       "            {20: 0.34797297297297297,\n",
       "             30: 0.37962962962962965,\n",
       "             50: 0.40816326530612246,\n",
       "             0: 0.6153846153846154,\n",
       "             10: 0.38333333333333336,\n",
       "             40: 0.358974358974359,\n",
       "             60: 0.3157894736842105,\n",
       "             70: 0.0,\n",
       "             80: 1.0})"
      ]
     },
     "execution_count": 39,
     "metadata": {},
     "output_type": "execute_result"
    }
   ],
   "source": [
    "#key: 연령 ,value: 생존자 수\n",
    "age_surv_dict = defaultdict(int)\n",
    "for i,j in zip(train_age.Age, train_age.Survived):\n",
    "    age_surv_dict[AgeClassify(i)] += j\n",
    "\n",
    "for k,v in age_dict.items():\n",
    "    age_surv_dict[k] /= v #해당 연령 생존자 수/ 해당 연령 수\n",
    "\n",
    "age_surv_dict"
   ]
  },
  {
   "cell_type": "code",
   "execution_count": 40,
   "metadata": {},
   "outputs": [
    {
     "data": {
      "image/png": "[encoded data removed]",
      "text/plain": [
       "<Figure size 432x288 with 1 Axes>"
      ]
     },
     "metadata": {
      "needs_background": "light"
     },
     "output_type": "display_data"
    }
   ],
   "source": [
    "pd.DataFrame.from_dict(age_surv_dict, orient = 'index', columns = ['surv_pct']).plot.barh()\n",
    "plt.title('연령별 생존확률')\n",
    "plt.show()"
   ]
  },
  {
   "cell_type": "markdown",
   "metadata": {},
   "source": [
    "-----------\n",
    "70대의 생존확률은 0%이고, 80대는 100%라고 나오지만, 70, 80대의 승객은 거의 없기 때문에 신뢰할 수 없다.\n",
    "\n",
    "\n",
    "가장 생존 확률이 높은 것은 10세 미만인 승객인 것을 확인할 수 있다."
   ]
  },
  {
   "cell_type": "code",
   "execution_count": 41,
   "metadata": {},
   "outputs": [
    {
     "data": {
      "text/plain": [
       "0.7403846153846154"
      ]
     },
     "execution_count": 41,
     "metadata": {},
     "output_type": "execute_result"
    }
   ],
   "source": [
    "#여자 생존 확률\n",
    "fe_num = len(train.loc[train.Sex == 1].PassengerId)\n",
    "surv_fe_pct = len(train.loc[(train.Survived == 1) & (train.Sex == 1)].PassengerId)/fe_num\n",
    "surv_fe_pct"
   ]
  },
  {
   "cell_type": "code",
   "execution_count": 42,
   "metadata": {},
   "outputs": [
    {
     "data": {
      "text/plain": [
       "0.18890814558058924"
      ]
     },
     "execution_count": 42,
     "metadata": {},
     "output_type": "execute_result"
    }
   ],
   "source": [
    "#남자 생존 확률\n",
    "m_num= len(train.loc[train.Sex == 2].PassengerId)\n",
    "surv_m_pct = len(train.loc[(train.Survived == 1) &(train.Sex == 2)].PassengerId)/m_num\n",
    "surv_m_pct"
   ]
  },
  {
   "cell_type": "code",
   "execution_count": 43,
   "metadata": {},
   "outputs": [
    {
     "data": {
      "image/png": "[encoded data removed]",
      "text/plain": [
       "<Figure size 1080x360 with 3 Axes>"
      ]
     },
     "metadata": {},
     "output_type": "display_data"
    }
   ],
   "source": [
    "fig, ax = plt.subplots(1,3,figsize = (15,5))\n",
    "ax[0].set_title('남여 비율')\n",
    "ax[0].pie(train.Sex.value_counts(), labels = ['male','female'],colors = ['purple','violet'],autopct = '%.2f',textprops={'fontsize': 14} )\n",
    "\n",
    "\n",
    "ax[1].set_title('여자 생존,사망 비율')\n",
    "ax[1].pie([surv_fe_pct, 1-surv_fe_pct], labels = ['생존','사망'],colors = ['skyblue','yellow'],autopct = '%.2f',textprops={'fontsize': 14} )\n",
    "\n",
    "\n",
    "ax[2].set_title('남자 생존,사망 비율')\n",
    "ax[2].pie([surv_m_pct, 1-surv_m_pct], labels = ['생존','사망'],colors = ['skyblue','yellow'],autopct = '%.2f',textprops={'fontsize': 14} )\n",
    "\n",
    "plt.show()"
   ]
  },
  {
   "cell_type": "markdown",
   "metadata": {},
   "source": [
    "\n",
    "----------------\n",
    "여자인 승객 중 생존자는 74.04%\n",
    "\n",
    "남자인 승객 중 생존자는 18.89%\n",
    "\n",
    "55.15%p 차이가 난다.\n",
    "\n",
    "성별이 1(여자)이면 생존했을 확률이 높다는 것을 뒷받침해주는 결과이다."
   ]
  },
  {
   "cell_type": "code",
   "execution_count": 44,
   "metadata": {},
   "outputs": [
    {
     "name": "stdout",
     "output_type": "stream",
     "text": [
      "340\n"
     ]
    }
   ],
   "source": [
    "Survived_dict = {1:[]}\n",
    "for s_id in train.loc[train.Survived == 1].PassengerId:\n",
    "    Survived_dict[1].append(s_id)\n",
    "print(len(Survived_dict[1]))"
   ]
  },
  {
   "cell_type": "code",
   "execution_count": 45,
   "metadata": {},
   "outputs": [
    {
     "name": "stdout",
     "output_type": "stream",
     "text": [
      "0.6666666666666666\n",
      "90\n"
     ]
    }
   ],
   "source": [
    "#여자이고 나이가 10대 이하인 승객\n",
    "w_y_num = 0\n",
    "under_10_num = 0\n",
    "for i,age in zip(train_age.loc[train_age.Sex == 1].PassengerId, train_age.loc[train_age.Sex == 1].Age):\n",
    "    if AgeClassify(age) <= 10:\n",
    "        under_10_num +=1\n",
    "        if i in Survived_dict[1] :\n",
    "            w_y_num += 1\n",
    "\n",
    "w_y_surv_pct = w_y_num/under_10_num\n",
    "print(w_y_surv_pct)\n",
    "print(under_10_num)"
   ]
  },
  {
   "cell_type": "code",
   "execution_count": 46,
   "metadata": {},
   "outputs": [
    {
     "name": "stdout",
     "output_type": "stream",
     "text": [
      "0.2736842105263158\n",
      "95\n"
     ]
    }
   ],
   "source": [
    "#남자이고 나이가 10대 이하인 승객\n",
    "m_y_num = 0\n",
    "under_10_num = 0\n",
    "for i,age in zip(train_age.loc[train_age.Sex == 2].PassengerId, train_age.loc[train_age.Sex == 2].Age):\n",
    "    if AgeClassify(age) <= 10:\n",
    "        under_10_num +=1\n",
    "        if i in Survived_dict[1] :\n",
    "            m_y_num += 1\n",
    "\n",
    "m_y_surv_pct = m_y_num/under_10_num\n",
    "print(m_y_surv_pct)\n",
    "print(under_10_num)"
   ]
  },
  {
   "cell_type": "code",
   "execution_count": 47,
   "metadata": {},
   "outputs": [
    {
     "data": {
      "text/plain": [
       "0.4383215369059656"
      ]
     },
     "execution_count": 47,
     "metadata": {},
     "output_type": "execute_result"
    }
   ],
   "source": [
    "0.7209302325581395 - 0.2826086956521739"
   ]
  },
  {
   "cell_type": "code",
   "execution_count": 48,
   "metadata": {},
   "outputs": [
    {
     "name": "stdout",
     "output_type": "stream",
     "text": [
      "0.9047619047619048\n",
      "21\n"
     ]
    }
   ],
   "source": [
    "#여자이고 나이가 50이상인 승객\n",
    "w_o_num = 0\n",
    "over_50_num = 0\n",
    "for i,age in zip(train_age.loc[train_age.Sex == 1].PassengerId, train_age.loc[train_age.Sex == 1].Age):\n",
    "    if AgeClassify(age) >= 50:\n",
    "        over_50_num +=1\n",
    "        if i in Survived_dict[1] :\n",
    "            w_o_num += 1\n",
    "\n",
    "w_o_surv_pct = w_o_num/over_50_num\n",
    "print(w_o_surv_pct)\n",
    "print(over_50_num)"
   ]
  },
  {
   "cell_type": "code",
   "execution_count": 49,
   "metadata": {},
   "outputs": [
    {
     "name": "stdout",
     "output_type": "stream",
     "text": [
      "0.14814814814814814\n",
      "54\n"
     ]
    }
   ],
   "source": [
    "#남자이고 나이가 50이상인 승객\n",
    "m_o_num = 0\n",
    "over_50_num = 0\n",
    "for i,age in zip(train_age.loc[train_age.Sex == 2].PassengerId, train_age.loc[train_age.Sex == 2].Age):\n",
    "    if AgeClassify(age) >= 50:\n",
    "        over_50_num +=1\n",
    "        if i in Survived_dict[1] :\n",
    "            m_o_num += 1\n",
    "\n",
    "m_o_surv_pct = m_o_num/over_50_num\n",
    "print(m_o_surv_pct)\n",
    "print(over_50_num)"
   ]
  },
  {
   "cell_type": "code",
   "execution_count": 50,
   "metadata": {},
   "outputs": [
    {
     "data": {
      "text/plain": [
       "0.7593073593073594"
      ]
     },
     "execution_count": 50,
     "metadata": {},
     "output_type": "execute_result"
    }
   ],
   "source": [
    "0.9047619047619048 - 0.14545454545454545"
   ]
  },
  {
   "cell_type": "markdown",
   "metadata": {},
   "source": [
    "-------------------------------\n",
    "- 10대 이하(즉 0~19세) \n",
    "    \n",
    "    \n",
    "    여자 : 72.09%\n",
    "    남자 : 28.26%\n",
    "    차이 : 43.83%p\n",
    "\n",
    "\n",
    "\n",
    "- 50대 이상(즉, 50~80세)\n",
    "    \n",
    "    \n",
    "    여자 : 90.48%\n",
    "    남자 : 14.55%\n",
    "    차이 : 75.93%p\n",
    "    \n",
    "    \n",
    "    \n",
    "- 여자\n",
    "\n",
    "\n",
    "    10대 이하 : 72.09%\n",
    "    50대 이상 : 90.48%\n",
    "    차이 : 18.39%p\n",
    "\n",
    "\n",
    "\n",
    "- 남자\n",
    "\n",
    "\n",
    "    10대 이하 : 28.26%\n",
    "    50대 이상 : 14.55%\n",
    "    차이 : 13.71%p\n",
    " \n",
    "<br>\n"
   ]
  },
  {
   "cell_type": "markdown",
   "metadata": {},
   "source": [
    "위 결과를\n",
    "\n",
    "나이도 무시할 순 없지만, \n",
    "\n",
    "나이보다는 <strong>성별이 생존여부에 더 큰 영향</strong>을 주는 것으로 해석했다."
   ]
  },
  {
   "cell_type": "markdown",
   "metadata": {},
   "source": [
    "<br><br><br>\n",
    "- ## 동승자가 없는(혼자 온) 승객은 사망 확률이 높을 것이다."
   ]
  },
  {
   "cell_type": "code",
   "execution_count": 51,
   "metadata": {},
   "outputs": [
    {
     "name": "stdout",
     "output_type": "stream",
     "text": [
      "P(a|surv) =  0.47941176470588237\n",
      "P(surv|a) =  0.2979890310786106\n",
      "P(a|dead) =  0.6994535519125683\n",
      "P(dead|a) =  0.7020109689213894\n",
      "P(t|surv) =  0.5205882352941177\n",
      "P(surv|t) =  0.5145348837209303\n"
     ]
    }
   ],
   "source": [
    "#Ticket\n",
    "t_together_survived = 0 #동일 Ticket을 가진 승객이 있고, 생존한 승객 count\n",
    "t_alone_survived = 0 #동일 Ticket을 가진 승객이 없고(즉, 혼자), 생존한 승객 count\n",
    "t_alone_dead  = 0 #혼자이고 사망한 승객count\n",
    "t_together_cnt =0 #len(v) >1인 승객 count\n",
    "t_alone_cnt = 0 #len(v) <= 1인 승객 count\n",
    "for k,v in ticket_dict.items():\n",
    "    if len(v) <=1:\n",
    "        for vv in v:\n",
    "            t_alone_cnt += 1\n",
    "            try:\n",
    "                if int(train[train['PassengerId']==vv].Survived) == 1:\n",
    "                    t_alone_survived += 1\n",
    "                if int(train[train['PassengerId']==vv].Survived) == 0:\n",
    "                    t_alone_dead += 1\n",
    "            except:\n",
    "                continue\n",
    "    else:\n",
    "        for vv in v: \n",
    "            t_together_cnt += 1 \n",
    "            try:\n",
    "                if int(train[train['PassengerId']==vv].Survived) == 1:\n",
    "                    t_together_survived += 1\n",
    "            except:\n",
    "                continue\n",
    "\n",
    "a_surv_pct = t_alone_survived/Survived_num\n",
    "surv_a_pct = t_alone_survived/t_alone_cnt\n",
    "a_dead_pct = t_alone_dead/Dead_num\n",
    "dead_a_pct = t_alone_dead/t_alone_cnt\n",
    "t_surv_pct = t_together_survived / Survived_num \n",
    "surv_t_pct = t_together_survived /t_together_cnt\n",
    "print('P(a|surv) = ' , a_surv_pct)\n",
    "print('P(surv|a) = ', surv_a_pct)\n",
    "print('P(a|dead) = ',a_dead_pct)\n",
    "print('P(dead|a) = ', dead_a_pct)\n",
    "print('P(t|surv) = ',t_surv_pct)\n",
    "print('P(surv|t) = ',surv_t_pct)"
   ]
  },
  {
   "cell_type": "code",
   "execution_count": 52,
   "metadata": {},
   "outputs": [
    {
     "data": {
      "image/png": "[encoded data removed]",
      "text/plain": [
       "<Figure size 1080x360 with 2 Axes>"
      ]
     },
     "metadata": {},
     "output_type": "display_data"
    }
   ],
   "source": [
    "fig, ax = plt.subplots(1, 2, figsize = (15,5))\n",
    "ax[0].set_title('혼자 온 승객 중 사망자일 확률')\n",
    "ax[0].pie([1-dead_a_pct,dead_a_pct],labels=['생존자','사망자'],colors = ['pink','green'],autopct = '%.2f',textprops={'fontsize': 14})\n",
    "\n",
    "ax[1].set_title('사망자 중 혼자 온 승객일 확률')\n",
    "ax[1].pie([1-a_dead_pct,a_dead_pct],labels = ['동승자 유', '동승자 무'], colors = ['yellow', 'orange'], autopct = '%.2f' ,textprops={'fontsize': 14})\n",
    "plt.show()"
   ]
  },
  {
   "cell_type": "markdown",
   "metadata": {},
   "source": [
    "------------------------------\n",
    "- 생존자 중 혼자 온 승객은 47.94%\n",
    "\n",
    "- 혼자 온 승객 중 생존자일 확률은 29.80%\n",
    "\n",
    "- <strong>사망한 승객 중 혼자 온 승객일 확률은 69.95%\n",
    "\n",
    "- 혼자 온 승객 중 사망자일 확률은 70.20%</strong>\n",
    "\n",
    "- 생존자 중 동승자가 있는 승객일 확률은 52.34%\n",
    "\n",
    "- 동승자가 있는 승객 중 생존자일 확률은 52.03% \n",
    "\n",
    "\n",
    "\n",
    "\n",
    "<br><br>\n",
    "\n",
    "\n",
    "위 결과를\n",
    "\n",
    "'동승자가 있는 승객이 생존할 확률이 높다'고 할순없지만,\n",
    "\n",
    "\n",
    "<strong>'동승자가 없는(혼자 온) 승객은 사망할 확률이 높다'</strong>고 해석했다."
   ]
  },
  {
   "cell_type": "markdown",
   "metadata": {},
   "source": [
    "\n",
    "<br><br><br>\n",
    "\n",
    "\n",
    "- ## Pclass가 높고 Fare가 높은 승객은 생존 확률이 높을 것이다. "
   ]
  },
  {
   "cell_type": "code",
   "execution_count": 53,
   "metadata": {},
   "outputs": [],
   "source": [
    "#key: pclass , value : 해당하는 승객 PassengerId\n",
    "pclass_dict = defaultdict(list)\n",
    "for pc, p_id in zip(train.Pclass, train.PassengerId):\n",
    "    pclass_dict[pc].append(p_id)"
   ]
  },
  {
   "cell_type": "code",
   "execution_count": 54,
   "metadata": {},
   "outputs": [],
   "source": [
    "#key : pclass, value : 해당 pclass의 생존자 PassengerId\n",
    "pclass_surv_dict = defaultdict(list)\n",
    "for k,v in pclass_dict.items():\n",
    "    for vv in v:\n",
    "        if int(train.loc[train.PassengerId == vv].Survived) == 1:\n",
    "            pclass_surv_dict[k].append(vv)"
   ]
  },
  {
   "cell_type": "code",
   "execution_count": 55,
   "metadata": {},
   "outputs": [
    {
     "data": {
      "image/png": "[encoded data removed]",
      "text/plain": [
       "<Figure size 432x288 with 1 Axes>"
      ]
     },
     "metadata": {
      "needs_background": "light"
     },
     "output_type": "display_data"
    }
   ],
   "source": [
    "pclass_surv_df = pd.DataFrame([len(pclass_surv_dict[i])/len(pclass_dict[i]) for i in range(1,4)], index = [1,2,3], columns = ['surv_pct'])\n",
    "pclass_surv_df.transpose().plot.barh()\n",
    "plt.title('pclass별 생존확률')\n",
    "plt.show()"
   ]
  },
  {
   "cell_type": "code",
   "execution_count": 56,
   "metadata": {},
   "outputs": [
    {
     "data": {
      "text/html": [
       "<div>\n",
       "<style scoped>\n",
       "    .dataframe tbody tr th:only-of-type {\n",
       "        vertical-align: middle;\n",
       "    }\n",
       "\n",
       "    .dataframe tbody tr th {\n",
       "        vertical-align: top;\n",
       "    }\n",
       "\n",
       "    .dataframe thead th {\n",
       "        text-align: right;\n",
       "    }\n",
       "</style>\n",
       "<table border=\"1\" class=\"dataframe\">\n",
       "  <thead>\n",
       "    <tr style=\"text-align: right;\">\n",
       "      <th></th>\n",
       "      <th>surv_pct</th>\n",
       "    </tr>\n",
       "  </thead>\n",
       "  <tbody>\n",
       "    <tr>\n",
       "      <th>1</th>\n",
       "      <td>0.626168</td>\n",
       "    </tr>\n",
       "    <tr>\n",
       "      <th>2</th>\n",
       "      <td>0.472826</td>\n",
       "    </tr>\n",
       "    <tr>\n",
       "      <th>3</th>\n",
       "      <td>0.242363</td>\n",
       "    </tr>\n",
       "  </tbody>\n",
       "</table>\n",
       "</div>"
      ],
      "text/plain": [
       "   surv_pct\n",
       "1  0.626168\n",
       "2  0.472826\n",
       "3  0.242363"
      ]
     },
     "execution_count": 56,
     "metadata": {},
     "output_type": "execute_result"
    }
   ],
   "source": [
    "pclass_surv_df"
   ]
  },
  {
   "cell_type": "markdown",
   "metadata": {},
   "source": [
    "-----------------------\n",
    "pclass가 높을수록(1에 가까울수록) 생존 확률이 높다."
   ]
  },
  {
   "cell_type": "code",
   "execution_count": 57,
   "metadata": {},
   "outputs": [
    {
     "data": {
      "text/plain": [
       "count    889.000000\n",
       "mean      32.096681\n",
       "std       49.697504\n",
       "min        0.000000\n",
       "25%        7.895800\n",
       "50%       14.454200\n",
       "75%       31.000000\n",
       "max      512.329200\n",
       "Name: Fare, dtype: float64"
      ]
     },
     "execution_count": 57,
     "metadata": {},
     "output_type": "execute_result"
    }
   ],
   "source": [
    "train.Fare.describe()"
   ]
  },
  {
   "cell_type": "code",
   "execution_count": 58,
   "metadata": {},
   "outputs": [],
   "source": [
    "surv_fare_dict = {0:[], 1:[]}\n",
    "for s,f in zip(train.Survived , train.Fare):\n",
    "    surv_fare_dict[s].append(f)"
   ]
  },
  {
   "cell_type": "code",
   "execution_count": 59,
   "metadata": {},
   "outputs": [
    {
     "name": "stdout",
     "output_type": "stream",
     "text": [
      "[(0.0, 14), (7.25, 12), (7.75, 22), (7.775, 13), (7.8958, 37), (8.05, 38), (8.6625, 12), (10.5, 15), (13.0, 26), (26.0, 16)]\n",
      "사망자의 Fare 최빈값 10개 평균: 9.68833\n"
     ]
    }
   ],
   "source": [
    "c_num = 0\n",
    "for i in Counter(surv_fare_dict[0]).most_common(10):\n",
    "    c_num += i[0]\n",
    "print(sorted(Counter(surv_fare_dict[0]).most_common(10)))\n",
    "print('사망자의 Fare 최빈값 10개 평균:',c_num/10)"
   ]
  },
  {
   "cell_type": "code",
   "execution_count": 60,
   "metadata": {},
   "outputs": [
    {
     "name": "stdout",
     "output_type": "stream",
     "text": [
      "[(7.75, 12), (7.8792, 4), (7.925, 8), (8.05, 5), (10.5, 9), (13.0, 16), (26.0, 15), (26.55, 8), (30.0, 5), (56.4958, 5)]\n",
      "생존자의 Fare 최빈값 10개 평균: 19.415\n"
     ]
    }
   ],
   "source": [
    "\n",
    "c_num =0\n",
    "for i in Counter(surv_fare_dict[1]).most_common(10):\n",
    "    c_num += i[0]\n",
    "print(sorted(Counter(surv_fare_dict[1]).most_common(10)))\n",
    "print('생존자의 Fare 최빈값 10개 평균:',c_num/10)"
   ]
  },
  {
   "cell_type": "code",
   "execution_count": 61,
   "metadata": {},
   "outputs": [],
   "source": [
    "#key : over은 Fare가 mean 초과, under은 Fare가 mean 이하 , value : key에 해당하는 승객 PassnerId \n",
    "mean_dict = {'over':[], 'under':[]} \n",
    "f_m = train.Fare.mean()\n",
    "for f, p_id in zip(train.Fare,train.PassengerId):\n",
    "    if f > f_m :\n",
    "        mean_dict['over'].append(p_id)\n",
    "    else:\n",
    "        mean_dict['under'].append(p_id)\n"
   ]
  },
  {
   "cell_type": "code",
   "execution_count": 62,
   "metadata": {},
   "outputs": [],
   "source": [
    "p1_mo_num = 0 #pclass가 1이고 Fare가 mean 초과인 승객\n",
    "p1_mo_surv_num = 0 #pclass가 1이고 Fare가 mean초과인 승객 중 생존자\n",
    "for i in mean_dict['over']:\n",
    "    if i in pclass_dict[1]:\n",
    "        p1_mo_num += 1\n",
    "        if i in pclass_surv_dict[1]:\n",
    "            p1_mo_surv_num += 1\n",
    "    "
   ]
  },
  {
   "cell_type": "code",
   "execution_count": 63,
   "metadata": {},
   "outputs": [
    {
     "data": {
      "text/plain": [
       "0.7511961722488039"
      ]
     },
     "execution_count": 63,
     "metadata": {},
     "output_type": "execute_result"
    }
   ],
   "source": [
    "p1_mo_num/len(mean_dict['over'])"
   ]
  },
  {
   "cell_type": "code",
   "execution_count": 64,
   "metadata": {},
   "outputs": [
    {
     "data": {
      "text/plain": [
       "0.5119617224880383"
      ]
     },
     "execution_count": 64,
     "metadata": {},
     "output_type": "execute_result"
    }
   ],
   "source": [
    "p1_mo_surv_num /len(mean_dict['over'])"
   ]
  },
  {
   "cell_type": "markdown",
   "metadata": {},
   "source": [
    "------------------------\n",
    "\n",
    "- 사망자의 Fare 최빈값 10개 평균: 9.68833\n",
    "- 생존자의 Fare 최빈값 10개 평균: 19.415\n",
    "- Fare가 mean 초과하는 승객 중 Pclass가 1인 승객은 75.12%\n",
    "- Fare가 mean 초과하고 Pclass가 1인 승객 중 생존한 승객은 51.2%\n",
    "\n",
    "<br><br>\n",
    "위 결과를\n",
    "\n",
    "<strong>'Pclass가 높을 수록, Fare가 높을 수록 생존 확률이 높다'</strong>고 해석했다."
   ]
  },
  {
   "cell_type": "markdown",
   "metadata": {},
   "source": [
    "- ## Cabin과 Embarked에 따라 생존 확률 차이가 클 것이다."
   ]
  },
  {
   "cell_type": "code",
   "execution_count": 99,
   "metadata": {},
   "outputs": [
    {
     "data": {
      "text/plain": [
       "defaultdict(int,\n",
       "            {3: 0.5932203389830508,\n",
       "             5: 0.75,\n",
       "             7: 0.5,\n",
       "             4: 0.7575757575757576,\n",
       "             1: 0.4666666666666667,\n",
       "             2: 0.7333333333333333,\n",
       "             6: 0.6153846153846154})"
      ]
     },
     "execution_count": 99,
     "metadata": {},
     "output_type": "execute_result"
    }
   ],
   "source": [
    "#key : cabin, value : key에 해당하는 전체 승객 id\n",
    "cabin_dict = defaultdict(list)\n",
    "#key : cabin , value: key에 해당하는 생존 승객 id\n",
    "surv_cabin_dict = defaultdict(list)\n",
    "#key : cabin , value: key에 해당하는 승객들의 생존확률\n",
    "surv_cabin_pct = defaultdict(int)\n",
    "for i,j in zip(train.loc[train.Cabin.notnull()].Cabin, train.loc[train.Cabin.notnull()].PassengerId) :\n",
    "    cabin_dict[i].append(j)\n",
    "\n",
    "for k,v in cabin_dict.items():\n",
    "    for vv in v:\n",
    "        if int(train.loc[train.PassengerId == vv].Survived) == 1:\n",
    "            surv_cabin_dict[k].append(vv)\n",
    "for pct, k in zip(list(i/j for i,j in zip([len(h) for h in surv_cabin_dict.values()],[len(g) for g in cabin_dict.values()])), surv_cabin_dict.keys()):\n",
    "    surv_cabin_pct[k] = pct\n",
    "surv_cabin_pct"
   ]
  },
  {
   "cell_type": "code",
   "execution_count": 66,
   "metadata": {},
   "outputs": [
    {
     "data": {
      "text/html": [
       "<div>\n",
       "<style scoped>\n",
       "    .dataframe tbody tr th:only-of-type {\n",
       "        vertical-align: middle;\n",
       "    }\n",
       "\n",
       "    .dataframe tbody tr th {\n",
       "        vertical-align: top;\n",
       "    }\n",
       "\n",
       "    .dataframe thead th {\n",
       "        text-align: right;\n",
       "    }\n",
       "</style>\n",
       "<table border=\"1\" class=\"dataframe\">\n",
       "  <thead>\n",
       "    <tr style=\"text-align: right;\">\n",
       "      <th></th>\n",
       "      <th>생존 확률</th>\n",
       "    </tr>\n",
       "  </thead>\n",
       "  <tbody>\n",
       "    <tr>\n",
       "      <th>3</th>\n",
       "      <td>0.593220</td>\n",
       "    </tr>\n",
       "    <tr>\n",
       "      <th>5</th>\n",
       "      <td>0.750000</td>\n",
       "    </tr>\n",
       "    <tr>\n",
       "      <th>7</th>\n",
       "      <td>0.500000</td>\n",
       "    </tr>\n",
       "    <tr>\n",
       "      <th>4</th>\n",
       "      <td>0.757576</td>\n",
       "    </tr>\n",
       "    <tr>\n",
       "      <th>1</th>\n",
       "      <td>0.466667</td>\n",
       "    </tr>\n",
       "    <tr>\n",
       "      <th>2</th>\n",
       "      <td>0.733333</td>\n",
       "    </tr>\n",
       "    <tr>\n",
       "      <th>6</th>\n",
       "      <td>0.615385</td>\n",
       "    </tr>\n",
       "  </tbody>\n",
       "</table>\n",
       "</div>"
      ],
      "text/plain": [
       "      생존 확률\n",
       "3  0.593220\n",
       "5  0.750000\n",
       "7  0.500000\n",
       "4  0.757576\n",
       "1  0.466667\n",
       "2  0.733333\n",
       "6  0.615385"
      ]
     },
     "execution_count": 66,
     "metadata": {},
     "output_type": "execute_result"
    }
   ],
   "source": [
    "surv_cabin_df = pd.DataFrame.from_dict(surv_cabin_pct, orient= 'index', columns = ['생존 확률'])\n",
    "surv_cabin_df"
   ]
  },
  {
   "cell_type": "code",
   "execution_count": 67,
   "metadata": {},
   "outputs": [
    {
     "data": {
      "image/png": "[encoded data removed]",
      "text/plain": [
       "<Figure size 432x288 with 1 Axes>"
      ]
     },
     "metadata": {
      "needs_background": "light"
     },
     "output_type": "display_data"
    }
   ],
   "source": [
    "surv_cabin_df.plot.bar()\n",
    "plt.title('Cabin별 생존 확률')\n",
    "plt.show()"
   ]
  },
  {
   "cell_type": "markdown",
   "metadata": {},
   "source": [
    "--------------\n",
    "Cabin 2,4,5에 묵은 승객들은 생존 확률이 70%대로 매우 높다.\n",
    "<br><br><br><br><br><br>"
   ]
  },
  {
   "cell_type": "code",
   "execution_count": 68,
   "metadata": {},
   "outputs": [
    {
     "data": {
      "text/plain": [
       "defaultdict(int,\n",
       "            {3: 0.33695652173913043,\n",
       "             1: 0.5535714285714286,\n",
       "             2: 0.38961038961038963})"
      ]
     },
     "execution_count": 68,
     "metadata": {},
     "output_type": "execute_result"
    }
   ],
   "source": [
    "#key : Embarked, value : key에 해당하는 전체 승객 id\n",
    "embarked_dict = defaultdict(list)\n",
    "#key : Embarked , value: key에 해당하는 생존 승객 id\n",
    "surv_embarked_dict = defaultdict(list)\n",
    "#key : Embarked , value: key에 해당하는 승객들의 생존확률\n",
    "surv_embarked_pct = defaultdict(int)\n",
    "for i,j in zip(train.Embarked, train.PassengerId) :\n",
    "    embarked_dict[i].append(j)\n",
    "\n",
    "for k,v in embarked_dict.items():\n",
    "    for vv in v:\n",
    "        if int(train.loc[train.PassengerId == vv].Survived) == 1:\n",
    "            surv_embarked_dict[k].append(vv)\n",
    "for pct, k in zip(list(i/j for i,j in zip([len(h) for h in surv_embarked_dict.values()],[len(g) for g in embarked_dict.values()])), surv_embarked_dict.keys()):\n",
    "    surv_embarked_pct[k] = pct\n",
    "surv_embarked_pct"
   ]
  },
  {
   "cell_type": "code",
   "execution_count": 69,
   "metadata": {},
   "outputs": [
    {
     "data": {
      "text/html": [
       "<div>\n",
       "<style scoped>\n",
       "    .dataframe tbody tr th:only-of-type {\n",
       "        vertical-align: middle;\n",
       "    }\n",
       "\n",
       "    .dataframe tbody tr th {\n",
       "        vertical-align: top;\n",
       "    }\n",
       "\n",
       "    .dataframe thead th {\n",
       "        text-align: right;\n",
       "    }\n",
       "</style>\n",
       "<table border=\"1\" class=\"dataframe\">\n",
       "  <thead>\n",
       "    <tr style=\"text-align: right;\">\n",
       "      <th></th>\n",
       "      <th>생존 확률</th>\n",
       "    </tr>\n",
       "  </thead>\n",
       "  <tbody>\n",
       "    <tr>\n",
       "      <th>3</th>\n",
       "      <td>0.336957</td>\n",
       "    </tr>\n",
       "    <tr>\n",
       "      <th>1</th>\n",
       "      <td>0.553571</td>\n",
       "    </tr>\n",
       "    <tr>\n",
       "      <th>2</th>\n",
       "      <td>0.389610</td>\n",
       "    </tr>\n",
       "  </tbody>\n",
       "</table>\n",
       "</div>"
      ],
      "text/plain": [
       "      생존 확률\n",
       "3  0.336957\n",
       "1  0.553571\n",
       "2  0.389610"
      ]
     },
     "execution_count": 69,
     "metadata": {},
     "output_type": "execute_result"
    }
   ],
   "source": [
    "surv_embarked_df = pd.DataFrame.from_dict(surv_embarked_pct, orient= 'index', columns = ['생존 확률'])\n",
    "surv_embarked_df"
   ]
  },
  {
   "cell_type": "markdown",
   "metadata": {},
   "source": [
    "-----------------------------------------\n",
    "Embarked만 보았을땐 큰 차이가 없어보인다.\n",
    "\n",
    "Cabin + Embarked의 조합으로는 어떤 결과가 나올까?\n",
    "<br><br><br><br><br><br>"
   ]
  },
  {
   "cell_type": "code",
   "execution_count": 70,
   "metadata": {},
   "outputs": [
    {
     "data": {
      "text/html": [
       "<div>\n",
       "<style scoped>\n",
       "    .dataframe tbody tr th:only-of-type {\n",
       "        vertical-align: middle;\n",
       "    }\n",
       "\n",
       "    .dataframe tbody tr th {\n",
       "        vertical-align: top;\n",
       "    }\n",
       "\n",
       "    .dataframe thead th {\n",
       "        text-align: right;\n",
       "    }\n",
       "</style>\n",
       "<table border=\"1\" class=\"dataframe\">\n",
       "  <thead>\n",
       "    <tr style=\"text-align: right;\">\n",
       "      <th></th>\n",
       "      <th>Embarked 1</th>\n",
       "      <th>Embarked 2</th>\n",
       "      <th>Embarked 3</th>\n",
       "    </tr>\n",
       "  </thead>\n",
       "  <tbody>\n",
       "    <tr>\n",
       "      <th>3</th>\n",
       "      <td>21</td>\n",
       "      <td>2</td>\n",
       "      <td>36</td>\n",
       "    </tr>\n",
       "    <tr>\n",
       "      <th>5</th>\n",
       "      <td>5</td>\n",
       "      <td>1</td>\n",
       "      <td>26</td>\n",
       "    </tr>\n",
       "    <tr>\n",
       "      <th>7</th>\n",
       "      <td>0</td>\n",
       "      <td>0</td>\n",
       "      <td>4</td>\n",
       "    </tr>\n",
       "    <tr>\n",
       "      <th>4</th>\n",
       "      <td>13</td>\n",
       "      <td>0</td>\n",
       "      <td>20</td>\n",
       "    </tr>\n",
       "    <tr>\n",
       "      <th>1</th>\n",
       "      <td>7</td>\n",
       "      <td>0</td>\n",
       "      <td>8</td>\n",
       "    </tr>\n",
       "    <tr>\n",
       "      <th>2</th>\n",
       "      <td>22</td>\n",
       "      <td>0</td>\n",
       "      <td>23</td>\n",
       "    </tr>\n",
       "    <tr>\n",
       "      <th>6</th>\n",
       "      <td>1</td>\n",
       "      <td>1</td>\n",
       "      <td>11</td>\n",
       "    </tr>\n",
       "    <tr>\n",
       "      <th>20</th>\n",
       "      <td>0</td>\n",
       "      <td>0</td>\n",
       "      <td>1</td>\n",
       "    </tr>\n",
       "  </tbody>\n",
       "</table>\n",
       "</div>"
      ],
      "text/plain": [
       "    Embarked 1  Embarked 2  Embarked 3\n",
       "3           21           2          36\n",
       "5            5           1          26\n",
       "7            0           0           4\n",
       "4           13           0          20\n",
       "1            7           0           8\n",
       "2           22           0          23\n",
       "6            1           1          11\n",
       "20           0           0           1"
      ]
     },
     "execution_count": 70,
     "metadata": {},
     "output_type": "execute_result"
    }
   ],
   "source": [
    "#key : cabin, value: [embakred 1 카운트, embakred 2 카운트, embakred 3 카운트]\n",
    "embarked_cabin_dict = {i:[0,0,0] for i in cabin_dict.keys()}\n",
    "for k,v in cabin_dict.items():\n",
    "    for vv in v:\n",
    "        if vv in embarked_dict[1]: \n",
    "            embarked_cabin_dict[k][0] += 1\n",
    "        elif vv in embarked_dict[2]:\n",
    "            embarked_cabin_dict[k][1] += 1\n",
    "        else:\n",
    "            embarked_cabin_dict[k][2] += 1\n",
    "\n",
    "embarked_cabin_df = pd.DataFrame.from_dict(embarked_cabin_dict, orient= 'index', columns = ['Embarked 1', 'Embarked 2', 'Embarked 3'])\n",
    "embarked_cabin_df"
   ]
  },
  {
   "cell_type": "code",
   "execution_count": 71,
   "metadata": {},
   "outputs": [
    {
     "data": {
      "text/plain": [
       "[(3, 644), (1, 168), (2, 77)]"
      ]
     },
     "execution_count": 71,
     "metadata": {},
     "output_type": "execute_result"
    }
   ],
   "source": [
    "#embarked에 따른 승객 수\n",
    "list((k,len(v)) for k,v in embarked_dict.items())"
   ]
  },
  {
   "cell_type": "markdown",
   "metadata": {},
   "source": [
    "-------------------------\n",
    "각 Cabin 승객들이 탑승한 항구가 Embarked 3 > Embarked 1 > Embarked2 순이다.  \n",
    "\n",
    "차이점을 발견하지 못했으므로 Cabin+Embarked 조합은 무의미할 것으로 해석한다.\n",
    "\n",
    "\n",
    "<br><br>\n",
    "하지만 <strong>'Cabin값이 2,4,5 중 하나인 승객은 생존 확률이 높다'</strong>고 해석한다."
   ]
  },
  {
   "cell_type": "markdown",
   "metadata": {},
   "source": [
    "<br><br>\n",
    "# 예측 모델 생성"
   ]
  },
  {
   "cell_type": "markdown",
   "metadata": {},
   "source": [
    "- ## 피처 선택"
   ]
  },
  {
   "cell_type": "code",
   "execution_count": 72,
   "metadata": {
    "scrolled": true
   },
   "outputs": [
    {
     "name": "stdout",
     "output_type": "stream",
     "text": [
      "<class 'pandas.core.frame.DataFrame'>\n",
      "RangeIndex: 889 entries, 0 to 888\n",
      "Data columns (total 12 columns):\n",
      "PassengerId    889 non-null int64\n",
      "Survived       889 non-null int64\n",
      "Pclass         889 non-null int64\n",
      "Sex            889 non-null category\n",
      "Age            889 non-null float64\n",
      "SibSp          889 non-null int64\n",
      "Parch          889 non-null int64\n",
      "Ticket         889 non-null object\n",
      "Fare           889 non-null float64\n",
      "Cabin          202 non-null object\n",
      "Embarked       889 non-null category\n",
      "Family         889 non-null int64\n",
      "dtypes: category(2), float64(2), int64(6), object(2)\n",
      "memory usage: 71.5+ KB\n"
     ]
    }
   ],
   "source": [
    "train_age.info()"
   ]
  },
  {
   "cell_type": "code",
   "execution_count": 137,
   "metadata": {},
   "outputs": [],
   "source": [
    "#위 분석을 바탕으로 피처 선택\n",
    "feature1 = ['Age','Sex','Fare','Pclass']\n",
    "feature2 = ['Cabin','Age','Sex','Fare','Pclass'] \n",
    "feature3 = ['Age', 'Sex','Fare','Pclass','Embarked']\n",
    "feature4 = ['Cabin','Age','Sex','Fare','Pclass','Embarked']\n",
    "feature5 = ['Age','Sex','Fare','Pclass','Family']\n",
    "feature6 = ['Cabin','Age','Sex','Fare','Pclass','Family']\n",
    "feature7 = ['Age','Sex','Fare','Pclass','Family','Embarked']\n",
    "feature8 = ['Cabin','Age','Sex','Fare','Pclass','Family','Embarked']"
   ]
  },
  {
   "cell_type": "markdown",
   "metadata": {},
   "source": [
    "x1 = Age결측치 예측값으로 채운 것\n",
    "\n",
    "x2 = Age, Cabin결측치 예측값(Cabin의 feature 2개)으로 채운 것\n",
    "\n",
    "x3 = Age결측치 삭제한 것\n",
    "\n",
    "x4 = Age, Cabin결측치 예측값(Cabin의 feature 3개)으로 채운 것"
   ]
  },
  {
   "cell_type": "code",
   "execution_count": 130,
   "metadata": {},
   "outputs": [],
   "source": [
    "def xy(feature, num):\n",
    "    global train_age, train_cabin_2, train_3, train_del_age\n",
    "    if num == 1:\n",
    "        return train_test_split(train_age[feature], train_age['Survived'],test_size = 0.25)\n",
    "    elif num == 2:\n",
    "        return train_test_split(train_cabin_2[feature], train_cabin_2['Survived'],test_size = 0.25)\n",
    "    elif num == 3:\n",
    "        return train_test_split(train_del_age[feature], train_del_age['Survived'],test_size = 0.25)\n",
    "    elif num == 4:\n",
    "        return train_test_split(train_cabin_3[feature], train_cabin_3['Survived'],test_size = 0.25)\n",
    "    return 0\n",
    "    "
   ]
  },
  {
   "cell_type": "markdown",
   "metadata": {},
   "source": [
    "- ## 모델 구축"
   ]
  },
  {
   "cell_type": "markdown",
   "metadata": {},
   "source": [
    "- Logistic Regression 적용"
   ]
  },
  {
   "cell_type": "code",
   "execution_count": 75,
   "metadata": {},
   "outputs": [],
   "source": [
    "from sklearn.linear_model import LogisticRegression\n",
    "log_clf = LogisticRegression()"
   ]
  },
  {
   "cell_type": "markdown",
   "metadata": {},
   "source": [
    "- kNN 적용"
   ]
  },
  {
   "cell_type": "code",
   "execution_count": 76,
   "metadata": {},
   "outputs": [],
   "source": [
    "from sklearn.neighbors import KNeighborsClassifier\n",
    "knn = KNeighborsClassifier(n_neighbors=130)\n",
    "# knn.fit(x_train, y_train)\n",
    "# y_test = knn.predict(x_test)"
   ]
  },
  {
   "cell_type": "markdown",
   "metadata": {},
   "source": [
    "- Naive Bayes 적용"
   ]
  },
  {
   "cell_type": "markdown",
   "metadata": {},
   "source": [
    "- SVM 적용"
   ]
  },
  {
   "cell_type": "markdown",
   "metadata": {},
   "source": [
    "- Decision Tree 적용"
   ]
  },
  {
   "cell_type": "markdown",
   "metadata": {},
   "source": [
    "- Random Forest 적용"
   ]
  },
  {
   "cell_type": "markdown",
   "metadata": {},
   "source": [
    "- Gradient Boost Regression Tree 적용"
   ]
  },
  {
   "cell_type": "markdown",
   "metadata": {},
   "source": [
    "# 모델 성능 평가"
   ]
  },
  {
   "cell_type": "markdown",
   "metadata": {},
   "source": [
    "- Logistic Regression"
   ]
  },
  {
   "cell_type": "markdown",
   "metadata": {},
   "source": [
    "x1 적용)"
   ]
  },
  {
   "cell_type": "markdown",
   "metadata": {},
   "source": [
    "##### feature =['Age','Sex','Fare','Pclass']"
   ]
  },
  {
   "cell_type": "code",
   "execution_count": 144,
   "metadata": {},
   "outputs": [
    {
     "name": "stdout",
     "output_type": "stream",
     "text": [
      "[[tp,fp]\n",
      " [fn,tn]]\n",
      "\n",
      "[[118  25]\n",
      " [ 13  67]] \n",
      "\n",
      "\n",
      "              precision    recall  f1-score   support\n",
      "\n",
      "           0       0.90      0.83      0.86       143\n",
      "           1       0.73      0.84      0.78        80\n",
      "\n",
      "   micro avg       0.83      0.83      0.83       223\n",
      "   macro avg       0.81      0.83      0.82       223\n",
      "weighted avg       0.84      0.83      0.83       223\n",
      "\n"
     ]
    }
   ],
   "source": [
    "from sklearn.metrics import confusion_matrix, classification_report\n",
    "print('[[tp,fp]')\n",
    "print(' [fn,tn]]\\n')\n",
    "x1_train, x1_test, y1_train, y1_test = xy(feature1,1)\n",
    "log_clf.fit(x1_train, y1_train)\n",
    "print(confusion_matrix(log_clf.predict(x1_test), y1_test),'\\n\\n')\n",
    "print(classification_report(log_clf.predict(x1_test), y1_test))"
   ]
  },
  {
   "cell_type": "markdown",
   "metadata": {},
   "source": [
    "##### feature = ['Age', 'Sex','Fare','Pclass','Embarked']"
   ]
  },
  {
   "cell_type": "code",
   "execution_count": 143,
   "metadata": {},
   "outputs": [
    {
     "name": "stdout",
     "output_type": "stream",
     "text": [
      "[[tp,fp]\n",
      " [fn,tn]]\n",
      "\n",
      "[[115  24]\n",
      " [ 24  60]] \n",
      "\n",
      "\n",
      "              precision    recall  f1-score   support\n",
      "\n",
      "           0       0.83      0.83      0.83       139\n",
      "           1       0.71      0.71      0.71        84\n",
      "\n",
      "   micro avg       0.78      0.78      0.78       223\n",
      "   macro avg       0.77      0.77      0.77       223\n",
      "weighted avg       0.78      0.78      0.78       223\n",
      "\n"
     ]
    }
   ],
   "source": [
    "print('[[tp,fp]')\n",
    "print(' [fn,tn]]\\n')\n",
    "x1_train, x1_test, y1_train, y1_test = xy(feature3,1)\n",
    "log_clf.fit(x1_train, y1_train)\n",
    "print(confusion_matrix(log_clf.predict(x1_test), y1_test),'\\n\\n')\n",
    "print(classification_report(log_clf.predict(x1_test), y1_test))"
   ]
  },
  {
   "cell_type": "markdown",
   "metadata": {},
   "source": [
    "##### feature =['Age','Sex','Fare','Pclass','Family']"
   ]
  },
  {
   "cell_type": "code",
   "execution_count": 145,
   "metadata": {},
   "outputs": [
    {
     "name": "stdout",
     "output_type": "stream",
     "text": [
      "[[tp,fp]\n",
      " [fn,tn]]\n",
      "\n",
      "[[129  27]\n",
      " [ 14  53]] \n",
      "\n",
      "\n",
      "              precision    recall  f1-score   support\n",
      "\n",
      "           0       0.90      0.83      0.86       156\n",
      "           1       0.66      0.79      0.72        67\n",
      "\n",
      "   micro avg       0.82      0.82      0.82       223\n",
      "   macro avg       0.78      0.81      0.79       223\n",
      "weighted avg       0.83      0.82      0.82       223\n",
      "\n"
     ]
    }
   ],
   "source": [
    "print('[[tp,fp]')\n",
    "print(' [fn,tn]]\\n')\n",
    "x1_train, x1_test, y1_train, y1_test = xy(feature5,1)\n",
    "log_clf.fit(x1_train, y1_train)\n",
    "print(confusion_matrix(log_clf.predict(x1_test), y1_test),'\\n\\n')\n",
    "print(classification_report(log_clf.predict(x1_test), y1_test))"
   ]
  },
  {
   "cell_type": "markdown",
   "metadata": {},
   "source": [
    "##### feature = ['Age', 'Sex','Fare','Pclass','Family',Embarked']"
   ]
  },
  {
   "cell_type": "code",
   "execution_count": 161,
   "metadata": {},
   "outputs": [
    {
     "name": "stdout",
     "output_type": "stream",
     "text": [
      "[[tp,fp]\n",
      " [fn,tn]]\n",
      "\n",
      "[[128  28]\n",
      " [ 17  50]] \n",
      "\n",
      "\n",
      "              precision    recall  f1-score   support\n",
      "\n",
      "           0       0.88      0.82      0.85       156\n",
      "           1       0.64      0.75      0.69        67\n",
      "\n",
      "   micro avg       0.80      0.80      0.80       223\n",
      "   macro avg       0.76      0.78      0.77       223\n",
      "weighted avg       0.81      0.80      0.80       223\n",
      "\n"
     ]
    }
   ],
   "source": [
    "print('[[tp,fp]')\n",
    "print(' [fn,tn]]\\n')\n",
    "x1_train, x1_test, y1_train, y1_test = xy(feature7,1)\n",
    "log_clf.fit(x1_train, y1_train)\n",
    "print(confusion_matrix(log_clf.predict(x1_test), y1_test),'\\n\\n')\n",
    "print(classification_report(log_clf.predict(x1_test), y1_test))"
   ]
  },
  {
   "cell_type": "markdown",
   "metadata": {},
   "source": [
    "x2 적용)"
   ]
  },
  {
   "cell_type": "markdown",
   "metadata": {},
   "source": [
    "##### feature =['Cabin','Age','Sex','Fare','Pclass']"
   ]
  },
  {
   "cell_type": "code",
   "execution_count": 105,
   "metadata": {},
   "outputs": [
    {
     "name": "stdout",
     "output_type": "stream",
     "text": [
      "[[tp,fp]\n",
      " [fn,tn]]\n",
      "\n",
      "[[122  21]\n",
      " [ 16  64]] \n",
      "\n",
      "\n",
      "              precision    recall  f1-score   support\n",
      "\n",
      "           0       0.88      0.85      0.87       143\n",
      "           1       0.75      0.80      0.78        80\n",
      "\n",
      "   micro avg       0.83      0.83      0.83       223\n",
      "   macro avg       0.82      0.83      0.82       223\n",
      "weighted avg       0.84      0.83      0.84       223\n",
      "\n"
     ]
    }
   ],
   "source": [
    "print('[[tp,fp]')\n",
    "print(' [fn,tn]]\\n')\n",
    "log_clf.fit(x2_train, y2_train)\n",
    "print(confusion_matrix(log_clf.predict(x2_test), y2_test),'\\n\\n')\n",
    "print(classification_report(log_clf.predict(x2_test), y2_test))"
   ]
  },
  {
   "cell_type": "markdown",
   "metadata": {},
   "source": [
    "##### feature =['Cabin','Age','Sex','Fare','Pclass','Family']"
   ]
  },
  {
   "cell_type": "code",
   "execution_count": 108,
   "metadata": {},
   "outputs": [
    {
     "name": "stdout",
     "output_type": "stream",
     "text": [
      "[[tp,fp]\n",
      " [fn,tn]]\n",
      "\n",
      "[[121  27]\n",
      " [ 20  55]] \n",
      "\n",
      "\n",
      "              precision    recall  f1-score   support\n",
      "\n",
      "           0       0.86      0.82      0.84       148\n",
      "           1       0.67      0.73      0.70        75\n",
      "\n",
      "   micro avg       0.79      0.79      0.79       223\n",
      "   macro avg       0.76      0.78      0.77       223\n",
      "weighted avg       0.80      0.79      0.79       223\n",
      "\n"
     ]
    }
   ],
   "source": [
    "print('[[tp,fp]')\n",
    "print(' [fn,tn]]\\n')\n",
    "log_clf.fit(x2_train, y2_train)\n",
    "print(confusion_matrix(log_clf.predict(x2_test), y2_test),'\\n\\n')\n",
    "print(classification_report(log_clf.predict(x2_test), y2_test))"
   ]
  },
  {
   "cell_type": "markdown",
   "metadata": {},
   "source": [
    "x3 적용)"
   ]
  },
  {
   "cell_type": "markdown",
   "metadata": {},
   "source": [
    "##### feature =['Age','Sex','Fare','Pclass','Embarked']"
   ]
  },
  {
   "cell_type": "code",
   "execution_count": 113,
   "metadata": {},
   "outputs": [
    {
     "name": "stdout",
     "output_type": "stream",
     "text": [
      "[[tp,fp]\n",
      " [fn,tn]]\n",
      "\n",
      "[[91 28]\n",
      " [15 44]] \n",
      "\n",
      "\n",
      "              precision    recall  f1-score   support\n",
      "\n",
      "           0       0.86      0.76      0.81       119\n",
      "           1       0.61      0.75      0.67        59\n",
      "\n",
      "   micro avg       0.76      0.76      0.76       178\n",
      "   macro avg       0.73      0.76      0.74       178\n",
      "weighted avg       0.78      0.76      0.76       178\n",
      "\n"
     ]
    }
   ],
   "source": [
    "print('[[tp,fp]')\n",
    "print(' [fn,tn]]\\n')\n",
    "log_clf.fit(x4_train, y4_train)\n",
    "print(confusion_matrix(log_clf.predict(x4_test), y4_test),'\\n\\n')\n",
    "print(classification_report(log_clf.predict(x4_test), y4_test))"
   ]
  },
  {
   "cell_type": "markdown",
   "metadata": {},
   "source": [
    "##### feature =['Age','Sex','Fare','Pclass','Embarked','Family']"
   ]
  },
  {
   "cell_type": "code",
   "execution_count": 116,
   "metadata": {},
   "outputs": [
    {
     "name": "stdout",
     "output_type": "stream",
     "text": [
      "[[tp,fp]\n",
      " [fn,tn]]\n",
      "\n",
      "[[92 21]\n",
      " [21 44]] \n",
      "\n",
      "\n",
      "              precision    recall  f1-score   support\n",
      "\n",
      "           0       0.81      0.81      0.81       113\n",
      "           1       0.68      0.68      0.68        65\n",
      "\n",
      "   micro avg       0.76      0.76      0.76       178\n",
      "   macro avg       0.75      0.75      0.75       178\n",
      "weighted avg       0.76      0.76      0.76       178\n",
      "\n"
     ]
    }
   ],
   "source": [
    "print('[[tp,fp]')\n",
    "print(' [fn,tn]]\\n')\n",
    "log_clf.fit(x4_train, y4_train)\n",
    "print(confusion_matrix(log_clf.predict(x4_test), y4_test),'\\n\\n')\n",
    "print(classification_report(log_clf.predict(x4_test), y4_test))"
   ]
  },
  {
   "cell_type": "markdown",
   "metadata": {},
   "source": [
    "##### feature =['Age','Sex','Fare','Pclass','Family']"
   ]
  },
  {
   "cell_type": "code",
   "execution_count": 119,
   "metadata": {},
   "outputs": [
    {
     "name": "stdout",
     "output_type": "stream",
     "text": [
      "[[tp,fp]\n",
      " [fn,tn]]\n",
      "\n",
      "[[89 25]\n",
      " [13 51]] \n",
      "\n",
      "\n",
      "              precision    recall  f1-score   support\n",
      "\n",
      "           0       0.87      0.78      0.82       114\n",
      "           1       0.67      0.80      0.73        64\n",
      "\n",
      "   micro avg       0.79      0.79      0.79       178\n",
      "   macro avg       0.77      0.79      0.78       178\n",
      "weighted avg       0.80      0.79      0.79       178\n",
      "\n"
     ]
    }
   ],
   "source": [
    "print('[[tp,fp]')\n",
    "print(' [fn,tn]]\\n')\n",
    "log_clf.fit(x4_train, y4_train)\n",
    "print(confusion_matrix(log_clf.predict(x4_test), y4_test),'\\n\\n')\n",
    "print(classification_report(log_clf.predict(x4_test), y4_test))"
   ]
  },
  {
   "cell_type": "markdown",
   "metadata": {},
   "source": [
    "- KNN"
   ]
  },
  {
   "cell_type": "code",
   "execution_count": null,
   "metadata": {},
   "outputs": [],
   "source": [
    "submission = pd.read_csv('Desktop/데이터분석/titanic/gender_submission.csv')\n",
    "submission['Survived']= y_test"
   ]
  },
  {
   "cell_type": "code",
   "execution_count": null,
   "metadata": {},
   "outputs": [],
   "source": [
    "submission.to_csv('Desktop/데이터분석/Titanic/submission_knn.csv',index =  False)"
   ]
  }
 ],
 "metadata": {
  "kernelspec": {
   "display_name": "Python 3",
   "language": "python",
   "name": "python3"
  },
  "language_info": {
   "codemirror_mode": {
    "name": "ipython",
    "version": 3
   },
   "file_extension": ".py",
   "mimetype": "text/x-python",
   "name": "python",
   "nbconvert_exporter": "python",
   "pygments_lexer": "ipython3",
   "version": "3.7.3"
  }
 },
 "nbformat": 4,
 "nbformat_minor": 2
}
