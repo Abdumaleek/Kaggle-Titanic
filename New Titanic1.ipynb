{
 "cells": [
  {
   "cell_type": "markdown",
   "metadata": {},
   "source": [
    "\n",
    "# 문제정의\n",
    "이 대회는 많은 사람을 죽음으로 몰고 간 `Titanic 호 침몰 사건`을 주제로 다룬다.\n",
    "\n",
    "\n",
    "생존에 영향을 미친 여러 요인이 있겠지만, 대회에서 주어진 Train 승객들의 정보만으로 Test 승객들의 생존 여부를 예측해보려고 한다.\n",
    "\n",
    "\n",
    "생존과 연루되어 있다고 생각되는 몇 가지의 요소들에 대해 분석하여 어떤 조건을 갖춘 그룹들이 생존할 확률이 더 높았는지에 대해 알아보려고 한다.\n",
    "\n",
    "\n"
   ]
  },
  {
   "cell_type": "markdown",
   "metadata": {},
   "source": [
    "# 데이터 수집"
   ]
  },
  {
   "cell_type": "code",
   "execution_count": 2,
   "metadata": {},
   "outputs": [],
   "source": [
    "import pandas as pd\n",
    "import numpy as np\n",
    "import seaborn as sns\n",
    "import matplotlib.pyplot as plt\n",
    "import warnings\n",
    "import string\n",
    "from collections import Counter\n",
    "import matplotlib as mpl\n",
    "import random\n",
    "from copy import deepcopy\n",
    "from collections import defaultdict\n",
    "from pandas.plotting import parallel_coordinates\n",
    "from sklearn.model_selection import train_test_split\n",
    "from sklearn.metrics import roc_curve, roc_auc_score\n",
    "warnings.filterwarnings(action = 'ignore')\n",
    "plt.rcParams['font.family'] = 'KBIZmjo M'\n",
    "%matplotlib inline"
   ]
  },
  {
   "cell_type": "code",
   "execution_count": 3,
   "metadata": {},
   "outputs": [
    {
     "data": {
      "text/html": [
       "<div>\n",
       "<style scoped>\n",
       "    .dataframe tbody tr th:only-of-type {\n",
       "        vertical-align: middle;\n",
       "    }\n",
       "\n",
       "    .dataframe tbody tr th {\n",
       "        vertical-align: top;\n",
       "    }\n",
       "\n",
       "    .dataframe thead th {\n",
       "        text-align: right;\n",
       "    }\n",
       "</style>\n",
       "<table border=\"1\" class=\"dataframe\">\n",
       "  <thead>\n",
       "    <tr style=\"text-align: right;\">\n",
       "      <th></th>\n",
       "      <th>PassengerId</th>\n",
       "      <th>Survived</th>\n",
       "      <th>Pclass</th>\n",
       "      <th>Name</th>\n",
       "      <th>Sex</th>\n",
       "      <th>Age</th>\n",
       "      <th>SibSp</th>\n",
       "      <th>Parch</th>\n",
       "      <th>Ticket</th>\n",
       "      <th>Fare</th>\n",
       "      <th>Cabin</th>\n",
       "      <th>Embarked</th>\n",
       "    </tr>\n",
       "  </thead>\n",
       "  <tbody>\n",
       "    <tr>\n",
       "      <th>0</th>\n",
       "      <td>1</td>\n",
       "      <td>0</td>\n",
       "      <td>3</td>\n",
       "      <td>Braund, Mr. Owen Harris</td>\n",
       "      <td>male</td>\n",
       "      <td>22.0</td>\n",
       "      <td>1</td>\n",
       "      <td>0</td>\n",
       "      <td>A/5 21171</td>\n",
       "      <td>7.2500</td>\n",
       "      <td>NaN</td>\n",
       "      <td>S</td>\n",
       "    </tr>\n",
       "    <tr>\n",
       "      <th>1</th>\n",
       "      <td>2</td>\n",
       "      <td>1</td>\n",
       "      <td>1</td>\n",
       "      <td>Cumings, Mrs. John Bradley (Florence Briggs Th...</td>\n",
       "      <td>female</td>\n",
       "      <td>38.0</td>\n",
       "      <td>1</td>\n",
       "      <td>0</td>\n",
       "      <td>PC 17599</td>\n",
       "      <td>71.2833</td>\n",
       "      <td>C85</td>\n",
       "      <td>C</td>\n",
       "    </tr>\n",
       "    <tr>\n",
       "      <th>2</th>\n",
       "      <td>3</td>\n",
       "      <td>1</td>\n",
       "      <td>3</td>\n",
       "      <td>Heikkinen, Miss. Laina</td>\n",
       "      <td>female</td>\n",
       "      <td>26.0</td>\n",
       "      <td>0</td>\n",
       "      <td>0</td>\n",
       "      <td>STON/O2. 3101282</td>\n",
       "      <td>7.9250</td>\n",
       "      <td>NaN</td>\n",
       "      <td>S</td>\n",
       "    </tr>\n",
       "    <tr>\n",
       "      <th>3</th>\n",
       "      <td>4</td>\n",
       "      <td>1</td>\n",
       "      <td>1</td>\n",
       "      <td>Futrelle, Mrs. Jacques Heath (Lily May Peel)</td>\n",
       "      <td>female</td>\n",
       "      <td>35.0</td>\n",
       "      <td>1</td>\n",
       "      <td>0</td>\n",
       "      <td>113803</td>\n",
       "      <td>53.1000</td>\n",
       "      <td>C123</td>\n",
       "      <td>S</td>\n",
       "    </tr>\n",
       "    <tr>\n",
       "      <th>4</th>\n",
       "      <td>5</td>\n",
       "      <td>0</td>\n",
       "      <td>3</td>\n",
       "      <td>Allen, Mr. William Henry</td>\n",
       "      <td>male</td>\n",
       "      <td>35.0</td>\n",
       "      <td>0</td>\n",
       "      <td>0</td>\n",
       "      <td>373450</td>\n",
       "      <td>8.0500</td>\n",
       "      <td>NaN</td>\n",
       "      <td>S</td>\n",
       "    </tr>\n",
       "    <tr>\n",
       "      <th>5</th>\n",
       "      <td>6</td>\n",
       "      <td>0</td>\n",
       "      <td>3</td>\n",
       "      <td>Moran, Mr. James</td>\n",
       "      <td>male</td>\n",
       "      <td>NaN</td>\n",
       "      <td>0</td>\n",
       "      <td>0</td>\n",
       "      <td>330877</td>\n",
       "      <td>8.4583</td>\n",
       "      <td>NaN</td>\n",
       "      <td>Q</td>\n",
       "    </tr>\n",
       "    <tr>\n",
       "      <th>6</th>\n",
       "      <td>7</td>\n",
       "      <td>0</td>\n",
       "      <td>1</td>\n",
       "      <td>McCarthy, Mr. Timothy J</td>\n",
       "      <td>male</td>\n",
       "      <td>54.0</td>\n",
       "      <td>0</td>\n",
       "      <td>0</td>\n",
       "      <td>17463</td>\n",
       "      <td>51.8625</td>\n",
       "      <td>E46</td>\n",
       "      <td>S</td>\n",
       "    </tr>\n",
       "    <tr>\n",
       "      <th>7</th>\n",
       "      <td>8</td>\n",
       "      <td>0</td>\n",
       "      <td>3</td>\n",
       "      <td>Palsson, Master. Gosta Leonard</td>\n",
       "      <td>male</td>\n",
       "      <td>2.0</td>\n",
       "      <td>3</td>\n",
       "      <td>1</td>\n",
       "      <td>349909</td>\n",
       "      <td>21.0750</td>\n",
       "      <td>NaN</td>\n",
       "      <td>S</td>\n",
       "    </tr>\n",
       "    <tr>\n",
       "      <th>8</th>\n",
       "      <td>9</td>\n",
       "      <td>1</td>\n",
       "      <td>3</td>\n",
       "      <td>Johnson, Mrs. Oscar W (Elisabeth Vilhelmina Berg)</td>\n",
       "      <td>female</td>\n",
       "      <td>27.0</td>\n",
       "      <td>0</td>\n",
       "      <td>2</td>\n",
       "      <td>347742</td>\n",
       "      <td>11.1333</td>\n",
       "      <td>NaN</td>\n",
       "      <td>S</td>\n",
       "    </tr>\n",
       "    <tr>\n",
       "      <th>9</th>\n",
       "      <td>10</td>\n",
       "      <td>1</td>\n",
       "      <td>2</td>\n",
       "      <td>Nasser, Mrs. Nicholas (Adele Achem)</td>\n",
       "      <td>female</td>\n",
       "      <td>14.0</td>\n",
       "      <td>1</td>\n",
       "      <td>0</td>\n",
       "      <td>237736</td>\n",
       "      <td>30.0708</td>\n",
       "      <td>NaN</td>\n",
       "      <td>C</td>\n",
       "    </tr>\n",
       "    <tr>\n",
       "      <th>10</th>\n",
       "      <td>11</td>\n",
       "      <td>1</td>\n",
       "      <td>3</td>\n",
       "      <td>Sandstrom, Miss. Marguerite Rut</td>\n",
       "      <td>female</td>\n",
       "      <td>4.0</td>\n",
       "      <td>1</td>\n",
       "      <td>1</td>\n",
       "      <td>PP 9549</td>\n",
       "      <td>16.7000</td>\n",
       "      <td>G6</td>\n",
       "      <td>S</td>\n",
       "    </tr>\n",
       "    <tr>\n",
       "      <th>11</th>\n",
       "      <td>12</td>\n",
       "      <td>1</td>\n",
       "      <td>1</td>\n",
       "      <td>Bonnell, Miss. Elizabeth</td>\n",
       "      <td>female</td>\n",
       "      <td>58.0</td>\n",
       "      <td>0</td>\n",
       "      <td>0</td>\n",
       "      <td>113783</td>\n",
       "      <td>26.5500</td>\n",
       "      <td>C103</td>\n",
       "      <td>S</td>\n",
       "    </tr>\n",
       "    <tr>\n",
       "      <th>12</th>\n",
       "      <td>13</td>\n",
       "      <td>0</td>\n",
       "      <td>3</td>\n",
       "      <td>Saundercock, Mr. William Henry</td>\n",
       "      <td>male</td>\n",
       "      <td>20.0</td>\n",
       "      <td>0</td>\n",
       "      <td>0</td>\n",
       "      <td>A/5. 2151</td>\n",
       "      <td>8.0500</td>\n",
       "      <td>NaN</td>\n",
       "      <td>S</td>\n",
       "    </tr>\n",
       "    <tr>\n",
       "      <th>13</th>\n",
       "      <td>14</td>\n",
       "      <td>0</td>\n",
       "      <td>3</td>\n",
       "      <td>Andersson, Mr. Anders Johan</td>\n",
       "      <td>male</td>\n",
       "      <td>39.0</td>\n",
       "      <td>1</td>\n",
       "      <td>5</td>\n",
       "      <td>347082</td>\n",
       "      <td>31.2750</td>\n",
       "      <td>NaN</td>\n",
       "      <td>S</td>\n",
       "    </tr>\n",
       "    <tr>\n",
       "      <th>14</th>\n",
       "      <td>15</td>\n",
       "      <td>0</td>\n",
       "      <td>3</td>\n",
       "      <td>Vestrom, Miss. Hulda Amanda Adolfina</td>\n",
       "      <td>female</td>\n",
       "      <td>14.0</td>\n",
       "      <td>0</td>\n",
       "      <td>0</td>\n",
       "      <td>350406</td>\n",
       "      <td>7.8542</td>\n",
       "      <td>NaN</td>\n",
       "      <td>S</td>\n",
       "    </tr>\n",
       "  </tbody>\n",
       "</table>\n",
       "</div>"
      ],
      "text/plain": [
       "    PassengerId  Survived  Pclass  \\\n",
       "0             1         0       3   \n",
       "1             2         1       1   \n",
       "2             3         1       3   \n",
       "3             4         1       1   \n",
       "4             5         0       3   \n",
       "5             6         0       3   \n",
       "6             7         0       1   \n",
       "7             8         0       3   \n",
       "8             9         1       3   \n",
       "9            10         1       2   \n",
       "10           11         1       3   \n",
       "11           12         1       1   \n",
       "12           13         0       3   \n",
       "13           14         0       3   \n",
       "14           15         0       3   \n",
       "\n",
       "                                                 Name     Sex   Age  SibSp  \\\n",
       "0                             Braund, Mr. Owen Harris    male  22.0      1   \n",
       "1   Cumings, Mrs. John Bradley (Florence Briggs Th...  female  38.0      1   \n",
       "2                              Heikkinen, Miss. Laina  female  26.0      0   \n",
       "3        Futrelle, Mrs. Jacques Heath (Lily May Peel)  female  35.0      1   \n",
       "4                            Allen, Mr. William Henry    male  35.0      0   \n",
       "5                                    Moran, Mr. James    male   NaN      0   \n",
       "6                             McCarthy, Mr. Timothy J    male  54.0      0   \n",
       "7                      Palsson, Master. Gosta Leonard    male   2.0      3   \n",
       "8   Johnson, Mrs. Oscar W (Elisabeth Vilhelmina Berg)  female  27.0      0   \n",
       "9                 Nasser, Mrs. Nicholas (Adele Achem)  female  14.0      1   \n",
       "10                    Sandstrom, Miss. Marguerite Rut  female   4.0      1   \n",
       "11                           Bonnell, Miss. Elizabeth  female  58.0      0   \n",
       "12                     Saundercock, Mr. William Henry    male  20.0      0   \n",
       "13                        Andersson, Mr. Anders Johan    male  39.0      1   \n",
       "14               Vestrom, Miss. Hulda Amanda Adolfina  female  14.0      0   \n",
       "\n",
       "    Parch            Ticket     Fare Cabin Embarked  \n",
       "0       0         A/5 21171   7.2500   NaN        S  \n",
       "1       0          PC 17599  71.2833   C85        C  \n",
       "2       0  STON/O2. 3101282   7.9250   NaN        S  \n",
       "3       0            113803  53.1000  C123        S  \n",
       "4       0            373450   8.0500   NaN        S  \n",
       "5       0            330877   8.4583   NaN        Q  \n",
       "6       0             17463  51.8625   E46        S  \n",
       "7       1            349909  21.0750   NaN        S  \n",
       "8       2            347742  11.1333   NaN        S  \n",
       "9       0            237736  30.0708   NaN        C  \n",
       "10      1           PP 9549  16.7000    G6        S  \n",
       "11      0            113783  26.5500  C103        S  \n",
       "12      0         A/5. 2151   8.0500   NaN        S  \n",
       "13      5            347082  31.2750   NaN        S  \n",
       "14      0            350406   7.8542   NaN        S  "
      ]
     },
     "execution_count": 3,
     "metadata": {},
     "output_type": "execute_result"
    }
   ],
   "source": [
    "train = pd.read_csv('Desktop/데이터분석/titanic/train.csv')\n",
    "test = pd.read_csv('Desktop/데이터분석/titanic/test.csv')\n",
    "train.head(15)"
   ]
  },
  {
   "cell_type": "code",
   "execution_count": 4,
   "metadata": {},
   "outputs": [
    {
     "name": "stdout",
     "output_type": "stream",
     "text": [
      "<class 'pandas.core.frame.DataFrame'>\n",
      "RangeIndex: 891 entries, 0 to 890\n",
      "Data columns (total 12 columns):\n",
      "PassengerId    891 non-null int64\n",
      "Survived       891 non-null int64\n",
      "Pclass         891 non-null int64\n",
      "Name           891 non-null object\n",
      "Sex            891 non-null object\n",
      "Age            714 non-null float64\n",
      "SibSp          891 non-null int64\n",
      "Parch          891 non-null int64\n",
      "Ticket         891 non-null object\n",
      "Fare           891 non-null float64\n",
      "Cabin          204 non-null object\n",
      "Embarked       889 non-null object\n",
      "dtypes: float64(2), int64(5), object(5)\n",
      "memory usage: 83.6+ KB\n"
     ]
    }
   ],
   "source": [
    "train.info()"
   ]
  },
  {
   "cell_type": "code",
   "execution_count": 5,
   "metadata": {},
   "outputs": [
    {
     "data": {
      "text/plain": [
       "PassengerId      0\n",
       "Survived         0\n",
       "Pclass           0\n",
       "Name             0\n",
       "Sex              0\n",
       "Age            177\n",
       "SibSp            0\n",
       "Parch            0\n",
       "Ticket           0\n",
       "Fare             0\n",
       "Cabin          687\n",
       "Embarked         2\n",
       "dtype: int64"
      ]
     },
     "execution_count": 5,
     "metadata": {},
     "output_type": "execute_result"
    }
   ],
   "source": [
    "train.isnull().sum()"
   ]
  },
  {
   "cell_type": "markdown",
   "metadata": {},
   "source": [
    "----------------------------------------------------\n",
    "총 891명의 탑승자가 있다.(학습대상) \n",
    "\n",
    "\n",
    "\n",
    "하지만 Age, Cabin, Embarked는 몇몇 탑승자들의 정보가 누락되어있다.\n",
    "\n",
    "- Age : 177명 누락(약 20%)\n",
    "- Cabin : 687명 누락(약 77%)\n",
    "- Embarked : 2명 누락(약 0.2%)\n"
   ]
  },
  {
   "cell_type": "code",
   "execution_count": 6,
   "metadata": {},
   "outputs": [
    {
     "name": "stdout",
     "output_type": "stream",
     "text": [
      "<class 'pandas.core.frame.DataFrame'>\n",
      "RangeIndex: 418 entries, 0 to 417\n",
      "Data columns (total 11 columns):\n",
      "PassengerId    418 non-null int64\n",
      "Pclass         418 non-null int64\n",
      "Name           418 non-null object\n",
      "Sex            418 non-null object\n",
      "Age            332 non-null float64\n",
      "SibSp          418 non-null int64\n",
      "Parch          418 non-null int64\n",
      "Ticket         418 non-null object\n",
      "Fare           417 non-null float64\n",
      "Cabin          91 non-null object\n",
      "Embarked       418 non-null object\n",
      "dtypes: float64(2), int64(4), object(5)\n",
      "memory usage: 36.0+ KB\n"
     ]
    }
   ],
   "source": [
    "test.info()"
   ]
  },
  {
   "cell_type": "code",
   "execution_count": 7,
   "metadata": {},
   "outputs": [
    {
     "data": {
      "text/plain": [
       "PassengerId      0\n",
       "Pclass           0\n",
       "Name             0\n",
       "Sex              0\n",
       "Age             86\n",
       "SibSp            0\n",
       "Parch            0\n",
       "Ticket           0\n",
       "Fare             1\n",
       "Cabin          327\n",
       "Embarked         0\n",
       "dtype: int64"
      ]
     },
     "execution_count": 7,
     "metadata": {},
     "output_type": "execute_result"
    }
   ],
   "source": [
    "test.isnull().sum()"
   ]
  },
  {
   "cell_type": "markdown",
   "metadata": {},
   "source": [
    "---------------------------------------------\n",
    "test탑승자의 정보도 일부 누락되어있다. --> Age, Fare, Cabin  "
   ]
  },
  {
   "cell_type": "code",
   "execution_count": 8,
   "metadata": {
    "scrolled": true
   },
   "outputs": [
    {
     "data": {
      "text/plain": [
       "0    549\n",
       "1    342\n",
       "Name: Survived, dtype: int64"
      ]
     },
     "execution_count": 8,
     "metadata": {},
     "output_type": "execute_result"
    }
   ],
   "source": [
    "train.Survived.value_counts() "
   ]
  },
  {
   "cell_type": "code",
   "execution_count": 9,
   "metadata": {},
   "outputs": [],
   "source": [
    "Dead_num = 549\n",
    "Survived_num = 342"
   ]
  },
  {
   "cell_type": "markdown",
   "metadata": {},
   "source": [
    "-----------------------------------------\n",
    "전체 train탑승객 중 사망자는 549명, 생존자는 342명이다."
   ]
  },
  {
   "cell_type": "markdown",
   "metadata": {},
   "source": [
    "<br><br>\n",
    "# 데이터 전처리\n"
   ]
  },
  {
   "cell_type": "markdown",
   "metadata": {},
   "source": [
    "- ## 중복데이터 삭제"
   ]
  },
  {
   "cell_type": "code",
   "execution_count": 10,
   "metadata": {},
   "outputs": [
    {
     "name": "stdout",
     "output_type": "stream",
     "text": [
      "<class 'pandas.core.frame.DataFrame'>\n",
      "Int64Index: 891 entries, 0 to 890\n",
      "Data columns (total 12 columns):\n",
      "PassengerId    891 non-null int64\n",
      "Survived       891 non-null int64\n",
      "Pclass         891 non-null int64\n",
      "Name           891 non-null object\n",
      "Sex            891 non-null object\n",
      "Age            714 non-null float64\n",
      "SibSp          891 non-null int64\n",
      "Parch          891 non-null int64\n",
      "Ticket         891 non-null object\n",
      "Fare           891 non-null float64\n",
      "Cabin          204 non-null object\n",
      "Embarked       889 non-null object\n",
      "dtypes: float64(2), int64(5), object(5)\n",
      "memory usage: 90.5+ KB\n"
     ]
    }
   ],
   "source": [
    "train = train.drop_duplicates()\n",
    "train.info()"
   ]
  },
  {
   "cell_type": "code",
   "execution_count": 11,
   "metadata": {},
   "outputs": [
    {
     "name": "stdout",
     "output_type": "stream",
     "text": [
      "<class 'pandas.core.frame.DataFrame'>\n",
      "Int64Index: 418 entries, 0 to 417\n",
      "Data columns (total 11 columns):\n",
      "PassengerId    418 non-null int64\n",
      "Pclass         418 non-null int64\n",
      "Name           418 non-null object\n",
      "Sex            418 non-null object\n",
      "Age            332 non-null float64\n",
      "SibSp          418 non-null int64\n",
      "Parch          418 non-null int64\n",
      "Ticket         418 non-null object\n",
      "Fare           417 non-null float64\n",
      "Cabin          91 non-null object\n",
      "Embarked       418 non-null object\n",
      "dtypes: float64(2), int64(4), object(5)\n",
      "memory usage: 39.2+ KB\n"
     ]
    }
   ],
   "source": [
    "test = test.drop_duplicates()\n",
    "test.info()"
   ]
  },
  {
   "cell_type": "markdown",
   "metadata": {},
   "source": [
    "- ## 불필요한 컬럼 삭제"
   ]
  },
  {
   "cell_type": "code",
   "execution_count": 12,
   "metadata": {},
   "outputs": [],
   "source": [
    "ticket_dict = defaultdict(list)\n",
    "for t_num , p_id in zip(train.Ticket, train.PassengerId):\n",
    "    ticket_dict[t_num].append(p_id)"
   ]
  },
  {
   "cell_type": "code",
   "execution_count": 13,
   "metadata": {},
   "outputs": [
    {
     "name": "stdout",
     "output_type": "stream",
     "text": [
      "288\n"
     ]
    }
   ],
   "source": [
    "cnt = 0 #동승자 수+1(자기자신)과 Ticket번호가 동일한 승객수와 맞지 않는 경우 count\n",
    "sp_dict = defaultdict(list)#key : sibsp+parch , value : passengerid\n",
    "for k,v in ticket_dict.items():\n",
    "    for s1, s2, p_id in zip(train.loc[train['Ticket']==k, 'SibSp'],train.loc[train['Ticket']==k, 'Parch'], train.loc[train['Ticket']==k,'PassengerId']):\n",
    "        sp_dict[s1+s2].append(p_id) \n",
    "        if s1+s2+1 != len(v):\n",
    "            cnt += 1\n",
    "print(cnt)"
   ]
  },
  {
   "cell_type": "markdown",
   "metadata": {},
   "source": [
    "--------------------------------------------------------------------\n",
    "동승자는 Ticket번호가 모두 같을 것이기에 \n",
    "\n",
    "동일 Ticket번호 개수 = SibSp + Parch + 1(자기자신) 일것이라 생각했다.\n",
    "\n",
    "그런데 둘의 값이 다른 승객이 288명으로 꽤 많다.\n",
    "\n",
    "그래서 일단 모두 활용해봐야겠다."
   ]
  },
  {
   "cell_type": "code",
   "execution_count": 14,
   "metadata": {},
   "outputs": [
    {
     "name": "stdout",
     "output_type": "stream",
     "text": [
      "<class 'pandas.core.frame.DataFrame'>\n",
      "Int64Index: 891 entries, 0 to 890\n",
      "Data columns (total 13 columns):\n",
      "PassengerId    891 non-null int64\n",
      "Survived       891 non-null int64\n",
      "Pclass         891 non-null int64\n",
      "Name           891 non-null object\n",
      "Sex            891 non-null object\n",
      "Age            714 non-null float64\n",
      "SibSp          891 non-null int64\n",
      "Parch          891 non-null int64\n",
      "Ticket         891 non-null object\n",
      "Fare           891 non-null float64\n",
      "Cabin          204 non-null object\n",
      "Embarked       889 non-null object\n",
      "Family         891 non-null int64\n",
      "dtypes: float64(2), int64(6), object(5)\n",
      "memory usage: 97.5+ KB\n"
     ]
    }
   ],
   "source": [
    "#SibSp + Parch \n",
    "train['Family']  = [i+j for i,j in zip(train.SibSp, train.Parch)]\n",
    "train.info()"
   ]
  },
  {
   "cell_type": "code",
   "execution_count": 15,
   "metadata": {},
   "outputs": [
    {
     "name": "stdout",
     "output_type": "stream",
     "text": [
      "<class 'pandas.core.frame.DataFrame'>\n",
      "Int64Index: 418 entries, 0 to 417\n",
      "Data columns (total 12 columns):\n",
      "PassengerId    418 non-null int64\n",
      "Pclass         418 non-null int64\n",
      "Name           418 non-null object\n",
      "Sex            418 non-null object\n",
      "Age            332 non-null float64\n",
      "SibSp          418 non-null int64\n",
      "Parch          418 non-null int64\n",
      "Ticket         418 non-null object\n",
      "Fare           417 non-null float64\n",
      "Cabin          91 non-null object\n",
      "Embarked       418 non-null object\n",
      "Family         418 non-null int64\n",
      "dtypes: float64(2), int64(5), object(5)\n",
      "memory usage: 42.5+ KB\n"
     ]
    }
   ],
   "source": [
    "#SibSp + Parch \n",
    "test['Family']  = [i+j for i,j in zip(test.SibSp, test.Parch)]\n",
    "test.info()"
   ]
  },
  {
   "cell_type": "code",
   "execution_count": 16,
   "metadata": {},
   "outputs": [
    {
     "name": "stdout",
     "output_type": "stream",
     "text": [
      "<class 'pandas.core.frame.DataFrame'>\n",
      "Int64Index: 891 entries, 0 to 890\n",
      "Data columns (total 12 columns):\n",
      "PassengerId    891 non-null int64\n",
      "Survived       891 non-null int64\n",
      "Pclass         891 non-null int64\n",
      "Sex            891 non-null object\n",
      "Age            714 non-null float64\n",
      "SibSp          891 non-null int64\n",
      "Parch          891 non-null int64\n",
      "Ticket         891 non-null object\n",
      "Fare           891 non-null float64\n",
      "Cabin          204 non-null object\n",
      "Embarked       889 non-null object\n",
      "Family         891 non-null int64\n",
      "dtypes: float64(2), int64(6), object(4)\n",
      "memory usage: 90.5+ KB\n"
     ]
    }
   ],
   "source": [
    "#활용하지 않을 컬럼 drop\n",
    "train = train.drop(['Name'], axis = 1)\n",
    "train.info()"
   ]
  },
  {
   "cell_type": "code",
   "execution_count": 17,
   "metadata": {},
   "outputs": [
    {
     "name": "stdout",
     "output_type": "stream",
     "text": [
      "<class 'pandas.core.frame.DataFrame'>\n",
      "Int64Index: 418 entries, 0 to 417\n",
      "Data columns (total 11 columns):\n",
      "PassengerId    418 non-null int64\n",
      "Pclass         418 non-null int64\n",
      "Sex            418 non-null object\n",
      "Age            332 non-null float64\n",
      "SibSp          418 non-null int64\n",
      "Parch          418 non-null int64\n",
      "Ticket         418 non-null object\n",
      "Fare           417 non-null float64\n",
      "Cabin          91 non-null object\n",
      "Embarked       418 non-null object\n",
      "Family         418 non-null int64\n",
      "dtypes: float64(2), int64(5), object(4)\n",
      "memory usage: 39.2+ KB\n"
     ]
    }
   ],
   "source": [
    "test = test.drop(['Name'], axis = 1)\n",
    "test.info()"
   ]
  },
  {
   "cell_type": "markdown",
   "metadata": {},
   "source": [
    "----------------------------------\n",
    "생성)\n",
    "Family : SibSp + Parch 값\n",
    "\n",
    "\n",
    "삭제)\n",
    "Name : 칭호를 분리해서 분석해볼 수 있지만 칭호는 Pclass, Fare 등 대체 할 수 있는 컬럼이 많기에 drop"
   ]
  },
  {
   "cell_type": "markdown",
   "metadata": {},
   "source": [
    "- ## 데이터 타입 바꾸기"
   ]
  },
  {
   "cell_type": "code",
   "execution_count": 18,
   "metadata": {},
   "outputs": [],
   "source": [
    "#알파벳 별 숫자 부여(대문자)\n",
    "Cabin_dict = defaultdict(int)\n",
    "for i,j in enumerate(range(65,91)):\n",
    "    Cabin_dict[chr(j)] = i+1"
   ]
  },
  {
   "cell_type": "code",
   "execution_count": 19,
   "metadata": {},
   "outputs": [
    {
     "data": {
      "text/html": [
       "<div>\n",
       "<style scoped>\n",
       "    .dataframe tbody tr th:only-of-type {\n",
       "        vertical-align: middle;\n",
       "    }\n",
       "\n",
       "    .dataframe tbody tr th {\n",
       "        vertical-align: top;\n",
       "    }\n",
       "\n",
       "    .dataframe thead th {\n",
       "        text-align: right;\n",
       "    }\n",
       "</style>\n",
       "<table border=\"1\" class=\"dataframe\">\n",
       "  <thead>\n",
       "    <tr style=\"text-align: right;\">\n",
       "      <th></th>\n",
       "      <th>PassengerId</th>\n",
       "      <th>Survived</th>\n",
       "      <th>Pclass</th>\n",
       "      <th>Sex</th>\n",
       "      <th>Age</th>\n",
       "      <th>SibSp</th>\n",
       "      <th>Parch</th>\n",
       "      <th>Ticket</th>\n",
       "      <th>Fare</th>\n",
       "      <th>Cabin</th>\n",
       "      <th>Embarked</th>\n",
       "      <th>Family</th>\n",
       "    </tr>\n",
       "  </thead>\n",
       "  <tbody>\n",
       "    <tr>\n",
       "      <th>1</th>\n",
       "      <td>2</td>\n",
       "      <td>1</td>\n",
       "      <td>1</td>\n",
       "      <td>female</td>\n",
       "      <td>38.0</td>\n",
       "      <td>1</td>\n",
       "      <td>0</td>\n",
       "      <td>PC 17599</td>\n",
       "      <td>71.2833</td>\n",
       "      <td>3</td>\n",
       "      <td>C</td>\n",
       "      <td>1</td>\n",
       "    </tr>\n",
       "    <tr>\n",
       "      <th>3</th>\n",
       "      <td>4</td>\n",
       "      <td>1</td>\n",
       "      <td>1</td>\n",
       "      <td>female</td>\n",
       "      <td>35.0</td>\n",
       "      <td>1</td>\n",
       "      <td>0</td>\n",
       "      <td>113803</td>\n",
       "      <td>53.1000</td>\n",
       "      <td>3</td>\n",
       "      <td>S</td>\n",
       "      <td>1</td>\n",
       "    </tr>\n",
       "    <tr>\n",
       "      <th>6</th>\n",
       "      <td>7</td>\n",
       "      <td>0</td>\n",
       "      <td>1</td>\n",
       "      <td>male</td>\n",
       "      <td>54.0</td>\n",
       "      <td>0</td>\n",
       "      <td>0</td>\n",
       "      <td>17463</td>\n",
       "      <td>51.8625</td>\n",
       "      <td>5</td>\n",
       "      <td>S</td>\n",
       "      <td>0</td>\n",
       "    </tr>\n",
       "    <tr>\n",
       "      <th>10</th>\n",
       "      <td>11</td>\n",
       "      <td>1</td>\n",
       "      <td>3</td>\n",
       "      <td>female</td>\n",
       "      <td>4.0</td>\n",
       "      <td>1</td>\n",
       "      <td>1</td>\n",
       "      <td>PP 9549</td>\n",
       "      <td>16.7000</td>\n",
       "      <td>7</td>\n",
       "      <td>S</td>\n",
       "      <td>2</td>\n",
       "    </tr>\n",
       "    <tr>\n",
       "      <th>11</th>\n",
       "      <td>12</td>\n",
       "      <td>1</td>\n",
       "      <td>1</td>\n",
       "      <td>female</td>\n",
       "      <td>58.0</td>\n",
       "      <td>0</td>\n",
       "      <td>0</td>\n",
       "      <td>113783</td>\n",
       "      <td>26.5500</td>\n",
       "      <td>3</td>\n",
       "      <td>S</td>\n",
       "      <td>0</td>\n",
       "    </tr>\n",
       "  </tbody>\n",
       "</table>\n",
       "</div>"
      ],
      "text/plain": [
       "    PassengerId  Survived  Pclass     Sex   Age  SibSp  Parch    Ticket  \\\n",
       "1             2         1       1  female  38.0      1      0  PC 17599   \n",
       "3             4         1       1  female  35.0      1      0    113803   \n",
       "6             7         0       1    male  54.0      0      0     17463   \n",
       "10           11         1       3  female   4.0      1      1   PP 9549   \n",
       "11           12         1       1  female  58.0      0      0    113783   \n",
       "\n",
       "       Fare Cabin Embarked  Family  \n",
       "1   71.2833     3        C       1  \n",
       "3   53.1000     3        S       1  \n",
       "6   51.8625     5        S       0  \n",
       "10  16.7000     7        S       2  \n",
       "11  26.5500     3        S       0  "
      ]
     },
     "execution_count": 19,
     "metadata": {},
     "output_type": "execute_result"
    }
   ],
   "source": [
    "#맨앞 알파벳만 따서 알파벳별 숫자 부여 (즉, string -> int)\n",
    "for c, idx in zip(train.loc[train.Cabin.notnull()].Cabin, train.loc[train.Cabin.notnull()].index):\n",
    "    train.set_value(idx,'Cabin', Cabin_dict[c[0].upper()])\n",
    "train[train['Cabin'].notnull()].head(5)"
   ]
  },
  {
   "cell_type": "code",
   "execution_count": 20,
   "metadata": {
    "scrolled": true
   },
   "outputs": [
    {
     "data": {
      "text/html": [
       "<div>\n",
       "<style scoped>\n",
       "    .dataframe tbody tr th:only-of-type {\n",
       "        vertical-align: middle;\n",
       "    }\n",
       "\n",
       "    .dataframe tbody tr th {\n",
       "        vertical-align: top;\n",
       "    }\n",
       "\n",
       "    .dataframe thead th {\n",
       "        text-align: right;\n",
       "    }\n",
       "</style>\n",
       "<table border=\"1\" class=\"dataframe\">\n",
       "  <thead>\n",
       "    <tr style=\"text-align: right;\">\n",
       "      <th></th>\n",
       "      <th>PassengerId</th>\n",
       "      <th>Pclass</th>\n",
       "      <th>Sex</th>\n",
       "      <th>Age</th>\n",
       "      <th>SibSp</th>\n",
       "      <th>Parch</th>\n",
       "      <th>Ticket</th>\n",
       "      <th>Fare</th>\n",
       "      <th>Cabin</th>\n",
       "      <th>Embarked</th>\n",
       "      <th>Family</th>\n",
       "    </tr>\n",
       "  </thead>\n",
       "  <tbody>\n",
       "    <tr>\n",
       "      <th>12</th>\n",
       "      <td>904</td>\n",
       "      <td>1</td>\n",
       "      <td>female</td>\n",
       "      <td>23.0</td>\n",
       "      <td>1</td>\n",
       "      <td>0</td>\n",
       "      <td>21228</td>\n",
       "      <td>82.2667</td>\n",
       "      <td>2</td>\n",
       "      <td>S</td>\n",
       "      <td>1</td>\n",
       "    </tr>\n",
       "    <tr>\n",
       "      <th>14</th>\n",
       "      <td>906</td>\n",
       "      <td>1</td>\n",
       "      <td>female</td>\n",
       "      <td>47.0</td>\n",
       "      <td>1</td>\n",
       "      <td>0</td>\n",
       "      <td>W.E.P. 5734</td>\n",
       "      <td>61.1750</td>\n",
       "      <td>5</td>\n",
       "      <td>S</td>\n",
       "      <td>1</td>\n",
       "    </tr>\n",
       "    <tr>\n",
       "      <th>24</th>\n",
       "      <td>916</td>\n",
       "      <td>1</td>\n",
       "      <td>female</td>\n",
       "      <td>48.0</td>\n",
       "      <td>1</td>\n",
       "      <td>3</td>\n",
       "      <td>PC 17608</td>\n",
       "      <td>262.3750</td>\n",
       "      <td>2</td>\n",
       "      <td>C</td>\n",
       "      <td>4</td>\n",
       "    </tr>\n",
       "    <tr>\n",
       "      <th>26</th>\n",
       "      <td>918</td>\n",
       "      <td>1</td>\n",
       "      <td>female</td>\n",
       "      <td>22.0</td>\n",
       "      <td>0</td>\n",
       "      <td>1</td>\n",
       "      <td>113509</td>\n",
       "      <td>61.9792</td>\n",
       "      <td>2</td>\n",
       "      <td>C</td>\n",
       "      <td>1</td>\n",
       "    </tr>\n",
       "    <tr>\n",
       "      <th>28</th>\n",
       "      <td>920</td>\n",
       "      <td>1</td>\n",
       "      <td>male</td>\n",
       "      <td>41.0</td>\n",
       "      <td>0</td>\n",
       "      <td>0</td>\n",
       "      <td>113054</td>\n",
       "      <td>30.5000</td>\n",
       "      <td>1</td>\n",
       "      <td>S</td>\n",
       "      <td>0</td>\n",
       "    </tr>\n",
       "  </tbody>\n",
       "</table>\n",
       "</div>"
      ],
      "text/plain": [
       "    PassengerId  Pclass     Sex   Age  SibSp  Parch       Ticket      Fare  \\\n",
       "12          904       1  female  23.0      1      0        21228   82.2667   \n",
       "14          906       1  female  47.0      1      0  W.E.P. 5734   61.1750   \n",
       "24          916       1  female  48.0      1      3     PC 17608  262.3750   \n",
       "26          918       1  female  22.0      0      1       113509   61.9792   \n",
       "28          920       1    male  41.0      0      0       113054   30.5000   \n",
       "\n",
       "   Cabin Embarked  Family  \n",
       "12     2        S       1  \n",
       "14     5        S       1  \n",
       "24     2        C       4  \n",
       "26     2        C       1  \n",
       "28     1        S       0  "
      ]
     },
     "execution_count": 20,
     "metadata": {},
     "output_type": "execute_result"
    }
   ],
   "source": [
    "#test도 적용\n",
    "for c, idx in zip(test.loc[test.Cabin.notnull()].Cabin, test.loc[test.Cabin.notnull()].index):\n",
    "    test.set_value(idx,'Cabin', Cabin_dict[c[0].upper()])\n",
    "test[test['Cabin'].notnull()].head(5)"
   ]
  },
  {
   "cell_type": "code",
   "execution_count": 21,
   "metadata": {},
   "outputs": [],
   "source": [
    "for i in ['Sex', 'Embarked','Cabin']:\n",
    "    train[i] = train[i].astype('category')\n",
    "    test[i] = test[i].astype('category')\n",
    "#string -> int\n",
    "train['Sex'].cat.categories = [1,2]\n",
    "test['Sex'].cat.categories = [1,2]\n",
    "train['Embarked'].cat.categories = [1,2,3]\n",
    "test['Embarked'].cat.categories = [1,2,3]"
   ]
  },
  {
   "cell_type": "code",
   "execution_count": 22,
   "metadata": {},
   "outputs": [
    {
     "data": {
      "text/html": [
       "<div>\n",
       "<style scoped>\n",
       "    .dataframe tbody tr th:only-of-type {\n",
       "        vertical-align: middle;\n",
       "    }\n",
       "\n",
       "    .dataframe tbody tr th {\n",
       "        vertical-align: top;\n",
       "    }\n",
       "\n",
       "    .dataframe thead th {\n",
       "        text-align: right;\n",
       "    }\n",
       "</style>\n",
       "<table border=\"1\" class=\"dataframe\">\n",
       "  <thead>\n",
       "    <tr style=\"text-align: right;\">\n",
       "      <th></th>\n",
       "      <th>PassengerId</th>\n",
       "      <th>Survived</th>\n",
       "      <th>Pclass</th>\n",
       "      <th>Sex</th>\n",
       "      <th>Age</th>\n",
       "      <th>SibSp</th>\n",
       "      <th>Parch</th>\n",
       "      <th>Ticket</th>\n",
       "      <th>Fare</th>\n",
       "      <th>Cabin</th>\n",
       "      <th>Embarked</th>\n",
       "      <th>Family</th>\n",
       "    </tr>\n",
       "  </thead>\n",
       "  <tbody>\n",
       "    <tr>\n",
       "      <th>0</th>\n",
       "      <td>1</td>\n",
       "      <td>0</td>\n",
       "      <td>3</td>\n",
       "      <td>2</td>\n",
       "      <td>22.0</td>\n",
       "      <td>1</td>\n",
       "      <td>0</td>\n",
       "      <td>A/5 21171</td>\n",
       "      <td>7.2500</td>\n",
       "      <td>NaN</td>\n",
       "      <td>3</td>\n",
       "      <td>1</td>\n",
       "    </tr>\n",
       "    <tr>\n",
       "      <th>1</th>\n",
       "      <td>2</td>\n",
       "      <td>1</td>\n",
       "      <td>1</td>\n",
       "      <td>1</td>\n",
       "      <td>38.0</td>\n",
       "      <td>1</td>\n",
       "      <td>0</td>\n",
       "      <td>PC 17599</td>\n",
       "      <td>71.2833</td>\n",
       "      <td>3</td>\n",
       "      <td>1</td>\n",
       "      <td>1</td>\n",
       "    </tr>\n",
       "    <tr>\n",
       "      <th>2</th>\n",
       "      <td>3</td>\n",
       "      <td>1</td>\n",
       "      <td>3</td>\n",
       "      <td>1</td>\n",
       "      <td>26.0</td>\n",
       "      <td>0</td>\n",
       "      <td>0</td>\n",
       "      <td>STON/O2. 3101282</td>\n",
       "      <td>7.9250</td>\n",
       "      <td>NaN</td>\n",
       "      <td>3</td>\n",
       "      <td>0</td>\n",
       "    </tr>\n",
       "    <tr>\n",
       "      <th>3</th>\n",
       "      <td>4</td>\n",
       "      <td>1</td>\n",
       "      <td>1</td>\n",
       "      <td>1</td>\n",
       "      <td>35.0</td>\n",
       "      <td>1</td>\n",
       "      <td>0</td>\n",
       "      <td>113803</td>\n",
       "      <td>53.1000</td>\n",
       "      <td>3</td>\n",
       "      <td>3</td>\n",
       "      <td>1</td>\n",
       "    </tr>\n",
       "    <tr>\n",
       "      <th>4</th>\n",
       "      <td>5</td>\n",
       "      <td>0</td>\n",
       "      <td>3</td>\n",
       "      <td>2</td>\n",
       "      <td>35.0</td>\n",
       "      <td>0</td>\n",
       "      <td>0</td>\n",
       "      <td>373450</td>\n",
       "      <td>8.0500</td>\n",
       "      <td>NaN</td>\n",
       "      <td>3</td>\n",
       "      <td>0</td>\n",
       "    </tr>\n",
       "  </tbody>\n",
       "</table>\n",
       "</div>"
      ],
      "text/plain": [
       "   PassengerId  Survived  Pclass Sex   Age  SibSp  Parch            Ticket  \\\n",
       "0            1         0       3   2  22.0      1      0         A/5 21171   \n",
       "1            2         1       1   1  38.0      1      0          PC 17599   \n",
       "2            3         1       3   1  26.0      0      0  STON/O2. 3101282   \n",
       "3            4         1       1   1  35.0      1      0            113803   \n",
       "4            5         0       3   2  35.0      0      0            373450   \n",
       "\n",
       "      Fare Cabin Embarked  Family  \n",
       "0   7.2500   NaN        3       1  \n",
       "1  71.2833     3        1       1  \n",
       "2   7.9250   NaN        3       0  \n",
       "3  53.1000     3        3       1  \n",
       "4   8.0500   NaN        3       0  "
      ]
     },
     "execution_count": 22,
     "metadata": {},
     "output_type": "execute_result"
    }
   ],
   "source": [
    "train.head(5)"
   ]
  },
  {
   "cell_type": "markdown",
   "metadata": {},
   "source": [
    "---------------\n",
    "이제 Ticket을 제외한 나머지 컬럼의 데이터 타입은 int 또는 float이다."
   ]
  },
  {
   "cell_type": "markdown",
   "metadata": {},
   "source": [
    "- ## 결측치 처리"
   ]
  },
  {
   "cell_type": "markdown",
   "metadata": {},
   "source": [
    "train 데이터)\n",
    "    - Age : 다른 데이터로 추정하여 대체 or 해당 행 삭제\n",
    "    - Cabin : 그냥 두거나 다른 데이터로 추정하여 대체(분석 후 결정)\n",
    "    - Embarked : 해당 행 삭제\n",
    "    \n",
    "test 데이터)\n",
    "    - Age : 다른 데이터로 추정하여 대체\n",
    "    - Fare : 다른 데이터로 추정하여 대체\n",
    "    - Cabin : 그냥 두거나 다른 데이터로 추정하여 대체(분석 후 결정)\n",
    "    "
   ]
  },
  {
   "cell_type": "code",
   "execution_count": 23,
   "metadata": {},
   "outputs": [
    {
     "name": "stdout",
     "output_type": "stream",
     "text": [
      "<class 'pandas.core.frame.DataFrame'>\n",
      "Int64Index: 889 entries, 0 to 890\n",
      "Data columns (total 12 columns):\n",
      "PassengerId    889 non-null int64\n",
      "Survived       889 non-null int64\n",
      "Pclass         889 non-null int64\n",
      "Sex            889 non-null category\n",
      "Age            712 non-null float64\n",
      "SibSp          889 non-null int64\n",
      "Parch          889 non-null int64\n",
      "Ticket         889 non-null object\n",
      "Fare           889 non-null float64\n",
      "Cabin          202 non-null category\n",
      "Embarked       889 non-null category\n",
      "Family         889 non-null int64\n",
      "dtypes: category(3), float64(2), int64(6), object(1)\n",
      "memory usage: 72.6+ KB\n"
     ]
    }
   ],
   "source": [
    "#Embarked결측치 삭제\n",
    "train = train.drop(train.loc[train.Embarked.isnull()].index) \n",
    "train.info()"
   ]
  },
  {
   "cell_type": "code",
   "execution_count": 24,
   "metadata": {},
   "outputs": [],
   "source": [
    "#Age 결측치 삭제\n",
    "train_del_age = train.drop(train.loc[train.Age.isnull()].index)"
   ]
  },
  {
   "cell_type": "code",
   "execution_count": 25,
   "metadata": {},
   "outputs": [],
   "source": [
    "from sklearn.ensemble import RandomForestRegressor\n",
    "def predict (dat, target, feature):#전체 데이터, 대상 컬럼, 예측에 활용될 컬럼list\n",
    "    #target값이 Null인것과 Null이 아닌 것 구분\n",
    "    Not_Null = dat.loc[dat[target].notnull()]\n",
    "    Is_Null = dat.loc[dat[target].isnull()]\n",
    "    \n",
    "    Is_Null[target] = Is_Null[target].astype('str')\n",
    "    \n",
    "    #랜덤포레스트 회귀를 활용한다.\n",
    "    rfModel = RandomForestRegressor()\n",
    "    \n",
    "    #feature에 있는 피처의 값을 바탕으로 학습시킨다.\n",
    "    rfModel.fit(Not_Null[feature], Not_Null[target])\n",
    "    \n",
    "    #학습한 값을 바탕으로 예측한다.\n",
    "    predicted_val = rfModel.predict(X = Is_Null[feature])\n",
    "    \n",
    "    #예측한 값을 넣어 줄 데이터 프레임을 새로 만든다.\n",
    "    Is_Null_cpy = Is_Null\n",
    "    Not_Null_cpy= Not_Null\n",
    "    \n",
    "    #결측치가 있는 데이터 프레임에 예측값을 넣어줌\n",
    "    Is_Null_cpy[target] = predicted_val\n",
    "    \n",
    "    #결측치가 없는 데이터 프레임에 예측한 값이 있는 데이터프레임을 합친다.\n",
    "    dat = Not_Null_cpy.append(Is_Null_cpy)\n",
    "    dat[target] = dat[target].astype('float')\n",
    "    \n",
    "    dat.reset_index(inplace = True)\n",
    "    dat.drop('index', inplace = True, axis =1)\n",
    "    return dat"
   ]
  },
  {
   "cell_type": "code",
   "execution_count": 26,
   "metadata": {},
   "outputs": [],
   "source": [
    "from sklearn.ensemble import RandomForestClassifier\n",
    "def predict_csf (dat, target, feature):#전체 데이터, 대상 컬럼, 예측에 활용될 컬럼list\n",
    "    #target값이 Null인것과 Null이 아닌 것 구분\n",
    "    Not_Null = dat.loc[dat[target].notnull()]\n",
    "    Is_Null = dat.loc[dat[target].isnull()]\n",
    "    \n",
    "    Is_Null[target] = Is_Null[target].astype('str')\n",
    "    \n",
    "    #랜덤포레스트분류를 활용한다.\n",
    "    rfModel = RandomForestClassifier()\n",
    "    \n",
    "    #feature에 있는 피처의 값을 바탕으로 학습시킨다.\n",
    "    rfModel.fit(Not_Null[feature], Not_Null[target])\n",
    "    \n",
    "    #학습한 값을 바탕으로 예측한다.\n",
    "    predicted_val = rfModel.predict(X = Is_Null[feature])\n",
    "    \n",
    "    #예측한 값을 넣어 줄 데이터 프레임을 새로 만든다.\n",
    "    Is_Null_cpy = Is_Null\n",
    "    Not_Null_cpy= Not_Null\n",
    "    \n",
    "    #결측치가 있는 데이터 프레임에 예측값을 넣어줌\n",
    "    Is_Null_cpy[target] = predicted_val\n",
    "    \n",
    "    #결측치가 없는 데이터 프레임에 예측한 값이 있는 데이터프레임을 합친다.\n",
    "    dat = Not_Null_cpy.append(Is_Null_cpy)\n",
    "    dat[target] = dat[target].astype('int')\n",
    "    \n",
    "    dat.reset_index(inplace = True)\n",
    "    dat.drop('index', inplace = True, axis =1)\n",
    "    return dat"
   ]
  },
  {
   "cell_type": "code",
   "execution_count": 27,
   "metadata": {},
   "outputs": [
    {
     "name": "stdout",
     "output_type": "stream",
     "text": [
      "<class 'pandas.core.frame.DataFrame'>\n",
      "RangeIndex: 889 entries, 0 to 888\n",
      "Data columns (total 12 columns):\n",
      "PassengerId    889 non-null int64\n",
      "Survived       889 non-null int64\n",
      "Pclass         889 non-null int64\n",
      "Sex            889 non-null category\n",
      "Age            889 non-null float64\n",
      "SibSp          889 non-null int64\n",
      "Parch          889 non-null int64\n",
      "Ticket         889 non-null object\n",
      "Fare           889 non-null float64\n",
      "Cabin          202 non-null category\n",
      "Embarked       889 non-null category\n",
      "Family         889 non-null int64\n",
      "dtypes: category(3), float64(2), int64(6), object(1)\n",
      "memory usage: 65.8+ KB\n"
     ]
    }
   ],
   "source": [
    "#나이 예측\n",
    "train_age = predict(train,'Age',['Pclass', 'Fare','Sex','Embarked'])\n",
    "train_age.info()"
   ]
  },
  {
   "cell_type": "code",
   "execution_count": 28,
   "metadata": {},
   "outputs": [
    {
     "data": {
      "text/plain": [
       "count    889.000000\n",
       "mean      29.780325\n",
       "std       13.649565\n",
       "min        0.420000\n",
       "25%       21.000000\n",
       "50%       28.000000\n",
       "75%       38.000000\n",
       "max       80.000000\n",
       "Name: Age, dtype: float64"
      ]
     },
     "execution_count": 28,
     "metadata": {},
     "output_type": "execute_result"
    }
   ],
   "source": [
    "#나이 예측 후\n",
    "train_age.Age.describe()"
   ]
  },
  {
   "cell_type": "code",
   "execution_count": 29,
   "metadata": {},
   "outputs": [
    {
     "data": {
      "text/plain": [
       "count    712.000000\n",
       "mean      29.642093\n",
       "std       14.492933\n",
       "min        0.420000\n",
       "25%       20.000000\n",
       "50%       28.000000\n",
       "75%       38.000000\n",
       "max       80.000000\n",
       "Name: Age, dtype: float64"
      ]
     },
     "execution_count": 29,
     "metadata": {},
     "output_type": "execute_result"
    }
   ],
   "source": [
    "#나이 예측 전\n",
    "train.Age.describe()"
   ]
  },
  {
   "cell_type": "code",
   "execution_count": 30,
   "metadata": {},
   "outputs": [
    {
     "name": "stdout",
     "output_type": "stream",
     "text": [
      "<class 'pandas.core.frame.DataFrame'>\n",
      "RangeIndex: 418 entries, 0 to 417\n",
      "Data columns (total 11 columns):\n",
      "PassengerId    418 non-null int64\n",
      "Pclass         418 non-null int64\n",
      "Sex            418 non-null category\n",
      "Age            418 non-null float64\n",
      "SibSp          418 non-null int64\n",
      "Parch          418 non-null int64\n",
      "Ticket         418 non-null object\n",
      "Fare           418 non-null float64\n",
      "Cabin          91 non-null category\n",
      "Embarked       418 non-null category\n",
      "Family         418 non-null int64\n",
      "dtypes: category(3), float64(2), int64(5), object(1)\n",
      "memory usage: 28.0+ KB\n"
     ]
    }
   ],
   "source": [
    "#test도 예측\n",
    "#먼저 Fare부터\n",
    "test = predict(test, 'Fare', ['Pclass','Sex'])\n",
    "#이후 Age 예측\n",
    "test_age = predict(test, 'Age', ['Pclass', 'Fare','Sex','Embarked'])\n",
    "test_age.info()"
   ]
  },
  {
   "cell_type": "code",
   "execution_count": 31,
   "metadata": {},
   "outputs": [
    {
     "data": {
      "text/plain": [
       "count    418.000000\n",
       "mean      29.593803\n",
       "std       13.058462\n",
       "min        0.170000\n",
       "25%       22.000000\n",
       "50%       26.579206\n",
       "75%       36.000000\n",
       "max       76.000000\n",
       "Name: Age, dtype: float64"
      ]
     },
     "execution_count": 31,
     "metadata": {},
     "output_type": "execute_result"
    }
   ],
   "source": [
    "#예측 후\n",
    "test_age.Age.describe()"
   ]
  },
  {
   "cell_type": "code",
   "execution_count": 32,
   "metadata": {},
   "outputs": [
    {
     "data": {
      "text/plain": [
       "count    332.000000\n",
       "mean      30.272590\n",
       "std       14.181209\n",
       "min        0.170000\n",
       "25%       21.000000\n",
       "50%       27.000000\n",
       "75%       39.000000\n",
       "max       76.000000\n",
       "Name: Age, dtype: float64"
      ]
     },
     "execution_count": 32,
     "metadata": {},
     "output_type": "execute_result"
    }
   ],
   "source": [
    "#예측 전\n",
    "test.Age.describe()"
   ]
  },
  {
   "cell_type": "code",
   "execution_count": 33,
   "metadata": {},
   "outputs": [],
   "source": [
    "#Cabin 예측(컬럼 2개로)\n",
    "test_cabin_2 = predict_csf(test_age, 'Cabin',['Pclass', 'Fare'])\n",
    "train_cabin_2 = predict_csf(train_age, 'Cabin',['Pclass', 'Fare'])"
   ]
  },
  {
   "cell_type": "code",
   "execution_count": 34,
   "metadata": {},
   "outputs": [],
   "source": [
    "#Cabin 예측(컬럼 3개로)\n",
    "test_cabin_3 = predict_csf(test_age, 'Cabin', ['Pclass', 'Fare', 'Age'])\n",
    "train_cabin_3 = predict_csf(train_age, 'Cabin', ['Pclass','Fare','Age'])"
   ]
  },
  {
   "cell_type": "code",
   "execution_count": 35,
   "metadata": {},
   "outputs": [],
   "source": [
    "#Dead_num , Survived_num 갱신\n",
    "Dead_num = len(train[train.Survived==0])\n",
    "Survived_num = len(train[train.Survived==1])"
   ]
  },
  {
   "cell_type": "code",
   "execution_count": 36,
   "metadata": {
    "scrolled": true
   },
   "outputs": [
    {
     "name": "stdout",
     "output_type": "stream",
     "text": [
      "<class 'pandas.core.frame.DataFrame'>\n",
      "RangeIndex: 889 entries, 0 to 888\n",
      "Data columns (total 12 columns):\n",
      "PassengerId    889 non-null int64\n",
      "Survived       889 non-null int64\n",
      "Pclass         889 non-null int64\n",
      "Sex            889 non-null category\n",
      "Age            889 non-null float64\n",
      "SibSp          889 non-null int64\n",
      "Parch          889 non-null int64\n",
      "Ticket         889 non-null object\n",
      "Fare           889 non-null float64\n",
      "Cabin          202 non-null category\n",
      "Embarked       889 non-null category\n",
      "Family         889 non-null int64\n",
      "dtypes: category(3), float64(2), int64(6), object(1)\n",
      "memory usage: 65.8+ KB\n"
     ]
    }
   ],
   "source": [
    "train_age.info()"
   ]
  },
  {
   "cell_type": "markdown",
   "metadata": {},
   "source": [
    "<br><br>\n",
    "# 데이터 마이닝\n"
   ]
  },
  {
   "cell_type": "markdown",
   "metadata": {},
   "source": [
    "<br><br><br>\n",
    "- ## 나이가 아주 어리거나 많고 여자일수록 생존 확률이 높을 것이다."
   ]
  },
  {
   "cell_type": "code",
   "execution_count": 37,
   "metadata": {},
   "outputs": [],
   "source": [
    "#연령대 분류 함수\n",
    "def AgeClassify(k):\n",
    "    if k<10.0: \n",
    "        return 0\n",
    "    elif k<20.0:#10대\n",
    "        return 10\n",
    "    elif k<30.0:#20대\n",
    "        return 20\n",
    "    elif k<40.0:#30대\n",
    "        return 30\n",
    "    elif k<50.0:#40대\n",
    "        return 40\n",
    "    elif k<60.0:#50대\n",
    "        return 50\n",
    "    elif k<70.0:#60대\n",
    "        return 60\n",
    "    elif k<80.0:#70대\n",
    "        return 70\n",
    "    elif k>=80.0:\n",
    "        return 80"
   ]
  },
  {
   "cell_type": "code",
   "execution_count": 38,
   "metadata": {},
   "outputs": [
    {
     "data": {
      "image/png": "[encoded data removed]",
      "text/plain": [
       "<Figure size 432x288 with 1 Axes>"
      ]
     },
     "metadata": {
      "needs_background": "light"
     },
     "output_type": "display_data"
    }
   ],
   "source": [
    "plt.title('나이 분포')\n",
    "sns.distplot(train_age.Age)\n",
    "plt.show()"
   ]
  },
  {
   "cell_type": "code",
   "execution_count": 39,
   "metadata": {},
   "outputs": [
    {
     "data": {
      "text/html": [
       "<div>\n",
       "<style scoped>\n",
       "    .dataframe tbody tr th:only-of-type {\n",
       "        vertical-align: middle;\n",
       "    }\n",
       "\n",
       "    .dataframe tbody tr th {\n",
       "        vertical-align: top;\n",
       "    }\n",
       "\n",
       "    .dataframe thead th {\n",
       "        text-align: right;\n",
       "    }\n",
       "</style>\n",
       "<table border=\"1\" class=\"dataframe\">\n",
       "  <thead>\n",
       "    <tr style=\"text-align: right;\">\n",
       "      <th></th>\n",
       "      <th>PassengerId</th>\n",
       "      <th>Survived</th>\n",
       "      <th>Pclass</th>\n",
       "      <th>Age</th>\n",
       "      <th>SibSp</th>\n",
       "      <th>Parch</th>\n",
       "      <th>Fare</th>\n",
       "      <th>Family</th>\n",
       "    </tr>\n",
       "  </thead>\n",
       "  <tbody>\n",
       "    <tr>\n",
       "      <th>count</th>\n",
       "      <td>889.000000</td>\n",
       "      <td>889.000000</td>\n",
       "      <td>889.000000</td>\n",
       "      <td>889.000000</td>\n",
       "      <td>889.000000</td>\n",
       "      <td>889.000000</td>\n",
       "      <td>889.000000</td>\n",
       "      <td>889.000000</td>\n",
       "    </tr>\n",
       "    <tr>\n",
       "      <th>mean</th>\n",
       "      <td>446.000000</td>\n",
       "      <td>0.382452</td>\n",
       "      <td>2.311586</td>\n",
       "      <td>29.780325</td>\n",
       "      <td>0.524184</td>\n",
       "      <td>0.382452</td>\n",
       "      <td>32.096681</td>\n",
       "      <td>0.906637</td>\n",
       "    </tr>\n",
       "    <tr>\n",
       "      <th>std</th>\n",
       "      <td>256.998173</td>\n",
       "      <td>0.486260</td>\n",
       "      <td>0.834700</td>\n",
       "      <td>13.649565</td>\n",
       "      <td>1.103705</td>\n",
       "      <td>0.806761</td>\n",
       "      <td>49.697504</td>\n",
       "      <td>1.614703</td>\n",
       "    </tr>\n",
       "    <tr>\n",
       "      <th>min</th>\n",
       "      <td>1.000000</td>\n",
       "      <td>0.000000</td>\n",
       "      <td>1.000000</td>\n",
       "      <td>0.420000</td>\n",
       "      <td>0.000000</td>\n",
       "      <td>0.000000</td>\n",
       "      <td>0.000000</td>\n",
       "      <td>0.000000</td>\n",
       "    </tr>\n",
       "    <tr>\n",
       "      <th>25%</th>\n",
       "      <td>224.000000</td>\n",
       "      <td>0.000000</td>\n",
       "      <td>2.000000</td>\n",
       "      <td>21.000000</td>\n",
       "      <td>0.000000</td>\n",
       "      <td>0.000000</td>\n",
       "      <td>7.895800</td>\n",
       "      <td>0.000000</td>\n",
       "    </tr>\n",
       "    <tr>\n",
       "      <th>50%</th>\n",
       "      <td>446.000000</td>\n",
       "      <td>0.000000</td>\n",
       "      <td>3.000000</td>\n",
       "      <td>28.000000</td>\n",
       "      <td>0.000000</td>\n",
       "      <td>0.000000</td>\n",
       "      <td>14.454200</td>\n",
       "      <td>0.000000</td>\n",
       "    </tr>\n",
       "    <tr>\n",
       "      <th>75%</th>\n",
       "      <td>668.000000</td>\n",
       "      <td>1.000000</td>\n",
       "      <td>3.000000</td>\n",
       "      <td>38.000000</td>\n",
       "      <td>1.000000</td>\n",
       "      <td>0.000000</td>\n",
       "      <td>31.000000</td>\n",
       "      <td>1.000000</td>\n",
       "    </tr>\n",
       "    <tr>\n",
       "      <th>max</th>\n",
       "      <td>891.000000</td>\n",
       "      <td>1.000000</td>\n",
       "      <td>3.000000</td>\n",
       "      <td>80.000000</td>\n",
       "      <td>8.000000</td>\n",
       "      <td>6.000000</td>\n",
       "      <td>512.329200</td>\n",
       "      <td>10.000000</td>\n",
       "    </tr>\n",
       "  </tbody>\n",
       "</table>\n",
       "</div>"
      ],
      "text/plain": [
       "       PassengerId    Survived      Pclass         Age       SibSp  \\\n",
       "count   889.000000  889.000000  889.000000  889.000000  889.000000   \n",
       "mean    446.000000    0.382452    2.311586   29.780325    0.524184   \n",
       "std     256.998173    0.486260    0.834700   13.649565    1.103705   \n",
       "min       1.000000    0.000000    1.000000    0.420000    0.000000   \n",
       "25%     224.000000    0.000000    2.000000   21.000000    0.000000   \n",
       "50%     446.000000    0.000000    3.000000   28.000000    0.000000   \n",
       "75%     668.000000    1.000000    3.000000   38.000000    1.000000   \n",
       "max     891.000000    1.000000    3.000000   80.000000    8.000000   \n",
       "\n",
       "            Parch        Fare      Family  \n",
       "count  889.000000  889.000000  889.000000  \n",
       "mean     0.382452   32.096681    0.906637  \n",
       "std      0.806761   49.697504    1.614703  \n",
       "min      0.000000    0.000000    0.000000  \n",
       "25%      0.000000    7.895800    0.000000  \n",
       "50%      0.000000   14.454200    0.000000  \n",
       "75%      0.000000   31.000000    1.000000  \n",
       "max      6.000000  512.329200   10.000000  "
      ]
     },
     "execution_count": 39,
     "metadata": {},
     "output_type": "execute_result"
    }
   ],
   "source": [
    "train_age.describe()"
   ]
  },
  {
   "cell_type": "markdown",
   "metadata": {},
   "source": [
    "-------------------------\n",
    "20대~30대 후반까지의 승객이 가장 많고, 최고 고령자는 80세이다.\n",
    "\n",
    "다음은 연령대별 생존확률에 대해 알아보겠다."
   ]
  },
  {
   "cell_type": "code",
   "execution_count": 40,
   "metadata": {},
   "outputs": [
    {
     "data": {
      "text/plain": [
       "defaultdict(int,\n",
       "            {20: 294,\n",
       "             30: 219,\n",
       "             50: 53,\n",
       "             0: 62,\n",
       "             10: 120,\n",
       "             40: 116,\n",
       "             60: 18,\n",
       "             70: 6,\n",
       "             80: 1})"
      ]
     },
     "execution_count": 40,
     "metadata": {},
     "output_type": "execute_result"
    }
   ],
   "source": [
    "age_dict = defaultdict(int) #key : 연령대, value : 해당하는 사람 수 \n",
    "for i in train_age.Age:\n",
    "    age_dict[AgeClassify(i)] += 1\n",
    "age_dict"
   ]
  },
  {
   "cell_type": "code",
   "execution_count": 41,
   "metadata": {},
   "outputs": [
    {
     "data": {
      "text/plain": [
       "defaultdict(int,\n",
       "            {20: 0.3401360544217687,\n",
       "             30: 0.3698630136986301,\n",
       "             50: 0.39622641509433965,\n",
       "             0: 0.6129032258064516,\n",
       "             10: 0.425,\n",
       "             40: 0.3706896551724138,\n",
       "             60: 0.2777777777777778,\n",
       "             70: 0.0,\n",
       "             80: 1.0})"
      ]
     },
     "execution_count": 41,
     "metadata": {},
     "output_type": "execute_result"
    }
   ],
   "source": [
    "#key: 연령 ,value: 생존자 수\n",
    "age_surv_dict = defaultdict(int)\n",
    "for i,j in zip(train_age.Age, train_age.Survived):\n",
    "    age_surv_dict[AgeClassify(i)] += j\n",
    "\n",
    "for k,v in age_dict.items():\n",
    "    age_surv_dict[k] /= v #해당 연령 생존자 수/ 해당 연령 수\n",
    "\n",
    "age_surv_dict"
   ]
  },
  {
   "cell_type": "code",
   "execution_count": 42,
   "metadata": {},
   "outputs": [
    {
     "data": {
      "image/png": "[encoded data removed]",
      "text/plain": [
       "<Figure size 432x288 with 1 Axes>"
      ]
     },
     "metadata": {
      "needs_background": "light"
     },
     "output_type": "display_data"
    }
   ],
   "source": [
    "pd.DataFrame.from_dict(age_surv_dict, orient = 'index', columns = ['surv_pct']).plot.barh()\n",
    "plt.title('연령별 생존확률')\n",
    "plt.show()"
   ]
  },
  {
   "cell_type": "markdown",
   "metadata": {},
   "source": [
    "-----------\n",
    "70대의 생존확률은 0%이고, 80대는 100%라고 나오지만, 70, 80대의 승객은 거의 없기 때문에 신뢰할 수 없다.\n",
    "\n",
    "\n",
    "가장 생존 확률이 높은 것은 10세 미만인 승객인 것을 확인할 수 있다."
   ]
  },
  {
   "cell_type": "code",
   "execution_count": 43,
   "metadata": {},
   "outputs": [
    {
     "data": {
      "text/plain": [
       "0.7403846153846154"
      ]
     },
     "execution_count": 43,
     "metadata": {},
     "output_type": "execute_result"
    }
   ],
   "source": [
    "#여자 생존 확률\n",
    "fe_num = len(train.loc[train.Sex == 1].PassengerId)\n",
    "surv_fe_pct = len(train.loc[(train.Survived == 1) & (train.Sex == 1)].PassengerId)/fe_num\n",
    "surv_fe_pct"
   ]
  },
  {
   "cell_type": "code",
   "execution_count": 44,
   "metadata": {},
   "outputs": [
    {
     "data": {
      "text/plain": [
       "0.18890814558058924"
      ]
     },
     "execution_count": 44,
     "metadata": {},
     "output_type": "execute_result"
    }
   ],
   "source": [
    "#남자 생존 확률\n",
    "m_num= len(train.loc[train.Sex == 2].PassengerId)\n",
    "surv_m_pct = len(train.loc[(train.Survived == 1) &(train.Sex == 2)].PassengerId)/m_num\n",
    "surv_m_pct"
   ]
  },
  {
   "cell_type": "code",
   "execution_count": 45,
   "metadata": {},
   "outputs": [
    {
     "data": {
      "image/png": "[encoded data removed]",
      "text/plain": [
       "<Figure size 1080x360 with 3 Axes>"
      ]
     },
     "metadata": {},
     "output_type": "display_data"
    }
   ],
   "source": [
    "fig, ax = plt.subplots(1,3,figsize = (15,5))\n",
    "ax[0].set_title('남여 비율')\n",
    "ax[0].pie(train.Sex.value_counts(), labels = ['male','female'],colors = ['purple','violet'],autopct = '%.2f',textprops={'fontsize': 14} )\n",
    "\n",
    "\n",
    "ax[1].set_title('여자 생존,사망 비율')\n",
    "ax[1].pie([surv_fe_pct, 1-surv_fe_pct], labels = ['생존','사망'],colors = ['skyblue','yellow'],autopct = '%.2f',textprops={'fontsize': 14} )\n",
    "\n",
    "\n",
    "ax[2].set_title('남자 생존,사망 비율')\n",
    "ax[2].pie([surv_m_pct, 1-surv_m_pct], labels = ['생존','사망'],colors = ['skyblue','yellow'],autopct = '%.2f',textprops={'fontsize': 14} )\n",
    "\n",
    "plt.show()"
   ]
  },
  {
   "cell_type": "markdown",
   "metadata": {},
   "source": [
    "\n",
    "----------------\n",
    "여자인 승객 중 생존자는 74.04%\n",
    "\n",
    "남자인 승객 중 생존자는 18.89%\n",
    "\n",
    "55.15%p 차이가 난다.\n",
    "\n",
    "성별이 1(여자)이면 생존했을 확률이 높다는 것을 뒷받침해주는 결과이다."
   ]
  },
  {
   "cell_type": "code",
   "execution_count": 46,
   "metadata": {},
   "outputs": [
    {
     "name": "stdout",
     "output_type": "stream",
     "text": [
      "340\n"
     ]
    }
   ],
   "source": [
    "Survived_dict = {1:[]}\n",
    "for s_id in train.loc[train.Survived == 1].PassengerId:\n",
    "    Survived_dict[1].append(s_id)\n",
    "print(len(Survived_dict[1]))"
   ]
  },
  {
   "cell_type": "code",
   "execution_count": 47,
   "metadata": {},
   "outputs": [
    {
     "name": "stdout",
     "output_type": "stream",
     "text": [
      "0.7\n",
      "90\n"
     ]
    }
   ],
   "source": [
    "#여자이고 나이가 10대 이하인 승객\n",
    "w_y_num = 0\n",
    "under_10_num = 0\n",
    "for i,age in zip(train_age.loc[train_age.Sex == 1].PassengerId, train_age.loc[train_age.Sex == 1].Age):\n",
    "    if AgeClassify(age) <= 10:\n",
    "        under_10_num +=1\n",
    "        if i in Survived_dict[1] :\n",
    "            w_y_num += 1\n",
    "\n",
    "w_y_surv_pct = w_y_num/under_10_num\n",
    "print(w_y_surv_pct)\n",
    "print(under_10_num)"
   ]
  },
  {
   "cell_type": "code",
   "execution_count": 48,
   "metadata": {},
   "outputs": [
    {
     "name": "stdout",
     "output_type": "stream",
     "text": [
      "0.2826086956521739\n",
      "92\n"
     ]
    }
   ],
   "source": [
    "#남자이고 나이가 10대 이하인 승객\n",
    "m_y_num = 0\n",
    "under_10_num = 0\n",
    "for i,age in zip(train_age.loc[train_age.Sex == 2].PassengerId, train_age.loc[train_age.Sex == 2].Age):\n",
    "    if AgeClassify(age) <= 10:\n",
    "        under_10_num +=1\n",
    "        if i in Survived_dict[1] :\n",
    "            m_y_num += 1\n",
    "\n",
    "m_y_surv_pct = m_y_num/under_10_num\n",
    "print(m_y_surv_pct)\n",
    "print(under_10_num)"
   ]
  },
  {
   "cell_type": "code",
   "execution_count": 49,
   "metadata": {},
   "outputs": [
    {
     "data": {
      "text/plain": [
       "0.4383215369059656"
      ]
     },
     "execution_count": 49,
     "metadata": {},
     "output_type": "execute_result"
    }
   ],
   "source": [
    "0.7209302325581395 - 0.2826086956521739"
   ]
  },
  {
   "cell_type": "code",
   "execution_count": 50,
   "metadata": {},
   "outputs": [
    {
     "name": "stdout",
     "output_type": "stream",
     "text": [
      "0.9047619047619048\n",
      "21\n"
     ]
    }
   ],
   "source": [
    "#여자이고 나이가 50이상인 승객\n",
    "w_o_num = 0\n",
    "over_50_num = 0\n",
    "for i,age in zip(train_age.loc[train_age.Sex == 1].PassengerId, train_age.loc[train_age.Sex == 1].Age):\n",
    "    if AgeClassify(age) >= 50:\n",
    "        over_50_num +=1\n",
    "        if i in Survived_dict[1] :\n",
    "            w_o_num += 1\n",
    "\n",
    "w_o_surv_pct = w_o_num/over_50_num\n",
    "print(w_o_surv_pct)\n",
    "print(over_50_num)"
   ]
  },
  {
   "cell_type": "code",
   "execution_count": 51,
   "metadata": {},
   "outputs": [
    {
     "name": "stdout",
     "output_type": "stream",
     "text": [
      "0.14035087719298245\n",
      "57\n"
     ]
    }
   ],
   "source": [
    "#남자이고 나이가 50이상인 승객\n",
    "m_o_num = 0\n",
    "over_50_num = 0\n",
    "for i,age in zip(train_age.loc[train_age.Sex == 2].PassengerId, train_age.loc[train_age.Sex == 2].Age):\n",
    "    if AgeClassify(age) >= 50:\n",
    "        over_50_num +=1\n",
    "        if i in Survived_dict[1] :\n",
    "            m_o_num += 1\n",
    "\n",
    "m_o_surv_pct = m_o_num/over_50_num\n",
    "print(m_o_surv_pct)\n",
    "print(over_50_num)"
   ]
  },
  {
   "cell_type": "code",
   "execution_count": 52,
   "metadata": {},
   "outputs": [
    {
     "data": {
      "text/plain": [
       "0.7593073593073594"
      ]
     },
     "execution_count": 52,
     "metadata": {},
     "output_type": "execute_result"
    }
   ],
   "source": [
    "0.9047619047619048 - 0.14545454545454545"
   ]
  },
  {
   "cell_type": "markdown",
   "metadata": {},
   "source": [
    "-------------------------------\n",
    "- 10대 이하(즉 0~19세) \n",
    "    \n",
    "    \n",
    "    여자 : 72.09%\n",
    "    남자 : 28.26%\n",
    "    차이 : 43.83%p\n",
    "\n",
    "\n",
    "\n",
    "- 50대 이상(즉, 50~80세)\n",
    "    \n",
    "    \n",
    "    여자 : 90.48%\n",
    "    남자 : 14.55%\n",
    "    차이 : 75.93%p\n",
    "    \n",
    "    \n",
    "    \n",
    "- 여자\n",
    "\n",
    "\n",
    "    10대 이하 : 72.09%\n",
    "    50대 이상 : 90.48%\n",
    "    차이 : 18.39%p\n",
    "\n",
    "\n",
    "\n",
    "- 남자\n",
    "\n",
    "\n",
    "    10대 이하 : 28.26%\n",
    "    50대 이상 : 14.55%\n",
    "    차이 : 13.71%p\n",
    " \n",
    "<br>\n"
   ]
  },
  {
   "cell_type": "markdown",
   "metadata": {},
   "source": [
    "위 결과를\n",
    "\n",
    "나이도 무시할 순 없지만, \n",
    "\n",
    "나이보다는 <strong>성별이 생존여부에 더 큰 영향</strong>을 주는 것으로 해석했다."
   ]
  },
  {
   "cell_type": "markdown",
   "metadata": {},
   "source": [
    "<br><br><br>\n",
    "- ## 동승자가 없는(혼자 온) 승객은 사망 확률이 높을 것이다."
   ]
  },
  {
   "cell_type": "code",
   "execution_count": 53,
   "metadata": {},
   "outputs": [
    {
     "name": "stdout",
     "output_type": "stream",
     "text": [
      "P(a|surv) =  0.47941176470588237\n",
      "P(surv|a) =  0.2979890310786106\n",
      "P(a|dead) =  0.6994535519125683\n",
      "P(dead|a) =  0.7020109689213894\n",
      "P(t|surv) =  0.5205882352941177\n",
      "P(surv|t) =  0.5145348837209303\n"
     ]
    }
   ],
   "source": [
    "#Ticket\n",
    "t_together_survived = 0 #동일 Ticket을 가진 승객이 있고, 생존한 승객 count\n",
    "t_alone_survived = 0 #동일 Ticket을 가진 승객이 없고(즉, 혼자), 생존한 승객 count\n",
    "t_alone_dead  = 0 #혼자이고 사망한 승객count\n",
    "t_together_cnt =0 #len(v) >1인 승객 count\n",
    "t_alone_cnt = 0 #len(v) <= 1인 승객 count\n",
    "for k,v in ticket_dict.items():\n",
    "    if len(v) <=1:\n",
    "        for vv in v:\n",
    "            t_alone_cnt += 1\n",
    "            try:\n",
    "                if int(train[train['PassengerId']==vv].Survived) == 1:\n",
    "                    t_alone_survived += 1\n",
    "                if int(train[train['PassengerId']==vv].Survived) == 0:\n",
    "                    t_alone_dead += 1\n",
    "            except:\n",
    "                continue\n",
    "    else:\n",
    "        for vv in v: \n",
    "            t_together_cnt += 1 \n",
    "            try:\n",
    "                if int(train[train['PassengerId']==vv].Survived) == 1:\n",
    "                    t_together_survived += 1\n",
    "            except:\n",
    "                continue\n",
    "\n",
    "a_surv_pct = t_alone_survived/Survived_num\n",
    "surv_a_pct = t_alone_survived/t_alone_cnt\n",
    "a_dead_pct = t_alone_dead/Dead_num\n",
    "dead_a_pct = t_alone_dead/t_alone_cnt\n",
    "t_surv_pct = t_together_survived / Survived_num \n",
    "surv_t_pct = t_together_survived /t_together_cnt\n",
    "print('P(a|surv) = ' , a_surv_pct)\n",
    "print('P(surv|a) = ', surv_a_pct)\n",
    "print('P(a|dead) = ',a_dead_pct)\n",
    "print('P(dead|a) = ', dead_a_pct)\n",
    "print('P(t|surv) = ',t_surv_pct)\n",
    "print('P(surv|t) = ',surv_t_pct)"
   ]
  },
  {
   "cell_type": "code",
   "execution_count": 54,
   "metadata": {},
   "outputs": [
    {
     "data": {
      "image/png": "[encoded data removed]",
      "text/plain": [
       "<Figure size 1080x360 with 2 Axes>"
      ]
     },
     "metadata": {},
     "output_type": "display_data"
    }
   ],
   "source": [
    "fig, ax = plt.subplots(1, 2, figsize = (15,5))\n",
    "ax[0].set_title('혼자 온 승객 중 사망자일 확률')\n",
    "ax[0].pie([1-dead_a_pct,dead_a_pct],labels=['생존자','사망자'],colors = ['pink','green'],autopct = '%.2f',textprops={'fontsize': 14})\n",
    "\n",
    "ax[1].set_title('사망자 중 혼자 온 승객일 확률')\n",
    "ax[1].pie([1-a_dead_pct,a_dead_pct],labels = ['동승자 유', '동승자 무'], colors = ['yellow', 'orange'], autopct = '%.2f' ,textprops={'fontsize': 14})\n",
    "plt.show()"
   ]
  },
  {
   "cell_type": "markdown",
   "metadata": {},
   "source": [
    "------------------------------\n",
    "- 생존자 중 혼자 온 승객은 47.94%\n",
    "\n",
    "- 혼자 온 승객 중 생존자일 확률은 29.80%\n",
    "\n",
    "- <strong>사망한 승객 중 혼자 온 승객일 확률은 69.95%\n",
    "\n",
    "- 혼자 온 승객 중 사망자일 확률은 70.20%</strong>\n",
    "\n",
    "- 생존자 중 동승자가 있는 승객일 확률은 52.34%\n",
    "\n",
    "- 동승자가 있는 승객 중 생존자일 확률은 52.03% \n",
    "\n",
    "\n",
    "\n",
    "\n",
    "<br><br>\n",
    "\n",
    "\n",
    "위 결과를\n",
    "\n",
    "'동승자가 있는 승객이 생존할 확률이 높다'고 할순없지만,\n",
    "\n",
    "\n",
    "<strong>'동승자가 없는(혼자 온) 승객은 사망할 확률이 높다'</strong>고 해석했다."
   ]
  },
  {
   "cell_type": "markdown",
   "metadata": {},
   "source": [
    "\n",
    "<br><br><br>\n",
    "\n",
    "\n",
    "- ## Pclass가 높고 Fare가 높은 승객은 생존 확률이 높을 것이다. "
   ]
  },
  {
   "cell_type": "code",
   "execution_count": 55,
   "metadata": {},
   "outputs": [],
   "source": [
    "#key: pclass , value : 해당하는 승객 PassengerId\n",
    "pclass_dict = defaultdict(list)\n",
    "for pc, p_id in zip(train.Pclass, train.PassengerId):\n",
    "    pclass_dict[pc].append(p_id)"
   ]
  },
  {
   "cell_type": "code",
   "execution_count": 56,
   "metadata": {},
   "outputs": [],
   "source": [
    "#key : pclass, value : 해당 pclass의 생존자 PassengerId\n",
    "pclass_surv_dict = defaultdict(list)\n",
    "for k,v in pclass_dict.items():\n",
    "    for vv in v:\n",
    "        if int(train.loc[train.PassengerId == vv].Survived) == 1:\n",
    "            pclass_surv_dict[k].append(vv)"
   ]
  },
  {
   "cell_type": "code",
   "execution_count": 57,
   "metadata": {},
   "outputs": [
    {
     "data": {
      "image/png": "[encoded data removed]",
      "text/plain": [
       "<Figure size 432x288 with 1 Axes>"
      ]
     },
     "metadata": {
      "needs_background": "light"
     },
     "output_type": "display_data"
    }
   ],
   "source": [
    "pclass_surv_df = pd.DataFrame([len(pclass_surv_dict[i])/len(pclass_dict[i]) for i in range(1,4)], index = [1,2,3], columns = ['surv_pct'])\n",
    "pclass_surv_df.transpose().plot.barh()\n",
    "plt.title('pclass별 생존확률')\n",
    "plt.show()"
   ]
  },
  {
   "cell_type": "code",
   "execution_count": 58,
   "metadata": {},
   "outputs": [
    {
     "data": {
      "text/html": [
       "<div>\n",
       "<style scoped>\n",
       "    .dataframe tbody tr th:only-of-type {\n",
       "        vertical-align: middle;\n",
       "    }\n",
       "\n",
       "    .dataframe tbody tr th {\n",
       "        vertical-align: top;\n",
       "    }\n",
       "\n",
       "    .dataframe thead th {\n",
       "        text-align: right;\n",
       "    }\n",
       "</style>\n",
       "<table border=\"1\" class=\"dataframe\">\n",
       "  <thead>\n",
       "    <tr style=\"text-align: right;\">\n",
       "      <th></th>\n",
       "      <th>surv_pct</th>\n",
       "    </tr>\n",
       "  </thead>\n",
       "  <tbody>\n",
       "    <tr>\n",
       "      <th>1</th>\n",
       "      <td>0.626168</td>\n",
       "    </tr>\n",
       "    <tr>\n",
       "      <th>2</th>\n",
       "      <td>0.472826</td>\n",
       "    </tr>\n",
       "    <tr>\n",
       "      <th>3</th>\n",
       "      <td>0.242363</td>\n",
       "    </tr>\n",
       "  </tbody>\n",
       "</table>\n",
       "</div>"
      ],
      "text/plain": [
       "   surv_pct\n",
       "1  0.626168\n",
       "2  0.472826\n",
       "3  0.242363"
      ]
     },
     "execution_count": 58,
     "metadata": {},
     "output_type": "execute_result"
    }
   ],
   "source": [
    "pclass_surv_df"
   ]
  },
  {
   "cell_type": "markdown",
   "metadata": {},
   "source": [
    "-----------------------\n",
    "pclass가 높을수록(1에 가까울수록) 생존 확률이 높다."
   ]
  },
  {
   "cell_type": "code",
   "execution_count": 59,
   "metadata": {},
   "outputs": [
    {
     "data": {
      "text/plain": [
       "count    889.000000\n",
       "mean      32.096681\n",
       "std       49.697504\n",
       "min        0.000000\n",
       "25%        7.895800\n",
       "50%       14.454200\n",
       "75%       31.000000\n",
       "max      512.329200\n",
       "Name: Fare, dtype: float64"
      ]
     },
     "execution_count": 59,
     "metadata": {},
     "output_type": "execute_result"
    }
   ],
   "source": [
    "train.Fare.describe()"
   ]
  },
  {
   "cell_type": "code",
   "execution_count": 60,
   "metadata": {},
   "outputs": [],
   "source": [
    "surv_fare_dict = {0:[], 1:[]}\n",
    "for s,f in zip(train.Survived , train.Fare):\n",
    "    surv_fare_dict[s].append(f)"
   ]
  },
  {
   "cell_type": "code",
   "execution_count": 61,
   "metadata": {},
   "outputs": [
    {
     "name": "stdout",
     "output_type": "stream",
     "text": [
      "[(0.0, 14), (7.25, 12), (7.75, 22), (7.775, 13), (7.8958, 37), (8.05, 38), (8.6625, 12), (10.5, 15), (13.0, 26), (26.0, 16)]\n",
      "사망자의 Fare 최빈값 10개 평균: 9.68833\n"
     ]
    }
   ],
   "source": [
    "c_num = 0\n",
    "for i in Counter(surv_fare_dict[0]).most_common(10):\n",
    "    c_num += i[0]\n",
    "print(sorted(Counter(surv_fare_dict[0]).most_common(10)))\n",
    "print('사망자의 Fare 최빈값 10개 평균:',c_num/10)"
   ]
  },
  {
   "cell_type": "code",
   "execution_count": 62,
   "metadata": {},
   "outputs": [
    {
     "name": "stdout",
     "output_type": "stream",
     "text": [
      "[(7.75, 12), (7.8792, 4), (7.925, 8), (8.05, 5), (10.5, 9), (13.0, 16), (26.0, 15), (26.55, 8), (30.0, 5), (56.4958, 5)]\n",
      "생존자의 Fare 최빈값 10개 평균: 19.415\n"
     ]
    }
   ],
   "source": [
    "\n",
    "c_num =0\n",
    "for i in Counter(surv_fare_dict[1]).most_common(10):\n",
    "    c_num += i[0]\n",
    "print(sorted(Counter(surv_fare_dict[1]).most_common(10)))\n",
    "print('생존자의 Fare 최빈값 10개 평균:',c_num/10)"
   ]
  },
  {
   "cell_type": "code",
   "execution_count": 63,
   "metadata": {},
   "outputs": [],
   "source": [
    "#key : over은 Fare가 mean 초과, under은 Fare가 mean 이하 , value : key에 해당하는 승객 PassnerId \n",
    "mean_dict = {'over':[], 'under':[]} \n",
    "f_m = train.Fare.mean()\n",
    "for f, p_id in zip(train.Fare,train.PassengerId):\n",
    "    if f > f_m :\n",
    "        mean_dict['over'].append(p_id)\n",
    "    else:\n",
    "        mean_dict['under'].append(p_id)\n"
   ]
  },
  {
   "cell_type": "code",
   "execution_count": 64,
   "metadata": {},
   "outputs": [],
   "source": [
    "p1_mo_num = 0 #pclass가 1이고 Fare가 mean 초과인 승객\n",
    "p1_mo_surv_num = 0 #pclass가 1이고 Fare가 mean초과인 승객 중 생존자\n",
    "for i in mean_dict['over']:\n",
    "    if i in pclass_dict[1]:\n",
    "        p1_mo_num += 1\n",
    "        if i in pclass_surv_dict[1]:\n",
    "            p1_mo_surv_num += 1\n",
    "    "
   ]
  },
  {
   "cell_type": "code",
   "execution_count": 65,
   "metadata": {},
   "outputs": [
    {
     "data": {
      "text/plain": [
       "0.7511961722488039"
      ]
     },
     "execution_count": 65,
     "metadata": {},
     "output_type": "execute_result"
    }
   ],
   "source": [
    "p1_mo_num/len(mean_dict['over'])"
   ]
  },
  {
   "cell_type": "code",
   "execution_count": 66,
   "metadata": {},
   "outputs": [
    {
     "data": {
      "text/plain": [
       "0.5119617224880383"
      ]
     },
     "execution_count": 66,
     "metadata": {},
     "output_type": "execute_result"
    }
   ],
   "source": [
    "p1_mo_surv_num /len(mean_dict['over'])"
   ]
  },
  {
   "cell_type": "markdown",
   "metadata": {},
   "source": [
    "------------------------\n",
    "\n",
    "- 사망자의 Fare 최빈값 10개 평균: 9.68833\n",
    "- 생존자의 Fare 최빈값 10개 평균: 19.415\n",
    "- Fare가 mean 초과하는 승객 중 Pclass가 1인 승객은 75.12%\n",
    "- Fare가 mean 초과하고 Pclass가 1인 승객 중 생존한 승객은 51.2%\n",
    "\n",
    "<br><br>\n",
    "위 결과를\n",
    "\n",
    "<strong>'Pclass가 높을 수록, Fare가 높을 수록 생존 확률이 높다'</strong>고 해석했다."
   ]
  },
  {
   "cell_type": "markdown",
   "metadata": {},
   "source": [
    "- ## Cabin과 Embarked에 따라 생존 확률 차이가 클 것이다."
   ]
  },
  {
   "cell_type": "code",
   "execution_count": 67,
   "metadata": {},
   "outputs": [
    {
     "data": {
      "text/plain": [
       "defaultdict(int,\n",
       "            {3: 0.5932203389830508,\n",
       "             5: 0.75,\n",
       "             7: 0.5,\n",
       "             4: 0.7575757575757576,\n",
       "             1: 0.4666666666666667,\n",
       "             2: 0.7333333333333333,\n",
       "             6: 0.6153846153846154})"
      ]
     },
     "execution_count": 67,
     "metadata": {},
     "output_type": "execute_result"
    }
   ],
   "source": [
    "#key : cabin, value : key에 해당하는 전체 승객 id\n",
    "cabin_dict = defaultdict(list)\n",
    "#key : cabin , value: key에 해당하는 생존 승객 id\n",
    "surv_cabin_dict = defaultdict(list)\n",
    "#key : cabin , value: key에 해당하는 승객들의 생존확률\n",
    "surv_cabin_pct = defaultdict(int)\n",
    "for i,j in zip(train.loc[train.Cabin.notnull()].Cabin, train.loc[train.Cabin.notnull()].PassengerId) :\n",
    "    cabin_dict[i].append(j)\n",
    "\n",
    "for k,v in cabin_dict.items():\n",
    "    for vv in v:\n",
    "        if int(train.loc[train.PassengerId == vv].Survived) == 1:\n",
    "            surv_cabin_dict[k].append(vv)\n",
    "for pct, k in zip(list(i/j for i,j in zip([len(h) for h in surv_cabin_dict.values()],[len(g) for g in cabin_dict.values()])), surv_cabin_dict.keys()):\n",
    "    surv_cabin_pct[k] = pct\n",
    "surv_cabin_pct"
   ]
  },
  {
   "cell_type": "code",
   "execution_count": 68,
   "metadata": {},
   "outputs": [
    {
     "data": {
      "text/html": [
       "<div>\n",
       "<style scoped>\n",
       "    .dataframe tbody tr th:only-of-type {\n",
       "        vertical-align: middle;\n",
       "    }\n",
       "\n",
       "    .dataframe tbody tr th {\n",
       "        vertical-align: top;\n",
       "    }\n",
       "\n",
       "    .dataframe thead th {\n",
       "        text-align: right;\n",
       "    }\n",
       "</style>\n",
       "<table border=\"1\" class=\"dataframe\">\n",
       "  <thead>\n",
       "    <tr style=\"text-align: right;\">\n",
       "      <th></th>\n",
       "      <th>생존 확률</th>\n",
       "    </tr>\n",
       "  </thead>\n",
       "  <tbody>\n",
       "    <tr>\n",
       "      <th>3</th>\n",
       "      <td>0.593220</td>\n",
       "    </tr>\n",
       "    <tr>\n",
       "      <th>5</th>\n",
       "      <td>0.750000</td>\n",
       "    </tr>\n",
       "    <tr>\n",
       "      <th>7</th>\n",
       "      <td>0.500000</td>\n",
       "    </tr>\n",
       "    <tr>\n",
       "      <th>4</th>\n",
       "      <td>0.757576</td>\n",
       "    </tr>\n",
       "    <tr>\n",
       "      <th>1</th>\n",
       "      <td>0.466667</td>\n",
       "    </tr>\n",
       "    <tr>\n",
       "      <th>2</th>\n",
       "      <td>0.733333</td>\n",
       "    </tr>\n",
       "    <tr>\n",
       "      <th>6</th>\n",
       "      <td>0.615385</td>\n",
       "    </tr>\n",
       "  </tbody>\n",
       "</table>\n",
       "</div>"
      ],
      "text/plain": [
       "      생존 확률\n",
       "3  0.593220\n",
       "5  0.750000\n",
       "7  0.500000\n",
       "4  0.757576\n",
       "1  0.466667\n",
       "2  0.733333\n",
       "6  0.615385"
      ]
     },
     "execution_count": 68,
     "metadata": {},
     "output_type": "execute_result"
    }
   ],
   "source": [
    "surv_cabin_df = pd.DataFrame.from_dict(surv_cabin_pct, orient= 'index', columns = ['생존 확률'])\n",
    "surv_cabin_df"
   ]
  },
  {
   "cell_type": "code",
   "execution_count": 69,
   "metadata": {},
   "outputs": [
    {
     "data": {
      "image/png": "[encoded data removed]",
      "text/plain": [
       "<Figure size 432x288 with 1 Axes>"
      ]
     },
     "metadata": {
      "needs_background": "light"
     },
     "output_type": "display_data"
    }
   ],
   "source": [
    "surv_cabin_df.plot.bar()\n",
    "plt.title('Cabin별 생존 확률')\n",
    "plt.show()"
   ]
  },
  {
   "cell_type": "markdown",
   "metadata": {},
   "source": [
    "--------------\n",
    "Cabin 2,4,5에 묵은 승객들은 생존 확률이 70%대로 매우 높다.\n",
    "<br><br><br><br><br><br>"
   ]
  },
  {
   "cell_type": "code",
   "execution_count": 70,
   "metadata": {},
   "outputs": [
    {
     "data": {
      "text/plain": [
       "defaultdict(int,\n",
       "            {3: 0.33695652173913043,\n",
       "             1: 0.5535714285714286,\n",
       "             2: 0.38961038961038963})"
      ]
     },
     "execution_count": 70,
     "metadata": {},
     "output_type": "execute_result"
    }
   ],
   "source": [
    "#key : Embarked, value : key에 해당하는 전체 승객 id\n",
    "embarked_dict = defaultdict(list)\n",
    "#key : Embarked , value: key에 해당하는 생존 승객 id\n",
    "surv_embarked_dict = defaultdict(list)\n",
    "#key : Embarked , value: key에 해당하는 승객들의 생존확률\n",
    "surv_embarked_pct = defaultdict(int)\n",
    "for i,j in zip(train.Embarked, train.PassengerId) :\n",
    "    embarked_dict[i].append(j)\n",
    "\n",
    "for k,v in embarked_dict.items():\n",
    "    for vv in v:\n",
    "        if int(train.loc[train.PassengerId == vv].Survived) == 1:\n",
    "            surv_embarked_dict[k].append(vv)\n",
    "for pct, k in zip(list(i/j for i,j in zip([len(h) for h in surv_embarked_dict.values()],[len(g) for g in embarked_dict.values()])), surv_embarked_dict.keys()):\n",
    "    surv_embarked_pct[k] = pct\n",
    "surv_embarked_pct"
   ]
  },
  {
   "cell_type": "code",
   "execution_count": 71,
   "metadata": {},
   "outputs": [
    {
     "data": {
      "text/html": [
       "<div>\n",
       "<style scoped>\n",
       "    .dataframe tbody tr th:only-of-type {\n",
       "        vertical-align: middle;\n",
       "    }\n",
       "\n",
       "    .dataframe tbody tr th {\n",
       "        vertical-align: top;\n",
       "    }\n",
       "\n",
       "    .dataframe thead th {\n",
       "        text-align: right;\n",
       "    }\n",
       "</style>\n",
       "<table border=\"1\" class=\"dataframe\">\n",
       "  <thead>\n",
       "    <tr style=\"text-align: right;\">\n",
       "      <th></th>\n",
       "      <th>생존 확률</th>\n",
       "    </tr>\n",
       "  </thead>\n",
       "  <tbody>\n",
       "    <tr>\n",
       "      <th>3</th>\n",
       "      <td>0.336957</td>\n",
       "    </tr>\n",
       "    <tr>\n",
       "      <th>1</th>\n",
       "      <td>0.553571</td>\n",
       "    </tr>\n",
       "    <tr>\n",
       "      <th>2</th>\n",
       "      <td>0.389610</td>\n",
       "    </tr>\n",
       "  </tbody>\n",
       "</table>\n",
       "</div>"
      ],
      "text/plain": [
       "      생존 확률\n",
       "3  0.336957\n",
       "1  0.553571\n",
       "2  0.389610"
      ]
     },
     "execution_count": 71,
     "metadata": {},
     "output_type": "execute_result"
    }
   ],
   "source": [
    "surv_embarked_df = pd.DataFrame.from_dict(surv_embarked_pct, orient= 'index', columns = ['생존 확률'])\n",
    "surv_embarked_df"
   ]
  },
  {
   "cell_type": "markdown",
   "metadata": {},
   "source": [
    "-----------------------------------------\n",
    "Embarked만 보았을땐 큰 차이가 없어보인다.\n",
    "\n",
    "Sex + Cabin + Embarked의 조합으로는 어떤 결과가 나올까?\n",
    "<br><br><br><br><br><br>"
   ]
  },
  {
   "cell_type": "code",
   "execution_count": 72,
   "metadata": {},
   "outputs": [
    {
     "data": {
      "text/html": [
       "<div>\n",
       "<style scoped>\n",
       "    .dataframe tbody tr th:only-of-type {\n",
       "        vertical-align: middle;\n",
       "    }\n",
       "\n",
       "    .dataframe tbody tr th {\n",
       "        vertical-align: top;\n",
       "    }\n",
       "\n",
       "    .dataframe thead th {\n",
       "        text-align: right;\n",
       "    }\n",
       "</style>\n",
       "<table border=\"1\" class=\"dataframe\">\n",
       "  <thead>\n",
       "    <tr style=\"text-align: right;\">\n",
       "      <th></th>\n",
       "      <th></th>\n",
       "      <th>Survived</th>\n",
       "    </tr>\n",
       "    <tr>\n",
       "      <th>Cabin</th>\n",
       "      <th>Embarked</th>\n",
       "      <th></th>\n",
       "    </tr>\n",
       "  </thead>\n",
       "  <tbody>\n",
       "    <tr>\n",
       "      <th rowspan=\"2\" valign=\"top\">1</th>\n",
       "      <th>1</th>\n",
       "      <td>0.571429</td>\n",
       "    </tr>\n",
       "    <tr>\n",
       "      <th>3</th>\n",
       "      <td>0.375000</td>\n",
       "    </tr>\n",
       "    <tr>\n",
       "      <th rowspan=\"2\" valign=\"top\">2</th>\n",
       "      <th>1</th>\n",
       "      <td>0.772727</td>\n",
       "    </tr>\n",
       "    <tr>\n",
       "      <th>3</th>\n",
       "      <td>0.695652</td>\n",
       "    </tr>\n",
       "    <tr>\n",
       "      <th rowspan=\"3\" valign=\"top\">3</th>\n",
       "      <th>1</th>\n",
       "      <td>0.666667</td>\n",
       "    </tr>\n",
       "    <tr>\n",
       "      <th>2</th>\n",
       "      <td>0.500000</td>\n",
       "    </tr>\n",
       "    <tr>\n",
       "      <th>3</th>\n",
       "      <td>0.555556</td>\n",
       "    </tr>\n",
       "    <tr>\n",
       "      <th rowspan=\"2\" valign=\"top\">4</th>\n",
       "      <th>1</th>\n",
       "      <td>0.846154</td>\n",
       "    </tr>\n",
       "    <tr>\n",
       "      <th>3</th>\n",
       "      <td>0.700000</td>\n",
       "    </tr>\n",
       "    <tr>\n",
       "      <th rowspan=\"3\" valign=\"top\">5</th>\n",
       "      <th>1</th>\n",
       "      <td>1.000000</td>\n",
       "    </tr>\n",
       "    <tr>\n",
       "      <th>2</th>\n",
       "      <td>1.000000</td>\n",
       "    </tr>\n",
       "    <tr>\n",
       "      <th>3</th>\n",
       "      <td>0.692308</td>\n",
       "    </tr>\n",
       "    <tr>\n",
       "      <th rowspan=\"3\" valign=\"top\">6</th>\n",
       "      <th>1</th>\n",
       "      <td>1.000000</td>\n",
       "    </tr>\n",
       "    <tr>\n",
       "      <th>2</th>\n",
       "      <td>0.000000</td>\n",
       "    </tr>\n",
       "    <tr>\n",
       "      <th>3</th>\n",
       "      <td>0.636364</td>\n",
       "    </tr>\n",
       "    <tr>\n",
       "      <th>7</th>\n",
       "      <th>3</th>\n",
       "      <td>0.500000</td>\n",
       "    </tr>\n",
       "    <tr>\n",
       "      <th>20</th>\n",
       "      <th>3</th>\n",
       "      <td>0.000000</td>\n",
       "    </tr>\n",
       "  </tbody>\n",
       "</table>\n",
       "</div>"
      ],
      "text/plain": [
       "                Survived\n",
       "Cabin Embarked          \n",
       "1     1         0.571429\n",
       "      3         0.375000\n",
       "2     1         0.772727\n",
       "      3         0.695652\n",
       "3     1         0.666667\n",
       "      2         0.500000\n",
       "      3         0.555556\n",
       "4     1         0.846154\n",
       "      3         0.700000\n",
       "5     1         1.000000\n",
       "      2         1.000000\n",
       "      3         0.692308\n",
       "6     1         1.000000\n",
       "      2         0.000000\n",
       "      3         0.636364\n",
       "7     3         0.500000\n",
       "20    3         0.000000"
      ]
     },
     "execution_count": 72,
     "metadata": {},
     "output_type": "execute_result"
    }
   ],
   "source": [
    "cabin_embarked =pd.DataFrame(train.groupby(['Cabin','Embarked'])['Survived'].mean())\n",
    "cabin_embarked"
   ]
  },
  {
   "cell_type": "markdown",
   "metadata": {},
   "source": [
    "---------------------"
   ]
  },
  {
   "cell_type": "code",
   "execution_count": 73,
   "metadata": {},
   "outputs": [
    {
     "data": {
      "text/html": [
       "<div>\n",
       "<style scoped>\n",
       "    .dataframe tbody tr th:only-of-type {\n",
       "        vertical-align: middle;\n",
       "    }\n",
       "\n",
       "    .dataframe tbody tr th {\n",
       "        vertical-align: top;\n",
       "    }\n",
       "\n",
       "    .dataframe thead th {\n",
       "        text-align: right;\n",
       "    }\n",
       "</style>\n",
       "<table border=\"1\" class=\"dataframe\">\n",
       "  <thead>\n",
       "    <tr style=\"text-align: right;\">\n",
       "      <th></th>\n",
       "      <th></th>\n",
       "      <th>Survived</th>\n",
       "    </tr>\n",
       "    <tr>\n",
       "      <th>Cabin</th>\n",
       "      <th>Embarked</th>\n",
       "      <th></th>\n",
       "    </tr>\n",
       "  </thead>\n",
       "  <tbody>\n",
       "    <tr>\n",
       "      <th>1</th>\n",
       "      <th>1</th>\n",
       "      <td>1.000000</td>\n",
       "    </tr>\n",
       "    <tr>\n",
       "      <th rowspan=\"2\" valign=\"top\">2</th>\n",
       "      <th>1</th>\n",
       "      <td>1.000000</td>\n",
       "    </tr>\n",
       "    <tr>\n",
       "      <th>3</th>\n",
       "      <td>1.000000</td>\n",
       "    </tr>\n",
       "    <tr>\n",
       "      <th rowspan=\"3\" valign=\"top\">3</th>\n",
       "      <th>1</th>\n",
       "      <td>0.909091</td>\n",
       "    </tr>\n",
       "    <tr>\n",
       "      <th>2</th>\n",
       "      <td>1.000000</td>\n",
       "    </tr>\n",
       "    <tr>\n",
       "      <th>3</th>\n",
       "      <td>0.866667</td>\n",
       "    </tr>\n",
       "    <tr>\n",
       "      <th rowspan=\"2\" valign=\"top\">4</th>\n",
       "      <th>1</th>\n",
       "      <td>1.000000</td>\n",
       "    </tr>\n",
       "    <tr>\n",
       "      <th>3</th>\n",
       "      <td>1.000000</td>\n",
       "    </tr>\n",
       "    <tr>\n",
       "      <th rowspan=\"3\" valign=\"top\">5</th>\n",
       "      <th>1</th>\n",
       "      <td>1.000000</td>\n",
       "    </tr>\n",
       "    <tr>\n",
       "      <th>2</th>\n",
       "      <td>1.000000</td>\n",
       "    </tr>\n",
       "    <tr>\n",
       "      <th>3</th>\n",
       "      <td>0.900000</td>\n",
       "    </tr>\n",
       "    <tr>\n",
       "      <th rowspan=\"2\" valign=\"top\">6</th>\n",
       "      <th>1</th>\n",
       "      <td>1.000000</td>\n",
       "    </tr>\n",
       "    <tr>\n",
       "      <th>3</th>\n",
       "      <td>1.000000</td>\n",
       "    </tr>\n",
       "    <tr>\n",
       "      <th>7</th>\n",
       "      <th>3</th>\n",
       "      <td>0.500000</td>\n",
       "    </tr>\n",
       "  </tbody>\n",
       "</table>\n",
       "</div>"
      ],
      "text/plain": [
       "                Survived\n",
       "Cabin Embarked          \n",
       "1     1         1.000000\n",
       "2     1         1.000000\n",
       "      3         1.000000\n",
       "3     1         0.909091\n",
       "      2         1.000000\n",
       "      3         0.866667\n",
       "4     1         1.000000\n",
       "      3         1.000000\n",
       "5     1         1.000000\n",
       "      2         1.000000\n",
       "      3         0.900000\n",
       "6     1         1.000000\n",
       "      3         1.000000\n",
       "7     3         0.500000"
      ]
     },
     "execution_count": 73,
     "metadata": {},
     "output_type": "execute_result"
    }
   ],
   "source": [
    "female_cabin = pd.DataFrame(train.loc[train.Sex == 1].groupby(['Cabin','Embarked'])['Survived'].mean())\n",
    "female_cabin"
   ]
  },
  {
   "cell_type": "code",
   "execution_count": 74,
   "metadata": {},
   "outputs": [
    {
     "data": {
      "text/html": [
       "<div>\n",
       "<style scoped>\n",
       "    .dataframe tbody tr th:only-of-type {\n",
       "        vertical-align: middle;\n",
       "    }\n",
       "\n",
       "    .dataframe tbody tr th {\n",
       "        vertical-align: top;\n",
       "    }\n",
       "\n",
       "    .dataframe thead th {\n",
       "        text-align: right;\n",
       "    }\n",
       "</style>\n",
       "<table border=\"1\" class=\"dataframe\">\n",
       "  <thead>\n",
       "    <tr style=\"text-align: right;\">\n",
       "      <th></th>\n",
       "      <th></th>\n",
       "      <th>Survived</th>\n",
       "    </tr>\n",
       "    <tr>\n",
       "      <th>Cabin</th>\n",
       "      <th>Embarked</th>\n",
       "      <th></th>\n",
       "    </tr>\n",
       "  </thead>\n",
       "  <tbody>\n",
       "    <tr>\n",
       "      <th rowspan=\"2\" valign=\"top\">1</th>\n",
       "      <th>1</th>\n",
       "      <td>0.500000</td>\n",
       "    </tr>\n",
       "    <tr>\n",
       "      <th>3</th>\n",
       "      <td>0.375000</td>\n",
       "    </tr>\n",
       "    <tr>\n",
       "      <th rowspan=\"2\" valign=\"top\">2</th>\n",
       "      <th>1</th>\n",
       "      <td>0.500000</td>\n",
       "    </tr>\n",
       "    <tr>\n",
       "      <th>3</th>\n",
       "      <td>0.300000</td>\n",
       "    </tr>\n",
       "    <tr>\n",
       "      <th rowspan=\"3\" valign=\"top\">3</th>\n",
       "      <th>1</th>\n",
       "      <td>0.400000</td>\n",
       "    </tr>\n",
       "    <tr>\n",
       "      <th>2</th>\n",
       "      <td>0.000000</td>\n",
       "    </tr>\n",
       "    <tr>\n",
       "      <th>3</th>\n",
       "      <td>0.333333</td>\n",
       "    </tr>\n",
       "    <tr>\n",
       "      <th rowspan=\"2\" valign=\"top\">4</th>\n",
       "      <th>1</th>\n",
       "      <td>0.600000</td>\n",
       "    </tr>\n",
       "    <tr>\n",
       "      <th>3</th>\n",
       "      <td>0.400000</td>\n",
       "    </tr>\n",
       "    <tr>\n",
       "      <th rowspan=\"2\" valign=\"top\">5</th>\n",
       "      <th>1</th>\n",
       "      <td>1.000000</td>\n",
       "    </tr>\n",
       "    <tr>\n",
       "      <th>3</th>\n",
       "      <td>0.562500</td>\n",
       "    </tr>\n",
       "    <tr>\n",
       "      <th rowspan=\"2\" valign=\"top\">6</th>\n",
       "      <th>2</th>\n",
       "      <td>0.000000</td>\n",
       "    </tr>\n",
       "    <tr>\n",
       "      <th>3</th>\n",
       "      <td>0.428571</td>\n",
       "    </tr>\n",
       "    <tr>\n",
       "      <th>20</th>\n",
       "      <th>3</th>\n",
       "      <td>0.000000</td>\n",
       "    </tr>\n",
       "  </tbody>\n",
       "</table>\n",
       "</div>"
      ],
      "text/plain": [
       "                Survived\n",
       "Cabin Embarked          \n",
       "1     1         0.500000\n",
       "      3         0.375000\n",
       "2     1         0.500000\n",
       "      3         0.300000\n",
       "3     1         0.400000\n",
       "      2         0.000000\n",
       "      3         0.333333\n",
       "4     1         0.600000\n",
       "      3         0.400000\n",
       "5     1         1.000000\n",
       "      3         0.562500\n",
       "6     2         0.000000\n",
       "      3         0.428571\n",
       "20    3         0.000000"
      ]
     },
     "execution_count": 74,
     "metadata": {},
     "output_type": "execute_result"
    }
   ],
   "source": [
    "male_cabin = pd.DataFrame(train.loc[train.Sex == 2].groupby(['Cabin','Embarked'])['Survived'].mean())\n",
    "male_cabin"
   ]
  },
  {
   "cell_type": "code",
   "execution_count": null,
   "metadata": {},
   "outputs": [],
   "source": []
  },
  {
   "cell_type": "markdown",
   "metadata": {},
   "source": [
    "<br><br>\n",
    "# 예측 모델 생성"
   ]
  },
  {
   "cell_type": "markdown",
   "metadata": {},
   "source": [
    "## 피처 선택"
   ]
  },
  {
   "cell_type": "code",
   "execution_count": 75,
   "metadata": {},
   "outputs": [],
   "source": [
    "#위 분석을 바탕으로 피처 선택\n",
    "feature1 = ['Age','Sex','Fare','Pclass']\n",
    "feature2 = ['Cabin','Age','Sex','Fare','Pclass'] \n",
    "feature3 = ['Age', 'Sex','Fare','Pclass','Embarked']\n",
    "feature4 = ['Cabin','Age','Sex','Fare','Pclass','Embarked']\n",
    "feature5 = ['Age','Sex','Fare','Pclass','Family']\n",
    "feature6 = ['Cabin','Age','Sex','Fare','Pclass','Family']\n",
    "feature7 = ['Age','Sex','Fare','Pclass','Family','Embarked']\n",
    "feature8 = ['Cabin','Age','Sex','Fare','Pclass','Family','Embarked']"
   ]
  },
  {
   "cell_type": "markdown",
   "metadata": {},
   "source": [
    "결측치 처리 방식에 따라 Train 데이터셋 분류)\n",
    "\n",
    "x1 = Age결측치 예측값으로 채운 것\n",
    "\n",
    "x2 = Age, Cabin결측치 예측값(Cabin의 feature 2개)으로 채운 것\n",
    "\n",
    "x3 = Age결측치 삭제한 것\n",
    "\n",
    "x4 = Age, Cabin결측치 예측값(Cabin의 feature 3개)으로 채운 것"
   ]
  },
  {
   "cell_type": "code",
   "execution_count": 76,
   "metadata": {},
   "outputs": [],
   "source": [
    "#테스트, 트레인 x,y값 return\n",
    "def xy(feature, num):\n",
    "    global train_age, train_cabin_2, train_3, train_del_age\n",
    "    if num == 1:\n",
    "        return train_test_split(train_age[feature], train_age['Survived'],test_size = 0.25)\n",
    "    elif num == 2:\n",
    "        return train_test_split(train_cabin_2[feature], train_cabin_2['Survived'],test_size = 0.25)\n",
    "    elif num == 3:\n",
    "        return train_test_split(train_del_age[feature], train_del_age['Survived'],test_size = 0.25)\n",
    "    elif num == 4:\n",
    "        return train_test_split(train_cabin_3[feature], train_cabin_3['Survived'],test_size = 0.25)\n",
    "    return 0\n",
    "    "
   ]
  },
  {
   "cell_type": "code",
   "execution_count": 77,
   "metadata": {},
   "outputs": [],
   "source": [
    "#실제 적용 x,y값\n",
    "def xy_real(feature, num):\n",
    "    global train_age, train_cabin_2, train_3, train_del_age, test\n",
    "    if num == 1:\n",
    "        return train_age[feature], test_age[feature] , train_age['Survived'] \n",
    "    elif num == 2:\n",
    "        return train_cabin_2[feature],test_cabin_2[feature], train_cabin_2['Survived']\n",
    "    elif num == 3:\n",
    "        return train_del_age[feature],test_age[feature], train_del_age['Survived']\n",
    "    elif num == 4:\n",
    "        return train_cabin_3[feature],test_cabin_3[feature], train_cabin_3['Survived']    \n",
    "    return 0"
   ]
  },
  {
   "cell_type": "code",
   "execution_count": 78,
   "metadata": {},
   "outputs": [],
   "source": [
    "from sklearn.metrics import confusion_matrix, classification_report\n",
    "#model 적용 및 평가\n",
    "def model_result(feature, x_num, model):\n",
    "    x_train, x_test, y_train, y_test = xy(feature,x_num)\n",
    "    model.fit(x_train, y_train)\n",
    "    print(confusion_matrix(model.predict(x_test), y_test),'\\n\\n')\n",
    "    print(classification_report(model.predict(x_test), y_test))\n",
    "    y_pred_proba = model.predict_proba(x_test)[::,1]\n",
    "    fp,tp, thres = roc_curve(y_test,y_pred_proba)\n",
    "    auc = roc_auc_score(y_test, y_pred_proba)\n",
    "    print('\\nAUC=',auc)\n",
    "    plt.plot(fp,tp)\n",
    "    plt.show()"
   ]
  },
  {
   "cell_type": "markdown",
   "metadata": {},
   "source": [
    "## 모델 구축"
   ]
  },
  {
   "cell_type": "markdown",
   "metadata": {},
   "source": [
    "- Decision Tree 직접 구축"
   ]
  },
  {
   "cell_type": "code",
   "execution_count": 79,
   "metadata": {},
   "outputs": [],
   "source": [
    "def mytree(df):\n",
    "    \n",
    "    #initialize table to store predictions\n",
    "    Model = pd.DataFrame(data = {'Predict':[]})\n",
    "\n",
    "    for index, row in df.iterrows():\n",
    "\n",
    "        point = 0\n",
    "\n",
    "        #여성일 때\n",
    "        if (df.loc[index, 'Sex'] == 1):\n",
    "                  point += 2\n",
    "\n",
    "        #Cabin이 2,4,5 중 하나일 때\n",
    "        if (df.loc[index, 'Cabin'] in [2,4,5]) :\n",
    "            point += 1\n",
    "            \n",
    "        #남성이고, Pclass가 3이고, Fare가 평균보다 낮은 경우\n",
    "        if ((df.loc[index, 'Sex'] == 2) & \n",
    "            (df.loc[index, 'Pclass'] == 3) &\n",
    "            (df.loc[index, 'Fare'] < df.Fare.mean())\n",
    "\n",
    "           ):\n",
    "                  point -= 2\n",
    "                \n",
    "        #혼자 왔을 경우\n",
    "        if (df.loc[index,'Family'] > 0) :\n",
    "            point -= 1\n",
    "\n",
    "        \n",
    "        if point >= 1:\n",
    "            Model.loc[index,'Predict'] = int(1)\n",
    "        else:\n",
    "            Model.loc[index, 'Predict'] = int(0)\n",
    "    return Model"
   ]
  },
  {
   "cell_type": "markdown",
   "metadata": {},
   "source": [
    "- Logistic Regression 적용"
   ]
  },
  {
   "cell_type": "code",
   "execution_count": 80,
   "metadata": {},
   "outputs": [],
   "source": [
    "from sklearn.linear_model import LogisticRegression\n",
    "log_clf = LogisticRegression()"
   ]
  },
  {
   "cell_type": "markdown",
   "metadata": {},
   "source": [
    "- Naive Bayes 적용"
   ]
  },
  {
   "cell_type": "code",
   "execution_count": 81,
   "metadata": {},
   "outputs": [],
   "source": [
    "from sklearn.naive_bayes import MultinomialNB\n",
    "nb_clf = MultinomialNB()"
   ]
  },
  {
   "cell_type": "markdown",
   "metadata": {},
   "source": [
    "- SVM 적용"
   ]
  },
  {
   "cell_type": "code",
   "execution_count": 82,
   "metadata": {},
   "outputs": [],
   "source": [
    "from sklearn import svm\n",
    "svm_clf = svm.SVC(probability = True)"
   ]
  },
  {
   "cell_type": "markdown",
   "metadata": {},
   "source": [
    "- Decision Tree 적용"
   ]
  },
  {
   "cell_type": "code",
   "execution_count": 83,
   "metadata": {},
   "outputs": [],
   "source": [
    "from sklearn.tree import DecisionTreeClassifier\n",
    "dt_clf = DecisionTreeClassifier()"
   ]
  },
  {
   "cell_type": "markdown",
   "metadata": {},
   "source": [
    "- Random Forest 적용"
   ]
  },
  {
   "cell_type": "code",
   "execution_count": 84,
   "metadata": {},
   "outputs": [],
   "source": [
    "rf_clf = RandomForestClassifier()"
   ]
  },
  {
   "cell_type": "markdown",
   "metadata": {},
   "source": [
    "- Gradient Boost Regression Tree 적용"
   ]
  },
  {
   "cell_type": "code",
   "execution_count": 85,
   "metadata": {},
   "outputs": [],
   "source": [
    "from sklearn.ensemble import GradientBoostingClassifier\n",
    "gb_clf = GradientBoostingClassifier()"
   ]
  },
  {
   "cell_type": "code",
   "execution_count": 86,
   "metadata": {},
   "outputs": [],
   "source": [
    "# model = [\n",
    "    \n",
    "#     #Ensemble Methods\n",
    "#     ensemble.AdaBoostClassifier(),\n",
    "#     ensemble.BaggingClassifier(),\n",
    "#     ensemble.ExtraTreesClassifier(),\n",
    "#     ensemble.GradientBoostingClassifier(),\n",
    "#     ensemble.RandomForestClassifier(),\n",
    "\n",
    "#     #Gaussian Processes\n",
    "#     gaussian_process.GaussianProcessClassifier(),\n",
    "    \n",
    "#     #GLM\n",
    "#     linear_model.LogisticRegressionCV(),\n",
    "#     linear_model.PassiveAggressiveClassifier(),\n",
    "#     linear_model.RidgeClassifierCV(),\n",
    "#     linear_model.SGDClassifier(),\n",
    "#     linear_model.Perceptron(),\n",
    "    \n",
    "#     #Navies Bayes\n",
    "#     naive_bayes.BernoulliNB(),\n",
    "#     naive_bayes.GaussianNB(),\n",
    "    \n",
    "#     #Nearest Neighbor\n",
    "#     neighbors.KNeighborsClassifier(),\n",
    "    \n",
    "#     #SVM\n",
    "#     svm.SVC(probability=True),\n",
    "#     svm.NuSVC(probability=True),\n",
    "#     svm.LinearSVC(),\n",
    "    \n",
    "#     #Trees    \n",
    "#     tree.DecisionTreeClassifier(),\n",
    "#     tree.ExtraTreeClassifier(),\n",
    "    \n",
    "#     #Discriminant Analysis\n",
    "#     discriminant_analysis.LinearDiscriminantAnalysis(),\n",
    "#     discriminant_analysis.QuadraticDiscriminantAnalysis(),\n",
    "    \n",
    "# ]"
   ]
  },
  {
   "cell_type": "markdown",
   "metadata": {},
   "source": [
    "# 모델 성능 평가"
   ]
  },
  {
   "cell_type": "markdown",
   "metadata": {},
   "source": [
    "------------------------\n",
    "## Logistic Regression"
   ]
  },
  {
   "cell_type": "markdown",
   "metadata": {},
   "source": [
    "x1 적용)"
   ]
  },
  {
   "cell_type": "code",
   "execution_count": 87,
   "metadata": {},
   "outputs": [
    {
     "name": "stdout",
     "output_type": "stream",
     "text": [
      "[[124  27]\n",
      " [ 17  55]] \n",
      "\n",
      "\n",
      "              precision    recall  f1-score   support\n",
      "\n",
      "           0       0.88      0.82      0.85       151\n",
      "           1       0.67      0.76      0.71        72\n",
      "\n",
      "   micro avg       0.80      0.80      0.80       223\n",
      "   macro avg       0.78      0.79      0.78       223\n",
      "weighted avg       0.81      0.80      0.81       223\n",
      "\n",
      "\n",
      "AUC= 0.821397682061927\n"
     ]
    },
    {
     "data": {
      "image/png": "[encoded data removed]",
      "text/plain": [
       "<Figure size 432x288 with 1 Axes>"
      ]
     },
     "metadata": {
      "needs_background": "light"
     },
     "output_type": "display_data"
    }
   ],
   "source": [
    "model_result(feature1,1,log_clf)"
   ]
  },
  {
   "cell_type": "code",
   "execution_count": 88,
   "metadata": {},
   "outputs": [
    {
     "name": "stdout",
     "output_type": "stream",
     "text": [
      "[[109  34]\n",
      " [ 19  61]] \n",
      "\n",
      "\n",
      "              precision    recall  f1-score   support\n",
      "\n",
      "           0       0.85      0.76      0.80       143\n",
      "           1       0.64      0.76      0.70        80\n",
      "\n",
      "   micro avg       0.76      0.76      0.76       223\n",
      "   macro avg       0.75      0.76      0.75       223\n",
      "weighted avg       0.78      0.76      0.77       223\n",
      "\n",
      "\n",
      "AUC= 0.8558799342105263\n"
     ]
    },
    {
     "data": {
      "image/png": "[encoded data removed]",
      "text/plain": [
       "<Figure size 432x288 with 1 Axes>"
      ]
     },
     "metadata": {
      "needs_background": "light"
     },
     "output_type": "display_data"
    }
   ],
   "source": [
    "model_result(feature3,1,log_clf)"
   ]
  },
  {
   "cell_type": "code",
   "execution_count": 89,
   "metadata": {},
   "outputs": [
    {
     "name": "stdout",
     "output_type": "stream",
     "text": [
      "[[114  32]\n",
      " [ 14  63]] \n",
      "\n",
      "\n",
      "              precision    recall  f1-score   support\n",
      "\n",
      "           0       0.89      0.78      0.83       146\n",
      "           1       0.66      0.82      0.73        77\n",
      "\n",
      "   micro avg       0.79      0.79      0.79       223\n",
      "   macro avg       0.78      0.80      0.78       223\n",
      "weighted avg       0.81      0.79      0.80       223\n",
      "\n",
      "\n",
      "AUC= 0.854235197368421\n"
     ]
    },
    {
     "data": {
      "image/png": "[encoded data removed]",
      "text/plain": [
       "<Figure size 432x288 with 1 Axes>"
      ]
     },
     "metadata": {
      "needs_background": "light"
     },
     "output_type": "display_data"
    }
   ],
   "source": [
    "model_result(feature5,1,log_clf)"
   ]
  },
  {
   "cell_type": "code",
   "execution_count": 90,
   "metadata": {},
   "outputs": [
    {
     "name": "stdout",
     "output_type": "stream",
     "text": [
      "[[124  25]\n",
      " [ 16  58]] \n",
      "\n",
      "\n",
      "              precision    recall  f1-score   support\n",
      "\n",
      "           0       0.89      0.83      0.86       149\n",
      "           1       0.70      0.78      0.74        74\n",
      "\n",
      "   micro avg       0.82      0.82      0.82       223\n",
      "   macro avg       0.79      0.81      0.80       223\n",
      "weighted avg       0.82      0.82      0.82       223\n",
      "\n",
      "\n",
      "AUC= 0.8582185886402753\n"
     ]
    },
    {
     "data": {
      "image/png": "[encoded data removed]",
      "text/plain": [
       "<Figure size 432x288 with 1 Axes>"
      ]
     },
     "metadata": {
      "needs_background": "light"
     },
     "output_type": "display_data"
    }
   ],
   "source": [
    "model_result(feature7,1,log_clf)"
   ]
  },
  {
   "cell_type": "markdown",
   "metadata": {},
   "source": [
    "x2 적용)"
   ]
  },
  {
   "cell_type": "code",
   "execution_count": 91,
   "metadata": {},
   "outputs": [
    {
     "name": "stdout",
     "output_type": "stream",
     "text": [
      "[[125  30]\n",
      " [ 10  58]] \n",
      "\n",
      "\n",
      "              precision    recall  f1-score   support\n",
      "\n",
      "           0       0.93      0.81      0.86       155\n",
      "           1       0.66      0.85      0.74        68\n",
      "\n",
      "   micro avg       0.82      0.82      0.82       223\n",
      "   macro avg       0.79      0.83      0.80       223\n",
      "weighted avg       0.84      0.82      0.83       223\n",
      "\n",
      "\n",
      "AUC= 0.8861111111111111\n"
     ]
    },
    {
     "data": {
      "image/png": "[encoded data removed]",
      "text/plain": [
       "<Figure size 432x288 with 1 Axes>"
      ]
     },
     "metadata": {
      "needs_background": "light"
     },
     "output_type": "display_data"
    }
   ],
   "source": [
    "model_result(feature2,2,log_clf)"
   ]
  },
  {
   "cell_type": "code",
   "execution_count": 92,
   "metadata": {},
   "outputs": [
    {
     "name": "stdout",
     "output_type": "stream",
     "text": [
      "[[122  26]\n",
      " [ 20  55]] \n",
      "\n",
      "\n",
      "              precision    recall  f1-score   support\n",
      "\n",
      "           0       0.86      0.82      0.84       148\n",
      "           1       0.68      0.73      0.71        75\n",
      "\n",
      "   micro avg       0.79      0.79      0.79       223\n",
      "   macro avg       0.77      0.78      0.77       223\n",
      "weighted avg       0.80      0.79      0.80       223\n",
      "\n",
      "\n",
      "AUC= 0.8361154581811858\n"
     ]
    },
    {
     "data": {
      "image/png": "[encoded data removed]",
      "text/plain": [
       "<Figure size 432x288 with 1 Axes>"
      ]
     },
     "metadata": {
      "needs_background": "light"
     },
     "output_type": "display_data"
    }
   ],
   "source": [
    "model_result(feature4,2,log_clf)"
   ]
  },
  {
   "cell_type": "code",
   "execution_count": 93,
   "metadata": {},
   "outputs": [
    {
     "name": "stdout",
     "output_type": "stream",
     "text": [
      "[[124  27]\n",
      " [ 19  53]] \n",
      "\n",
      "\n",
      "              precision    recall  f1-score   support\n",
      "\n",
      "           0       0.87      0.82      0.84       151\n",
      "           1       0.66      0.74      0.70        72\n",
      "\n",
      "   micro avg       0.79      0.79      0.79       223\n",
      "   macro avg       0.76      0.78      0.77       223\n",
      "weighted avg       0.80      0.79      0.80       223\n",
      "\n",
      "\n",
      "AUC= 0.8530594405594405\n"
     ]
    },
    {
     "data": {
      "image/png": "[encoded data removed]",
      "text/plain": [
       "<Figure size 432x288 with 1 Axes>"
      ]
     },
     "metadata": {
      "needs_background": "light"
     },
     "output_type": "display_data"
    }
   ],
   "source": [
    "model_result(feature6,2,log_clf)"
   ]
  },
  {
   "cell_type": "code",
   "execution_count": 94,
   "metadata": {
    "scrolled": false
   },
   "outputs": [
    {
     "name": "stdout",
     "output_type": "stream",
     "text": [
      "[[124  26]\n",
      " [ 21  52]] \n",
      "\n",
      "\n",
      "              precision    recall  f1-score   support\n",
      "\n",
      "           0       0.86      0.83      0.84       150\n",
      "           1       0.67      0.71      0.69        73\n",
      "\n",
      "   micro avg       0.79      0.79      0.79       223\n",
      "   macro avg       0.76      0.77      0.76       223\n",
      "weighted avg       0.79      0.79      0.79       223\n",
      "\n",
      "\n",
      "AUC= 0.8290008841732981\n"
     ]
    },
    {
     "data": {
      "image/png": "[encoded data removed]",
      "text/plain": [
       "<Figure size 432x288 with 1 Axes>"
      ]
     },
     "metadata": {
      "needs_background": "light"
     },
     "output_type": "display_data"
    }
   ],
   "source": [
    "model_result(feature8,2,log_clf)"
   ]
  },
  {
   "cell_type": "markdown",
   "metadata": {},
   "source": [
    "x3 적용)"
   ]
  },
  {
   "cell_type": "code",
   "execution_count": 95,
   "metadata": {},
   "outputs": [
    {
     "name": "stdout",
     "output_type": "stream",
     "text": [
      "[[90 23]\n",
      " [ 9 56]] \n",
      "\n",
      "\n",
      "              precision    recall  f1-score   support\n",
      "\n",
      "           0       0.91      0.80      0.85       113\n",
      "           1       0.71      0.86      0.78        65\n",
      "\n",
      "   micro avg       0.82      0.82      0.82       178\n",
      "   macro avg       0.81      0.83      0.81       178\n",
      "weighted avg       0.84      0.82      0.82       178\n",
      "\n",
      "\n",
      "AUC= 0.8947065592635212\n"
     ]
    },
    {
     "data": {
      "image/png": "[encoded data removed]",
      "text/plain": [
       "<Figure size 432x288 with 1 Axes>"
      ]
     },
     "metadata": {
      "needs_background": "light"
     },
     "output_type": "display_data"
    }
   ],
   "source": [
    "model_result(feature1,3,log_clf)"
   ]
  },
  {
   "cell_type": "code",
   "execution_count": 96,
   "metadata": {},
   "outputs": [
    {
     "name": "stdout",
     "output_type": "stream",
     "text": [
      "[[82 24]\n",
      " [19 53]] \n",
      "\n",
      "\n",
      "              precision    recall  f1-score   support\n",
      "\n",
      "           0       0.81      0.77      0.79       106\n",
      "           1       0.69      0.74      0.71        72\n",
      "\n",
      "   micro avg       0.76      0.76      0.76       178\n",
      "   macro avg       0.75      0.75      0.75       178\n",
      "weighted avg       0.76      0.76      0.76       178\n",
      "\n",
      "\n",
      "AUC= 0.8199819981998199\n"
     ]
    },
    {
     "data": {
      "image/png": "[encoded data removed]",
      "text/plain": [
       "<Figure size 432x288 with 1 Axes>"
      ]
     },
     "metadata": {
      "needs_background": "light"
     },
     "output_type": "display_data"
    }
   ],
   "source": [
    "model_result(feature3,3,log_clf)"
   ]
  },
  {
   "cell_type": "code",
   "execution_count": 97,
   "metadata": {},
   "outputs": [
    {
     "name": "stdout",
     "output_type": "stream",
     "text": [
      "[[87 26]\n",
      " [19 46]] \n",
      "\n",
      "\n",
      "              precision    recall  f1-score   support\n",
      "\n",
      "           0       0.82      0.77      0.79       113\n",
      "           1       0.64      0.71      0.67        65\n",
      "\n",
      "   micro avg       0.75      0.75      0.75       178\n",
      "   macro avg       0.73      0.74      0.73       178\n",
      "weighted avg       0.75      0.75      0.75       178\n",
      "\n",
      "\n",
      "AUC= 0.7758123689727463\n"
     ]
    },
    {
     "data": {
      "image/png": "[encoded data removed]",
      "text/plain": [
       "<Figure size 432x288 with 1 Axes>"
      ]
     },
     "metadata": {
      "needs_background": "light"
     },
     "output_type": "display_data"
    }
   ],
   "source": [
    "model_result(feature5,3,log_clf)"
   ]
  },
  {
   "cell_type": "code",
   "execution_count": 98,
   "metadata": {},
   "outputs": [
    {
     "name": "stdout",
     "output_type": "stream",
     "text": [
      "[[84 30]\n",
      " [18 46]] \n",
      "\n",
      "\n",
      "              precision    recall  f1-score   support\n",
      "\n",
      "           0       0.82      0.74      0.78       114\n",
      "           1       0.61      0.72      0.66        64\n",
      "\n",
      "   micro avg       0.73      0.73      0.73       178\n",
      "   macro avg       0.71      0.73      0.72       178\n",
      "weighted avg       0.75      0.73      0.73       178\n",
      "\n",
      "\n",
      "AUC= 0.8121130030959752\n"
     ]
    },
    {
     "data": {
      "image/png": "[encoded data removed]",
      "text/plain": [
       "<Figure size 432x288 with 1 Axes>"
      ]
     },
     "metadata": {
      "needs_background": "light"
     },
     "output_type": "display_data"
    }
   ],
   "source": [
    "model_result(feature7,3,log_clf)"
   ]
  },
  {
   "cell_type": "markdown",
   "metadata": {},
   "source": [
    "x4 적용)"
   ]
  },
  {
   "cell_type": "code",
   "execution_count": 99,
   "metadata": {},
   "outputs": [
    {
     "name": "stdout",
     "output_type": "stream",
     "text": [
      "[[111  27]\n",
      " [ 24  61]] \n",
      "\n",
      "\n",
      "              precision    recall  f1-score   support\n",
      "\n",
      "           0       0.82      0.80      0.81       138\n",
      "           1       0.69      0.72      0.71        85\n",
      "\n",
      "   micro avg       0.77      0.77      0.77       223\n",
      "   macro avg       0.76      0.76      0.76       223\n",
      "weighted avg       0.77      0.77      0.77       223\n",
      "\n",
      "\n",
      "AUC= 0.8167508417508417\n"
     ]
    },
    {
     "data": {
      "image/png": "[encoded data removed]",
      "text/plain": [
       "<Figure size 432x288 with 1 Axes>"
      ]
     },
     "metadata": {
      "needs_background": "light"
     },
     "output_type": "display_data"
    }
   ],
   "source": [
    "model_result(feature2,4,log_clf)"
   ]
  },
  {
   "cell_type": "code",
   "execution_count": 100,
   "metadata": {},
   "outputs": [
    {
     "name": "stdout",
     "output_type": "stream",
     "text": [
      "[[111  25]\n",
      " [ 21  66]] \n",
      "\n",
      "\n",
      "              precision    recall  f1-score   support\n",
      "\n",
      "           0       0.84      0.82      0.83       136\n",
      "           1       0.73      0.76      0.74        87\n",
      "\n",
      "   micro avg       0.79      0.79      0.79       223\n",
      "   macro avg       0.78      0.79      0.78       223\n",
      "weighted avg       0.80      0.79      0.79       223\n",
      "\n",
      "\n",
      "AUC= 0.8597652347652348\n"
     ]
    },
    {
     "data": {
      "image/png": "[encoded data removed]",
      "text/plain": [
       "<Figure size 432x288 with 1 Axes>"
      ]
     },
     "metadata": {
      "needs_background": "light"
     },
     "output_type": "display_data"
    }
   ],
   "source": [
    "model_result(feature4,4,log_clf)"
   ]
  },
  {
   "cell_type": "code",
   "execution_count": 101,
   "metadata": {},
   "outputs": [
    {
     "name": "stdout",
     "output_type": "stream",
     "text": [
      "[[123  31]\n",
      " [ 16  53]] \n",
      "\n",
      "\n",
      "              precision    recall  f1-score   support\n",
      "\n",
      "           0       0.88      0.80      0.84       154\n",
      "           1       0.63      0.77      0.69        69\n",
      "\n",
      "   micro avg       0.79      0.79      0.79       223\n",
      "   macro avg       0.76      0.78      0.77       223\n",
      "weighted avg       0.81      0.79      0.79       223\n",
      "\n",
      "\n",
      "AUC= 0.8565005138746147\n"
     ]
    },
    {
     "data": {
      "image/png": "[encoded data removed]",
      "text/plain": [
       "<Figure size 432x288 with 1 Axes>"
      ]
     },
     "metadata": {
      "needs_background": "light"
     },
     "output_type": "display_data"
    }
   ],
   "source": [
    "model_result(feature6,4,log_clf)"
   ]
  },
  {
   "cell_type": "code",
   "execution_count": 102,
   "metadata": {
    "scrolled": false
   },
   "outputs": [
    {
     "name": "stdout",
     "output_type": "stream",
     "text": [
      "[[107  25]\n",
      " [ 21  70]] \n",
      "\n",
      "\n",
      "              precision    recall  f1-score   support\n",
      "\n",
      "           0       0.84      0.81      0.82       132\n",
      "           1       0.74      0.77      0.75        91\n",
      "\n",
      "   micro avg       0.79      0.79      0.79       223\n",
      "   macro avg       0.79      0.79      0.79       223\n",
      "weighted avg       0.80      0.79      0.79       223\n",
      "\n",
      "\n",
      "AUC= 0.8725328947368421\n"
     ]
    },
    {
     "data": {
      "image/png": "[encoded data removed]",
      "text/plain": [
       "<Figure size 432x288 with 1 Axes>"
      ]
     },
     "metadata": {
      "needs_background": "light"
     },
     "output_type": "display_data"
    }
   ],
   "source": [
    "model_result(feature8,4,log_clf)"
   ]
  },
  {
   "cell_type": "markdown",
   "metadata": {},
   "source": [
    "-----------------------------\n",
    "## SVM"
   ]
  },
  {
   "cell_type": "markdown",
   "metadata": {},
   "source": [
    "x1 적용)"
   ]
  },
  {
   "cell_type": "code",
   "execution_count": 103,
   "metadata": {},
   "outputs": [
    {
     "name": "stdout",
     "output_type": "stream",
     "text": [
      "[[110  54]\n",
      " [ 18  41]] \n",
      "\n",
      "\n",
      "              precision    recall  f1-score   support\n",
      "\n",
      "           0       0.86      0.67      0.75       164\n",
      "           1       0.43      0.69      0.53        59\n",
      "\n",
      "   micro avg       0.68      0.68      0.68       223\n",
      "   macro avg       0.65      0.68      0.64       223\n",
      "weighted avg       0.75      0.68      0.69       223\n",
      "\n",
      "\n",
      "AUC= 0.7571957236842105\n"
     ]
    },
    {
     "data": {
      "image/png": "[encoded data removed]",
      "text/plain": [
       "<Figure size 432x288 with 1 Axes>"
      ]
     },
     "metadata": {
      "needs_background": "light"
     },
     "output_type": "display_data"
    }
   ],
   "source": [
    "model_result(feature1,1,svm_clf)"
   ]
  },
  {
   "cell_type": "code",
   "execution_count": 104,
   "metadata": {},
   "outputs": [
    {
     "name": "stdout",
     "output_type": "stream",
     "text": [
      "[[114  50]\n",
      " [ 24  35]] \n",
      "\n",
      "\n",
      "              precision    recall  f1-score   support\n",
      "\n",
      "           0       0.83      0.70      0.75       164\n",
      "           1       0.41      0.59      0.49        59\n",
      "\n",
      "   micro avg       0.67      0.67      0.67       223\n",
      "   macro avg       0.62      0.64      0.62       223\n",
      "weighted avg       0.72      0.67      0.68       223\n",
      "\n",
      "\n",
      "AUC= 0.7376811594202897\n"
     ]
    },
    {
     "data": {
      "image/png": "[encoded data removed]",
      "text/plain": [
       "<Figure size 432x288 with 1 Axes>"
      ]
     },
     "metadata": {
      "needs_background": "light"
     },
     "output_type": "display_data"
    }
   ],
   "source": [
    "model_result(feature3,1,svm_clf)"
   ]
  },
  {
   "cell_type": "code",
   "execution_count": 105,
   "metadata": {},
   "outputs": [
    {
     "name": "stdout",
     "output_type": "stream",
     "text": [
      "[[102  29]\n",
      " [ 41  51]] \n",
      "\n",
      "\n",
      "              precision    recall  f1-score   support\n",
      "\n",
      "           0       0.71      0.78      0.74       131\n",
      "           1       0.64      0.55      0.59        92\n",
      "\n",
      "   micro avg       0.69      0.69      0.69       223\n",
      "   macro avg       0.68      0.67      0.67       223\n",
      "weighted avg       0.68      0.69      0.68       223\n",
      "\n",
      "\n",
      "AUC= 0.7642045454545453\n"
     ]
    },
    {
     "data": {
      "image/png": "[encoded data removed]",
      "text/plain": [
       "<Figure size 432x288 with 1 Axes>"
      ]
     },
     "metadata": {
      "needs_background": "light"
     },
     "output_type": "display_data"
    }
   ],
   "source": [
    "model_result(feature5,1,svm_clf)"
   ]
  },
  {
   "cell_type": "code",
   "execution_count": 106,
   "metadata": {},
   "outputs": [
    {
     "name": "stdout",
     "output_type": "stream",
     "text": [
      "[[114  47]\n",
      " [ 23  39]] \n",
      "\n",
      "\n",
      "              precision    recall  f1-score   support\n",
      "\n",
      "           0       0.83      0.71      0.77       161\n",
      "           1       0.45      0.63      0.53        62\n",
      "\n",
      "   micro avg       0.69      0.69      0.69       223\n",
      "   macro avg       0.64      0.67      0.65       223\n",
      "weighted avg       0.73      0.69      0.70       223\n",
      "\n",
      "\n",
      "AUC= 0.7495331862162621\n"
     ]
    },
    {
     "data": {
      "image/png": "[encoded data removed]",
      "text/plain": [
       "<Figure size 432x288 with 1 Axes>"
      ]
     },
     "metadata": {
      "needs_background": "light"
     },
     "output_type": "display_data"
    }
   ],
   "source": [
    "model_result(feature7,1,svm_clf)"
   ]
  },
  {
   "cell_type": "markdown",
   "metadata": {},
   "source": [
    "x2 적용)"
   ]
  },
  {
   "cell_type": "code",
   "execution_count": 107,
   "metadata": {},
   "outputs": [
    {
     "name": "stdout",
     "output_type": "stream",
     "text": [
      "[[115  47]\n",
      " [ 23  38]] \n",
      "\n",
      "\n",
      "              precision    recall  f1-score   support\n",
      "\n",
      "           0       0.83      0.71      0.77       162\n",
      "           1       0.45      0.62      0.52        61\n",
      "\n",
      "   micro avg       0.69      0.69      0.69       223\n",
      "   macro avg       0.64      0.67      0.64       223\n",
      "weighted avg       0.73      0.69      0.70       223\n",
      "\n",
      "\n",
      "AUC= 0.7508098891730606\n"
     ]
    },
    {
     "data": {
      "image/png": "[encoded data removed]",
      "text/plain": [
       "<Figure size 432x288 with 1 Axes>"
      ]
     },
     "metadata": {
      "needs_background": "light"
     },
     "output_type": "display_data"
    }
   ],
   "source": [
    "model_result(feature2,2,svm_clf)"
   ]
  },
  {
   "cell_type": "code",
   "execution_count": 108,
   "metadata": {},
   "outputs": [
    {
     "name": "stdout",
     "output_type": "stream",
     "text": [
      "[[103  49]\n",
      " [ 27  44]] \n",
      "\n",
      "\n",
      "              precision    recall  f1-score   support\n",
      "\n",
      "           0       0.79      0.68      0.73       152\n",
      "           1       0.47      0.62      0.54        71\n",
      "\n",
      "   micro avg       0.66      0.66      0.66       223\n",
      "   macro avg       0.63      0.65      0.63       223\n",
      "weighted avg       0.69      0.66      0.67       223\n",
      "\n",
      "\n",
      "AUC= 0.7289081885856079\n"
     ]
    },
    {
     "data": {
      "image/png": "[encoded data removed]",
      "text/plain": [
       "<Figure size 432x288 with 1 Axes>"
      ]
     },
     "metadata": {
      "needs_background": "light"
     },
     "output_type": "display_data"
    }
   ],
   "source": [
    "model_result(feature4,2,svm_clf)"
   ]
  },
  {
   "cell_type": "code",
   "execution_count": 109,
   "metadata": {},
   "outputs": [
    {
     "name": "stdout",
     "output_type": "stream",
     "text": [
      "[[120  53]\n",
      " [ 15  35]] \n",
      "\n",
      "\n",
      "              precision    recall  f1-score   support\n",
      "\n",
      "           0       0.89      0.69      0.78       173\n",
      "           1       0.40      0.70      0.51        50\n",
      "\n",
      "   micro avg       0.70      0.70      0.70       223\n",
      "   macro avg       0.64      0.70      0.64       223\n",
      "weighted avg       0.78      0.70      0.72       223\n",
      "\n",
      "\n",
      "AUC= 0.7856060606060606\n"
     ]
    },
    {
     "data": {
      "image/png": "[encoded data removed]",
      "text/plain": [
       "<Figure size 432x288 with 1 Axes>"
      ]
     },
     "metadata": {
      "needs_background": "light"
     },
     "output_type": "display_data"
    }
   ],
   "source": [
    "model_result(feature6,2,svm_clf)"
   ]
  },
  {
   "cell_type": "code",
   "execution_count": 110,
   "metadata": {},
   "outputs": [
    {
     "name": "stdout",
     "output_type": "stream",
     "text": [
      "[[117  52]\n",
      " [ 15  39]] \n",
      "\n",
      "\n",
      "              precision    recall  f1-score   support\n",
      "\n",
      "           0       0.89      0.69      0.78       169\n",
      "           1       0.43      0.72      0.54        54\n",
      "\n",
      "   micro avg       0.70      0.70      0.70       223\n",
      "   macro avg       0.66      0.71      0.66       223\n",
      "weighted avg       0.78      0.70      0.72       223\n",
      "\n",
      "\n",
      "AUC= 0.768981018981019\n"
     ]
    },
    {
     "data": {
      "image/png": "[encoded data removed]",
      "text/plain": [
       "<Figure size 432x288 with 1 Axes>"
      ]
     },
     "metadata": {
      "needs_background": "light"
     },
     "output_type": "display_data"
    }
   ],
   "source": [
    "model_result(feature8,2,svm_clf)"
   ]
  },
  {
   "cell_type": "markdown",
   "metadata": {},
   "source": [
    "x3 적용)"
   ]
  },
  {
   "cell_type": "code",
   "execution_count": 111,
   "metadata": {},
   "outputs": [
    {
     "name": "stdout",
     "output_type": "stream",
     "text": [
      "[[84 45]\n",
      " [15 34]] \n",
      "\n",
      "\n",
      "              precision    recall  f1-score   support\n",
      "\n",
      "           0       0.85      0.65      0.74       129\n",
      "           1       0.43      0.69      0.53        49\n",
      "\n",
      "   micro avg       0.66      0.66      0.66       178\n",
      "   macro avg       0.64      0.67      0.63       178\n",
      "weighted avg       0.73      0.66      0.68       178\n",
      "\n",
      "\n",
      "AUC= 0.7014448280271065\n"
     ]
    },
    {
     "data": {
      "image/png": "[encoded data removed]",
      "text/plain": [
       "<Figure size 432x288 with 1 Axes>"
      ]
     },
     "metadata": {
      "needs_background": "light"
     },
     "output_type": "display_data"
    }
   ],
   "source": [
    "model_result(feature1,3,svm_clf)"
   ]
  },
  {
   "cell_type": "code",
   "execution_count": 112,
   "metadata": {},
   "outputs": [
    {
     "name": "stdout",
     "output_type": "stream",
     "text": [
      "[[74 29]\n",
      " [27 48]] \n",
      "\n",
      "\n",
      "              precision    recall  f1-score   support\n",
      "\n",
      "           0       0.73      0.72      0.73       103\n",
      "           1       0.62      0.64      0.63        75\n",
      "\n",
      "   micro avg       0.69      0.69      0.69       178\n",
      "   macro avg       0.68      0.68      0.68       178\n",
      "weighted avg       0.69      0.69      0.69       178\n",
      "\n",
      "\n",
      "AUC= 0.74013115597274\n"
     ]
    },
    {
     "data": {
      "image/png": "[encoded data removed]",
      "text/plain": [
       "<Figure size 432x288 with 1 Axes>"
      ]
     },
     "metadata": {
      "needs_background": "light"
     },
     "output_type": "display_data"
    }
   ],
   "source": [
    "model_result(feature3,3,svm_clf)"
   ]
  },
  {
   "cell_type": "code",
   "execution_count": 113,
   "metadata": {},
   "outputs": [
    {
     "name": "stdout",
     "output_type": "stream",
     "text": [
      "[[86 37]\n",
      " [25 30]] \n",
      "\n",
      "\n",
      "              precision    recall  f1-score   support\n",
      "\n",
      "           0       0.77      0.70      0.74       123\n",
      "           1       0.45      0.55      0.49        55\n",
      "\n",
      "   micro avg       0.65      0.65      0.65       178\n",
      "   macro avg       0.61      0.62      0.61       178\n",
      "weighted avg       0.67      0.65      0.66       178\n",
      "\n",
      "\n",
      "AUC= 0.7120478687642867\n"
     ]
    },
    {
     "data": {
      "image/png": "[encoded data removed]",
      "text/plain": [
       "<Figure size 432x288 with 1 Axes>"
      ]
     },
     "metadata": {
      "needs_background": "light"
     },
     "output_type": "display_data"
    }
   ],
   "source": [
    "model_result(feature5,3,svm_clf)"
   ]
  },
  {
   "cell_type": "code",
   "execution_count": 114,
   "metadata": {},
   "outputs": [
    {
     "name": "stdout",
     "output_type": "stream",
     "text": [
      "[[82 47]\n",
      " [13 36]] \n",
      "\n",
      "\n",
      "              precision    recall  f1-score   support\n",
      "\n",
      "           0       0.86      0.64      0.73       129\n",
      "           1       0.43      0.73      0.55        49\n",
      "\n",
      "   micro avg       0.66      0.66      0.66       178\n",
      "   macro avg       0.65      0.69      0.64       178\n",
      "weighted avg       0.74      0.66      0.68       178\n",
      "\n",
      "\n",
      "AUC= 0.7301838934686112\n"
     ]
    },
    {
     "data": {
      "image/png": "[encoded data removed]",
      "text/plain": [
       "<Figure size 432x288 with 1 Axes>"
      ]
     },
     "metadata": {
      "needs_background": "light"
     },
     "output_type": "display_data"
    }
   ],
   "source": [
    "model_result(feature7,3,svm_clf)"
   ]
  },
  {
   "cell_type": "markdown",
   "metadata": {},
   "source": [
    "x4 적용)"
   ]
  },
  {
   "cell_type": "code",
   "execution_count": 115,
   "metadata": {},
   "outputs": [
    {
     "name": "stdout",
     "output_type": "stream",
     "text": [
      "[[114  49]\n",
      " [ 21  39]] \n",
      "\n",
      "\n",
      "              precision    recall  f1-score   support\n",
      "\n",
      "           0       0.84      0.70      0.77       163\n",
      "           1       0.44      0.65      0.53        60\n",
      "\n",
      "   micro avg       0.69      0.69      0.69       223\n",
      "   macro avg       0.64      0.67      0.65       223\n",
      "weighted avg       0.74      0.69      0.70       223\n",
      "\n",
      "\n",
      "AUC= 0.7693602693602695\n"
     ]
    },
    {
     "data": {
      "image/png": "[encoded data removed]",
      "text/plain": [
       "<Figure size 432x288 with 1 Axes>"
      ]
     },
     "metadata": {
      "needs_background": "light"
     },
     "output_type": "display_data"
    }
   ],
   "source": [
    "model_result(feature2,4,svm_clf)"
   ]
  },
  {
   "cell_type": "code",
   "execution_count": 116,
   "metadata": {},
   "outputs": [
    {
     "name": "stdout",
     "output_type": "stream",
     "text": [
      "[[104  50]\n",
      " [ 29  40]] \n",
      "\n",
      "\n",
      "              precision    recall  f1-score   support\n",
      "\n",
      "           0       0.78      0.68      0.72       154\n",
      "           1       0.44      0.58      0.50        69\n",
      "\n",
      "   micro avg       0.65      0.65      0.65       223\n",
      "   macro avg       0.61      0.63      0.61       223\n",
      "weighted avg       0.68      0.65      0.66       223\n",
      "\n",
      "\n",
      "AUC= 0.726357560568087\n"
     ]
    },
    {
     "data": {
      "image/png": "[encoded data removed]",
      "text/plain": [
       "<Figure size 432x288 with 1 Axes>"
      ]
     },
     "metadata": {
      "needs_background": "light"
     },
     "output_type": "display_data"
    }
   ],
   "source": [
    "model_result(feature4,4,svm_clf)"
   ]
  },
  {
   "cell_type": "code",
   "execution_count": 117,
   "metadata": {},
   "outputs": [
    {
     "name": "stdout",
     "output_type": "stream",
     "text": [
      "[[131  35]\n",
      " [ 16  41]] \n",
      "\n",
      "\n",
      "              precision    recall  f1-score   support\n",
      "\n",
      "           0       0.89      0.79      0.84       166\n",
      "           1       0.54      0.72      0.62        57\n",
      "\n",
      "   micro avg       0.77      0.77      0.77       223\n",
      "   macro avg       0.72      0.75      0.73       223\n",
      "weighted avg       0.80      0.77      0.78       223\n",
      "\n",
      "\n",
      "AUC= 0.7911743644826351\n"
     ]
    },
    {
     "data": {
      "image/png": "[encoded data removed]",
      "text/plain": [
       "<Figure size 432x288 with 1 Axes>"
      ]
     },
     "metadata": {
      "needs_background": "light"
     },
     "output_type": "display_data"
    }
   ],
   "source": [
    "model_result(feature6,4,svm_clf)"
   ]
  },
  {
   "cell_type": "code",
   "execution_count": 118,
   "metadata": {},
   "outputs": [
    {
     "name": "stdout",
     "output_type": "stream",
     "text": [
      "[[112  43]\n",
      " [ 23  45]] \n",
      "\n",
      "\n",
      "              precision    recall  f1-score   support\n",
      "\n",
      "           0       0.83      0.72      0.77       155\n",
      "           1       0.51      0.66      0.58        68\n",
      "\n",
      "   micro avg       0.70      0.70      0.70       223\n",
      "   macro avg       0.67      0.69      0.67       223\n",
      "weighted avg       0.73      0.70      0.71       223\n",
      "\n",
      "\n",
      "AUC= 0.7492424242424243\n"
     ]
    },
    {
     "data": {
      "image/png": "[encoded data removed]",
      "text/plain": [
       "<Figure size 432x288 with 1 Axes>"
      ]
     },
     "metadata": {
      "needs_background": "light"
     },
     "output_type": "display_data"
    }
   ],
   "source": [
    "model_result(feature8,4,svm_clf)"
   ]
  },
  {
   "cell_type": "markdown",
   "metadata": {},
   "source": [
    "-------------------------\n",
    "## Naive Bayes"
   ]
  },
  {
   "cell_type": "markdown",
   "metadata": {},
   "source": [
    "x1 적용)"
   ]
  },
  {
   "cell_type": "code",
   "execution_count": 119,
   "metadata": {},
   "outputs": [
    {
     "name": "stdout",
     "output_type": "stream",
     "text": [
      "[[117  44]\n",
      " [ 19  43]] \n",
      "\n",
      "\n",
      "              precision    recall  f1-score   support\n",
      "\n",
      "           0       0.86      0.73      0.79       161\n",
      "           1       0.49      0.69      0.58        62\n",
      "\n",
      "   micro avg       0.72      0.72      0.72       223\n",
      "   macro avg       0.68      0.71      0.68       223\n",
      "weighted avg       0.76      0.72      0.73       223\n",
      "\n",
      "\n",
      "AUC= 0.7688894523326572\n"
     ]
    },
    {
     "data": {
      "image/png": "[encoded data removed]",
      "text/plain": [
       "<Figure size 432x288 with 1 Axes>"
      ]
     },
     "metadata": {
      "needs_background": "light"
     },
     "output_type": "display_data"
    }
   ],
   "source": [
    "model_result(feature1,1,nb_clf)"
   ]
  },
  {
   "cell_type": "code",
   "execution_count": 120,
   "metadata": {},
   "outputs": [
    {
     "name": "stdout",
     "output_type": "stream",
     "text": [
      "[[116  48]\n",
      " [ 17  42]] \n",
      "\n",
      "\n",
      "              precision    recall  f1-score   support\n",
      "\n",
      "           0       0.87      0.71      0.78       164\n",
      "           1       0.47      0.71      0.56        59\n",
      "\n",
      "   micro avg       0.71      0.71      0.71       223\n",
      "   macro avg       0.67      0.71      0.67       223\n",
      "weighted avg       0.76      0.71      0.72       223\n",
      "\n",
      "\n",
      "AUC= 0.7633667502088555\n"
     ]
    },
    {
     "data": {
      "image/png": "[encoded data removed]",
      "text/plain": [
       "<Figure size 432x288 with 1 Axes>"
      ]
     },
     "metadata": {
      "needs_background": "light"
     },
     "output_type": "display_data"
    }
   ],
   "source": [
    "model_result(feature3,1,nb_clf)"
   ]
  },
  {
   "cell_type": "code",
   "execution_count": 121,
   "metadata": {},
   "outputs": [
    {
     "name": "stdout",
     "output_type": "stream",
     "text": [
      "[[117  51]\n",
      " [ 22  33]] \n",
      "\n",
      "\n",
      "              precision    recall  f1-score   support\n",
      "\n",
      "           0       0.84      0.70      0.76       168\n",
      "           1       0.39      0.60      0.47        55\n",
      "\n",
      "   micro avg       0.67      0.67      0.67       223\n",
      "   macro avg       0.62      0.65      0.62       223\n",
      "weighted avg       0.73      0.67      0.69       223\n",
      "\n",
      "\n",
      "AUC= 0.690775950668037\n"
     ]
    },
    {
     "data": {
      "image/png": "[encoded data removed]",
      "text/plain": [
       "<Figure size 432x288 with 1 Axes>"
      ]
     },
     "metadata": {
      "needs_background": "light"
     },
     "output_type": "display_data"
    }
   ],
   "source": [
    "model_result(feature5,1,nb_clf)"
   ]
  },
  {
   "cell_type": "code",
   "execution_count": 122,
   "metadata": {},
   "outputs": [
    {
     "name": "stdout",
     "output_type": "stream",
     "text": [
      "[[113  49]\n",
      " [ 23  38]] \n",
      "\n",
      "\n",
      "              precision    recall  f1-score   support\n",
      "\n",
      "           0       0.83      0.70      0.76       162\n",
      "           1       0.44      0.62      0.51        61\n",
      "\n",
      "   micro avg       0.68      0.68      0.68       223\n",
      "   macro avg       0.63      0.66      0.64       223\n",
      "weighted avg       0.72      0.68      0.69       223\n",
      "\n",
      "\n",
      "AUC= 0.6750760649087221\n"
     ]
    },
    {
     "data": {
      "image/png": "[encoded data removed]",
      "text/plain": [
       "<Figure size 432x288 with 1 Axes>"
      ]
     },
     "metadata": {
      "needs_background": "light"
     },
     "output_type": "display_data"
    }
   ],
   "source": [
    "model_result(feature7,1,nb_clf)"
   ]
  },
  {
   "cell_type": "markdown",
   "metadata": {},
   "source": [
    "x2 적용)"
   ]
  },
  {
   "cell_type": "code",
   "execution_count": 123,
   "metadata": {},
   "outputs": [
    {
     "name": "stdout",
     "output_type": "stream",
     "text": [
      "[[116  47]\n",
      " [ 22  38]] \n",
      "\n",
      "\n",
      "              precision    recall  f1-score   support\n",
      "\n",
      "           0       0.84      0.71      0.77       163\n",
      "           1       0.45      0.63      0.52        60\n",
      "\n",
      "   micro avg       0.69      0.69      0.69       223\n",
      "   macro avg       0.64      0.67      0.65       223\n",
      "weighted avg       0.73      0.69      0.70       223\n",
      "\n",
      "\n",
      "AUC= 0.7414748508098891\n"
     ]
    },
    {
     "data": {
      "image/png": "[encoded data removed]",
      "text/plain": [
       "<Figure size 432x288 with 1 Axes>"
      ]
     },
     "metadata": {
      "needs_background": "light"
     },
     "output_type": "display_data"
    }
   ],
   "source": [
    "model_result(feature2,2,nb_clf)"
   ]
  },
  {
   "cell_type": "code",
   "execution_count": 124,
   "metadata": {},
   "outputs": [
    {
     "name": "stdout",
     "output_type": "stream",
     "text": [
      "[[117  49]\n",
      " [ 20  37]] \n",
      "\n",
      "\n",
      "              precision    recall  f1-score   support\n",
      "\n",
      "           0       0.85      0.70      0.77       166\n",
      "           1       0.43      0.65      0.52        57\n",
      "\n",
      "   micro avg       0.69      0.69      0.69       223\n",
      "   macro avg       0.64      0.68      0.64       223\n",
      "weighted avg       0.75      0.69      0.71       223\n",
      "\n",
      "\n",
      "AUC= 0.7499151247665932\n"
     ]
    },
    {
     "data": {
      "image/png": "[encoded data removed]",
      "text/plain": [
       "<Figure size 432x288 with 1 Axes>"
      ]
     },
     "metadata": {
      "needs_background": "light"
     },
     "output_type": "display_data"
    }
   ],
   "source": [
    "model_result(feature4,2,nb_clf)"
   ]
  },
  {
   "cell_type": "code",
   "execution_count": 125,
   "metadata": {},
   "outputs": [
    {
     "name": "stdout",
     "output_type": "stream",
     "text": [
      "[[103  54]\n",
      " [ 31  35]] \n",
      "\n",
      "\n",
      "              precision    recall  f1-score   support\n",
      "\n",
      "           0       0.77      0.66      0.71       157\n",
      "           1       0.39      0.53      0.45        66\n",
      "\n",
      "   micro avg       0.62      0.62      0.62       223\n",
      "   macro avg       0.58      0.59      0.58       223\n",
      "weighted avg       0.66      0.62      0.63       223\n",
      "\n",
      "\n",
      "AUC= 0.6572195203756498\n"
     ]
    },
    {
     "data": {
      "image/png": "[encoded data removed]",
      "text/plain": [
       "<Figure size 432x288 with 1 Axes>"
      ]
     },
     "metadata": {
      "needs_background": "light"
     },
     "output_type": "display_data"
    }
   ],
   "source": [
    "model_result(feature6,2,nb_clf)"
   ]
  },
  {
   "cell_type": "code",
   "execution_count": 126,
   "metadata": {},
   "outputs": [
    {
     "name": "stdout",
     "output_type": "stream",
     "text": [
      "[[112  49]\n",
      " [ 27  35]] \n",
      "\n",
      "\n",
      "              precision    recall  f1-score   support\n",
      "\n",
      "           0       0.81      0.70      0.75       161\n",
      "           1       0.42      0.56      0.48        62\n",
      "\n",
      "   micro avg       0.66      0.66      0.66       223\n",
      "   macro avg       0.61      0.63      0.61       223\n",
      "weighted avg       0.70      0.66      0.67       223\n",
      "\n",
      "\n",
      "AUC= 0.6953579993148338\n"
     ]
    },
    {
     "data": {
      "image/png": "[encoded data removed]",
      "text/plain": [
       "<Figure size 432x288 with 1 Axes>"
      ]
     },
     "metadata": {
      "needs_background": "light"
     },
     "output_type": "display_data"
    }
   ],
   "source": [
    "model_result(feature8,2,nb_clf)"
   ]
  },
  {
   "cell_type": "markdown",
   "metadata": {},
   "source": [
    "x3 적용)"
   ]
  },
  {
   "cell_type": "code",
   "execution_count": 127,
   "metadata": {},
   "outputs": [
    {
     "name": "stdout",
     "output_type": "stream",
     "text": [
      "[[90 30]\n",
      " [16 42]] \n",
      "\n",
      "\n",
      "              precision    recall  f1-score   support\n",
      "\n",
      "           0       0.85      0.75      0.80       120\n",
      "           1       0.58      0.72      0.65        58\n",
      "\n",
      "   micro avg       0.74      0.74      0.74       178\n",
      "   macro avg       0.72      0.74      0.72       178\n",
      "weighted avg       0.76      0.74      0.75       178\n",
      "\n",
      "\n",
      "AUC= 0.7904874213836478\n"
     ]
    },
    {
     "data": {
      "image/png": "[encoded data removed]",
      "text/plain": [
       "<Figure size 432x288 with 1 Axes>"
      ]
     },
     "metadata": {
      "needs_background": "light"
     },
     "output_type": "display_data"
    }
   ],
   "source": [
    "model_result(feature1,3,nb_clf)"
   ]
  },
  {
   "cell_type": "code",
   "execution_count": 128,
   "metadata": {},
   "outputs": [
    {
     "name": "stdout",
     "output_type": "stream",
     "text": [
      "[[85 38]\n",
      " [18 37]] \n",
      "\n",
      "\n",
      "              precision    recall  f1-score   support\n",
      "\n",
      "           0       0.83      0.69      0.75       123\n",
      "           1       0.49      0.67      0.57        55\n",
      "\n",
      "   micro avg       0.69      0.69      0.69       178\n",
      "   macro avg       0.66      0.68      0.66       178\n",
      "weighted avg       0.72      0.69      0.70       178\n",
      "\n",
      "\n",
      "AUC= 0.7196763754045308\n"
     ]
    },
    {
     "data": {
      "image/png": "[encoded data removed]",
      "text/plain": [
       "<Figure size 432x288 with 1 Axes>"
      ]
     },
     "metadata": {
      "needs_background": "light"
     },
     "output_type": "display_data"
    }
   ],
   "source": [
    "model_result(feature3,3,nb_clf)"
   ]
  },
  {
   "cell_type": "code",
   "execution_count": 129,
   "metadata": {},
   "outputs": [
    {
     "name": "stdout",
     "output_type": "stream",
     "text": [
      "[[99 35]\n",
      " [15 29]] \n",
      "\n",
      "\n",
      "              precision    recall  f1-score   support\n",
      "\n",
      "           0       0.87      0.74      0.80       134\n",
      "           1       0.45      0.66      0.54        44\n",
      "\n",
      "   micro avg       0.72      0.72      0.72       178\n",
      "   macro avg       0.66      0.70      0.67       178\n",
      "weighted avg       0.77      0.72      0.73       178\n",
      "\n",
      "\n",
      "AUC= 0.7357456140350878\n"
     ]
    },
    {
     "data": {
      "image/png": "[encoded data removed]",
      "text/plain": [
       "<Figure size 432x288 with 1 Axes>"
      ]
     },
     "metadata": {
      "needs_background": "light"
     },
     "output_type": "display_data"
    }
   ],
   "source": [
    "model_result(feature5,3,nb_clf)"
   ]
  },
  {
   "cell_type": "code",
   "execution_count": 130,
   "metadata": {},
   "outputs": [
    {
     "name": "stdout",
     "output_type": "stream",
     "text": [
      "[[85 27]\n",
      " [19 47]] \n",
      "\n",
      "\n",
      "              precision    recall  f1-score   support\n",
      "\n",
      "           0       0.82      0.76      0.79       112\n",
      "           1       0.64      0.71      0.67        66\n",
      "\n",
      "   micro avg       0.74      0.74      0.74       178\n",
      "   macro avg       0.73      0.74      0.73       178\n",
      "weighted avg       0.75      0.74      0.74       178\n",
      "\n",
      "\n",
      "AUC= 0.76370841995842\n"
     ]
    },
    {
     "data": {
      "image/png": "[encoded data removed]",
      "text/plain": [
       "<Figure size 432x288 with 1 Axes>"
      ]
     },
     "metadata": {
      "needs_background": "light"
     },
     "output_type": "display_data"
    }
   ],
   "source": [
    "model_result(feature7,3,nb_clf)"
   ]
  },
  {
   "cell_type": "markdown",
   "metadata": {},
   "source": [
    "x4 적용)"
   ]
  },
  {
   "cell_type": "code",
   "execution_count": 131,
   "metadata": {},
   "outputs": [
    {
     "name": "stdout",
     "output_type": "stream",
     "text": [
      "[[110  55]\n",
      " [ 25  33]] \n",
      "\n",
      "\n",
      "              precision    recall  f1-score   support\n",
      "\n",
      "           0       0.81      0.67      0.73       165\n",
      "           1       0.38      0.57      0.45        58\n",
      "\n",
      "   micro avg       0.64      0.64      0.64       223\n",
      "   macro avg       0.59      0.62      0.59       223\n",
      "weighted avg       0.70      0.64      0.66       223\n",
      "\n",
      "\n",
      "AUC= 0.6684343434343435\n"
     ]
    },
    {
     "data": {
      "image/png": "[encoded data removed]",
      "text/plain": [
       "<Figure size 432x288 with 1 Axes>"
      ]
     },
     "metadata": {
      "needs_background": "light"
     },
     "output_type": "display_data"
    }
   ],
   "source": [
    "model_result(feature2,4,nb_clf)"
   ]
  },
  {
   "cell_type": "code",
   "execution_count": 132,
   "metadata": {},
   "outputs": [
    {
     "name": "stdout",
     "output_type": "stream",
     "text": [
      "[[117  44]\n",
      " [ 31  31]] \n",
      "\n",
      "\n",
      "              precision    recall  f1-score   support\n",
      "\n",
      "           0       0.79      0.73      0.76       161\n",
      "           1       0.41      0.50      0.45        62\n",
      "\n",
      "   micro avg       0.66      0.66      0.66       223\n",
      "   macro avg       0.60      0.61      0.60       223\n",
      "weighted avg       0.69      0.66      0.67       223\n",
      "\n",
      "\n",
      "AUC= 0.696036036036036\n"
     ]
    },
    {
     "data": {
      "image/png": "[encoded data removed]",
      "text/plain": [
       "<Figure size 432x288 with 1 Axes>"
      ]
     },
     "metadata": {
      "needs_background": "light"
     },
     "output_type": "display_data"
    }
   ],
   "source": [
    "model_result(feature4,4,nb_clf)"
   ]
  },
  {
   "cell_type": "code",
   "execution_count": 133,
   "metadata": {},
   "outputs": [
    {
     "name": "stdout",
     "output_type": "stream",
     "text": [
      "[[115  45]\n",
      " [ 26  37]] \n",
      "\n",
      "\n",
      "              precision    recall  f1-score   support\n",
      "\n",
      "           0       0.82      0.72      0.76       160\n",
      "           1       0.45      0.59      0.51        63\n",
      "\n",
      "   micro avg       0.68      0.68      0.68       223\n",
      "   macro avg       0.63      0.65      0.64       223\n",
      "weighted avg       0.71      0.68      0.69       223\n",
      "\n",
      "\n",
      "AUC= 0.7268206192700225\n"
     ]
    },
    {
     "data": {
      "image/png": "[encoded data removed]",
      "text/plain": [
       "<Figure size 432x288 with 1 Axes>"
      ]
     },
     "metadata": {
      "needs_background": "light"
     },
     "output_type": "display_data"
    }
   ],
   "source": [
    "model_result(feature6,4,nb_clf)"
   ]
  },
  {
   "cell_type": "code",
   "execution_count": 134,
   "metadata": {},
   "outputs": [
    {
     "name": "stdout",
     "output_type": "stream",
     "text": [
      "[[105  42]\n",
      " [ 23  53]] \n",
      "\n",
      "\n",
      "              precision    recall  f1-score   support\n",
      "\n",
      "           0       0.82      0.71      0.76       147\n",
      "           1       0.56      0.70      0.62        76\n",
      "\n",
      "   micro avg       0.71      0.71      0.71       223\n",
      "   macro avg       0.69      0.71      0.69       223\n",
      "weighted avg       0.73      0.71      0.71       223\n",
      "\n",
      "\n",
      "AUC= 0.7455180921052631\n"
     ]
    },
    {
     "data": {
      "image/png": "[encoded data removed]",
      "text/plain": [
       "<Figure size 432x288 with 1 Axes>"
      ]
     },
     "metadata": {
      "needs_background": "light"
     },
     "output_type": "display_data"
    }
   ],
   "source": [
    "model_result(feature8,4,nb_clf)"
   ]
  },
  {
   "cell_type": "markdown",
   "metadata": {},
   "source": [
    "----------------------------\n"
   ]
  },
  {
   "cell_type": "markdown",
   "metadata": {},
   "source": [
    "## Random Forest Classifier"
   ]
  },
  {
   "cell_type": "code",
   "execution_count": 135,
   "metadata": {},
   "outputs": [
    {
     "data": {
      "text/html": [
       "<div>\n",
       "<style scoped>\n",
       "    .dataframe tbody tr th:only-of-type {\n",
       "        vertical-align: middle;\n",
       "    }\n",
       "\n",
       "    .dataframe tbody tr th {\n",
       "        vertical-align: top;\n",
       "    }\n",
       "\n",
       "    .dataframe thead th {\n",
       "        text-align: right;\n",
       "    }\n",
       "</style>\n",
       "<table border=\"1\" class=\"dataframe\">\n",
       "  <thead>\n",
       "    <tr style=\"text-align: right;\">\n",
       "      <th></th>\n",
       "      <th>PassengerId</th>\n",
       "      <th>Survived</th>\n",
       "      <th>Pclass</th>\n",
       "      <th>Sex</th>\n",
       "      <th>Age</th>\n",
       "      <th>SibSp</th>\n",
       "      <th>Parch</th>\n",
       "      <th>Ticket</th>\n",
       "      <th>Fare</th>\n",
       "      <th>Cabin</th>\n",
       "      <th>Embarked</th>\n",
       "      <th>Family</th>\n",
       "    </tr>\n",
       "  </thead>\n",
       "  <tbody>\n",
       "    <tr>\n",
       "      <th>0</th>\n",
       "      <td>1</td>\n",
       "      <td>0</td>\n",
       "      <td>3</td>\n",
       "      <td>2</td>\n",
       "      <td>22.0</td>\n",
       "      <td>1</td>\n",
       "      <td>0</td>\n",
       "      <td>A/5 21171</td>\n",
       "      <td>7.2500</td>\n",
       "      <td>NaN</td>\n",
       "      <td>3</td>\n",
       "      <td>1</td>\n",
       "    </tr>\n",
       "    <tr>\n",
       "      <th>1</th>\n",
       "      <td>2</td>\n",
       "      <td>1</td>\n",
       "      <td>1</td>\n",
       "      <td>1</td>\n",
       "      <td>38.0</td>\n",
       "      <td>1</td>\n",
       "      <td>0</td>\n",
       "      <td>PC 17599</td>\n",
       "      <td>71.2833</td>\n",
       "      <td>3</td>\n",
       "      <td>1</td>\n",
       "      <td>1</td>\n",
       "    </tr>\n",
       "    <tr>\n",
       "      <th>2</th>\n",
       "      <td>3</td>\n",
       "      <td>1</td>\n",
       "      <td>3</td>\n",
       "      <td>1</td>\n",
       "      <td>26.0</td>\n",
       "      <td>0</td>\n",
       "      <td>0</td>\n",
       "      <td>STON/O2. 3101282</td>\n",
       "      <td>7.9250</td>\n",
       "      <td>NaN</td>\n",
       "      <td>3</td>\n",
       "      <td>0</td>\n",
       "    </tr>\n",
       "    <tr>\n",
       "      <th>3</th>\n",
       "      <td>4</td>\n",
       "      <td>1</td>\n",
       "      <td>1</td>\n",
       "      <td>1</td>\n",
       "      <td>35.0</td>\n",
       "      <td>1</td>\n",
       "      <td>0</td>\n",
       "      <td>113803</td>\n",
       "      <td>53.1000</td>\n",
       "      <td>3</td>\n",
       "      <td>3</td>\n",
       "      <td>1</td>\n",
       "    </tr>\n",
       "    <tr>\n",
       "      <th>4</th>\n",
       "      <td>5</td>\n",
       "      <td>0</td>\n",
       "      <td>3</td>\n",
       "      <td>2</td>\n",
       "      <td>35.0</td>\n",
       "      <td>0</td>\n",
       "      <td>0</td>\n",
       "      <td>373450</td>\n",
       "      <td>8.0500</td>\n",
       "      <td>NaN</td>\n",
       "      <td>3</td>\n",
       "      <td>0</td>\n",
       "    </tr>\n",
       "  </tbody>\n",
       "</table>\n",
       "</div>"
      ],
      "text/plain": [
       "   PassengerId  Survived  Pclass Sex   Age  SibSp  Parch            Ticket  \\\n",
       "0            1         0       3   2  22.0      1      0         A/5 21171   \n",
       "1            2         1       1   1  38.0      1      0          PC 17599   \n",
       "2            3         1       3   1  26.0      0      0  STON/O2. 3101282   \n",
       "3            4         1       1   1  35.0      1      0            113803   \n",
       "4            5         0       3   2  35.0      0      0            373450   \n",
       "\n",
       "      Fare Cabin Embarked  Family  \n",
       "0   7.2500   NaN        3       1  \n",
       "1  71.2833     3        1       1  \n",
       "2   7.9250   NaN        3       0  \n",
       "3  53.1000     3        3       1  \n",
       "4   8.0500   NaN        3       0  "
      ]
     },
     "execution_count": 135,
     "metadata": {},
     "output_type": "execute_result"
    }
   ],
   "source": [
    "train_age.head()"
   ]
  },
  {
   "cell_type": "code",
   "execution_count": 136,
   "metadata": {},
   "outputs": [],
   "source": [
    "feature = ['Pclass', 'Sex', 'Age','SibSp', 'Parch', 'Fare','Cabin','Embarked', 'Family']\n",
    "feature_13 =['Pclass', 'Sex', 'Age','SibSp', 'Parch', 'Fare','Embarked', 'Family']"
   ]
  },
  {
   "cell_type": "code",
   "execution_count": 137,
   "metadata": {},
   "outputs": [
    {
     "name": "stdout",
     "output_type": "stream",
     "text": [
      "[[114  29]\n",
      " [ 19  61]] \n",
      "\n",
      "\n",
      "              precision    recall  f1-score   support\n",
      "\n",
      "           0       0.86      0.80      0.83       143\n",
      "           1       0.68      0.76      0.72        80\n",
      "\n",
      "   micro avg       0.78      0.78      0.78       223\n",
      "   macro avg       0.77      0.78      0.77       223\n",
      "weighted avg       0.79      0.78      0.79       223\n",
      "\n",
      "\n",
      "AUC= 0.8586048454469508\n"
     ]
    },
    {
     "data": {
      "image/png": "[encoded data removed]",
      "text/plain": [
       "<Figure size 432x288 with 1 Axes>"
      ]
     },
     "metadata": {
      "needs_background": "light"
     },
     "output_type": "display_data"
    }
   ],
   "source": [
    "model_result(feature_13,1,rf_clf)"
   ]
  },
  {
   "cell_type": "code",
   "execution_count": 138,
   "metadata": {
    "scrolled": true
   },
   "outputs": [
    {
     "name": "stdout",
     "output_type": "stream",
     "text": [
      "[[109  25]\n",
      " [ 20  69]] \n",
      "\n",
      "\n",
      "              precision    recall  f1-score   support\n",
      "\n",
      "           0       0.84      0.81      0.83       134\n",
      "           1       0.73      0.78      0.75        89\n",
      "\n",
      "   micro avg       0.80      0.80      0.80       223\n",
      "   macro avg       0.79      0.79      0.79       223\n",
      "weighted avg       0.80      0.80      0.80       223\n",
      "\n",
      "\n",
      "AUC= 0.858279729506845\n"
     ]
    },
    {
     "data": {
      "image/png": "[encoded data removed]",
      "text/plain": [
       "<Figure size 432x288 with 1 Axes>"
      ]
     },
     "metadata": {
      "needs_background": "light"
     },
     "output_type": "display_data"
    }
   ],
   "source": [
    "model_result(feature,2,rf_clf)"
   ]
  },
  {
   "cell_type": "code",
   "execution_count": 139,
   "metadata": {},
   "outputs": [
    {
     "name": "stdout",
     "output_type": "stream",
     "text": [
      "[[103  21]\n",
      " [ 13  41]] \n",
      "\n",
      "\n",
      "              precision    recall  f1-score   support\n",
      "\n",
      "           0       0.89      0.83      0.86       124\n",
      "           1       0.66      0.76      0.71        54\n",
      "\n",
      "   micro avg       0.81      0.81      0.81       178\n",
      "   macro avg       0.77      0.79      0.78       178\n",
      "weighted avg       0.82      0.81      0.81       178\n",
      "\n",
      "\n",
      "AUC= 0.8540044493882091\n"
     ]
    },
    {
     "data": {
      "image/png": "[encoded data removed]",
      "text/plain": [
       "<Figure size 432x288 with 1 Axes>"
      ]
     },
     "metadata": {
      "needs_background": "light"
     },
     "output_type": "display_data"
    }
   ],
   "source": [
    "model_result(feature_13,3,rf_clf)"
   ]
  },
  {
   "cell_type": "code",
   "execution_count": 140,
   "metadata": {},
   "outputs": [
    {
     "name": "stdout",
     "output_type": "stream",
     "text": [
      "[[125  23]\n",
      " [ 21  54]] \n",
      "\n",
      "\n",
      "              precision    recall  f1-score   support\n",
      "\n",
      "           0       0.86      0.84      0.85       148\n",
      "           1       0.70      0.72      0.71        75\n",
      "\n",
      "   micro avg       0.80      0.80      0.80       223\n",
      "   macro avg       0.78      0.78      0.78       223\n",
      "weighted avg       0.80      0.80      0.80       223\n",
      "\n",
      "\n",
      "AUC= 0.8610122753958371\n"
     ]
    },
    {
     "data": {
      "image/png": "[encoded data removed]",
      "text/plain": [
       "<Figure size 432x288 with 1 Axes>"
      ]
     },
     "metadata": {
      "needs_background": "light"
     },
     "output_type": "display_data"
    }
   ],
   "source": [
    "model_result(feature,4,rf_clf)"
   ]
  },
  {
   "cell_type": "markdown",
   "metadata": {},
   "source": [
    "--------------------------------"
   ]
  },
  {
   "cell_type": "markdown",
   "metadata": {},
   "source": [
    "## Gradient Boosting Classifier"
   ]
  },
  {
   "cell_type": "code",
   "execution_count": 141,
   "metadata": {},
   "outputs": [
    {
     "name": "stdout",
     "output_type": "stream",
     "text": [
      "[[107  29]\n",
      " [ 23  64]] \n",
      "\n",
      "\n",
      "              precision    recall  f1-score   support\n",
      "\n",
      "           0       0.82      0.79      0.80       136\n",
      "           1       0.69      0.74      0.71        87\n",
      "\n",
      "   micro avg       0.77      0.77      0.77       223\n",
      "   macro avg       0.76      0.76      0.76       223\n",
      "weighted avg       0.77      0.77      0.77       223\n",
      "\n",
      "\n",
      "AUC= 0.8245657568238214\n"
     ]
    },
    {
     "data": {
      "image/png": "[encoded data removed]",
      "text/plain": [
       "<Figure size 432x288 with 1 Axes>"
      ]
     },
     "metadata": {
      "needs_background": "light"
     },
     "output_type": "display_data"
    }
   ],
   "source": [
    "model_result(feature_13,1,rf_clf)"
   ]
  },
  {
   "cell_type": "code",
   "execution_count": 142,
   "metadata": {},
   "outputs": [
    {
     "name": "stdout",
     "output_type": "stream",
     "text": [
      "[[121  20]\n",
      " [ 17  65]] \n",
      "\n",
      "\n",
      "              precision    recall  f1-score   support\n",
      "\n",
      "           0       0.88      0.86      0.87       141\n",
      "           1       0.76      0.79      0.78        82\n",
      "\n",
      "   micro avg       0.83      0.83      0.83       223\n",
      "   macro avg       0.82      0.83      0.82       223\n",
      "weighted avg       0.84      0.83      0.83       223\n",
      "\n",
      "\n",
      "AUC= 0.8652173913043479\n"
     ]
    },
    {
     "data": {
      "image/png": "[encoded data removed]",
      "text/plain": [
       "<Figure size 432x288 with 1 Axes>"
      ]
     },
     "metadata": {
      "needs_background": "light"
     },
     "output_type": "display_data"
    }
   ],
   "source": [
    "model_result(feature,2,gb_clf)"
   ]
  },
  {
   "cell_type": "code",
   "execution_count": 143,
   "metadata": {},
   "outputs": [
    {
     "name": "stdout",
     "output_type": "stream",
     "text": [
      "[[99 18]\n",
      " [19 42]] \n",
      "\n",
      "\n",
      "              precision    recall  f1-score   support\n",
      "\n",
      "           0       0.84      0.85      0.84       117\n",
      "           1       0.70      0.69      0.69        61\n",
      "\n",
      "   micro avg       0.79      0.79      0.79       178\n",
      "   macro avg       0.77      0.77      0.77       178\n",
      "weighted avg       0.79      0.79      0.79       178\n",
      "\n",
      "\n",
      "AUC= 0.8333333333333335\n"
     ]
    },
    {
     "data": {
      "image/png": "[encoded data removed]",
      "text/plain": [
       "<Figure size 432x288 with 1 Axes>"
      ]
     },
     "metadata": {
      "needs_background": "light"
     },
     "output_type": "display_data"
    }
   ],
   "source": [
    "model_result(feature_13,3,rf_clf)"
   ]
  },
  {
   "cell_type": "code",
   "execution_count": 144,
   "metadata": {},
   "outputs": [
    {
     "name": "stdout",
     "output_type": "stream",
     "text": [
      "[[131  22]\n",
      " [ 18  52]] \n",
      "\n",
      "\n",
      "              precision    recall  f1-score   support\n",
      "\n",
      "           0       0.88      0.86      0.87       153\n",
      "           1       0.70      0.74      0.72        70\n",
      "\n",
      "   micro avg       0.82      0.82      0.82       223\n",
      "   macro avg       0.79      0.80      0.79       223\n",
      "weighted avg       0.82      0.82      0.82       223\n",
      "\n",
      "\n",
      "AUC= 0.8543442771630692\n"
     ]
    },
    {
     "data": {
      "image/png": "[encoded data removed]",
      "text/plain": [
       "<Figure size 432x288 with 1 Axes>"
      ]
     },
     "metadata": {
      "needs_background": "light"
     },
     "output_type": "display_data"
    }
   ],
   "source": [
    "model_result(feature,4,gb_clf)"
   ]
  },
  {
   "cell_type": "code",
   "execution_count": 145,
   "metadata": {},
   "outputs": [],
   "source": [
    "#최종 선정 모델, 피처\n",
    "model = rf_clf\n",
    "x_train, x_test,y_train = xy_real(feature, 2)\n",
    "model.fit(x_train, y_train)\n",
    "y_test = model.predict(x_test[feature])"
   ]
  },
  {
   "cell_type": "code",
   "execution_count": 146,
   "metadata": {},
   "outputs": [
    {
     "data": {
      "text/html": [
       "<div>\n",
       "<style scoped>\n",
       "    .dataframe tbody tr th:only-of-type {\n",
       "        vertical-align: middle;\n",
       "    }\n",
       "\n",
       "    .dataframe tbody tr th {\n",
       "        vertical-align: top;\n",
       "    }\n",
       "\n",
       "    .dataframe thead th {\n",
       "        text-align: right;\n",
       "    }\n",
       "</style>\n",
       "<table border=\"1\" class=\"dataframe\">\n",
       "  <thead>\n",
       "    <tr style=\"text-align: right;\">\n",
       "      <th></th>\n",
       "      <th>PassengerId</th>\n",
       "      <th>Survived</th>\n",
       "    </tr>\n",
       "  </thead>\n",
       "  <tbody>\n",
       "    <tr>\n",
       "      <th>0</th>\n",
       "      <td>892</td>\n",
       "      <td>1</td>\n",
       "    </tr>\n",
       "    <tr>\n",
       "      <th>1</th>\n",
       "      <td>893</td>\n",
       "      <td>1</td>\n",
       "    </tr>\n",
       "    <tr>\n",
       "      <th>2</th>\n",
       "      <td>894</td>\n",
       "      <td>1</td>\n",
       "    </tr>\n",
       "    <tr>\n",
       "      <th>3</th>\n",
       "      <td>895</td>\n",
       "      <td>1</td>\n",
       "    </tr>\n",
       "    <tr>\n",
       "      <th>4</th>\n",
       "      <td>896</td>\n",
       "      <td>0</td>\n",
       "    </tr>\n",
       "  </tbody>\n",
       "</table>\n",
       "</div>"
      ],
      "text/plain": [
       "   PassengerId  Survived\n",
       "0          892         1\n",
       "1          893         1\n",
       "2          894         1\n",
       "3          895         1\n",
       "4          896         0"
      ]
     },
     "execution_count": 146,
     "metadata": {},
     "output_type": "execute_result"
    }
   ],
   "source": [
    "submission = pd.read_csv('Desktop/데이터분석/titanic/gender_submission.csv')\n",
    "submission['Survived']= y_test\n",
    "submission.head(5)"
   ]
  },
  {
   "cell_type": "code",
   "execution_count": 147,
   "metadata": {},
   "outputs": [],
   "source": [
    "submission.to_csv('Desktop/데이터분석/Titanic/submission_rf_x2.csv',index =  False)"
   ]
  },
  {
   "cell_type": "markdown",
   "metadata": {},
   "source": [
    "--------------------------------\n",
    "Cabin을 예측하는건 무리다... \n",
    "\n",
    "Cabin을 예측한걸로 돌렸을 때 정확도가 모두 60%이하이다."
   ]
  }
 ],
 "metadata": {
  "kernelspec": {
   "display_name": "Python 3",
   "language": "python",
   "name": "python3"
  },
  "language_info": {
   "codemirror_mode": {
    "name": "ipython",
    "version": 3
   },
   "file_extension": ".py",
   "mimetype": "text/x-python",
   "name": "python",
   "nbconvert_exporter": "python",
   "pygments_lexer": "ipython3",
   "version": "3.7.3"
  }
 },
 "nbformat": 4,
 "nbformat_minor": 2
}
